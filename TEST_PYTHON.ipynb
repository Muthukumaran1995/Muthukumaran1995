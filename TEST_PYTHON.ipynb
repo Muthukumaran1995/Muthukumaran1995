{
 "cells": [
  {
   "cell_type": "code",
   "execution_count": 3,
   "id": "7066e72b",
   "metadata": {},
   "outputs": [],
   "source": [
    "import os\n",
    "import pandas as pd\n",
    "import numpy as np"
   ]
  },
  {
   "cell_type": "code",
   "execution_count": null,
   "id": "b14791e6",
   "metadata": {},
   "outputs": [],
   "source": []
  },
  {
   "cell_type": "markdown",
   "id": "cc8397fe",
   "metadata": {},
   "source": [
    " ###  1.\tCreate a program that asks the user to enter their name and their age. Print out a message that tells them the year that they will turn 100 years old"
   ]
  },
  {
   "cell_type": "code",
   "execution_count": 5,
   "id": "ea0bf486",
   "metadata": {},
   "outputs": [
    {
     "name": "stdout",
     "output_type": "stream",
     "text": [
      "Enter your name: Jack\n",
      "Enter your age: 25\n",
      "Jack will turn 100 in 2097\n"
     ]
    }
   ],
   "source": [
    "import datetime\n",
    "Name = input(\"Enter your name: \")\n",
    "Age = int(input(\"Enter your age: \"))\n",
    "print(Name+\" will turn 100 in \" +str(datetime.datetime.today().year - Age + 100))  #Googled this one"
   ]
  },
  {
   "cell_type": "markdown",
   "id": "463e65d7",
   "metadata": {},
   "source": [
    "### 2.\tWhat is pandas groupby? Demonstrate with your own example"
   ]
  },
  {
   "cell_type": "code",
   "execution_count": 14,
   "id": "3ec80cc6",
   "metadata": {},
   "outputs": [
    {
     "name": "stdout",
     "output_type": "stream",
     "text": [
      "      Name  Age       City\n",
      "0  Jackson   27    Chennai\n",
      "1   Joshua   24     Mumbai\n",
      "2     Jack   22  Bangalore\n",
      "3    Sunil   27    Chennai\n",
      "4  Chethri   24     Mumbai\n",
      "5     Bose   22  Bangalore\n"
     ]
    }
   ],
   "source": [
    "dic1 = {'Name':['Jackson', 'Joshua', 'Jack','Sunil','Chethri','Bose'],\n",
    "        'Age':[27, 24, 22,27,24,22],\n",
    "        'City':['Chennai', 'Mumbai', 'Bangalore','Chennai', 'Mumbai', 'Bangalore']}\n",
    "df = pd.DataFrame(dic1)  \n",
    "print(df)"
   ]
  },
  {
   "cell_type": "code",
   "execution_count": 15,
   "id": "237ae9c2",
   "metadata": {},
   "outputs": [
    {
     "data": {
      "text/plain": [
       "{'Bangalore': [2, 5], 'Chennai': [0, 3], 'Mumbai': [1, 4]}"
      ]
     },
     "execution_count": 15,
     "metadata": {},
     "output_type": "execute_result"
    }
   ],
   "source": [
    "df.groupby('City')\n",
    "df.groupby('City').groups"
   ]
  },
  {
   "cell_type": "markdown",
   "id": "92fb1389",
   "metadata": {},
   "source": [
    "# 3.\tHow to create a dataframe from list?"
   ]
  },
  {
   "cell_type": "code",
   "execution_count": 19,
   "id": "a52800fb",
   "metadata": {},
   "outputs": [
    {
     "data": {
      "text/html": [
       "<div>\n",
       "<style scoped>\n",
       "    .dataframe tbody tr th:only-of-type {\n",
       "        vertical-align: middle;\n",
       "    }\n",
       "\n",
       "    .dataframe tbody tr th {\n",
       "        vertical-align: top;\n",
       "    }\n",
       "\n",
       "    .dataframe thead th {\n",
       "        text-align: right;\n",
       "    }\n",
       "</style>\n",
       "<table border=\"1\" class=\"dataframe\">\n",
       "  <thead>\n",
       "    <tr style=\"text-align: right;\">\n",
       "      <th></th>\n",
       "      <th>Names</th>\n",
       "    </tr>\n",
       "  </thead>\n",
       "  <tbody>\n",
       "    <tr>\n",
       "      <th>1</th>\n",
       "      <td>Jackson</td>\n",
       "    </tr>\n",
       "    <tr>\n",
       "      <th>2</th>\n",
       "      <td>Joshua</td>\n",
       "    </tr>\n",
       "    <tr>\n",
       "      <th>3</th>\n",
       "      <td>Jack</td>\n",
       "    </tr>\n",
       "    <tr>\n",
       "      <th>4</th>\n",
       "      <td>Sunil</td>\n",
       "    </tr>\n",
       "    <tr>\n",
       "      <th>5</th>\n",
       "      <td>Chethri</td>\n",
       "    </tr>\n",
       "    <tr>\n",
       "      <th>6</th>\n",
       "      <td>Bose</td>\n",
       "    </tr>\n",
       "  </tbody>\n",
       "</table>\n",
       "</div>"
      ],
      "text/plain": [
       "     Names\n",
       "1  Jackson\n",
       "2   Joshua\n",
       "3     Jack\n",
       "4    Sunil\n",
       "5  Chethri\n",
       "6     Bose"
      ]
     },
     "execution_count": 19,
     "metadata": {},
     "output_type": "execute_result"
    }
   ],
   "source": [
    "list1 = ['Jackson', 'Joshua', 'Jack','Sunil','Chethri','Bose']\n",
    "df = pd.DataFrame(list1, index =['1', '2', '3', '4', '5', '6'],\n",
    "                                              columns =['Names'])\n",
    "df"
   ]
  },
  {
   "cell_type": "markdown",
   "id": "3897ccec",
   "metadata": {},
   "source": [
    "### 4.\tWhat are the ways to combine the dataframe in pandas. Give an example for each"
   ]
  },
  {
   "cell_type": "code",
   "execution_count": 25,
   "id": "670670e1",
   "metadata": {},
   "outputs": [],
   "source": [
    "a = pd.DataFrame( {\"NAME\": ['Jackson', 'Joshua', 'Jack','Sunil'],\"AGE\": [27, 24, 22, 27] }, index=[0, 1, 2, 3])"
   ]
  },
  {
   "cell_type": "code",
   "execution_count": 26,
   "id": "5bbaa2d4",
   "metadata": {},
   "outputs": [],
   "source": [
    "b = pd.DataFrame( {\"NAME\": ['AAROn', 'FInch', 'PHilips','Phelps'],\"AGE\": [27, 25, 22, 27] }, index=[4, 5, 6, 7])"
   ]
  },
  {
   "cell_type": "code",
   "execution_count": 32,
   "id": "91a3374f",
   "metadata": {},
   "outputs": [
    {
     "data": {
      "text/html": [
       "<div>\n",
       "<style scoped>\n",
       "    .dataframe tbody tr th:only-of-type {\n",
       "        vertical-align: middle;\n",
       "    }\n",
       "\n",
       "    .dataframe tbody tr th {\n",
       "        vertical-align: top;\n",
       "    }\n",
       "\n",
       "    .dataframe thead th {\n",
       "        text-align: right;\n",
       "    }\n",
       "</style>\n",
       "<table border=\"1\" class=\"dataframe\">\n",
       "  <thead>\n",
       "    <tr style=\"text-align: right;\">\n",
       "      <th></th>\n",
       "      <th>NAME</th>\n",
       "      <th>AGE</th>\n",
       "      <th>NAME</th>\n",
       "      <th>AGE</th>\n",
       "    </tr>\n",
       "  </thead>\n",
       "  <tbody>\n",
       "    <tr>\n",
       "      <th>0</th>\n",
       "      <td>Jackson</td>\n",
       "      <td>27.0</td>\n",
       "      <td>NaN</td>\n",
       "      <td>NaN</td>\n",
       "    </tr>\n",
       "    <tr>\n",
       "      <th>1</th>\n",
       "      <td>Joshua</td>\n",
       "      <td>24.0</td>\n",
       "      <td>NaN</td>\n",
       "      <td>NaN</td>\n",
       "    </tr>\n",
       "    <tr>\n",
       "      <th>2</th>\n",
       "      <td>Jack</td>\n",
       "      <td>22.0</td>\n",
       "      <td>NaN</td>\n",
       "      <td>NaN</td>\n",
       "    </tr>\n",
       "    <tr>\n",
       "      <th>3</th>\n",
       "      <td>Sunil</td>\n",
       "      <td>27.0</td>\n",
       "      <td>NaN</td>\n",
       "      <td>NaN</td>\n",
       "    </tr>\n",
       "    <tr>\n",
       "      <th>4</th>\n",
       "      <td>NaN</td>\n",
       "      <td>NaN</td>\n",
       "      <td>AAROn</td>\n",
       "      <td>27.0</td>\n",
       "    </tr>\n",
       "    <tr>\n",
       "      <th>5</th>\n",
       "      <td>NaN</td>\n",
       "      <td>NaN</td>\n",
       "      <td>FInch</td>\n",
       "      <td>25.0</td>\n",
       "    </tr>\n",
       "    <tr>\n",
       "      <th>6</th>\n",
       "      <td>NaN</td>\n",
       "      <td>NaN</td>\n",
       "      <td>PHilips</td>\n",
       "      <td>22.0</td>\n",
       "    </tr>\n",
       "    <tr>\n",
       "      <th>7</th>\n",
       "      <td>NaN</td>\n",
       "      <td>NaN</td>\n",
       "      <td>Phelps</td>\n",
       "      <td>27.0</td>\n",
       "    </tr>\n",
       "  </tbody>\n",
       "</table>\n",
       "</div>"
      ],
      "text/plain": [
       "      NAME   AGE     NAME   AGE\n",
       "0  Jackson  27.0      NaN   NaN\n",
       "1   Joshua  24.0      NaN   NaN\n",
       "2     Jack  22.0      NaN   NaN\n",
       "3    Sunil  27.0      NaN   NaN\n",
       "4      NaN   NaN    AAROn  27.0\n",
       "5      NaN   NaN    FInch  25.0\n",
       "6      NaN   NaN  PHilips  22.0\n",
       "7      NaN   NaN   Phelps  27.0"
      ]
     },
     "execution_count": 32,
     "metadata": {},
     "output_type": "execute_result"
    }
   ],
   "source": [
    "pd.concat([a, b], axis=1)"
   ]
  },
  {
   "cell_type": "code",
   "execution_count": 29,
   "id": "6e67d1ad",
   "metadata": {
    "scrolled": true
   },
   "outputs": [
    {
     "data": {
      "text/html": [
       "<div>\n",
       "<style scoped>\n",
       "    .dataframe tbody tr th:only-of-type {\n",
       "        vertical-align: middle;\n",
       "    }\n",
       "\n",
       "    .dataframe tbody tr th {\n",
       "        vertical-align: top;\n",
       "    }\n",
       "\n",
       "    .dataframe thead th {\n",
       "        text-align: right;\n",
       "    }\n",
       "</style>\n",
       "<table border=\"1\" class=\"dataframe\">\n",
       "  <thead>\n",
       "    <tr style=\"text-align: right;\">\n",
       "      <th></th>\n",
       "      <th>NAME</th>\n",
       "      <th>AGE</th>\n",
       "    </tr>\n",
       "  </thead>\n",
       "  <tbody>\n",
       "    <tr>\n",
       "      <th>0</th>\n",
       "      <td>Jackson</td>\n",
       "      <td>27</td>\n",
       "    </tr>\n",
       "    <tr>\n",
       "      <th>1</th>\n",
       "      <td>Joshua</td>\n",
       "      <td>24</td>\n",
       "    </tr>\n",
       "    <tr>\n",
       "      <th>2</th>\n",
       "      <td>Jack</td>\n",
       "      <td>22</td>\n",
       "    </tr>\n",
       "    <tr>\n",
       "      <th>3</th>\n",
       "      <td>Sunil</td>\n",
       "      <td>27</td>\n",
       "    </tr>\n",
       "    <tr>\n",
       "      <th>4</th>\n",
       "      <td>AAROn</td>\n",
       "      <td>27</td>\n",
       "    </tr>\n",
       "    <tr>\n",
       "      <th>5</th>\n",
       "      <td>FInch</td>\n",
       "      <td>25</td>\n",
       "    </tr>\n",
       "    <tr>\n",
       "      <th>6</th>\n",
       "      <td>PHilips</td>\n",
       "      <td>22</td>\n",
       "    </tr>\n",
       "    <tr>\n",
       "      <th>7</th>\n",
       "      <td>Phelps</td>\n",
       "      <td>27</td>\n",
       "    </tr>\n",
       "  </tbody>\n",
       "</table>\n",
       "</div>"
      ],
      "text/plain": [
       "      NAME  AGE\n",
       "0  Jackson   27\n",
       "1   Joshua   24\n",
       "2     Jack   22\n",
       "3    Sunil   27\n",
       "4    AAROn   27\n",
       "5    FInch   25\n",
       "6  PHilips   22\n",
       "7   Phelps   27"
      ]
     },
     "execution_count": 29,
     "metadata": {},
     "output_type": "execute_result"
    }
   ],
   "source": [
    "pd.concat([a, b], axis=0)"
   ]
  },
  {
   "cell_type": "code",
   "execution_count": 30,
   "id": "7e71758b",
   "metadata": {},
   "outputs": [
    {
     "data": {
      "text/html": [
       "<div>\n",
       "<style scoped>\n",
       "    .dataframe tbody tr th:only-of-type {\n",
       "        vertical-align: middle;\n",
       "    }\n",
       "\n",
       "    .dataframe tbody tr th {\n",
       "        vertical-align: top;\n",
       "    }\n",
       "\n",
       "    .dataframe thead th {\n",
       "        text-align: right;\n",
       "    }\n",
       "</style>\n",
       "<table border=\"1\" class=\"dataframe\">\n",
       "  <thead>\n",
       "    <tr style=\"text-align: right;\">\n",
       "      <th></th>\n",
       "      <th>NAME</th>\n",
       "      <th>AGE</th>\n",
       "    </tr>\n",
       "  </thead>\n",
       "  <tbody>\n",
       "    <tr>\n",
       "      <th>0</th>\n",
       "      <td>Jackson</td>\n",
       "      <td>27</td>\n",
       "    </tr>\n",
       "    <tr>\n",
       "      <th>1</th>\n",
       "      <td>Joshua</td>\n",
       "      <td>24</td>\n",
       "    </tr>\n",
       "    <tr>\n",
       "      <th>2</th>\n",
       "      <td>Jack</td>\n",
       "      <td>22</td>\n",
       "    </tr>\n",
       "    <tr>\n",
       "      <th>3</th>\n",
       "      <td>Sunil</td>\n",
       "      <td>27</td>\n",
       "    </tr>\n",
       "    <tr>\n",
       "      <th>4</th>\n",
       "      <td>AAROn</td>\n",
       "      <td>27</td>\n",
       "    </tr>\n",
       "    <tr>\n",
       "      <th>5</th>\n",
       "      <td>FInch</td>\n",
       "      <td>25</td>\n",
       "    </tr>\n",
       "    <tr>\n",
       "      <th>6</th>\n",
       "      <td>PHilips</td>\n",
       "      <td>22</td>\n",
       "    </tr>\n",
       "    <tr>\n",
       "      <th>7</th>\n",
       "      <td>Phelps</td>\n",
       "      <td>27</td>\n",
       "    </tr>\n",
       "  </tbody>\n",
       "</table>\n",
       "</div>"
      ],
      "text/plain": [
       "      NAME  AGE\n",
       "0  Jackson   27\n",
       "1   Joshua   24\n",
       "2     Jack   22\n",
       "3    Sunil   27\n",
       "4    AAROn   27\n",
       "5    FInch   25\n",
       "6  PHilips   22\n",
       "7   Phelps   27"
      ]
     },
     "execution_count": 30,
     "metadata": {},
     "output_type": "execute_result"
    }
   ],
   "source": [
    "a.append(b, ignore_index = True)"
   ]
  },
  {
   "cell_type": "code",
   "execution_count": 31,
   "id": "b9b931ef",
   "metadata": {},
   "outputs": [
    {
     "data": {
      "text/html": [
       "<div>\n",
       "<style scoped>\n",
       "    .dataframe tbody tr th:only-of-type {\n",
       "        vertical-align: middle;\n",
       "    }\n",
       "\n",
       "    .dataframe tbody tr th {\n",
       "        vertical-align: top;\n",
       "    }\n",
       "\n",
       "    .dataframe thead th {\n",
       "        text-align: right;\n",
       "    }\n",
       "</style>\n",
       "<table border=\"1\" class=\"dataframe\">\n",
       "  <thead>\n",
       "    <tr style=\"text-align: right;\">\n",
       "      <th></th>\n",
       "      <th>NAME_x</th>\n",
       "      <th>AGE</th>\n",
       "      <th>NAME_y</th>\n",
       "    </tr>\n",
       "  </thead>\n",
       "  <tbody>\n",
       "    <tr>\n",
       "      <th>0</th>\n",
       "      <td>Jackson</td>\n",
       "      <td>27</td>\n",
       "      <td>AAROn</td>\n",
       "    </tr>\n",
       "    <tr>\n",
       "      <th>1</th>\n",
       "      <td>Jackson</td>\n",
       "      <td>27</td>\n",
       "      <td>Phelps</td>\n",
       "    </tr>\n",
       "    <tr>\n",
       "      <th>2</th>\n",
       "      <td>Joshua</td>\n",
       "      <td>24</td>\n",
       "      <td>NaN</td>\n",
       "    </tr>\n",
       "    <tr>\n",
       "      <th>3</th>\n",
       "      <td>Jack</td>\n",
       "      <td>22</td>\n",
       "      <td>PHilips</td>\n",
       "    </tr>\n",
       "    <tr>\n",
       "      <th>4</th>\n",
       "      <td>Sunil</td>\n",
       "      <td>27</td>\n",
       "      <td>AAROn</td>\n",
       "    </tr>\n",
       "    <tr>\n",
       "      <th>5</th>\n",
       "      <td>Sunil</td>\n",
       "      <td>27</td>\n",
       "      <td>Phelps</td>\n",
       "    </tr>\n",
       "  </tbody>\n",
       "</table>\n",
       "</div>"
      ],
      "text/plain": [
       "    NAME_x  AGE   NAME_y\n",
       "0  Jackson   27    AAROn\n",
       "1  Jackson   27   Phelps\n",
       "2   Joshua   24      NaN\n",
       "3     Jack   22  PHilips\n",
       "4    Sunil   27    AAROn\n",
       "5    Sunil   27   Phelps"
      ]
     },
     "execution_count": 31,
     "metadata": {},
     "output_type": "execute_result"
    }
   ],
   "source": [
    "a.merge(b, on='AGE', how = 'left')"
   ]
  },
  {
   "cell_type": "markdown",
   "id": "9052d394",
   "metadata": {},
   "source": [
    "### 5.\tWhat is the difference between list and tuples in Python?"
   ]
  },
  {
   "cell_type": "code",
   "execution_count": 33,
   "id": "4294d40e",
   "metadata": {},
   "outputs": [],
   "source": [
    "list1=[1,2,3,4,5,6,7,7]"
   ]
  },
  {
   "cell_type": "code",
   "execution_count": 34,
   "id": "887e3174",
   "metadata": {},
   "outputs": [],
   "source": [
    "list1[2]=20"
   ]
  },
  {
   "cell_type": "code",
   "execution_count": 35,
   "id": "702186f8",
   "metadata": {},
   "outputs": [
    {
     "data": {
      "text/plain": [
       "[1, 2, 20, 4, 5, 6, 7, 7]"
      ]
     },
     "execution_count": 35,
     "metadata": {},
     "output_type": "execute_result"
    }
   ],
   "source": [
    "list1"
   ]
  },
  {
   "cell_type": "code",
   "execution_count": 36,
   "id": "5557b222",
   "metadata": {},
   "outputs": [],
   "source": [
    "a =list1"
   ]
  },
  {
   "cell_type": "code",
   "execution_count": 38,
   "id": "8e6857ad",
   "metadata": {},
   "outputs": [],
   "source": [
    "tupl1 = tuple(a)"
   ]
  },
  {
   "cell_type": "code",
   "execution_count": 39,
   "id": "28e90f91",
   "metadata": {},
   "outputs": [
    {
     "ename": "TypeError",
     "evalue": "'tuple' object does not support item assignment",
     "output_type": "error",
     "traceback": [
      "\u001b[1;31m---------------------------------------------------------------------------\u001b[0m",
      "\u001b[1;31mTypeError\u001b[0m                                 Traceback (most recent call last)",
      "\u001b[1;32mC:\\Users\\MUTHUK~1\\AppData\\Local\\Temp/ipykernel_8664/3985864641.py\u001b[0m in \u001b[0;36m<module>\u001b[1;34m\u001b[0m\n\u001b[1;32m----> 1\u001b[1;33m \u001b[0mtupl1\u001b[0m\u001b[1;33m[\u001b[0m\u001b[1;36m2\u001b[0m\u001b[1;33m]\u001b[0m\u001b[1;33m=\u001b[0m\u001b[1;36m20\u001b[0m\u001b[1;33m\u001b[0m\u001b[1;33m\u001b[0m\u001b[0m\n\u001b[0m",
      "\u001b[1;31mTypeError\u001b[0m: 'tuple' object does not support item assignment"
     ]
    }
   ],
   "source": [
    "tupl1[2]=20"
   ]
  },
  {
   "cell_type": "markdown",
   "id": "7922adc5",
   "metadata": {},
   "source": [
    "### 6.\tFind out the mean, median and standard deviation of this numpy array -> np.array([1,5,3,100,4,48])"
   ]
  },
  {
   "cell_type": "code",
   "execution_count": 41,
   "id": "438541b3",
   "metadata": {},
   "outputs": [
    {
     "name": "stdout",
     "output_type": "stream",
     "text": [
      "26.833333333333332\n",
      "4.5\n",
      "36.59424666377065\n"
     ]
    }
   ],
   "source": [
    "a =np.array([1,5,3,100,4,48])\n",
    "print(np.mean(a,axis=0))\n",
    "print(np.median(a,axis=0))\n",
    "print(np.std(a,axis=0))"
   ]
  },
  {
   "cell_type": "markdown",
   "id": "2c268c80",
   "metadata": {},
   "source": [
    "## 7.\tHow will you remove duplicate elements from a list?"
   ]
  },
  {
   "cell_type": "code",
   "execution_count": 42,
   "id": "3667f283",
   "metadata": {},
   "outputs": [],
   "source": [
    "test = [1, 3, 5, 6, 3, 5, 6, 1]"
   ]
  },
  {
   "cell_type": "code",
   "execution_count": 43,
   "id": "0ca280c0",
   "metadata": {},
   "outputs": [
    {
     "data": {
      "text/plain": [
       "{1, 3, 5, 6}"
      ]
     },
     "execution_count": 43,
     "metadata": {},
     "output_type": "execute_result"
    }
   ],
   "source": [
    "set(test)"
   ]
  },
  {
   "cell_type": "markdown",
   "id": "4b6dc2b9",
   "metadata": {},
   "source": [
    "### 8.\tWhat is a map() function in Python? Give an example"
   ]
  },
  {
   "cell_type": "code",
   "execution_count": 44,
   "id": "81039f85",
   "metadata": {},
   "outputs": [
    {
     "name": "stdout",
     "output_type": "stream",
     "text": [
      "[1, 1, 1, 0, 1, 1, 0, 1]\n"
     ]
    }
   ],
   "source": [
    "test = [1, 3, 5, 6, 3, 5, 6, 1]\n",
    "\n",
    "new_list = list(map(lambda x: x%2, test))\n",
    "print(new_list)"
   ]
  },
  {
   "cell_type": "code",
   "execution_count": 45,
   "id": "5e27759e",
   "metadata": {},
   "outputs": [
    {
     "name": "stdout",
     "output_type": "stream",
     "text": [
      "['JACKSON', 'JOSHUA', 'JACK']\n"
     ]
    }
   ],
   "source": [
    "test = list(map(lambda x : x.upper(), ['Jackson', 'Joshua', 'Jack']))\n",
    "print(test)"
   ]
  },
  {
   "cell_type": "markdown",
   "id": "b63cd75a",
   "metadata": {},
   "source": [
    "###  9.\tWhat is pass in Python?"
   ]
  },
  {
   "cell_type": "code",
   "execution_count": 48,
   "id": "bcc93585",
   "metadata": {},
   "outputs": [
    {
     "name": "stdout",
     "output_type": "stream",
     "text": [
      "1\n",
      "2\n",
      "3\n",
      "4\n",
      "5\n"
     ]
    }
   ],
   "source": [
    "for i in range(1,8):\n",
    "    print (i)\n",
    "    if (i == 5):\n",
    "        break"
   ]
  },
  {
   "cell_type": "code",
   "execution_count": 49,
   "id": "e6119c21",
   "metadata": {},
   "outputs": [
    {
     "name": "stdout",
     "output_type": "stream",
     "text": [
      "1\n",
      "2\n",
      "3\n",
      "4\n",
      "5\n",
      "6\n",
      "7\n"
     ]
    }
   ],
   "source": [
    "for i in range(1,8):\n",
    "    print (i)\n",
    "    if (i == 5):\n",
    "        pass"
   ]
  },
  {
   "cell_type": "markdown",
   "id": "d496064b",
   "metadata": {},
   "source": [
    "### 10.\tWhat is vstack() in numpy? Give an example"
   ]
  },
  {
   "cell_type": "code",
   "execution_count": 50,
   "id": "8c9ca254",
   "metadata": {},
   "outputs": [],
   "source": [
    "a = np.array([[1,2,3],[4,5,6]])\n",
    "b = np.array([[7,8,9],[10,11,12]])"
   ]
  },
  {
   "cell_type": "code",
   "execution_count": 51,
   "id": "7cc2d4d5",
   "metadata": {},
   "outputs": [
    {
     "data": {
      "text/plain": [
       "array([[ 1,  2,  3],\n",
       "       [ 4,  5,  6],\n",
       "       [ 7,  8,  9],\n",
       "       [10, 11, 12]])"
      ]
     },
     "execution_count": 51,
     "metadata": {},
     "output_type": "execute_result"
    }
   ],
   "source": [
    "np.vstack((a,b))"
   ]
  },
  {
   "cell_type": "code",
   "execution_count": null,
   "id": "0eb63496",
   "metadata": {},
   "outputs": [],
   "source": []
  }
 ],
 "metadata": {
  "kernelspec": {
   "display_name": "Python 3 (ipykernel)",
   "language": "python",
   "name": "python3"
  },
  "language_info": {
   "codemirror_mode": {
    "name": "ipython",
    "version": 3
   },
   "file_extension": ".py",
   "mimetype": "text/x-python",
   "name": "python",
   "nbconvert_exporter": "python",
   "pygments_lexer": "ipython3",
   "version": "3.9.7"
  }
 },
 "nbformat": 4,
 "nbformat_minor": 5
}
