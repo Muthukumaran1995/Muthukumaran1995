{
 "cells": [
  {
   "cell_type": "markdown",
   "id": "4d336904",
   "metadata": {},
   "source": [
    "## 1.\tCreate a file calc.py which has following functions\n",
    "a.\tFunction to find the factorial of a number\n",
    "b.\tFunction to convert degree to Fahrenheit\n",
    "Write a new program in file “maths.py” such that you import functions of the file calc.py to your new program. Use from <module> import <functions> statement to import the functions from the calc module\n"
   ]
  },
  {
   "cell_type": "code",
   "execution_count": 153,
   "id": "d421b383",
   "metadata": {
    "scrolled": true
   },
   "outputs": [
    {
     "name": "stdout",
     "output_type": "stream",
     "text": [
      "Enter a number to find the factorial: 5\n",
      "120\n"
     ]
    }
   ],
   "source": [
    "def factorial(n):\n",
    "    if n == 1:\n",
    "        return n\n",
    "    else:\n",
    "        return (n * factorial(n-1))\n",
    "num = int(input(\"Enter a number to find the factorial: \"))\n",
    "result = factorial(num)\n",
    "print(result)"
   ]
  },
  {
   "cell_type": "code",
   "execution_count": 157,
   "id": "e8dd57cb",
   "metadata": {},
   "outputs": [
    {
     "name": "stdout",
     "output_type": "stream",
     "text": [
      "Enter a number to find the fahrenheit: 37\n",
      "37 98.6\n"
     ]
    }
   ],
   "source": [
    "def degree_conversion(degree):\n",
    "    fahrenheit = (celsius * 9/5) + 32\n",
    "    print(celsius,fahrenheit)\n",
    "celsius = int(input(\"Enter a number to find the fahrenheit: \"))\n",
    "degree_conversion(celsius)"
   ]
  },
  {
   "cell_type": "markdown",
   "id": "b84d9762",
   "metadata": {},
   "source": [
    "## 2.\tImplement a simple generator for Fibonacci series"
   ]
  },
  {
   "cell_type": "code",
   "execution_count": 102,
   "id": "0b920552",
   "metadata": {},
   "outputs": [],
   "source": [
    "def fib(n):\n",
    "    a, b = 0, 1\n",
    "    for i in range(n):\n",
    "        yield a\n",
    "        a, b = b, a + b"
   ]
  },
  {
   "cell_type": "code",
   "execution_count": 103,
   "id": "dcda5e60",
   "metadata": {},
   "outputs": [],
   "source": [
    "gen = fib(10)"
   ]
  },
  {
   "cell_type": "code",
   "execution_count": 104,
   "id": "c6b87bfb",
   "metadata": {},
   "outputs": [
    {
     "name": "stdout",
     "output_type": "stream",
     "text": [
      "0\n",
      "1\n",
      "1\n",
      "2\n",
      "3\n",
      "5\n",
      "8\n",
      "13\n",
      "21\n",
      "34\n"
     ]
    }
   ],
   "source": [
    "print(next(gen))\n",
    "print(next(gen))\n",
    "print(next(gen))\n",
    "print(next(gen))\n",
    "print(next(gen))\n",
    "print(next(gen))\n",
    "print(next(gen))\n",
    "print(next(gen))\n",
    "print(next(gen))\n",
    "print(next(gen))"
   ]
  },
  {
   "cell_type": "code",
   "execution_count": 105,
   "id": "16b0d33b",
   "metadata": {},
   "outputs": [
    {
     "ename": "StopIteration",
     "evalue": "",
     "output_type": "error",
     "traceback": [
      "\u001b[1;31m---------------------------------------------------------------------------\u001b[0m",
      "\u001b[1;31mStopIteration\u001b[0m                             Traceback (most recent call last)",
      "\u001b[1;32mC:\\Users\\MUTHUK~1\\AppData\\Local\\Temp/ipykernel_9456/2955553870.py\u001b[0m in \u001b[0;36m<module>\u001b[1;34m\u001b[0m\n\u001b[1;32m----> 1\u001b[1;33m \u001b[0mprint\u001b[0m\u001b[1;33m(\u001b[0m\u001b[0mnext\u001b[0m\u001b[1;33m(\u001b[0m\u001b[0mgen\u001b[0m\u001b[1;33m)\u001b[0m\u001b[1;33m)\u001b[0m\u001b[1;33m\u001b[0m\u001b[1;33m\u001b[0m\u001b[0m\n\u001b[0m",
      "\u001b[1;31mStopIteration\u001b[0m: "
     ]
    }
   ],
   "source": [
    "print(next(gen))"
   ]
  },
  {
   "cell_type": "markdown",
   "id": "34952aee",
   "metadata": {},
   "source": [
    "## 3.\tWrite an iterator class to iterate over a sequence of values in the reverse direction"
   ]
  },
  {
   "cell_type": "code",
   "execution_count": 80,
   "id": "c613c68c",
   "metadata": {},
   "outputs": [
    {
     "name": "stdout",
     "output_type": "stream",
     "text": [
      "[5, 4, 3, 2, 1]\n",
      "5\n",
      "4\n",
      "3\n",
      "2\n",
      "1\n"
     ]
    }
   ],
   "source": [
    "a = ([1, 2, 3, 4,5])\n",
    "a.reverse()\n",
    "print(a)\n",
    "\n",
    "my_iter=iter(a)\n",
    "for i in range(len(a)-1,-1,-1):\n",
    "    print(next(my_iter))\n",
    "    "
   ]
  },
  {
   "cell_type": "markdown",
   "id": "1b12626f",
   "metadata": {},
   "source": [
    "## 4. Write a function “salary” that takes in base pay, HRA and special allowance as arguments and returns the sum of all the 3 salary elements. Then create a decorator function to add an additional element “Tax” (30% of base pay) and assign it back to base pay variable, and return the function (i.e., the final calculation of salary also includes tax)"
   ]
  },
  {
   "cell_type": "code",
   "execution_count": 77,
   "id": "158d3b1e",
   "metadata": {},
   "outputs": [],
   "source": [
    "def decorating_fn(func):\n",
    "    def tax_calculation(basepay,hra,allowance):\n",
    "        print('BasePay : ',basepay, 'HRA : ',hra, 'SpecialAllowance : ',allowance, end='  ,')\n",
    "        tax_calc = (30/100) * basepay\n",
    "        basepay = tax_calc\n",
    "        print('Basepay after tax reduction : ', basepay)\n",
    "        return func(basepay,hra,allowance)\n",
    "    return tax_calculation\n"
   ]
  },
  {
   "cell_type": "code",
   "execution_count": 78,
   "id": "7464451f",
   "metadata": {},
   "outputs": [],
   "source": [
    "@decorating_fn\n",
    "def salary(basepay,hra,allowance):\n",
    "    sum = basepay + hra + allowance\n",
    "    return sum"
   ]
  },
  {
   "cell_type": "code",
   "execution_count": 79,
   "id": "ab455fbc",
   "metadata": {},
   "outputs": [
    {
     "name": "stdout",
     "output_type": "stream",
     "text": [
      "BasePay :  100 HRA :  200 SpecialAllowance :  300  ,Basepay after tax reduction :  30.0\n"
     ]
    },
    {
     "data": {
      "text/plain": [
       "530.0"
      ]
     },
     "execution_count": 79,
     "metadata": {},
     "output_type": "execute_result"
    }
   ],
   "source": [
    "salary(100,200,300)"
   ]
  },
  {
   "cell_type": "markdown",
   "id": "42eca1aa",
   "metadata": {},
   "source": [
    "## 5.\tWrite 3 examples on possible methods to changing a tuple"
   ]
  },
  {
   "cell_type": "code",
   "execution_count": 106,
   "id": "b411bebd",
   "metadata": {},
   "outputs": [
    {
     "data": {
      "text/plain": [
       "(1, 2, [1, 2, 3], [10, 2, 3])"
      ]
     },
     "execution_count": 106,
     "metadata": {},
     "output_type": "execute_result"
    }
   ],
   "source": [
    "tupl1 = (1,2,[1,2,3],[1,2,3])\n",
    "\n",
    "tupl1[3][0]= 10\n",
    "tupl1"
   ]
  },
  {
   "cell_type": "code",
   "execution_count": 113,
   "id": "aaa971a9",
   "metadata": {},
   "outputs": [
    {
     "name": "stdout",
     "output_type": "stream",
     "text": [
      "['python', 'data', 'science', 'Pandas', 'numpy']\n"
     ]
    }
   ],
   "source": [
    "tupl2= ('python','data','science')\n",
    "tupl3 = list(tupl2)\n",
    "tupl3.append('Pandas')\n",
    "tupl3.append('numpy')\n",
    "tupl2 = tuple(tupl3)\n",
    "print(tupl3)"
   ]
  },
  {
   "cell_type": "code",
   "execution_count": 114,
   "id": "cfc6b050",
   "metadata": {},
   "outputs": [
    {
     "name": "stdout",
     "output_type": "stream",
     "text": [
      "('python', 'data', 'science', 'pandas')\n"
     ]
    }
   ],
   "source": [
    "tupl4= ('python','data','science')\n",
    "tupl5= ('pandas',)\n",
    "tupl4 += tupl5\n",
    "print(tupl4)"
   ]
  },
  {
   "cell_type": "code",
   "execution_count": 117,
   "id": "879b749d",
   "metadata": {},
   "outputs": [
    {
     "name": "stdout",
     "output_type": "stream",
     "text": [
      "('maths', 'english', 'science', 'maths', 'english', 'science')\n"
     ]
    }
   ],
   "source": [
    "subjects = (\"maths\", \"english\", \"science\")\n",
    "tupl6 = subjects * 2\n",
    "print(tupl6)"
   ]
  }
 ],
 "metadata": {
  "kernelspec": {
   "display_name": "Python 3 (ipykernel)",
   "language": "python",
   "name": "python3"
  },
  "language_info": {
   "codemirror_mode": {
    "name": "ipython",
    "version": 3
   },
   "file_extension": ".py",
   "mimetype": "text/x-python",
   "name": "python",
   "nbconvert_exporter": "python",
   "pygments_lexer": "ipython3",
   "version": "3.9.7"
  }
 },
 "nbformat": 4,
 "nbformat_minor": 5
}
