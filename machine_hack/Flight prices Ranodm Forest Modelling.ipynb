{
 "cells": [
  {
   "cell_type": "code",
   "execution_count": 45,
   "id": "308e0783",
   "metadata": {},
   "outputs": [],
   "source": [
    "import numpy as np\n",
    "import pandas as pd\n",
    "from sklearn.linear_model import LinearRegression\n",
    "from sklearn.neighbors import KNeighborsRegressor\n",
    "from sklearn.tree import DecisionTreeRegressor\n",
    "from sklearn.ensemble import RandomForestRegressor\n",
    "from sklearn.model_selection import train_test_split"
   ]
  },
  {
   "cell_type": "code",
   "execution_count": 46,
   "id": "b78bfc69",
   "metadata": {},
   "outputs": [],
   "source": [
    "def rmsle(y_true, y_pred):\n",
    "    return 1 - np.sqrt(np.square(np.log10(y_pred +1) - np.log10(y_true +1)).mean())"
   ]
  },
  {
   "cell_type": "code",
   "execution_count": 47,
   "id": "0de28d4b",
   "metadata": {},
   "outputs": [],
   "source": [
    "train = pd.read_csv('train_preprocessed.csv')\n",
    "test = pd.read_csv('test_preprocessed.csv')"
   ]
  },
  {
   "cell_type": "code",
   "execution_count": 48,
   "id": "0c5efe5f",
   "metadata": {},
   "outputs": [],
   "source": [
    "X = train.drop(columns=['Price'])\n",
    "y = train['Price']"
   ]
  },
  {
   "cell_type": "code",
   "execution_count": 49,
   "id": "a43b8f2d",
   "metadata": {},
   "outputs": [],
   "source": [
    "train_X, test_X, train_y , test_y = train_test_split(X,y,test_size=0.3,random_state=44)"
   ]
  },
  {
   "cell_type": "code",
   "execution_count": 50,
   "id": "b0cae69c",
   "metadata": {},
   "outputs": [],
   "source": [
    "def run_model_evaluate(model,train_X,train_y,test_X,test_y,X,y,test,filename):\n",
    "    model.fit(train_X , train_y)\n",
    "    train_pred = model.predict(train_X)\n",
    "    test_pred = model.predict(test_X)\n",
    "    print('train_rmsle:', rmsle(train_y , train_pred))\n",
    "    print('test_rmsle:', rmsle(test_y , test_pred))\n",
    "    model.fit(X,y)\n",
    "    pred = model.predict(test)\n",
    "    result =pd.DataFrame(pred , columns=['Price'])\n",
    "    result.to_csv(filename, index=False)"
   ]
  },
  {
   "cell_type": "code",
   "execution_count": 51,
   "id": "d2531409",
   "metadata": {},
   "outputs": [
    {
     "name": "stdout",
     "output_type": "stream",
     "text": [
      "train_rmsle: 0.8657215077650018\n",
      "test_rmsle: 0.8476848837880661\n"
     ]
    },
    {
     "name": "stderr",
     "output_type": "stream",
     "text": [
      "C:\\Users\\MUTHUK~1\\AppData\\Local\\Temp/ipykernel_4332/986885743.py:2: RuntimeWarning: invalid value encountered in log10\n",
      "  return 1 - np.sqrt(np.square(np.log10(y_pred +1) - np.log10(y_true +1)).mean())\n"
     ]
    }
   ],
   "source": [
    "linear_reg = LinearRegression()\n",
    "run_model_evaluate(linear_reg,train_X,train_y,test_X,test_y,X,y,test,'flight_price_linear_regression.csv')"
   ]
  },
  {
   "cell_type": "code",
   "execution_count": 52,
   "id": "3ae90e12",
   "metadata": {},
   "outputs": [
    {
     "name": "stdout",
     "output_type": "stream",
     "text": [
      "train_rmsle: 0.9090685395482615\n",
      "test_rmsle: 0.8872084217457497\n"
     ]
    }
   ],
   "source": [
    "KNN = KNeighborsRegressor()\n",
    "run_model_evaluate(KNN,train_X,train_y,test_X,test_y,X,y,test,'flight_price_kNN.csv')"
   ]
  },
  {
   "cell_type": "code",
   "execution_count": 53,
   "id": "c988cfc3",
   "metadata": {},
   "outputs": [
    {
     "name": "stdout",
     "output_type": "stream",
     "text": [
      "train_rmsle: 0.9867338432162885\n",
      "test_rmsle: 0.9307167109632286\n"
     ]
    }
   ],
   "source": [
    "decision_tree = DecisionTreeRegressor()\n",
    "run_model_evaluate(decision_tree,train_X,train_y,test_X,test_y,X,y,test,'flight_price_decision_tree.csv')"
   ]
  },
  {
   "cell_type": "code",
   "execution_count": 54,
   "id": "8b796297",
   "metadata": {},
   "outputs": [
    {
     "name": "stdout",
     "output_type": "stream",
     "text": [
      "train_rmsle: 0.9759724094870754\n",
      "test_rmsle: 0.945826279397038\n"
     ]
    }
   ],
   "source": [
    "Random_forest = RandomForestRegressor()\n",
    "run_model_evaluate(Random_forest,train_X,train_y,test_X,test_y,X,y,test,'flight_price_Random_forest.csv')"
   ]
  },
  {
   "cell_type": "code",
   "execution_count": null,
   "id": "f29cdea6",
   "metadata": {},
   "outputs": [],
   "source": []
  }
 ],
 "metadata": {
  "kernelspec": {
   "display_name": "Python 3 (ipykernel)",
   "language": "python",
   "name": "python3"
  },
  "language_info": {
   "codemirror_mode": {
    "name": "ipython",
    "version": 3
   },
   "file_extension": ".py",
   "mimetype": "text/x-python",
   "name": "python",
   "nbconvert_exporter": "python",
   "pygments_lexer": "ipython3",
   "version": "3.9.7"
  }
 },
 "nbformat": 4,
 "nbformat_minor": 5
}
