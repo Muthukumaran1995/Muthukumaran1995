{
 "cells": [
  {
   "cell_type": "markdown",
   "id": "073237b3",
   "metadata": {},
   "source": [
    "##  1.\tGet the input for 2 variables though “input” function and pass them to a function to return the addition of two variables"
   ]
  },
  {
   "cell_type": "code",
   "execution_count": 18,
   "id": "47cef54b",
   "metadata": {},
   "outputs": [
    {
     "name": "stdout",
     "output_type": "stream",
     "text": [
      "enter the number1:5\n",
      "enter the number2:3\n"
     ]
    }
   ],
   "source": [
    "a=int(input('enter the number1:'))\n",
    "b=int(input('enter the number2:'))\n",
    "def func1(a,b):\n",
    "    return a + b"
   ]
  },
  {
   "cell_type": "code",
   "execution_count": 19,
   "id": "6c680932",
   "metadata": {},
   "outputs": [
    {
     "data": {
      "text/plain": [
       "8"
      ]
     },
     "execution_count": 19,
     "metadata": {},
     "output_type": "execute_result"
    }
   ],
   "source": [
    "func1(a,b)"
   ]
  },
  {
   "cell_type": "markdown",
   "id": "27e640f8",
   "metadata": {},
   "source": [
    "## 2.\tWhat happens if we try to add an int with str and vice versa. Please print out the error"
   ]
  },
  {
   "cell_type": "code",
   "execution_count": 24,
   "id": "6f8c3162",
   "metadata": {},
   "outputs": [
    {
     "name": "stdout",
     "output_type": "stream",
     "text": [
      "enter the num:muthu\n"
     ]
    },
    {
     "ename": "TypeError",
     "evalue": "can only concatenate str (not \"int\") to str",
     "output_type": "error",
     "traceback": [
      "\u001b[1;31m---------------------------------------------------------------------------\u001b[0m",
      "\u001b[1;31mTypeError\u001b[0m                                 Traceback (most recent call last)",
      "\u001b[1;32mC:\\Users\\MUTHUK~1\\AppData\\Local\\Temp/ipykernel_10932/1852535767.py\u001b[0m in \u001b[0;36m<module>\u001b[1;34m\u001b[0m\n\u001b[0;32m      1\u001b[0m \u001b[0mnum\u001b[0m\u001b[1;33m=\u001b[0m \u001b[0minput\u001b[0m\u001b[1;33m(\u001b[0m\u001b[1;34m'enter the num:'\u001b[0m\u001b[1;33m)\u001b[0m\u001b[1;33m\u001b[0m\u001b[1;33m\u001b[0m\u001b[0m\n\u001b[1;32m----> 2\u001b[1;33m \u001b[0madd\u001b[0m \u001b[1;33m=\u001b[0m \u001b[0mnum\u001b[0m\u001b[1;33m+\u001b[0m \u001b[1;36m50\u001b[0m\u001b[1;33m\u001b[0m\u001b[1;33m\u001b[0m\u001b[0m\n\u001b[0m\u001b[0;32m      3\u001b[0m \u001b[0mprint\u001b[0m\u001b[1;33m(\u001b[0m\u001b[0madd\u001b[0m\u001b[1;33m)\u001b[0m\u001b[1;33m\u001b[0m\u001b[1;33m\u001b[0m\u001b[0m\n",
      "\u001b[1;31mTypeError\u001b[0m: can only concatenate str (not \"int\") to str"
     ]
    }
   ],
   "source": [
    "num= input('enter the num:')\n",
    "add = num+ 50\n",
    "print(add)"
   ]
  },
  {
   "cell_type": "code",
   "execution_count": 28,
   "id": "f50f2be2",
   "metadata": {},
   "outputs": [
    {
     "name": "stdout",
     "output_type": "stream",
     "text": [
      "enter the num:5\n"
     ]
    },
    {
     "ename": "TypeError",
     "evalue": "unsupported operand type(s) for +: 'int' and 'str'",
     "output_type": "error",
     "traceback": [
      "\u001b[1;31m---------------------------------------------------------------------------\u001b[0m",
      "\u001b[1;31mTypeError\u001b[0m                                 Traceback (most recent call last)",
      "\u001b[1;32mC:\\Users\\MUTHUK~1\\AppData\\Local\\Temp/ipykernel_10932/339408958.py\u001b[0m in \u001b[0;36m<module>\u001b[1;34m\u001b[0m\n\u001b[0;32m      1\u001b[0m \u001b[0mnum\u001b[0m\u001b[1;33m=\u001b[0m \u001b[0mint\u001b[0m\u001b[1;33m(\u001b[0m\u001b[0minput\u001b[0m\u001b[1;33m(\u001b[0m\u001b[1;34m'enter the num:'\u001b[0m\u001b[1;33m)\u001b[0m\u001b[1;33m)\u001b[0m\u001b[1;33m\u001b[0m\u001b[1;33m\u001b[0m\u001b[0m\n\u001b[1;32m----> 2\u001b[1;33m \u001b[0madd\u001b[0m \u001b[1;33m=\u001b[0m \u001b[0mnum\u001b[0m \u001b[1;33m+\u001b[0m \u001b[1;34m'muthu'\u001b[0m\u001b[1;33m\u001b[0m\u001b[1;33m\u001b[0m\u001b[0m\n\u001b[0m\u001b[0;32m      3\u001b[0m \u001b[0mprint\u001b[0m\u001b[1;33m(\u001b[0m\u001b[0madd\u001b[0m\u001b[1;33m)\u001b[0m\u001b[1;33m\u001b[0m\u001b[1;33m\u001b[0m\u001b[0m\n",
      "\u001b[1;31mTypeError\u001b[0m: unsupported operand type(s) for +: 'int' and 'str'"
     ]
    }
   ],
   "source": [
    "num= int(input('enter the num:'))\n",
    "add = num + 'muthu'\n",
    "print(add)"
   ]
  },
  {
   "cell_type": "markdown",
   "id": "a0090894",
   "metadata": {},
   "source": [
    "## 3.\tCreate a string variable for the word “Data Science” and see if the letter “s” is present in it using membership operators"
   ]
  },
  {
   "cell_type": "code",
   "execution_count": 31,
   "id": "d9ed24b1",
   "metadata": {},
   "outputs": [
    {
     "name": "stdout",
     "output_type": "stream",
     "text": [
      "True\n"
     ]
    }
   ],
   "source": [
    "str_var = 'Datascience'\n",
    "print('s' in str_var)"
   ]
  },
  {
   "cell_type": "markdown",
   "id": "263f6829",
   "metadata": {},
   "source": [
    "## 4.\tWrite a function and pass a number list as an argument to the function. And return True if the first and last number of a given list is same. If numbers are different then return False"
   ]
  },
  {
   "cell_type": "code",
   "execution_count": 51,
   "id": "344ef93a",
   "metadata": {},
   "outputs": [],
   "source": [
    "def func2(arg1):\n",
    "    if (arg1[0] == arg1[-1]):\n",
    "        return True\n",
    "    else:\n",
    "        return False\n",
    "arg1 = [3,2,5,8,9,4,5,6,3"
   ]
  },
  {
   "cell_type": "code",
   "execution_count": 52,
   "id": "f4c000fa",
   "metadata": {},
   "outputs": [
    {
     "data": {
      "text/plain": [
       "True"
      ]
     },
     "execution_count": 52,
     "metadata": {},
     "output_type": "execute_result"
    }
   ],
   "source": [
    "func2(arg1)"
   ]
  },
  {
   "cell_type": "code",
   "execution_count": 53,
   "id": "85ed1dd3",
   "metadata": {},
   "outputs": [],
   "source": [
    "def func2(arg1):\n",
    "    if (arg1[0] == arg1[-1]):\n",
    "        return True\n",
    "    else:\n",
    "        return False\n",
    "arg1 = [3,2,5,8,9,4,5,6,6]"
   ]
  },
  {
   "cell_type": "code",
   "execution_count": 54,
   "id": "8ef8bfb1",
   "metadata": {},
   "outputs": [
    {
     "data": {
      "text/plain": [
       "False"
      ]
     },
     "execution_count": 54,
     "metadata": {},
     "output_type": "execute_result"
    }
   ],
   "source": [
    "func2(arg1)"
   ]
  },
  {
   "cell_type": "markdown",
   "id": "4dc8a347",
   "metadata": {},
   "source": [
    "## 5.\tIterate the given list of numbers (l1) and print only those numbers which are divisible by 5. (l1 = [10, 20, 33, 46, 55])"
   ]
  },
  {
   "cell_type": "code",
   "execution_count": 63,
   "id": "090f325b",
   "metadata": {},
   "outputs": [
    {
     "name": "stdout",
     "output_type": "stream",
     "text": [
      "The numbers divisible by 5 are:  10\n",
      "The numbers divisible by 5 are:  20\n",
      "The numbers divisible by 5 are:  55\n"
     ]
    }
   ],
   "source": [
    "l1=[10,20,33,46,55]\n",
    "for i in l1:\n",
    "    if i % 5 == 0:\n",
    "        print('The numbers divisible by 5 are: ',i)\n"
   ]
  },
  {
   "cell_type": "markdown",
   "id": "8a8b73f9",
   "metadata": {},
   "source": [
    "## 6.\tWrite a program to create function calculation() such that it can accept two variables and calculate addition and subtraction. Also, it must return both addition and subtraction in a single return call.\n",
    "## a.\tHint: Separate return values with a comma\n"
   ]
  },
  {
   "cell_type": "code",
   "execution_count": 65,
   "id": "1632cae9",
   "metadata": {
    "scrolled": true
   },
   "outputs": [],
   "source": [
    "def calculation(a,b):\n",
    "    add = (a + b)\n",
    "    sub = (a - b)\n",
    "    return add,sub"
   ]
  },
  {
   "cell_type": "code",
   "execution_count": 68,
   "id": "415ea860",
   "metadata": {},
   "outputs": [
    {
     "data": {
      "text/plain": [
       "(50, 10)"
      ]
     },
     "execution_count": 68,
     "metadata": {},
     "output_type": "execute_result"
    }
   ],
   "source": [
    "calculation(30,20)"
   ]
  },
  {
   "cell_type": "markdown",
   "id": "e6370195",
   "metadata": {},
   "source": [
    "## 7.\tWrite a program to demonstrate the following Syntax error\n",
    "## a.\tSyntaxError: non-default argument follows default argument\n"
   ]
  },
  {
   "cell_type": "code",
   "execution_count": 73,
   "id": "69857287",
   "metadata": {},
   "outputs": [
    {
     "ename": "SyntaxError",
     "evalue": "non-default argument follows default argument (Temp/ipykernel_10932/361748042.py, line 1)",
     "output_type": "error",
     "traceback": [
      "\u001b[1;36m  File \u001b[1;32m\"C:\\Users\\MUTHUK~1\\AppData\\Local\\Temp/ipykernel_10932/361748042.py\"\u001b[1;36m, line \u001b[1;32m1\u001b[0m\n\u001b[1;33m    def default_argument(a1 = 'muthu' , a2 ):\u001b[0m\n\u001b[1;37m                                           ^\u001b[0m\n\u001b[1;31mSyntaxError\u001b[0m\u001b[1;31m:\u001b[0m non-default argument follows default argument\n"
     ]
    }
   ],
   "source": [
    "def default_argument(a1 = 'muthu' , a2 ):\n",
    "    print(\"Hello\", a1, a2)\n",
    "    "
   ]
  },
  {
   "cell_type": "markdown",
   "id": "1859e390",
   "metadata": {},
   "source": [
    "## 8.\tWhat’s recursion? Explain in your own words and write a program to create a recursive function to calculate the sum of numbers from 0 to 10"
   ]
  },
  {
   "cell_type": "code",
   "execution_count": 4,
   "id": "3009dd66",
   "metadata": {},
   "outputs": [
    {
     "name": "stdout",
     "output_type": "stream",
     "text": [
      "Recursion is a process in which a function calls itself directly or indirectly.\n"
     ]
    }
   ],
   "source": [
    "print('Recursion is a process in which a function calls itself directly or indirectly.')"
   ]
  },
  {
   "cell_type": "code",
   "execution_count": 10,
   "id": "8a62e6e7",
   "metadata": {},
   "outputs": [
    {
     "name": "stdout",
     "output_type": "stream",
     "text": [
      "Addition is  55\n"
     ]
    }
   ],
   "source": [
    "def recursion(x):\n",
    "    if (x == 0):\n",
    "        return x\n",
    "    else:\n",
    "        return (x + recursion(x-1))\n",
    "num=10\n",
    "print('Addition is ',recursion(num))\n",
    "    "
   ]
  },
  {
   "cell_type": "code",
   "execution_count": 11,
   "id": "0d8bab85",
   "metadata": {},
   "outputs": [
    {
     "data": {
      "text/plain": [
       "55"
      ]
     },
     "execution_count": 11,
     "metadata": {},
     "output_type": "execute_result"
    }
   ],
   "source": [
    "0+1+2+3+4+5+6+7+8+9+10"
   ]
  },
  {
   "cell_type": "markdown",
   "id": "33487609",
   "metadata": {},
   "source": [
    "## 9.\tUse filter and lambda function to calculate square for below numbers only if they are odd number\n",
    "## a.\t[12, 11, 53, 22, 21, 77, 87, 88, 98]\n"
   ]
  },
  {
   "cell_type": "code",
   "execution_count": 12,
   "id": "0b5c0968",
   "metadata": {},
   "outputs": [],
   "source": [
    "list1=[12,11,53,22,21,77,87,88,98]"
   ]
  },
  {
   "cell_type": "code",
   "execution_count": 29,
   "id": "e5d2d03b",
   "metadata": {},
   "outputs": [
    {
     "name": "stdout",
     "output_type": "stream",
     "text": [
      "Applying the filter operation:  [121, 2809, 441, 5929, 7569]\n"
     ]
    }
   ],
   "source": [
    "filt= list(map(lambda x: x ** 2, filter(lambda x: x % 2 != 0, list1)))\n",
    "print('Applying the filter operation: ', filt)"
   ]
  },
  {
   "cell_type": "markdown",
   "id": "df588f93",
   "metadata": {},
   "source": [
    "## only using filter"
   ]
  },
  {
   "cell_type": "code",
   "execution_count": 34,
   "id": "e1d29038",
   "metadata": {},
   "outputs": [
    {
     "name": "stdout",
     "output_type": "stream",
     "text": [
      "121\n",
      "2809\n",
      "441\n",
      "5929\n",
      "7569\n"
     ]
    }
   ],
   "source": [
    "square = lambda x:x **2\n",
    "odd = lambda x: x % 2 != 0\n",
    "filt= list(filter(odd, list1))\n",
    "for i in filt:\n",
    "    print(square(i))"
   ]
  },
  {
   "cell_type": "markdown",
   "id": "20fca5cd",
   "metadata": {},
   "source": [
    "## Write a function (not a lambda function) and use it to demonstrate an example for map function (any logical function of your choice)"
   ]
  },
  {
   "cell_type": "code",
   "execution_count": 40,
   "id": "630ac982",
   "metadata": {},
   "outputs": [
    {
     "name": "stdout",
     "output_type": "stream",
     "text": [
      "[True, True, False, False]\n"
     ]
    }
   ],
   "source": [
    "dict1 ={1:'a' , 2:'b' , 3:'c', 4:'d'}\n",
    "fil= list(map(lambda x:x < 3, dict1))\n",
    "print(fil)"
   ]
  },
  {
   "cell_type": "markdown",
   "id": "7b744d9e",
   "metadata": {},
   "source": [
    " ## Multiply function"
   ]
  },
  {
   "cell_type": "code",
   "execution_count": 51,
   "id": "f8c89220",
   "metadata": {},
   "outputs": [
    {
     "name": "stdout",
     "output_type": "stream",
     "text": [
      "[1, 4, 9, 16, 25]\n"
     ]
    }
   ],
   "source": [
    "def multiply(n):\n",
    "    return n * n\n",
    "lis=[1,2,3,4,5]\n",
    "multi=map(multiply,lis)\n",
    "print(list(multi))\n",
    "    "
   ]
  },
  {
   "cell_type": "code",
   "execution_count": null,
   "id": "1519bd0c",
   "metadata": {},
   "outputs": [],
   "source": []
  }
 ],
 "metadata": {
  "kernelspec": {
   "display_name": "Python 3 (ipykernel)",
   "language": "python",
   "name": "python3"
  },
  "language_info": {
   "codemirror_mode": {
    "name": "ipython",
    "version": 3
   },
   "file_extension": ".py",
   "mimetype": "text/x-python",
   "name": "python",
   "nbconvert_exporter": "python",
   "pygments_lexer": "ipython3",
   "version": "3.9.7"
  }
 },
 "nbformat": 4,
 "nbformat_minor": 5
}
