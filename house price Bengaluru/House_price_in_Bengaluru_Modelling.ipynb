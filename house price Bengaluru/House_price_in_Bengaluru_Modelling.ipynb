{
 "cells": [
  {
   "cell_type": "code",
   "execution_count": 1,
   "id": "4746a87b",
   "metadata": {},
   "outputs": [],
   "source": [
    "import numpy as np\n",
    "import pandas as pd\n",
    "\n",
    "from sklearn.model_selection import train_test_split\n",
    "from sklearn.linear_model import LinearRegression, Lasso, Ridge\n",
    "from sklearn.neighbors import KNeighborsRegressor\n",
    "from sklearn.tree import DecisionTreeRegressor\n",
    "from sklearn.ensemble import RandomForestRegressor, AdaBoostRegressor, VotingRegressor, StackingRegressor , GradientBoostingRegressor"
   ]
  },
  {
   "cell_type": "code",
   "execution_count": 2,
   "id": "363162a2",
   "metadata": {},
   "outputs": [],
   "source": [
    "def rmsle(y_true, y_pred):\n",
    "    return 1 - np.sqrt(np.square(np.log10(y_pred +1) - np.log10(y_true +1)).mean())"
   ]
  },
  {
   "cell_type": "code",
   "execution_count": 3,
   "id": "c55744f3",
   "metadata": {},
   "outputs": [],
   "source": [
    "train = pd.read_csv('train_preprocessed.csv')"
   ]
  },
  {
   "cell_type": "code",
   "execution_count": 4,
   "id": "fa8fadee",
   "metadata": {},
   "outputs": [
    {
     "data": {
      "text/html": [
       "<div>\n",
       "<style scoped>\n",
       "    .dataframe tbody tr th:only-of-type {\n",
       "        vertical-align: middle;\n",
       "    }\n",
       "\n",
       "    .dataframe tbody tr th {\n",
       "        vertical-align: top;\n",
       "    }\n",
       "\n",
       "    .dataframe thead th {\n",
       "        text-align: right;\n",
       "    }\n",
       "</style>\n",
       "<table border=\"1\" class=\"dataframe\">\n",
       "  <thead>\n",
       "    <tr style=\"text-align: right;\">\n",
       "      <th></th>\n",
       "      <th>availability</th>\n",
       "      <th>location</th>\n",
       "      <th>size</th>\n",
       "      <th>society</th>\n",
       "      <th>total_sqft</th>\n",
       "      <th>bath</th>\n",
       "      <th>balcony</th>\n",
       "      <th>area_type_Built-up  Area</th>\n",
       "      <th>area_type_Carpet  Area</th>\n",
       "      <th>area_type_Plot  Area</th>\n",
       "      <th>area_type_Super built-up  Area</th>\n",
       "      <th>price</th>\n",
       "    </tr>\n",
       "  </thead>\n",
       "  <tbody>\n",
       "    <tr>\n",
       "      <th>0</th>\n",
       "      <td>-1.959852</td>\n",
       "      <td>-0.696718</td>\n",
       "      <td>-0.656027</td>\n",
       "      <td>-1.670517</td>\n",
       "      <td>-0.105648</td>\n",
       "      <td>-0.518099</td>\n",
       "      <td>-0.746985</td>\n",
       "      <td>-0.471113</td>\n",
       "      <td>-0.081226</td>\n",
       "      <td>-0.426648</td>\n",
       "      <td>0.721238</td>\n",
       "      <td>39.07</td>\n",
       "    </tr>\n",
       "    <tr>\n",
       "      <th>1</th>\n",
       "      <td>0.510243</td>\n",
       "      <td>-0.974577</td>\n",
       "      <td>0.997617</td>\n",
       "      <td>0.612839</td>\n",
       "      <td>0.009227</td>\n",
       "      <td>1.718585</td>\n",
       "      <td>1.737760</td>\n",
       "      <td>-0.471113</td>\n",
       "      <td>-0.081226</td>\n",
       "      <td>2.343851</td>\n",
       "      <td>-1.386504</td>\n",
       "      <td>120.00</td>\n",
       "    </tr>\n",
       "    <tr>\n",
       "      <th>2</th>\n",
       "      <td>0.510243</td>\n",
       "      <td>1.391193</td>\n",
       "      <td>0.170795</td>\n",
       "      <td>0.902510</td>\n",
       "      <td>-0.077078</td>\n",
       "      <td>-0.518099</td>\n",
       "      <td>1.737760</td>\n",
       "      <td>2.122635</td>\n",
       "      <td>-0.081226</td>\n",
       "      <td>-0.426648</td>\n",
       "      <td>-1.386504</td>\n",
       "      <td>62.00</td>\n",
       "    </tr>\n",
       "    <tr>\n",
       "      <th>3</th>\n",
       "      <td>0.510243</td>\n",
       "      <td>0.224186</td>\n",
       "      <td>0.170795</td>\n",
       "      <td>0.320973</td>\n",
       "      <td>-0.071052</td>\n",
       "      <td>0.227462</td>\n",
       "      <td>-0.746985</td>\n",
       "      <td>-0.471113</td>\n",
       "      <td>-0.081226</td>\n",
       "      <td>-0.426648</td>\n",
       "      <td>0.721238</td>\n",
       "      <td>95.00</td>\n",
       "    </tr>\n",
       "    <tr>\n",
       "      <th>4</th>\n",
       "      <td>0.510243</td>\n",
       "      <td>0.113042</td>\n",
       "      <td>-0.656027</td>\n",
       "      <td>0.902510</td>\n",
       "      <td>-0.094934</td>\n",
       "      <td>-0.518099</td>\n",
       "      <td>-0.746985</td>\n",
       "      <td>-0.471113</td>\n",
       "      <td>-0.081226</td>\n",
       "      <td>-0.426648</td>\n",
       "      <td>0.721238</td>\n",
       "      <td>51.00</td>\n",
       "    </tr>\n",
       "  </tbody>\n",
       "</table>\n",
       "</div>"
      ],
      "text/plain": [
       "   availability  location      size   society  total_sqft      bath   balcony  \\\n",
       "0     -1.959852 -0.696718 -0.656027 -1.670517   -0.105648 -0.518099 -0.746985   \n",
       "1      0.510243 -0.974577  0.997617  0.612839    0.009227  1.718585  1.737760   \n",
       "2      0.510243  1.391193  0.170795  0.902510   -0.077078 -0.518099  1.737760   \n",
       "3      0.510243  0.224186  0.170795  0.320973   -0.071052  0.227462 -0.746985   \n",
       "4      0.510243  0.113042 -0.656027  0.902510   -0.094934 -0.518099 -0.746985   \n",
       "\n",
       "   area_type_Built-up  Area  area_type_Carpet  Area  area_type_Plot  Area  \\\n",
       "0                 -0.471113               -0.081226             -0.426648   \n",
       "1                 -0.471113               -0.081226              2.343851   \n",
       "2                  2.122635               -0.081226             -0.426648   \n",
       "3                 -0.471113               -0.081226             -0.426648   \n",
       "4                 -0.471113               -0.081226             -0.426648   \n",
       "\n",
       "   area_type_Super built-up  Area   price  \n",
       "0                        0.721238   39.07  \n",
       "1                       -1.386504  120.00  \n",
       "2                       -1.386504   62.00  \n",
       "3                        0.721238   95.00  \n",
       "4                        0.721238   51.00  "
      ]
     },
     "execution_count": 4,
     "metadata": {},
     "output_type": "execute_result"
    }
   ],
   "source": [
    "train.head()"
   ]
  },
  {
   "cell_type": "code",
   "execution_count": 5,
   "id": "7f6ee6b8",
   "metadata": {},
   "outputs": [
    {
     "data": {
      "text/plain": [
       "availability                      0\n",
       "location                          0\n",
       "size                              0\n",
       "society                           0\n",
       "total_sqft                        0\n",
       "bath                              0\n",
       "balcony                           0\n",
       "area_type_Built-up  Area          0\n",
       "area_type_Carpet  Area            0\n",
       "area_type_Plot  Area              0\n",
       "area_type_Super built-up  Area    0\n",
       "price                             0\n",
       "dtype: int64"
      ]
     },
     "execution_count": 5,
     "metadata": {},
     "output_type": "execute_result"
    }
   ],
   "source": [
    "train.isna().sum()"
   ]
  },
  {
   "cell_type": "code",
   "execution_count": 7,
   "id": "4ed30b12",
   "metadata": {},
   "outputs": [],
   "source": [
    "test = pd.read_csv('test_preprocessed.csv')"
   ]
  },
  {
   "cell_type": "code",
   "execution_count": 8,
   "id": "85b376c3",
   "metadata": {},
   "outputs": [
    {
     "data": {
      "text/html": [
       "<div>\n",
       "<style scoped>\n",
       "    .dataframe tbody tr th:only-of-type {\n",
       "        vertical-align: middle;\n",
       "    }\n",
       "\n",
       "    .dataframe tbody tr th {\n",
       "        vertical-align: top;\n",
       "    }\n",
       "\n",
       "    .dataframe thead th {\n",
       "        text-align: right;\n",
       "    }\n",
       "</style>\n",
       "<table border=\"1\" class=\"dataframe\">\n",
       "  <thead>\n",
       "    <tr style=\"text-align: right;\">\n",
       "      <th></th>\n",
       "      <th>availability</th>\n",
       "      <th>location</th>\n",
       "      <th>size</th>\n",
       "      <th>society</th>\n",
       "      <th>total_sqft</th>\n",
       "      <th>bath</th>\n",
       "      <th>balcony</th>\n",
       "      <th>area_type_Built-up  Area</th>\n",
       "      <th>area_type_Carpet  Area</th>\n",
       "      <th>area_type_Plot  Area</th>\n",
       "      <th>area_type_Super built-up  Area</th>\n",
       "    </tr>\n",
       "  </thead>\n",
       "  <tbody>\n",
       "    <tr>\n",
       "      <th>0</th>\n",
       "      <td>0.510243</td>\n",
       "      <td>-1.083074</td>\n",
       "      <td>-0.656027</td>\n",
       "      <td>-0.147548</td>\n",
       "      <td>-0.093074</td>\n",
       "      <td>-0.518099</td>\n",
       "      <td>0.495387</td>\n",
       "      <td>-0.471113</td>\n",
       "      <td>-0.081226</td>\n",
       "      <td>-0.426648</td>\n",
       "      <td>0.721238</td>\n",
       "    </tr>\n",
       "    <tr>\n",
       "      <th>1</th>\n",
       "      <td>0.510243</td>\n",
       "      <td>-1.562050</td>\n",
       "      <td>5.131728</td>\n",
       "      <td>0.902510</td>\n",
       "      <td>-0.005653</td>\n",
       "      <td>4.700830</td>\n",
       "      <td>0.495387</td>\n",
       "      <td>-0.471113</td>\n",
       "      <td>-0.081226</td>\n",
       "      <td>2.343851</td>\n",
       "      <td>-1.386504</td>\n",
       "    </tr>\n",
       "    <tr>\n",
       "      <th>2</th>\n",
       "      <td>-1.959852</td>\n",
       "      <td>-0.421505</td>\n",
       "      <td>0.997617</td>\n",
       "      <td>0.021427</td>\n",
       "      <td>-0.061454</td>\n",
       "      <td>1.718585</td>\n",
       "      <td>0.495387</td>\n",
       "      <td>-0.471113</td>\n",
       "      <td>-0.081226</td>\n",
       "      <td>2.343851</td>\n",
       "      <td>-1.386504</td>\n",
       "    </tr>\n",
       "    <tr>\n",
       "      <th>3</th>\n",
       "      <td>0.510243</td>\n",
       "      <td>0.073348</td>\n",
       "      <td>0.170795</td>\n",
       "      <td>0.884954</td>\n",
       "      <td>-0.085857</td>\n",
       "      <td>0.227462</td>\n",
       "      <td>-0.746985</td>\n",
       "      <td>-0.471113</td>\n",
       "      <td>-0.081226</td>\n",
       "      <td>-0.426648</td>\n",
       "      <td>0.721238</td>\n",
       "    </tr>\n",
       "    <tr>\n",
       "      <th>4</th>\n",
       "      <td>0.510243</td>\n",
       "      <td>0.089226</td>\n",
       "      <td>-0.656027</td>\n",
       "      <td>-2.056746</td>\n",
       "      <td>-0.097836</td>\n",
       "      <td>-0.518099</td>\n",
       "      <td>-0.746985</td>\n",
       "      <td>-0.471113</td>\n",
       "      <td>-0.081226</td>\n",
       "      <td>-0.426648</td>\n",
       "      <td>0.721238</td>\n",
       "    </tr>\n",
       "  </tbody>\n",
       "</table>\n",
       "</div>"
      ],
      "text/plain": [
       "   availability  location      size   society  total_sqft      bath   balcony  \\\n",
       "0      0.510243 -1.083074 -0.656027 -0.147548   -0.093074 -0.518099  0.495387   \n",
       "1      0.510243 -1.562050  5.131728  0.902510   -0.005653  4.700830  0.495387   \n",
       "2     -1.959852 -0.421505  0.997617  0.021427   -0.061454  1.718585  0.495387   \n",
       "3      0.510243  0.073348  0.170795  0.884954   -0.085857  0.227462 -0.746985   \n",
       "4      0.510243  0.089226 -0.656027 -2.056746   -0.097836 -0.518099 -0.746985   \n",
       "\n",
       "   area_type_Built-up  Area  area_type_Carpet  Area  area_type_Plot  Area  \\\n",
       "0                 -0.471113               -0.081226             -0.426648   \n",
       "1                 -0.471113               -0.081226              2.343851   \n",
       "2                 -0.471113               -0.081226              2.343851   \n",
       "3                 -0.471113               -0.081226             -0.426648   \n",
       "4                 -0.471113               -0.081226             -0.426648   \n",
       "\n",
       "   area_type_Super built-up  Area  \n",
       "0                        0.721238  \n",
       "1                       -1.386504  \n",
       "2                       -1.386504  \n",
       "3                        0.721238  \n",
       "4                        0.721238  "
      ]
     },
     "execution_count": 8,
     "metadata": {},
     "output_type": "execute_result"
    }
   ],
   "source": [
    "test.head()"
   ]
  },
  {
   "cell_type": "code",
   "execution_count": 9,
   "id": "3d81707f",
   "metadata": {},
   "outputs": [],
   "source": [
    "X =train.drop(columns='price')"
   ]
  },
  {
   "cell_type": "code",
   "execution_count": 10,
   "id": "d2dfedf0",
   "metadata": {},
   "outputs": [],
   "source": [
    "y =train['price']"
   ]
  },
  {
   "cell_type": "code",
   "execution_count": 11,
   "id": "837ef594",
   "metadata": {},
   "outputs": [
    {
     "data": {
      "text/plain": [
       "(13319,)"
      ]
     },
     "execution_count": 11,
     "metadata": {},
     "output_type": "execute_result"
    }
   ],
   "source": [
    "y.shape"
   ]
  },
  {
   "cell_type": "code",
   "execution_count": 31,
   "id": "4c46d666",
   "metadata": {},
   "outputs": [],
   "source": [
    "train_X, test_X,train_y, test_y  =train_test_split(X,y,random_state=102,test_size=0.25)"
   ]
  },
  {
   "cell_type": "code",
   "execution_count": 13,
   "id": "156e54ab",
   "metadata": {},
   "outputs": [
    {
     "data": {
      "text/plain": [
       "availability                      0\n",
       "location                          0\n",
       "size                              0\n",
       "society                           0\n",
       "total_sqft                        0\n",
       "bath                              0\n",
       "balcony                           0\n",
       "area_type_Built-up  Area          0\n",
       "area_type_Carpet  Area            0\n",
       "area_type_Plot  Area              0\n",
       "area_type_Super built-up  Area    0\n",
       "dtype: int64"
      ]
     },
     "execution_count": 13,
     "metadata": {},
     "output_type": "execute_result"
    }
   ],
   "source": [
    "train_X.isna().sum()"
   ]
  },
  {
   "cell_type": "code",
   "execution_count": 32,
   "id": "29a498e9",
   "metadata": {},
   "outputs": [],
   "source": [
    "def run_model(model, train_X , train_y , test_X , test_y, test ,X, y,  filename):\n",
    "    print(model)\n",
    "    model.fit(train_X, train_y)\n",
    "    train_pred = model.predict(train_X)\n",
    "    print('train_rmsle:', rmsle(train_y , train_pred))\n",
    "    test_pred = model.predict(test_X)\n",
    "    print('test_rmsle:', rmsle(test_y , test_pred))\n",
    "    model.fit(X,y)\n",
    "    pred = model.predict(test)\n",
    "    res =pd.DataFrame(pred, columns=['price'])\n",
    "    res.to_csv(filename, index=False)"
   ]
  },
  {
   "cell_type": "code",
   "execution_count": 15,
   "id": "23045186",
   "metadata": {},
   "outputs": [
    {
     "name": "stdout",
     "output_type": "stream",
     "text": [
      "LinearRegression()\n",
      "train_rmsle: 0.7607703330910434\n",
      "test_rmsle: 0.7537030486005594\n"
     ]
    },
    {
     "name": "stderr",
     "output_type": "stream",
     "text": [
      "C:\\Users\\MUTHUK~1\\AppData\\Local\\Temp/ipykernel_9280/986885743.py:2: RuntimeWarning: invalid value encountered in log10\n",
      "  return 1 - np.sqrt(np.square(np.log10(y_pred +1) - np.log10(y_true +1)).mean())\n"
     ]
    }
   ],
   "source": [
    "linearreg = LinearRegression()\n",
    "run_model(linearreg, train_X , train_y , test_X , test_y, test ,X, y,  'bengaluru_houseprice_linearreg.csv')"
   ]
  },
  {
   "cell_type": "code",
   "execution_count": 16,
   "id": "c79a151f",
   "metadata": {},
   "outputs": [
    {
     "name": "stdout",
     "output_type": "stream",
     "text": [
      "Lasso()\n",
      "train_rmsle: 0.7641806497209663\n",
      "test_rmsle: 0.7578027106428507\n"
     ]
    }
   ],
   "source": [
    "lasso = Lasso()\n",
    "run_model(lasso, train_X , train_y , test_X , test_y, test ,X, y,  'bengaluru_houseprice_lasso.csv')"
   ]
  },
  {
   "cell_type": "code",
   "execution_count": 17,
   "id": "40c78140",
   "metadata": {},
   "outputs": [
    {
     "name": "stdout",
     "output_type": "stream",
     "text": [
      "Ridge()\n",
      "train_rmsle: 0.7607737487477286\n",
      "test_rmsle: 0.7537066769043927\n"
     ]
    },
    {
     "name": "stderr",
     "output_type": "stream",
     "text": [
      "C:\\Users\\MUTHUK~1\\AppData\\Local\\Temp/ipykernel_9280/986885743.py:2: RuntimeWarning: invalid value encountered in log10\n",
      "  return 1 - np.sqrt(np.square(np.log10(y_pred +1) - np.log10(y_true +1)).mean())\n"
     ]
    }
   ],
   "source": [
    "ridge = Ridge()\n",
    "run_model(ridge, train_X , train_y , test_X , test_y, test ,X, y,  'bengaluru_houseprice_ridge.csv')"
   ]
  },
  {
   "cell_type": "code",
   "execution_count": 18,
   "id": "2325399e",
   "metadata": {},
   "outputs": [
    {
     "name": "stdout",
     "output_type": "stream",
     "text": [
      "KNeighborsRegressor()\n",
      "train_rmsle: 0.8366819472499762\n",
      "test_rmsle: 0.7825143021086259\n"
     ]
    }
   ],
   "source": [
    "knn =KNeighborsRegressor()\n",
    "run_model(knn, train_X , train_y , test_X , test_y, test ,X, y,  'bengaluru_houseprice_decisiontree.csv')"
   ]
  },
  {
   "cell_type": "code",
   "execution_count": 19,
   "id": "df80bef5",
   "metadata": {},
   "outputs": [
    {
     "name": "stdout",
     "output_type": "stream",
     "text": [
      "DecisionTreeRegressor()\n",
      "train_rmsle: 0.9862827469325843\n",
      "test_rmsle: 0.8028363605904483\n"
     ]
    }
   ],
   "source": [
    "DecisionTree = DecisionTreeRegressor()\n",
    "run_model(DecisionTree, train_X , train_y , test_X , test_y, test ,X, y,  'bengaluru_houseprice_decisiontree.csv')"
   ]
  },
  {
   "cell_type": "code",
   "execution_count": 34,
   "id": "927c0319",
   "metadata": {},
   "outputs": [
    {
     "name": "stdout",
     "output_type": "stream",
     "text": [
      "RandomForestRegressor(min_samples_leaf=2, n_estimators=200)\n",
      "train_rmsle: 0.9138256021711614\n",
      "test_rmsle: 0.8534870642414528\n"
     ]
    }
   ],
   "source": [
    "Randomforest = RandomForestRegressor(min_samples_leaf=2, n_estimators=200)\n",
    "run_model(Randomforest, train_X , train_y , test_X , test_y, test ,X, y,  'bengaluru_houseprice_randomforest.csv')"
   ]
  },
  {
   "cell_type": "code",
   "execution_count": null,
   "id": "7b81890c",
   "metadata": {},
   "outputs": [],
   "source": [
    "Gradient =GradientBoostingRegressor(min_samples_leaf=2, n_estimators=200)\n",
    "run_model(Gradient, train_X , train_y , test_X , test_y, test ,X, y,  'bengaluru_houseprice_gradientboost.csv')"
   ]
  },
  {
   "cell_type": "code",
   "execution_count": null,
   "id": "a3283515",
   "metadata": {},
   "outputs": [],
   "source": [
    "Adaboost =AdaBoostRegressor()\n",
    "run_model(Adaboost, train_X , train_y , test_X , test_y, test ,X, y,  'bengaluru_houseprice_adaboost.csv')"
   ]
  },
  {
   "cell_type": "code",
   "execution_count": null,
   "id": "eea99fe5",
   "metadata": {},
   "outputs": [],
   "source": [
    "from sklearn.model_selection import RandomizedSearchCV,GridSearchCV"
   ]
  },
  {
   "cell_type": "code",
   "execution_count": null,
   "id": "68ce99f3",
   "metadata": {},
   "outputs": [],
   "source": [
    "parameters = [{'n_estimators':[25,50,75,100,150,200,250],'max_depth':[1,2,3,4,5,6,7,8,9,10,None],'min_samples_leaf':[1,2,3,4,5,6,7,8,9,10,11]}]"
   ]
  },
  {
   "cell_type": "code",
   "execution_count": null,
   "id": "e4b277ef",
   "metadata": {},
   "outputs": [],
   "source": [
    "%%time\n",
    "model =RandomForestRegressor()\n",
    "randomsearch = RandomizedSearchCV(model, parameters, verbose =1 ,cv=5, scoring ='neg_mean_absolute_error' )\n",
    "randomsearch.fit(train_X, train_y)"
   ]
  },
  {
   "cell_type": "code",
   "execution_count": null,
   "id": "e4574eca",
   "metadata": {},
   "outputs": [],
   "source": [
    "randomsearch.best_score_"
   ]
  },
  {
   "cell_type": "code",
   "execution_count": null,
   "id": "ac0c0254",
   "metadata": {},
   "outputs": [],
   "source": [
    "randomsearch.best_estimator_"
   ]
  },
  {
   "cell_type": "code",
   "execution_count": null,
   "id": "fefbdd3a",
   "metadata": {},
   "outputs": [],
   "source": [
    "train_pred = randomsearch.predict(train_X)\n",
    "rmsle(train_y , train_pred)"
   ]
  },
  {
   "cell_type": "code",
   "execution_count": null,
   "id": "dcfd7b6c",
   "metadata": {},
   "outputs": [],
   "source": [
    "test_pred = randomsearch.predict(test_X)\n",
    "rmsle(test_y , test_pred)"
   ]
  },
  {
   "cell_type": "code",
   "execution_count": null,
   "id": "1cdc7f49",
   "metadata": {},
   "outputs": [],
   "source": [
    "model1 =DecisionTreeRegressor()\n",
    "model2 =KNeighborsRegressor()\n",
    "model3 = GradientBoostingRegressor()\n",
    "voting = VotingRegressor(estimators=[('dt', model1),('rf',model2),('gra',model3)])"
   ]
  },
  {
   "cell_type": "code",
   "execution_count": null,
   "id": "e52690f2",
   "metadata": {},
   "outputs": [],
   "source": [
    "run_model(voting,train_X,train_y,test_X,test_y,X,y,test,'bengaluru_houseprice_voting.csv')"
   ]
  },
  {
   "cell_type": "code",
   "execution_count": null,
   "id": "ad301eae",
   "metadata": {},
   "outputs": [],
   "source": [
    "final_estimator = RandomForestRegressor()"
   ]
  },
  {
   "cell_type": "code",
   "execution_count": null,
   "id": "fecd2106",
   "metadata": {},
   "outputs": [],
   "source": [
    "estimators=[('dt', model1),('rf',model2),('gra',model3)]"
   ]
  },
  {
   "cell_type": "code",
   "execution_count": null,
   "id": "0a92f8f3",
   "metadata": {},
   "outputs": [],
   "source": [
    "stack =StackingRegressor(estimators=estimators, final_estimator=final_estimator)"
   ]
  },
  {
   "cell_type": "code",
   "execution_count": null,
   "id": "28d913ae",
   "metadata": {},
   "outputs": [],
   "source": [
    "run_model(stack,train_X,train_y,test_X,test_y,X,y,test,'flight_price_stack.csv')"
   ]
  },
  {
   "cell_type": "code",
   "execution_count": null,
   "id": "ebeed094",
   "metadata": {},
   "outputs": [],
   "source": []
  }
 ],
 "metadata": {
  "kernelspec": {
   "display_name": "Python 3 (ipykernel)",
   "language": "python",
   "name": "python3"
  },
  "language_info": {
   "codemirror_mode": {
    "name": "ipython",
    "version": 3
   },
   "file_extension": ".py",
   "mimetype": "text/x-python",
   "name": "python",
   "nbconvert_exporter": "python",
   "pygments_lexer": "ipython3",
   "version": "3.9.7"
  }
 },
 "nbformat": 4,
 "nbformat_minor": 5
}
