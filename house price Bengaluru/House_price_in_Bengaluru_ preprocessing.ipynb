{
 "cells": [
  {
   "cell_type": "code",
   "execution_count": 161,
   "id": "195f86ae",
   "metadata": {},
   "outputs": [],
   "source": [
    "import numpy as np\n",
    "import pandas as pd\n",
    "import re\n",
    "import matplotlib.pyplot as plt\n",
    "import seaborn as sns"
   ]
  },
  {
   "cell_type": "code",
   "execution_count": 131,
   "id": "c02bf803",
   "metadata": {},
   "outputs": [],
   "source": [
    "train = pd.read_csv(r'E:\\INCEPTEZ\\Training\\Basics_python\\house_price_bengaluru\\Data\\Train.csv')\n"
   ]
  },
  {
   "cell_type": "code",
   "execution_count": 132,
   "id": "89d9620e",
   "metadata": {},
   "outputs": [],
   "source": [
    "test = pd.read_csv(r'E:\\INCEPTEZ\\Training\\Basics_python\\house_price_bengaluru\\Data\\Test.csv')"
   ]
  },
  {
   "cell_type": "code",
   "execution_count": 133,
   "id": "e4678e61",
   "metadata": {},
   "outputs": [
    {
     "data": {
      "text/plain": [
       "((13320, 9), (1480, 9))"
      ]
     },
     "execution_count": 133,
     "metadata": {},
     "output_type": "execute_result"
    }
   ],
   "source": [
    "train.shape , test.shape"
   ]
  },
  {
   "cell_type": "code",
   "execution_count": 134,
   "id": "6a107ec1",
   "metadata": {},
   "outputs": [
    {
     "name": "stdout",
     "output_type": "stream",
     "text": [
      "<class 'pandas.core.frame.DataFrame'>\n",
      "RangeIndex: 13320 entries, 0 to 13319\n",
      "Data columns (total 9 columns):\n",
      " #   Column        Non-Null Count  Dtype  \n",
      "---  ------        --------------  -----  \n",
      " 0   area_type     13320 non-null  object \n",
      " 1   availability  13320 non-null  object \n",
      " 2   location      13319 non-null  object \n",
      " 3   size          13304 non-null  object \n",
      " 4   society       7818 non-null   object \n",
      " 5   total_sqft    13320 non-null  object \n",
      " 6   bath          13247 non-null  float64\n",
      " 7   balcony       12711 non-null  float64\n",
      " 8   price         13320 non-null  float64\n",
      "dtypes: float64(3), object(6)\n",
      "memory usage: 936.7+ KB\n"
     ]
    }
   ],
   "source": [
    "train.info()"
   ]
  },
  {
   "cell_type": "code",
   "execution_count": 162,
   "id": "4ef4df5c",
   "metadata": {},
   "outputs": [
    {
     "data": {
      "text/html": [
       "<div>\n",
       "<style scoped>\n",
       "    .dataframe tbody tr th:only-of-type {\n",
       "        vertical-align: middle;\n",
       "    }\n",
       "\n",
       "    .dataframe tbody tr th {\n",
       "        vertical-align: top;\n",
       "    }\n",
       "\n",
       "    .dataframe thead th {\n",
       "        text-align: right;\n",
       "    }\n",
       "</style>\n",
       "<table border=\"1\" class=\"dataframe\">\n",
       "  <thead>\n",
       "    <tr style=\"text-align: right;\">\n",
       "      <th></th>\n",
       "      <th>area_type</th>\n",
       "      <th>availability</th>\n",
       "      <th>location</th>\n",
       "      <th>size</th>\n",
       "      <th>society</th>\n",
       "      <th>total_sqft</th>\n",
       "      <th>bath</th>\n",
       "      <th>balcony</th>\n",
       "      <th>price</th>\n",
       "      <th>source</th>\n",
       "    </tr>\n",
       "  </thead>\n",
       "  <tbody>\n",
       "    <tr>\n",
       "      <th>0</th>\n",
       "      <td>Super built-up  Area</td>\n",
       "      <td>19-Dec</td>\n",
       "      <td>Electronic City Phase II</td>\n",
       "      <td>2 BHK</td>\n",
       "      <td>Coomee</td>\n",
       "      <td>1056</td>\n",
       "      <td>2.0</td>\n",
       "      <td>1.0</td>\n",
       "      <td>39.07</td>\n",
       "      <td>train</td>\n",
       "    </tr>\n",
       "    <tr>\n",
       "      <th>1</th>\n",
       "      <td>Plot  Area</td>\n",
       "      <td>Ready To Move</td>\n",
       "      <td>Chikka Tirupathi</td>\n",
       "      <td>4 Bedroom</td>\n",
       "      <td>Theanmp</td>\n",
       "      <td>2600</td>\n",
       "      <td>5.0</td>\n",
       "      <td>3.0</td>\n",
       "      <td>120.00</td>\n",
       "      <td>train</td>\n",
       "    </tr>\n",
       "    <tr>\n",
       "      <th>2</th>\n",
       "      <td>Built-up  Area</td>\n",
       "      <td>Ready To Move</td>\n",
       "      <td>Uttarahalli</td>\n",
       "      <td>3 BHK</td>\n",
       "      <td>NaN</td>\n",
       "      <td>1440</td>\n",
       "      <td>2.0</td>\n",
       "      <td>3.0</td>\n",
       "      <td>62.00</td>\n",
       "      <td>train</td>\n",
       "    </tr>\n",
       "    <tr>\n",
       "      <th>3</th>\n",
       "      <td>Super built-up  Area</td>\n",
       "      <td>Ready To Move</td>\n",
       "      <td>Lingadheeranahalli</td>\n",
       "      <td>3 BHK</td>\n",
       "      <td>Soiewre</td>\n",
       "      <td>1521</td>\n",
       "      <td>3.0</td>\n",
       "      <td>1.0</td>\n",
       "      <td>95.00</td>\n",
       "      <td>train</td>\n",
       "    </tr>\n",
       "    <tr>\n",
       "      <th>4</th>\n",
       "      <td>Super built-up  Area</td>\n",
       "      <td>Ready To Move</td>\n",
       "      <td>Kothanur</td>\n",
       "      <td>2 BHK</td>\n",
       "      <td>NaN</td>\n",
       "      <td>1200</td>\n",
       "      <td>2.0</td>\n",
       "      <td>1.0</td>\n",
       "      <td>51.00</td>\n",
       "      <td>train</td>\n",
       "    </tr>\n",
       "  </tbody>\n",
       "</table>\n",
       "</div>"
      ],
      "text/plain": [
       "              area_type   availability                  location       size  \\\n",
       "0  Super built-up  Area         19-Dec  Electronic City Phase II      2 BHK   \n",
       "1            Plot  Area  Ready To Move          Chikka Tirupathi  4 Bedroom   \n",
       "2        Built-up  Area  Ready To Move               Uttarahalli      3 BHK   \n",
       "3  Super built-up  Area  Ready To Move        Lingadheeranahalli      3 BHK   \n",
       "4  Super built-up  Area  Ready To Move                  Kothanur      2 BHK   \n",
       "\n",
       "   society total_sqft  bath  balcony   price source  \n",
       "0  Coomee        1056   2.0      1.0   39.07  train  \n",
       "1  Theanmp       2600   5.0      3.0  120.00  train  \n",
       "2      NaN       1440   2.0      3.0   62.00  train  \n",
       "3  Soiewre       1521   3.0      1.0   95.00  train  \n",
       "4      NaN       1200   2.0      1.0   51.00  train  "
      ]
     },
     "execution_count": 162,
     "metadata": {},
     "output_type": "execute_result"
    }
   ],
   "source": [
    "train.head()"
   ]
  },
  {
   "cell_type": "code",
   "execution_count": 135,
   "id": "d32883db",
   "metadata": {},
   "outputs": [],
   "source": [
    "train['source']='train'\n",
    "test['source']='test'"
   ]
  },
  {
   "cell_type": "code",
   "execution_count": 136,
   "id": "63a514fa",
   "metadata": {},
   "outputs": [],
   "source": [
    "data =pd.concat([train,test])"
   ]
  },
  {
   "cell_type": "code",
   "execution_count": 137,
   "id": "943ca4f0",
   "metadata": {},
   "outputs": [],
   "source": [
    "data = data.reset_index(drop=True)"
   ]
  },
  {
   "cell_type": "code",
   "execution_count": 138,
   "id": "8649c54f",
   "metadata": {},
   "outputs": [
    {
     "data": {
      "text/plain": [
       "(14800, 10)"
      ]
     },
     "execution_count": 138,
     "metadata": {},
     "output_type": "execute_result"
    }
   ],
   "source": [
    "data.shape"
   ]
  },
  {
   "cell_type": "code",
   "execution_count": 139,
   "id": "0f074aae",
   "metadata": {},
   "outputs": [
    {
     "data": {
      "text/html": [
       "<div>\n",
       "<style scoped>\n",
       "    .dataframe tbody tr th:only-of-type {\n",
       "        vertical-align: middle;\n",
       "    }\n",
       "\n",
       "    .dataframe tbody tr th {\n",
       "        vertical-align: top;\n",
       "    }\n",
       "\n",
       "    .dataframe thead th {\n",
       "        text-align: right;\n",
       "    }\n",
       "</style>\n",
       "<table border=\"1\" class=\"dataframe\">\n",
       "  <thead>\n",
       "    <tr style=\"text-align: right;\">\n",
       "      <th></th>\n",
       "      <th>area_type</th>\n",
       "      <th>availability</th>\n",
       "      <th>location</th>\n",
       "      <th>size</th>\n",
       "      <th>society</th>\n",
       "      <th>total_sqft</th>\n",
       "      <th>bath</th>\n",
       "      <th>balcony</th>\n",
       "      <th>price</th>\n",
       "      <th>source</th>\n",
       "    </tr>\n",
       "  </thead>\n",
       "  <tbody>\n",
       "    <tr>\n",
       "      <th>14799</th>\n",
       "      <td>Built-up  Area</td>\n",
       "      <td>Ready To Move</td>\n",
       "      <td>7th Phase JP Nagar</td>\n",
       "      <td>2 BHK</td>\n",
       "      <td>MaicaRS</td>\n",
       "      <td>1150</td>\n",
       "      <td>2.0</td>\n",
       "      <td>2.0</td>\n",
       "      <td>NaN</td>\n",
       "      <td>test</td>\n",
       "    </tr>\n",
       "  </tbody>\n",
       "</table>\n",
       "</div>"
      ],
      "text/plain": [
       "            area_type   availability            location   size  society  \\\n",
       "14799  Built-up  Area  Ready To Move  7th Phase JP Nagar  2 BHK  MaicaRS   \n",
       "\n",
       "      total_sqft  bath  balcony  price source  \n",
       "14799       1150   2.0      2.0    NaN   test  "
      ]
     },
     "metadata": {},
     "output_type": "display_data"
    },
    {
     "data": {
      "text/html": [
       "<div>\n",
       "<style scoped>\n",
       "    .dataframe tbody tr th:only-of-type {\n",
       "        vertical-align: middle;\n",
       "    }\n",
       "\n",
       "    .dataframe tbody tr th {\n",
       "        vertical-align: top;\n",
       "    }\n",
       "\n",
       "    .dataframe thead th {\n",
       "        text-align: right;\n",
       "    }\n",
       "</style>\n",
       "<table border=\"1\" class=\"dataframe\">\n",
       "  <thead>\n",
       "    <tr style=\"text-align: right;\">\n",
       "      <th></th>\n",
       "      <th>area_type</th>\n",
       "      <th>availability</th>\n",
       "      <th>location</th>\n",
       "      <th>size</th>\n",
       "      <th>society</th>\n",
       "      <th>total_sqft</th>\n",
       "      <th>bath</th>\n",
       "      <th>balcony</th>\n",
       "      <th>price</th>\n",
       "      <th>source</th>\n",
       "    </tr>\n",
       "  </thead>\n",
       "  <tbody>\n",
       "    <tr>\n",
       "      <th>0</th>\n",
       "      <td>Super built-up  Area</td>\n",
       "      <td>19-Dec</td>\n",
       "      <td>Electronic City Phase II</td>\n",
       "      <td>2 BHK</td>\n",
       "      <td>Coomee</td>\n",
       "      <td>1056</td>\n",
       "      <td>2.0</td>\n",
       "      <td>1.0</td>\n",
       "      <td>39.07</td>\n",
       "      <td>train</td>\n",
       "    </tr>\n",
       "  </tbody>\n",
       "</table>\n",
       "</div>"
      ],
      "text/plain": [
       "              area_type availability                  location   size  \\\n",
       "0  Super built-up  Area       19-Dec  Electronic City Phase II  2 BHK   \n",
       "\n",
       "   society total_sqft  bath  balcony  price source  \n",
       "0  Coomee        1056   2.0      1.0  39.07  train  "
      ]
     },
     "metadata": {},
     "output_type": "display_data"
    },
    {
     "data": {
      "text/plain": [
       "None"
      ]
     },
     "metadata": {},
     "output_type": "display_data"
    }
   ],
   "source": [
    "display((data.head(1)), display(data.tail(1)))"
   ]
  },
  {
   "cell_type": "markdown",
   "id": "3d867abe",
   "metadata": {},
   "source": [
    "### Data Cleaning"
   ]
  },
  {
   "cell_type": "code",
   "execution_count": 140,
   "id": "047c81b0",
   "metadata": {},
   "outputs": [
    {
     "data": {
      "text/plain": [
       "area_type          0\n",
       "availability       0\n",
       "location           1\n",
       "size              18\n",
       "society         6128\n",
       "total_sqft         0\n",
       "bath              80\n",
       "balcony          678\n",
       "price           1480\n",
       "source             0\n",
       "dtype: int64"
      ]
     },
     "execution_count": 140,
     "metadata": {},
     "output_type": "execute_result"
    }
   ],
   "source": [
    "data.isna().sum()"
   ]
  },
  {
   "cell_type": "code",
   "execution_count": 141,
   "id": "b46cfefe",
   "metadata": {
    "scrolled": true
   },
   "outputs": [
    {
     "data": {
      "text/html": [
       "<div>\n",
       "<style scoped>\n",
       "    .dataframe tbody tr th:only-of-type {\n",
       "        vertical-align: middle;\n",
       "    }\n",
       "\n",
       "    .dataframe tbody tr th {\n",
       "        vertical-align: top;\n",
       "    }\n",
       "\n",
       "    .dataframe thead th {\n",
       "        text-align: right;\n",
       "    }\n",
       "</style>\n",
       "<table border=\"1\" class=\"dataframe\">\n",
       "  <thead>\n",
       "    <tr style=\"text-align: right;\">\n",
       "      <th></th>\n",
       "      <th>area_type</th>\n",
       "      <th>availability</th>\n",
       "      <th>location</th>\n",
       "      <th>size</th>\n",
       "      <th>society</th>\n",
       "      <th>total_sqft</th>\n",
       "      <th>bath</th>\n",
       "      <th>balcony</th>\n",
       "      <th>price</th>\n",
       "      <th>source</th>\n",
       "    </tr>\n",
       "  </thead>\n",
       "  <tbody>\n",
       "    <tr>\n",
       "      <th>0</th>\n",
       "      <td>Super built-up  Area</td>\n",
       "      <td>19-Dec</td>\n",
       "      <td>Electronic City Phase II</td>\n",
       "      <td>2 BHK</td>\n",
       "      <td>Coomee</td>\n",
       "      <td>1056</td>\n",
       "      <td>2.0</td>\n",
       "      <td>1.0</td>\n",
       "      <td>39.07</td>\n",
       "      <td>train</td>\n",
       "    </tr>\n",
       "    <tr>\n",
       "      <th>1</th>\n",
       "      <td>Plot  Area</td>\n",
       "      <td>Ready To Move</td>\n",
       "      <td>Chikka Tirupathi</td>\n",
       "      <td>4 Bedroom</td>\n",
       "      <td>Theanmp</td>\n",
       "      <td>2600</td>\n",
       "      <td>5.0</td>\n",
       "      <td>3.0</td>\n",
       "      <td>120.00</td>\n",
       "      <td>train</td>\n",
       "    </tr>\n",
       "    <tr>\n",
       "      <th>2</th>\n",
       "      <td>Built-up  Area</td>\n",
       "      <td>Ready To Move</td>\n",
       "      <td>Uttarahalli</td>\n",
       "      <td>3 BHK</td>\n",
       "      <td>NaN</td>\n",
       "      <td>1440</td>\n",
       "      <td>2.0</td>\n",
       "      <td>3.0</td>\n",
       "      <td>62.00</td>\n",
       "      <td>train</td>\n",
       "    </tr>\n",
       "    <tr>\n",
       "      <th>3</th>\n",
       "      <td>Super built-up  Area</td>\n",
       "      <td>Ready To Move</td>\n",
       "      <td>Lingadheeranahalli</td>\n",
       "      <td>3 BHK</td>\n",
       "      <td>Soiewre</td>\n",
       "      <td>1521</td>\n",
       "      <td>3.0</td>\n",
       "      <td>1.0</td>\n",
       "      <td>95.00</td>\n",
       "      <td>train</td>\n",
       "    </tr>\n",
       "    <tr>\n",
       "      <th>4</th>\n",
       "      <td>Super built-up  Area</td>\n",
       "      <td>Ready To Move</td>\n",
       "      <td>Kothanur</td>\n",
       "      <td>2 BHK</td>\n",
       "      <td>NaN</td>\n",
       "      <td>1200</td>\n",
       "      <td>2.0</td>\n",
       "      <td>1.0</td>\n",
       "      <td>51.00</td>\n",
       "      <td>train</td>\n",
       "    </tr>\n",
       "  </tbody>\n",
       "</table>\n",
       "</div>"
      ],
      "text/plain": [
       "              area_type   availability                  location       size  \\\n",
       "0  Super built-up  Area         19-Dec  Electronic City Phase II      2 BHK   \n",
       "1            Plot  Area  Ready To Move          Chikka Tirupathi  4 Bedroom   \n",
       "2        Built-up  Area  Ready To Move               Uttarahalli      3 BHK   \n",
       "3  Super built-up  Area  Ready To Move        Lingadheeranahalli      3 BHK   \n",
       "4  Super built-up  Area  Ready To Move                  Kothanur      2 BHK   \n",
       "\n",
       "   society total_sqft  bath  balcony   price source  \n",
       "0  Coomee        1056   2.0      1.0   39.07  train  \n",
       "1  Theanmp       2600   5.0      3.0  120.00  train  \n",
       "2      NaN       1440   2.0      3.0   62.00  train  \n",
       "3  Soiewre       1521   3.0      1.0   95.00  train  \n",
       "4      NaN       1200   2.0      1.0   51.00  train  "
      ]
     },
     "execution_count": 141,
     "metadata": {},
     "output_type": "execute_result"
    }
   ],
   "source": [
    "data.head()"
   ]
  },
  {
   "cell_type": "code",
   "execution_count": 142,
   "id": "ba2e9a9f",
   "metadata": {},
   "outputs": [
    {
     "name": "stdout",
     "output_type": "stream",
     "text": [
      "area_type : 4\n",
      "availability : 82\n",
      "location : 1358\n",
      "size : 32\n",
      "society : 2832\n",
      "total_sqft : 2221\n",
      "bath : 19\n",
      "balcony : 4\n",
      "price : 1994\n",
      "source : 2\n"
     ]
    }
   ],
   "source": [
    "for i in data.columns:\n",
    "#     if data[i].dtype =='object':\n",
    "    nuni = data[i].nunique()\n",
    "    print(i,':',nuni)"
   ]
  },
  {
   "cell_type": "code",
   "execution_count": 143,
   "id": "beb8a4b1",
   "metadata": {},
   "outputs": [
    {
     "data": {
      "text/plain": [
       "Super built-up  Area    9736\n",
       "Built-up  Area          2688\n",
       "Plot  Area              2279\n",
       "Carpet  Area              97\n",
       "Name: area_type, dtype: int64"
      ]
     },
     "execution_count": 143,
     "metadata": {},
     "output_type": "execute_result"
    }
   ],
   "source": [
    "data['area_type'].value_counts()"
   ]
  },
  {
   "cell_type": "code",
   "execution_count": 144,
   "id": "10c7ba3e",
   "metadata": {},
   "outputs": [],
   "source": [
    "# data['area_type'].replace({'Super built-up  Area':1,'Built-up  Area':2,'Plot  Area':3,'Carpet  Area':4}, inplace=True)"
   ]
  },
  {
   "cell_type": "code",
   "execution_count": 145,
   "id": "8be7a7eb",
   "metadata": {},
   "outputs": [],
   "source": [
    "data = pd.get_dummies(data,columns=['area_type'])"
   ]
  },
  {
   "cell_type": "code",
   "execution_count": 146,
   "id": "ef7e9ef3",
   "metadata": {},
   "outputs": [
    {
     "data": {
      "text/plain": [
       "Ready To Move    0.793446\n",
       "18-Dec           0.023716\n",
       "18-May           0.021892\n",
       "18-Apr           0.020000\n",
       "18-Aug           0.015203\n",
       "                   ...   \n",
       "15-Aug           0.000068\n",
       "16-Nov           0.000068\n",
       "16-Jan           0.000068\n",
       "14-Jul           0.000068\n",
       "16-Apr           0.000068\n",
       "Name: availability, Length: 82, dtype: float64"
      ]
     },
     "execution_count": 146,
     "metadata": {},
     "output_type": "execute_result"
    }
   ],
   "source": [
    "data['availability'].value_counts(dropna =False, normalize=True, ascending=False)"
   ]
  },
  {
   "cell_type": "code",
   "execution_count": 147,
   "id": "eeae173a",
   "metadata": {},
   "outputs": [],
   "source": [
    "data['availability'] =[1 if x == 'Ready To Move' else 0 for x in data['availability']]"
   ]
  },
  {
   "cell_type": "code",
   "execution_count": 148,
   "id": "ce941844",
   "metadata": {},
   "outputs": [
    {
     "data": {
      "text/plain": [
       "1    11743\n",
       "0     3057\n",
       "Name: availability, dtype: int64"
      ]
     },
     "execution_count": 148,
     "metadata": {},
     "output_type": "execute_result"
    }
   ],
   "source": [
    "data['availability'].value_counts()"
   ]
  },
  {
   "cell_type": "code",
   "execution_count": 149,
   "id": "26660637",
   "metadata": {
    "scrolled": true
   },
   "outputs": [
    {
     "data": {
      "text/plain": [
       "0        Electronic City Phase II\n",
       "1                Chikka Tirupathi\n",
       "2                     Uttarahalli\n",
       "3              Lingadheeranahalli\n",
       "4                        Kothanur\n",
       "                   ...           \n",
       "14795                 Vittasandra\n",
       "14796                   Gottigere\n",
       "14797                Channasandra\n",
       "14798                 Tumkur Road\n",
       "14799          7th Phase JP Nagar\n",
       "Name: location, Length: 14800, dtype: object"
      ]
     },
     "execution_count": 149,
     "metadata": {},
     "output_type": "execute_result"
    }
   ],
   "source": [
    "data['location']"
   ]
  },
  {
   "cell_type": "code",
   "execution_count": 150,
   "id": "d709be7f",
   "metadata": {},
   "outputs": [],
   "source": [
    "data = data.dropna(subset=['location'])"
   ]
  },
  {
   "cell_type": "code",
   "execution_count": 151,
   "id": "5ee56e10",
   "metadata": {},
   "outputs": [],
   "source": [
    "# data['location'] =data['location'].map(data['location'].value_counts())"
   ]
  },
  {
   "cell_type": "code",
   "execution_count": 152,
   "id": "425b6969",
   "metadata": {},
   "outputs": [],
   "source": [
    "from sklearn.preprocessing import LabelEncoder\n",
    "le = LabelEncoder()\n",
    "data['location'] =le.fit_transform(data['location'])"
   ]
  },
  {
   "cell_type": "code",
   "execution_count": 153,
   "id": "9bd57c8f",
   "metadata": {},
   "outputs": [
    {
     "data": {
      "text/plain": [
       "0"
      ]
     },
     "execution_count": 153,
     "metadata": {},
     "output_type": "execute_result"
    }
   ],
   "source": [
    "data['location'].isna().sum()"
   ]
  },
  {
   "cell_type": "code",
   "execution_count": 154,
   "id": "d80012ca",
   "metadata": {},
   "outputs": [
    {
     "data": {
      "text/plain": [
       "array(['2 BHK', '4 Bedroom', '3 BHK', '4 BHK', '6 Bedroom', '3 Bedroom',\n",
       "       '1 BHK', '1 RK', '1 Bedroom', '8 Bedroom', '2 Bedroom',\n",
       "       '7 Bedroom', '5 BHK', '7 BHK', '6 BHK', '5 Bedroom', '11 BHK',\n",
       "       '9 BHK', nan, '9 Bedroom', '27 BHK', '10 Bedroom', '11 Bedroom',\n",
       "       '10 BHK', '19 BHK', '16 BHK', '43 Bedroom', '14 BHK', '8 BHK',\n",
       "       '12 Bedroom', '13 BHK', '18 Bedroom', '16 Bedroom'], dtype=object)"
      ]
     },
     "execution_count": 154,
     "metadata": {},
     "output_type": "execute_result"
    }
   ],
   "source": [
    "data['size'].unique()"
   ]
  },
  {
   "cell_type": "code",
   "execution_count": 155,
   "id": "7cdfb162",
   "metadata": {},
   "outputs": [
    {
     "data": {
      "text/plain": [
       "dtype('O')"
      ]
     },
     "execution_count": 155,
     "metadata": {},
     "output_type": "execute_result"
    }
   ],
   "source": [
    "data['size'].dtype"
   ]
  },
  {
   "cell_type": "code",
   "execution_count": 158,
   "id": "f62211dd",
   "metadata": {
    "scrolled": true
   },
   "outputs": [
    {
     "ename": "ValueError",
     "evalue": "empty separator",
     "output_type": "error",
     "traceback": [
      "\u001b[1;31m---------------------------------------------------------------------------\u001b[0m",
      "\u001b[1;31mValueError\u001b[0m                                Traceback (most recent call last)",
      "\u001b[1;32mC:\\Users\\MUTHUK~1\\AppData\\Local\\Temp/ipykernel_1936/658473058.py\u001b[0m in \u001b[0;36m<module>\u001b[1;34m\u001b[0m\n\u001b[1;32m----> 1\u001b[1;33m \u001b[0mdata\u001b[0m\u001b[1;33m[\u001b[0m\u001b[1;34m'size'\u001b[0m\u001b[1;33m]\u001b[0m\u001b[1;33m.\u001b[0m\u001b[0mapply\u001b[0m\u001b[1;33m(\u001b[0m\u001b[1;32mlambda\u001b[0m \u001b[0mx\u001b[0m\u001b[1;33m:\u001b[0m \u001b[0mint\u001b[0m\u001b[1;33m(\u001b[0m\u001b[0mx\u001b[0m\u001b[1;33m.\u001b[0m\u001b[0msplit\u001b[0m\u001b[1;33m(\u001b[0m\u001b[1;34m''\u001b[0m\u001b[1;33m)\u001b[0m\u001b[1;33m[\u001b[0m\u001b[1;36m0\u001b[0m\u001b[1;33m]\u001b[0m\u001b[1;33m)\u001b[0m\u001b[1;33m)\u001b[0m\u001b[1;33m\u001b[0m\u001b[1;33m\u001b[0m\u001b[0m\n\u001b[0m",
      "\u001b[1;32m~\\anaconda3\\lib\\site-packages\\pandas\\core\\series.py\u001b[0m in \u001b[0;36mapply\u001b[1;34m(self, func, convert_dtype, args, **kwargs)\u001b[0m\n\u001b[0;32m   4355\u001b[0m         \u001b[0mdtype\u001b[0m\u001b[1;33m:\u001b[0m \u001b[0mfloat64\u001b[0m\u001b[1;33m\u001b[0m\u001b[1;33m\u001b[0m\u001b[0m\n\u001b[0;32m   4356\u001b[0m         \"\"\"\n\u001b[1;32m-> 4357\u001b[1;33m         \u001b[1;32mreturn\u001b[0m \u001b[0mSeriesApply\u001b[0m\u001b[1;33m(\u001b[0m\u001b[0mself\u001b[0m\u001b[1;33m,\u001b[0m \u001b[0mfunc\u001b[0m\u001b[1;33m,\u001b[0m \u001b[0mconvert_dtype\u001b[0m\u001b[1;33m,\u001b[0m \u001b[0margs\u001b[0m\u001b[1;33m,\u001b[0m \u001b[0mkwargs\u001b[0m\u001b[1;33m)\u001b[0m\u001b[1;33m.\u001b[0m\u001b[0mapply\u001b[0m\u001b[1;33m(\u001b[0m\u001b[1;33m)\u001b[0m\u001b[1;33m\u001b[0m\u001b[1;33m\u001b[0m\u001b[0m\n\u001b[0m\u001b[0;32m   4358\u001b[0m \u001b[1;33m\u001b[0m\u001b[0m\n\u001b[0;32m   4359\u001b[0m     def _reduce(\n",
      "\u001b[1;32m~\\anaconda3\\lib\\site-packages\\pandas\\core\\apply.py\u001b[0m in \u001b[0;36mapply\u001b[1;34m(self)\u001b[0m\n\u001b[0;32m   1041\u001b[0m             \u001b[1;32mreturn\u001b[0m \u001b[0mself\u001b[0m\u001b[1;33m.\u001b[0m\u001b[0mapply_str\u001b[0m\u001b[1;33m(\u001b[0m\u001b[1;33m)\u001b[0m\u001b[1;33m\u001b[0m\u001b[1;33m\u001b[0m\u001b[0m\n\u001b[0;32m   1042\u001b[0m \u001b[1;33m\u001b[0m\u001b[0m\n\u001b[1;32m-> 1043\u001b[1;33m         \u001b[1;32mreturn\u001b[0m \u001b[0mself\u001b[0m\u001b[1;33m.\u001b[0m\u001b[0mapply_standard\u001b[0m\u001b[1;33m(\u001b[0m\u001b[1;33m)\u001b[0m\u001b[1;33m\u001b[0m\u001b[1;33m\u001b[0m\u001b[0m\n\u001b[0m\u001b[0;32m   1044\u001b[0m \u001b[1;33m\u001b[0m\u001b[0m\n\u001b[0;32m   1045\u001b[0m     \u001b[1;32mdef\u001b[0m \u001b[0magg\u001b[0m\u001b[1;33m(\u001b[0m\u001b[0mself\u001b[0m\u001b[1;33m)\u001b[0m\u001b[1;33m:\u001b[0m\u001b[1;33m\u001b[0m\u001b[1;33m\u001b[0m\u001b[0m\n",
      "\u001b[1;32m~\\anaconda3\\lib\\site-packages\\pandas\\core\\apply.py\u001b[0m in \u001b[0;36mapply_standard\u001b[1;34m(self)\u001b[0m\n\u001b[0;32m   1096\u001b[0m                 \u001b[1;31m# List[Union[Callable[..., Any], str]]]]]\"; expected\u001b[0m\u001b[1;33m\u001b[0m\u001b[1;33m\u001b[0m\u001b[0m\n\u001b[0;32m   1097\u001b[0m                 \u001b[1;31m# \"Callable[[Any], Any]\"\u001b[0m\u001b[1;33m\u001b[0m\u001b[1;33m\u001b[0m\u001b[0m\n\u001b[1;32m-> 1098\u001b[1;33m                 mapped = lib.map_infer(\n\u001b[0m\u001b[0;32m   1099\u001b[0m                     \u001b[0mvalues\u001b[0m\u001b[1;33m,\u001b[0m\u001b[1;33m\u001b[0m\u001b[1;33m\u001b[0m\u001b[0m\n\u001b[0;32m   1100\u001b[0m                     \u001b[0mf\u001b[0m\u001b[1;33m,\u001b[0m  \u001b[1;31m# type: ignore[arg-type]\u001b[0m\u001b[1;33m\u001b[0m\u001b[1;33m\u001b[0m\u001b[0m\n",
      "\u001b[1;32m~\\anaconda3\\lib\\site-packages\\pandas\\_libs\\lib.pyx\u001b[0m in \u001b[0;36mpandas._libs.lib.map_infer\u001b[1;34m()\u001b[0m\n",
      "\u001b[1;32mC:\\Users\\MUTHUK~1\\AppData\\Local\\Temp/ipykernel_1936/658473058.py\u001b[0m in \u001b[0;36m<lambda>\u001b[1;34m(x)\u001b[0m\n\u001b[1;32m----> 1\u001b[1;33m \u001b[0mdata\u001b[0m\u001b[1;33m[\u001b[0m\u001b[1;34m'size'\u001b[0m\u001b[1;33m]\u001b[0m\u001b[1;33m.\u001b[0m\u001b[0mapply\u001b[0m\u001b[1;33m(\u001b[0m\u001b[1;32mlambda\u001b[0m \u001b[0mx\u001b[0m\u001b[1;33m:\u001b[0m \u001b[0mint\u001b[0m\u001b[1;33m(\u001b[0m\u001b[0mx\u001b[0m\u001b[1;33m.\u001b[0m\u001b[0msplit\u001b[0m\u001b[1;33m(\u001b[0m\u001b[1;34m''\u001b[0m\u001b[1;33m)\u001b[0m\u001b[1;33m[\u001b[0m\u001b[1;36m0\u001b[0m\u001b[1;33m]\u001b[0m\u001b[1;33m)\u001b[0m\u001b[1;33m)\u001b[0m\u001b[1;33m\u001b[0m\u001b[1;33m\u001b[0m\u001b[0m\n\u001b[0m",
      "\u001b[1;31mValueError\u001b[0m: empty separator"
     ]
    }
   ],
   "source": [
    "data['size'].apply(lambda x: int(x.split('')[0]))"
   ]
  },
  {
   "cell_type": "code",
   "execution_count": 159,
   "id": "a3f1ca6c",
   "metadata": {},
   "outputs": [],
   "source": [
    "# data['size'] = data['size'].replace({'1 Bedroom':'1 BHK','1 RK':'1 BHK','2 Bedroom':'2 BHK','3 Bedroom':'3 BHK','4 Bedroom':'4 BHK',\n",
    "#                       '5 Bedroom':'5 BHK','6 Bedroom':'6 BHK','7 Bedroom':'7 BHK','8 Bedroom':'8 BHK',\n",
    "#                       '9 Bedroom':'9 BHK','10 Bedroom':'10 BHK','11 Bedroom':'11 BHK','16 Bedroom':'16 BHK'})"
   ]
  },
  {
   "cell_type": "code",
   "execution_count": 160,
   "id": "a26e3050",
   "metadata": {},
   "outputs": [
    {
     "data": {
      "text/plain": [
       "2 BHK         5739\n",
       "3 BHK         4787\n",
       "4 Bedroom      918\n",
       "4 BHK          673\n",
       "3 Bedroom      613\n",
       "1 BHK          592\n",
       "2 Bedroom      368\n",
       "5 Bedroom      338\n",
       "6 Bedroom      208\n",
       "1 Bedroom      122\n",
       "7 Bedroom       95\n",
       "8 Bedroom       94\n",
       "5 BHK           61\n",
       "9 Bedroom       54\n",
       "6 BHK           35\n",
       "7 BHK           18\n",
       "1 RK            15\n",
       "10 Bedroom      15\n",
       "9 BHK           13\n",
       "8 BHK            8\n",
       "10 BHK           2\n",
       "11 BHK           2\n",
       "11 Bedroom       2\n",
       "19 BHK           1\n",
       "16 BHK           1\n",
       "43 Bedroom       1\n",
       "14 BHK           1\n",
       "27 BHK           1\n",
       "12 Bedroom       1\n",
       "13 BHK           1\n",
       "18 Bedroom       1\n",
       "16 Bedroom       1\n",
       "Name: size, dtype: int64"
      ]
     },
     "execution_count": 160,
     "metadata": {},
     "output_type": "execute_result"
    }
   ],
   "source": [
    "data['size'].value_counts()\n"
   ]
  },
  {
   "cell_type": "code",
   "execution_count": 54,
   "id": "bc62db95",
   "metadata": {},
   "outputs": [],
   "source": [
    "# data['size'] = [1 if x == '1 BHK' else 2 if x == '2 BHK' else 3 if x=='3 BHK' else 4 if x=='4 BHK' else 5 if x =='5 BHK' \n",
    "#  else 6 if x=='6 BHK' else 7 if x=='7 BHK' else 8 if x=='8 BHK' else 9 if x=='9 BHK' else 10 if x=='10 BHK' else \n",
    "#  0 for x in data['size']]"
   ]
  },
  {
   "cell_type": "code",
   "execution_count": 55,
   "id": "0988f99a",
   "metadata": {},
   "outputs": [
    {
     "data": {
      "text/plain": [
       "2     6107\n",
       "3     5400\n",
       "4     1591\n",
       "1      729\n",
       "5      399\n",
       "6      243\n",
       "7      113\n",
       "8      102\n",
       "9       67\n",
       "0       31\n",
       "10      17\n",
       "Name: size, dtype: int64"
      ]
     },
     "execution_count": 55,
     "metadata": {},
     "output_type": "execute_result"
    }
   ],
   "source": [
    "data['size'].value_counts(dropna =False, ascending=False)"
   ]
  },
  {
   "cell_type": "code",
   "execution_count": 56,
   "id": "75b706c0",
   "metadata": {},
   "outputs": [
    {
     "data": {
      "text/plain": [
       "NaN        6128\n",
       "GrrvaGr      92\n",
       "PrarePa      78\n",
       "Prtates      64\n",
       "Sryalan      63\n",
       "           ... \n",
       "DSapete       1\n",
       "Matrai        1\n",
       "SrentAp       1\n",
       "Saowsou       1\n",
       "MaicaRS       1\n",
       "Name: society, Length: 2833, dtype: int64"
      ]
     },
     "execution_count": 56,
     "metadata": {},
     "output_type": "execute_result"
    }
   ],
   "source": [
    "data['society'].value_counts(dropna =False, ascending=False)\n",
    "                             "
   ]
  },
  {
   "cell_type": "code",
   "execution_count": 57,
   "id": "bcac02ce",
   "metadata": {},
   "outputs": [],
   "source": [
    "# data =data.drop(columns=['society'])"
   ]
  },
  {
   "cell_type": "code",
   "execution_count": 58,
   "id": "e36a537c",
   "metadata": {},
   "outputs": [],
   "source": [
    " data['society'] =data['society'].replace({np.NaN:'unknown'})"
   ]
  },
  {
   "cell_type": "code",
   "execution_count": 59,
   "id": "f2a75593",
   "metadata": {},
   "outputs": [],
   "source": [
    "data['society'] =le.fit_transform(data['society'])"
   ]
  },
  {
   "cell_type": "code",
   "execution_count": 60,
   "id": "edbe2372",
   "metadata": {},
   "outputs": [],
   "source": [
    "#  data['society'] = data['society'].map(data['society'].value_counts())"
   ]
  },
  {
   "cell_type": "code",
   "execution_count": 61,
   "id": "9a6363d1",
   "metadata": {
    "scrolled": true
   },
   "outputs": [
    {
     "name": "stdout",
     "output_type": "stream",
     "text": [
      "<class 'pandas.core.frame.DataFrame'>\n",
      "Int64Index: 14799 entries, 0 to 14799\n",
      "Data columns (total 13 columns):\n",
      " #   Column                          Non-Null Count  Dtype  \n",
      "---  ------                          --------------  -----  \n",
      " 0   availability                    14799 non-null  int64  \n",
      " 1   location                        14799 non-null  int32  \n",
      " 2   size                            14799 non-null  int64  \n",
      " 3   society                         14799 non-null  int32  \n",
      " 4   total_sqft                      14799 non-null  object \n",
      " 5   bath                            14719 non-null  float64\n",
      " 6   balcony                         14121 non-null  float64\n",
      " 7   price                           13319 non-null  float64\n",
      " 8   source                          14799 non-null  object \n",
      " 9   area_type_Built-up  Area        14799 non-null  uint8  \n",
      " 10  area_type_Carpet  Area          14799 non-null  uint8  \n",
      " 11  area_type_Plot  Area            14799 non-null  uint8  \n",
      " 12  area_type_Super built-up  Area  14799 non-null  uint8  \n",
      "dtypes: float64(3), int32(2), int64(2), object(2), uint8(4)\n",
      "memory usage: 1.1+ MB\n"
     ]
    }
   ],
   "source": [
    "data.info()"
   ]
  },
  {
   "cell_type": "code",
   "execution_count": 62,
   "id": "3db7d57f",
   "metadata": {
    "scrolled": true
   },
   "outputs": [
    {
     "data": {
      "text/plain": [
       "1200           0.063518\n",
       "1100           0.016217\n",
       "1500           0.016082\n",
       "2400           0.015136\n",
       "600            0.013514\n",
       "                 ...   \n",
       "1113.12        0.000068\n",
       "1782 - 2000    0.000068\n",
       "621            0.000068\n",
       "981            0.000068\n",
       "6750           0.000068\n",
       "Name: total_sqft, Length: 2221, dtype: float64"
      ]
     },
     "execution_count": 62,
     "metadata": {},
     "output_type": "execute_result"
    }
   ],
   "source": [
    "data['total_sqft'].value_counts(normalize=True,ascending=False)"
   ]
  },
  {
   "cell_type": "code",
   "execution_count": 63,
   "id": "036b3330",
   "metadata": {},
   "outputs": [],
   "source": [
    "#data['Arrival'] = data['Route'].apply(lambda x:(x.split(',')[-1]))\n",
    "data['total_sqft'] =data['total_sqft'].apply(lambda x : x.split('-')[0])\n",
    "data['total_sqft'] =data['total_sqft'].apply(lambda x: re.sub('[^0-9]+','',x))\n",
    "data['total_sqft'] =data['total_sqft'].astype('int')"
   ]
  },
  {
   "cell_type": "code",
   "execution_count": 64,
   "id": "9dd58054",
   "metadata": {
    "scrolled": true
   },
   "outputs": [],
   "source": [
    "# data['total_sqft'].apply(lambda x: re.sub('[^0-9]+','',x)).value_counts(ascending=True)"
   ]
  },
  {
   "cell_type": "code",
   "execution_count": 65,
   "id": "4305c353",
   "metadata": {},
   "outputs": [
    {
     "data": {
      "text/plain": [
       "2.0     7652\n",
       "3.0     3656\n",
       "4.0     1375\n",
       "1.0      871\n",
       "5.0      586\n",
       "6.0      303\n",
       "7.0      113\n",
       "NaN       80\n",
       "8.0       73\n",
       "9.0       52\n",
       "10.0      17\n",
       "12.0       7\n",
       "13.0       3\n",
       "16.0       3\n",
       "11.0       3\n",
       "27.0       1\n",
       "40.0       1\n",
       "15.0       1\n",
       "14.0       1\n",
       "18.0       1\n",
       "Name: bath, dtype: int64"
      ]
     },
     "execution_count": 65,
     "metadata": {},
     "output_type": "execute_result"
    }
   ],
   "source": [
    "data['bath'].value_counts(dropna=False)"
   ]
  },
  {
   "cell_type": "code",
   "execution_count": 66,
   "id": "f96ede30",
   "metadata": {},
   "outputs": [],
   "source": [
    "# df[['col1', 'col2']] = df[['col1', 'col2']].fillna(df[['col1', 'col2']].median())"
   ]
  },
  {
   "cell_type": "code",
   "execution_count": 67,
   "id": "4da303c4",
   "metadata": {},
   "outputs": [
    {
     "data": {
      "text/plain": [
       "2.698688769617501"
      ]
     },
     "execution_count": 67,
     "metadata": {},
     "output_type": "execute_result"
    }
   ],
   "source": [
    "data['bath'].mean()"
   ]
  },
  {
   "cell_type": "code",
   "execution_count": 68,
   "id": "891963aa",
   "metadata": {},
   "outputs": [
    {
     "data": {
      "text/plain": [
       "1.582111748459741"
      ]
     },
     "execution_count": 68,
     "metadata": {},
     "output_type": "execute_result"
    }
   ],
   "source": [
    "data['balcony'].mean()"
   ]
  },
  {
   "cell_type": "code",
   "execution_count": 69,
   "id": "e4efe60e",
   "metadata": {
    "scrolled": true
   },
   "outputs": [],
   "source": [
    "data[['bath','balcony']] =data[['bath','balcony']].fillna(data[['bath','balcony']].median())"
   ]
  },
  {
   "cell_type": "code",
   "execution_count": 70,
   "id": "913b2a60",
   "metadata": {},
   "outputs": [
    {
     "data": {
      "text/html": [
       "<div>\n",
       "<style scoped>\n",
       "    .dataframe tbody tr th:only-of-type {\n",
       "        vertical-align: middle;\n",
       "    }\n",
       "\n",
       "    .dataframe tbody tr th {\n",
       "        vertical-align: top;\n",
       "    }\n",
       "\n",
       "    .dataframe thead th {\n",
       "        text-align: right;\n",
       "    }\n",
       "</style>\n",
       "<table border=\"1\" class=\"dataframe\">\n",
       "  <thead>\n",
       "    <tr style=\"text-align: right;\">\n",
       "      <th></th>\n",
       "      <th>availability</th>\n",
       "      <th>location</th>\n",
       "      <th>size</th>\n",
       "      <th>society</th>\n",
       "      <th>total_sqft</th>\n",
       "      <th>bath</th>\n",
       "      <th>balcony</th>\n",
       "      <th>price</th>\n",
       "      <th>area_type_Built-up  Area</th>\n",
       "      <th>area_type_Carpet  Area</th>\n",
       "      <th>area_type_Plot  Area</th>\n",
       "      <th>area_type_Super built-up  Area</th>\n",
       "    </tr>\n",
       "  </thead>\n",
       "  <tbody>\n",
       "    <tr>\n",
       "      <th>count</th>\n",
       "      <td>14799.000000</td>\n",
       "      <td>14799.000000</td>\n",
       "      <td>14799.000000</td>\n",
       "      <td>14799.000000</td>\n",
       "      <td>14799.000000</td>\n",
       "      <td>14799.000000</td>\n",
       "      <td>14799.000000</td>\n",
       "      <td>13319.000000</td>\n",
       "      <td>14799.000000</td>\n",
       "      <td>14799.000000</td>\n",
       "      <td>14799.000000</td>\n",
       "      <td>14799.000000</td>\n",
       "    </tr>\n",
       "    <tr>\n",
       "      <th>mean</th>\n",
       "      <td>0.793432</td>\n",
       "      <td>693.282587</td>\n",
       "      <td>2.793432</td>\n",
       "      <td>2009.472262</td>\n",
       "      <td>2475.982093</td>\n",
       "      <td>2.694912</td>\n",
       "      <td>1.601257</td>\n",
       "      <td>112.567621</td>\n",
       "      <td>0.181634</td>\n",
       "      <td>0.006554</td>\n",
       "      <td>0.153997</td>\n",
       "      <td>0.657815</td>\n",
       "    </tr>\n",
       "    <tr>\n",
       "      <th>std</th>\n",
       "      <td>0.404856</td>\n",
       "      <td>377.902513</td>\n",
       "      <td>1.209491</td>\n",
       "      <td>911.408622</td>\n",
       "      <td>13441.147139</td>\n",
       "      <td>1.341317</td>\n",
       "      <td>0.804939</td>\n",
       "      <td>148.977089</td>\n",
       "      <td>0.385556</td>\n",
       "      <td>0.080697</td>\n",
       "      <td>0.360958</td>\n",
       "      <td>0.474457</td>\n",
       "    </tr>\n",
       "    <tr>\n",
       "      <th>min</th>\n",
       "      <td>0.000000</td>\n",
       "      <td>0.000000</td>\n",
       "      <td>0.000000</td>\n",
       "      <td>0.000000</td>\n",
       "      <td>1.000000</td>\n",
       "      <td>1.000000</td>\n",
       "      <td>0.000000</td>\n",
       "      <td>8.000000</td>\n",
       "      <td>0.000000</td>\n",
       "      <td>0.000000</td>\n",
       "      <td>0.000000</td>\n",
       "      <td>0.000000</td>\n",
       "    </tr>\n",
       "    <tr>\n",
       "      <th>25%</th>\n",
       "      <td>1.000000</td>\n",
       "      <td>407.000000</td>\n",
       "      <td>2.000000</td>\n",
       "      <td>1316.000000</td>\n",
       "      <td>1100.000000</td>\n",
       "      <td>2.000000</td>\n",
       "      <td>1.000000</td>\n",
       "      <td>50.000000</td>\n",
       "      <td>0.000000</td>\n",
       "      <td>0.000000</td>\n",
       "      <td>0.000000</td>\n",
       "      <td>0.000000</td>\n",
       "    </tr>\n",
       "    <tr>\n",
       "      <th>50%</th>\n",
       "      <td>1.000000</td>\n",
       "      <td>670.000000</td>\n",
       "      <td>3.000000</td>\n",
       "      <td>2328.000000</td>\n",
       "      <td>1280.000000</td>\n",
       "      <td>2.000000</td>\n",
       "      <td>2.000000</td>\n",
       "      <td>72.000000</td>\n",
       "      <td>0.000000</td>\n",
       "      <td>0.000000</td>\n",
       "      <td>0.000000</td>\n",
       "      <td>1.000000</td>\n",
       "    </tr>\n",
       "    <tr>\n",
       "      <th>75%</th>\n",
       "      <td>1.000000</td>\n",
       "      <td>1033.000000</td>\n",
       "      <td>3.000000</td>\n",
       "      <td>2832.000000</td>\n",
       "      <td>1691.000000</td>\n",
       "      <td>3.000000</td>\n",
       "      <td>2.000000</td>\n",
       "      <td>120.000000</td>\n",
       "      <td>0.000000</td>\n",
       "      <td>0.000000</td>\n",
       "      <td>0.000000</td>\n",
       "      <td>1.000000</td>\n",
       "    </tr>\n",
       "    <tr>\n",
       "      <th>max</th>\n",
       "      <td>1.000000</td>\n",
       "      <td>1357.000000</td>\n",
       "      <td>10.000000</td>\n",
       "      <td>2832.000000</td>\n",
       "      <td>566584.000000</td>\n",
       "      <td>40.000000</td>\n",
       "      <td>3.000000</td>\n",
       "      <td>3600.000000</td>\n",
       "      <td>1.000000</td>\n",
       "      <td>1.000000</td>\n",
       "      <td>1.000000</td>\n",
       "      <td>1.000000</td>\n",
       "    </tr>\n",
       "  </tbody>\n",
       "</table>\n",
       "</div>"
      ],
      "text/plain": [
       "       availability      location          size       society     total_sqft  \\\n",
       "count  14799.000000  14799.000000  14799.000000  14799.000000   14799.000000   \n",
       "mean       0.793432    693.282587      2.793432   2009.472262    2475.982093   \n",
       "std        0.404856    377.902513      1.209491    911.408622   13441.147139   \n",
       "min        0.000000      0.000000      0.000000      0.000000       1.000000   \n",
       "25%        1.000000    407.000000      2.000000   1316.000000    1100.000000   \n",
       "50%        1.000000    670.000000      3.000000   2328.000000    1280.000000   \n",
       "75%        1.000000   1033.000000      3.000000   2832.000000    1691.000000   \n",
       "max        1.000000   1357.000000     10.000000   2832.000000  566584.000000   \n",
       "\n",
       "               bath       balcony         price  area_type_Built-up  Area  \\\n",
       "count  14799.000000  14799.000000  13319.000000              14799.000000   \n",
       "mean       2.694912      1.601257    112.567621                  0.181634   \n",
       "std        1.341317      0.804939    148.977089                  0.385556   \n",
       "min        1.000000      0.000000      8.000000                  0.000000   \n",
       "25%        2.000000      1.000000     50.000000                  0.000000   \n",
       "50%        2.000000      2.000000     72.000000                  0.000000   \n",
       "75%        3.000000      2.000000    120.000000                  0.000000   \n",
       "max       40.000000      3.000000   3600.000000                  1.000000   \n",
       "\n",
       "       area_type_Carpet  Area  area_type_Plot  Area  \\\n",
       "count            14799.000000          14799.000000   \n",
       "mean                 0.006554              0.153997   \n",
       "std                  0.080697              0.360958   \n",
       "min                  0.000000              0.000000   \n",
       "25%                  0.000000              0.000000   \n",
       "50%                  0.000000              0.000000   \n",
       "75%                  0.000000              0.000000   \n",
       "max                  1.000000              1.000000   \n",
       "\n",
       "       area_type_Super built-up  Area  \n",
       "count                    14799.000000  \n",
       "mean                         0.657815  \n",
       "std                          0.474457  \n",
       "min                          0.000000  \n",
       "25%                          0.000000  \n",
       "50%                          1.000000  \n",
       "75%                          1.000000  \n",
       "max                          1.000000  "
      ]
     },
     "execution_count": 70,
     "metadata": {},
     "output_type": "execute_result"
    }
   ],
   "source": [
    "data.describe()"
   ]
  },
  {
   "cell_type": "code",
   "execution_count": 71,
   "id": "05c783f0",
   "metadata": {},
   "outputs": [
    {
     "data": {
      "text/plain": [
       "availability                         0\n",
       "location                             0\n",
       "size                                 0\n",
       "society                              0\n",
       "total_sqft                           0\n",
       "bath                                 0\n",
       "balcony                              0\n",
       "price                             1480\n",
       "source                               0\n",
       "area_type_Built-up  Area             0\n",
       "area_type_Carpet  Area               0\n",
       "area_type_Plot  Area                 0\n",
       "area_type_Super built-up  Area       0\n",
       "dtype: int64"
      ]
     },
     "execution_count": 71,
     "metadata": {},
     "output_type": "execute_result"
    }
   ],
   "source": [
    "data.isna().sum()"
   ]
  },
  {
   "cell_type": "markdown",
   "id": "c43e5f6d",
   "metadata": {},
   "source": [
    "### Scaling"
   ]
  },
  {
   "cell_type": "code",
   "execution_count": 72,
   "id": "94293bd2",
   "metadata": {},
   "outputs": [],
   "source": [
    "from sklearn.preprocessing import StandardScaler"
   ]
  },
  {
   "cell_type": "code",
   "execution_count": 73,
   "id": "9c8cc013",
   "metadata": {},
   "outputs": [],
   "source": [
    "# scale = StandardScaler()\n",
    "# scaled = scale.fit_transform(data_numbers.drop(columns='Item_Outlet_Sales'))\n",
    "# data_numbers = pd.DataFrame(scaled, columns=data_numbers.drop(columns='Item_Outlet_Sales').columns)\n",
    "#data_preprocessed = pd.concat([data_numbers, data_category_one_hot, data[['Item_Identifier','Outlet_Identifier','source','Item_Outlet_Sales']]], axis = 1)"
   ]
  },
  {
   "cell_type": "code",
   "execution_count": 74,
   "id": "6b21014e",
   "metadata": {},
   "outputs": [
    {
     "data": {
      "text/html": [
       "<div>\n",
       "<style scoped>\n",
       "    .dataframe tbody tr th:only-of-type {\n",
       "        vertical-align: middle;\n",
       "    }\n",
       "\n",
       "    .dataframe tbody tr th {\n",
       "        vertical-align: top;\n",
       "    }\n",
       "\n",
       "    .dataframe thead th {\n",
       "        text-align: right;\n",
       "    }\n",
       "</style>\n",
       "<table border=\"1\" class=\"dataframe\">\n",
       "  <thead>\n",
       "    <tr style=\"text-align: right;\">\n",
       "      <th></th>\n",
       "      <th>availability</th>\n",
       "      <th>location</th>\n",
       "      <th>size</th>\n",
       "      <th>society</th>\n",
       "      <th>total_sqft</th>\n",
       "      <th>bath</th>\n",
       "      <th>balcony</th>\n",
       "      <th>area_type_Built-up  Area</th>\n",
       "      <th>area_type_Carpet  Area</th>\n",
       "      <th>area_type_Plot  Area</th>\n",
       "      <th>area_type_Super built-up  Area</th>\n",
       "    </tr>\n",
       "  </thead>\n",
       "  <tbody>\n",
       "    <tr>\n",
       "      <th>0</th>\n",
       "      <td>-1.959852</td>\n",
       "      <td>-0.696718</td>\n",
       "      <td>-0.656027</td>\n",
       "      <td>-1.670517</td>\n",
       "      <td>-0.105648</td>\n",
       "      <td>-0.518099</td>\n",
       "      <td>-0.746985</td>\n",
       "      <td>-0.471113</td>\n",
       "      <td>-0.081226</td>\n",
       "      <td>-0.426648</td>\n",
       "      <td>0.721238</td>\n",
       "    </tr>\n",
       "    <tr>\n",
       "      <th>1</th>\n",
       "      <td>0.510243</td>\n",
       "      <td>-0.974577</td>\n",
       "      <td>0.997617</td>\n",
       "      <td>0.612839</td>\n",
       "      <td>0.009227</td>\n",
       "      <td>1.718585</td>\n",
       "      <td>1.737760</td>\n",
       "      <td>-0.471113</td>\n",
       "      <td>-0.081226</td>\n",
       "      <td>2.343851</td>\n",
       "      <td>-1.386504</td>\n",
       "    </tr>\n",
       "    <tr>\n",
       "      <th>2</th>\n",
       "      <td>0.510243</td>\n",
       "      <td>1.391193</td>\n",
       "      <td>0.170795</td>\n",
       "      <td>0.902510</td>\n",
       "      <td>-0.077078</td>\n",
       "      <td>-0.518099</td>\n",
       "      <td>1.737760</td>\n",
       "      <td>2.122635</td>\n",
       "      <td>-0.081226</td>\n",
       "      <td>-0.426648</td>\n",
       "      <td>-1.386504</td>\n",
       "    </tr>\n",
       "    <tr>\n",
       "      <th>3</th>\n",
       "      <td>0.510243</td>\n",
       "      <td>0.224186</td>\n",
       "      <td>0.170795</td>\n",
       "      <td>0.320973</td>\n",
       "      <td>-0.071052</td>\n",
       "      <td>0.227462</td>\n",
       "      <td>-0.746985</td>\n",
       "      <td>-0.471113</td>\n",
       "      <td>-0.081226</td>\n",
       "      <td>-0.426648</td>\n",
       "      <td>0.721238</td>\n",
       "    </tr>\n",
       "    <tr>\n",
       "      <th>4</th>\n",
       "      <td>0.510243</td>\n",
       "      <td>0.113042</td>\n",
       "      <td>-0.656027</td>\n",
       "      <td>0.902510</td>\n",
       "      <td>-0.094934</td>\n",
       "      <td>-0.518099</td>\n",
       "      <td>-0.746985</td>\n",
       "      <td>-0.471113</td>\n",
       "      <td>-0.081226</td>\n",
       "      <td>-0.426648</td>\n",
       "      <td>0.721238</td>\n",
       "    </tr>\n",
       "    <tr>\n",
       "      <th>...</th>\n",
       "      <td>...</td>\n",
       "      <td>...</td>\n",
       "      <td>...</td>\n",
       "      <td>...</td>\n",
       "      <td>...</td>\n",
       "      <td>...</td>\n",
       "      <td>...</td>\n",
       "      <td>...</td>\n",
       "      <td>...</td>\n",
       "      <td>...</td>\n",
       "      <td>...</td>\n",
       "    </tr>\n",
       "    <tr>\n",
       "      <th>14794</th>\n",
       "      <td>0.510243</td>\n",
       "      <td>1.563200</td>\n",
       "      <td>-0.656027</td>\n",
       "      <td>-0.366996</td>\n",
       "      <td>-0.091512</td>\n",
       "      <td>-0.518099</td>\n",
       "      <td>-0.746985</td>\n",
       "      <td>-0.471113</td>\n",
       "      <td>-0.081226</td>\n",
       "      <td>-0.426648</td>\n",
       "      <td>0.721238</td>\n",
       "    </tr>\n",
       "    <tr>\n",
       "      <th>14795</th>\n",
       "      <td>0.510243</td>\n",
       "      <td>-0.572343</td>\n",
       "      <td>0.170795</td>\n",
       "      <td>0.902510</td>\n",
       "      <td>-0.060710</td>\n",
       "      <td>0.227462</td>\n",
       "      <td>0.495387</td>\n",
       "      <td>-0.471113</td>\n",
       "      <td>-0.081226</td>\n",
       "      <td>-0.426648</td>\n",
       "      <td>0.721238</td>\n",
       "    </tr>\n",
       "    <tr>\n",
       "      <th>14796</th>\n",
       "      <td>0.510243</td>\n",
       "      <td>-1.003686</td>\n",
       "      <td>-0.656027</td>\n",
       "      <td>0.676479</td>\n",
       "      <td>-0.093744</td>\n",
       "      <td>-0.518099</td>\n",
       "      <td>0.495387</td>\n",
       "      <td>-0.471113</td>\n",
       "      <td>-0.081226</td>\n",
       "      <td>-0.426648</td>\n",
       "      <td>0.721238</td>\n",
       "    </tr>\n",
       "    <tr>\n",
       "      <th>14797</th>\n",
       "      <td>-1.959852</td>\n",
       "      <td>1.362084</td>\n",
       "      <td>-0.656027</td>\n",
       "      <td>0.067511</td>\n",
       "      <td>-0.110112</td>\n",
       "      <td>-0.518099</td>\n",
       "      <td>-0.746985</td>\n",
       "      <td>2.122635</td>\n",
       "      <td>-0.081226</td>\n",
       "      <td>-0.426648</td>\n",
       "      <td>-1.386504</td>\n",
       "    </tr>\n",
       "    <tr>\n",
       "      <th>14798</th>\n",
       "      <td>0.510243</td>\n",
       "      <td>-1.633499</td>\n",
       "      <td>-0.656027</td>\n",
       "      <td>-0.796017</td>\n",
       "      <td>-0.098654</td>\n",
       "      <td>-0.518099</td>\n",
       "      <td>0.495387</td>\n",
       "      <td>2.122635</td>\n",
       "      <td>-0.081226</td>\n",
       "      <td>-0.426648</td>\n",
       "      <td>-1.386504</td>\n",
       "    </tr>\n",
       "  </tbody>\n",
       "</table>\n",
       "<p>14799 rows × 11 columns</p>\n",
       "</div>"
      ],
      "text/plain": [
       "       availability  location      size   society  total_sqft      bath  \\\n",
       "0         -1.959852 -0.696718 -0.656027 -1.670517   -0.105648 -0.518099   \n",
       "1          0.510243 -0.974577  0.997617  0.612839    0.009227  1.718585   \n",
       "2          0.510243  1.391193  0.170795  0.902510   -0.077078 -0.518099   \n",
       "3          0.510243  0.224186  0.170795  0.320973   -0.071052  0.227462   \n",
       "4          0.510243  0.113042 -0.656027  0.902510   -0.094934 -0.518099   \n",
       "...             ...       ...       ...       ...         ...       ...   \n",
       "14794      0.510243  1.563200 -0.656027 -0.366996   -0.091512 -0.518099   \n",
       "14795      0.510243 -0.572343  0.170795  0.902510   -0.060710  0.227462   \n",
       "14796      0.510243 -1.003686 -0.656027  0.676479   -0.093744 -0.518099   \n",
       "14797     -1.959852  1.362084 -0.656027  0.067511   -0.110112 -0.518099   \n",
       "14798      0.510243 -1.633499 -0.656027 -0.796017   -0.098654 -0.518099   \n",
       "\n",
       "        balcony  area_type_Built-up  Area  area_type_Carpet  Area  \\\n",
       "0     -0.746985                 -0.471113               -0.081226   \n",
       "1      1.737760                 -0.471113               -0.081226   \n",
       "2      1.737760                  2.122635               -0.081226   \n",
       "3     -0.746985                 -0.471113               -0.081226   \n",
       "4     -0.746985                 -0.471113               -0.081226   \n",
       "...         ...                       ...                     ...   \n",
       "14794 -0.746985                 -0.471113               -0.081226   \n",
       "14795  0.495387                 -0.471113               -0.081226   \n",
       "14796  0.495387                 -0.471113               -0.081226   \n",
       "14797 -0.746985                  2.122635               -0.081226   \n",
       "14798  0.495387                  2.122635               -0.081226   \n",
       "\n",
       "       area_type_Plot  Area  area_type_Super built-up  Area  \n",
       "0                 -0.426648                        0.721238  \n",
       "1                  2.343851                       -1.386504  \n",
       "2                 -0.426648                       -1.386504  \n",
       "3                 -0.426648                        0.721238  \n",
       "4                 -0.426648                        0.721238  \n",
       "...                     ...                             ...  \n",
       "14794             -0.426648                        0.721238  \n",
       "14795             -0.426648                        0.721238  \n",
       "14796             -0.426648                        0.721238  \n",
       "14797             -0.426648                       -1.386504  \n",
       "14798             -0.426648                       -1.386504  \n",
       "\n",
       "[14799 rows x 11 columns]"
      ]
     },
     "execution_count": 74,
     "metadata": {},
     "output_type": "execute_result"
    }
   ],
   "source": [
    "scale = StandardScaler()\n",
    "scaled = scale.fit_transform(data.drop(columns=['price','source']))\n",
    "scaled_data = pd.DataFrame(scaled,columns=data.drop(columns=['price','source']).columns)\n",
    "scaled_data"
   ]
  },
  {
   "cell_type": "code",
   "execution_count": null,
   "id": "2c0d4ca0",
   "metadata": {},
   "outputs": [],
   "source": []
  },
  {
   "cell_type": "code",
   "execution_count": 75,
   "id": "3415c0c2",
   "metadata": {},
   "outputs": [],
   "source": [
    "scaled_data.reset_index(drop=True, inplace=True)"
   ]
  },
  {
   "cell_type": "code",
   "execution_count": 76,
   "id": "08ebecd1",
   "metadata": {},
   "outputs": [],
   "source": [
    "data.reset_index(drop=True, inplace=True)"
   ]
  },
  {
   "cell_type": "code",
   "execution_count": 77,
   "id": "47ab7617",
   "metadata": {},
   "outputs": [],
   "source": [
    "preprocessed_data = pd.concat(([scaled_data,data[['price','source']]]),axis=1)"
   ]
  },
  {
   "cell_type": "code",
   "execution_count": 78,
   "id": "4e86f80d",
   "metadata": {},
   "outputs": [
    {
     "data": {
      "text/html": [
       "<div>\n",
       "<style scoped>\n",
       "    .dataframe tbody tr th:only-of-type {\n",
       "        vertical-align: middle;\n",
       "    }\n",
       "\n",
       "    .dataframe tbody tr th {\n",
       "        vertical-align: top;\n",
       "    }\n",
       "\n",
       "    .dataframe thead th {\n",
       "        text-align: right;\n",
       "    }\n",
       "</style>\n",
       "<table border=\"1\" class=\"dataframe\">\n",
       "  <thead>\n",
       "    <tr style=\"text-align: right;\">\n",
       "      <th></th>\n",
       "      <th>availability</th>\n",
       "      <th>location</th>\n",
       "      <th>size</th>\n",
       "      <th>society</th>\n",
       "      <th>total_sqft</th>\n",
       "      <th>bath</th>\n",
       "      <th>balcony</th>\n",
       "      <th>area_type_Built-up  Area</th>\n",
       "      <th>area_type_Carpet  Area</th>\n",
       "      <th>area_type_Plot  Area</th>\n",
       "      <th>area_type_Super built-up  Area</th>\n",
       "      <th>price</th>\n",
       "      <th>source</th>\n",
       "    </tr>\n",
       "  </thead>\n",
       "  <tbody>\n",
       "    <tr>\n",
       "      <th>0</th>\n",
       "      <td>-1.959852</td>\n",
       "      <td>-0.696718</td>\n",
       "      <td>-0.656027</td>\n",
       "      <td>-1.670517</td>\n",
       "      <td>-0.105648</td>\n",
       "      <td>-0.518099</td>\n",
       "      <td>-0.746985</td>\n",
       "      <td>-0.471113</td>\n",
       "      <td>-0.081226</td>\n",
       "      <td>-0.426648</td>\n",
       "      <td>0.721238</td>\n",
       "      <td>39.07</td>\n",
       "      <td>train</td>\n",
       "    </tr>\n",
       "    <tr>\n",
       "      <th>1</th>\n",
       "      <td>0.510243</td>\n",
       "      <td>-0.974577</td>\n",
       "      <td>0.997617</td>\n",
       "      <td>0.612839</td>\n",
       "      <td>0.009227</td>\n",
       "      <td>1.718585</td>\n",
       "      <td>1.737760</td>\n",
       "      <td>-0.471113</td>\n",
       "      <td>-0.081226</td>\n",
       "      <td>2.343851</td>\n",
       "      <td>-1.386504</td>\n",
       "      <td>120.00</td>\n",
       "      <td>train</td>\n",
       "    </tr>\n",
       "    <tr>\n",
       "      <th>2</th>\n",
       "      <td>0.510243</td>\n",
       "      <td>1.391193</td>\n",
       "      <td>0.170795</td>\n",
       "      <td>0.902510</td>\n",
       "      <td>-0.077078</td>\n",
       "      <td>-0.518099</td>\n",
       "      <td>1.737760</td>\n",
       "      <td>2.122635</td>\n",
       "      <td>-0.081226</td>\n",
       "      <td>-0.426648</td>\n",
       "      <td>-1.386504</td>\n",
       "      <td>62.00</td>\n",
       "      <td>train</td>\n",
       "    </tr>\n",
       "    <tr>\n",
       "      <th>3</th>\n",
       "      <td>0.510243</td>\n",
       "      <td>0.224186</td>\n",
       "      <td>0.170795</td>\n",
       "      <td>0.320973</td>\n",
       "      <td>-0.071052</td>\n",
       "      <td>0.227462</td>\n",
       "      <td>-0.746985</td>\n",
       "      <td>-0.471113</td>\n",
       "      <td>-0.081226</td>\n",
       "      <td>-0.426648</td>\n",
       "      <td>0.721238</td>\n",
       "      <td>95.00</td>\n",
       "      <td>train</td>\n",
       "    </tr>\n",
       "    <tr>\n",
       "      <th>4</th>\n",
       "      <td>0.510243</td>\n",
       "      <td>0.113042</td>\n",
       "      <td>-0.656027</td>\n",
       "      <td>0.902510</td>\n",
       "      <td>-0.094934</td>\n",
       "      <td>-0.518099</td>\n",
       "      <td>-0.746985</td>\n",
       "      <td>-0.471113</td>\n",
       "      <td>-0.081226</td>\n",
       "      <td>-0.426648</td>\n",
       "      <td>0.721238</td>\n",
       "      <td>51.00</td>\n",
       "      <td>train</td>\n",
       "    </tr>\n",
       "    <tr>\n",
       "      <th>...</th>\n",
       "      <td>...</td>\n",
       "      <td>...</td>\n",
       "      <td>...</td>\n",
       "      <td>...</td>\n",
       "      <td>...</td>\n",
       "      <td>...</td>\n",
       "      <td>...</td>\n",
       "      <td>...</td>\n",
       "      <td>...</td>\n",
       "      <td>...</td>\n",
       "      <td>...</td>\n",
       "      <td>...</td>\n",
       "      <td>...</td>\n",
       "    </tr>\n",
       "    <tr>\n",
       "      <th>14794</th>\n",
       "      <td>0.510243</td>\n",
       "      <td>1.563200</td>\n",
       "      <td>-0.656027</td>\n",
       "      <td>-0.366996</td>\n",
       "      <td>-0.091512</td>\n",
       "      <td>-0.518099</td>\n",
       "      <td>-0.746985</td>\n",
       "      <td>-0.471113</td>\n",
       "      <td>-0.081226</td>\n",
       "      <td>-0.426648</td>\n",
       "      <td>0.721238</td>\n",
       "      <td>NaN</td>\n",
       "      <td>test</td>\n",
       "    </tr>\n",
       "    <tr>\n",
       "      <th>14795</th>\n",
       "      <td>0.510243</td>\n",
       "      <td>-0.572343</td>\n",
       "      <td>0.170795</td>\n",
       "      <td>0.902510</td>\n",
       "      <td>-0.060710</td>\n",
       "      <td>0.227462</td>\n",
       "      <td>0.495387</td>\n",
       "      <td>-0.471113</td>\n",
       "      <td>-0.081226</td>\n",
       "      <td>-0.426648</td>\n",
       "      <td>0.721238</td>\n",
       "      <td>NaN</td>\n",
       "      <td>test</td>\n",
       "    </tr>\n",
       "    <tr>\n",
       "      <th>14796</th>\n",
       "      <td>0.510243</td>\n",
       "      <td>-1.003686</td>\n",
       "      <td>-0.656027</td>\n",
       "      <td>0.676479</td>\n",
       "      <td>-0.093744</td>\n",
       "      <td>-0.518099</td>\n",
       "      <td>0.495387</td>\n",
       "      <td>-0.471113</td>\n",
       "      <td>-0.081226</td>\n",
       "      <td>-0.426648</td>\n",
       "      <td>0.721238</td>\n",
       "      <td>NaN</td>\n",
       "      <td>test</td>\n",
       "    </tr>\n",
       "    <tr>\n",
       "      <th>14797</th>\n",
       "      <td>-1.959852</td>\n",
       "      <td>1.362084</td>\n",
       "      <td>-0.656027</td>\n",
       "      <td>0.067511</td>\n",
       "      <td>-0.110112</td>\n",
       "      <td>-0.518099</td>\n",
       "      <td>-0.746985</td>\n",
       "      <td>2.122635</td>\n",
       "      <td>-0.081226</td>\n",
       "      <td>-0.426648</td>\n",
       "      <td>-1.386504</td>\n",
       "      <td>NaN</td>\n",
       "      <td>test</td>\n",
       "    </tr>\n",
       "    <tr>\n",
       "      <th>14798</th>\n",
       "      <td>0.510243</td>\n",
       "      <td>-1.633499</td>\n",
       "      <td>-0.656027</td>\n",
       "      <td>-0.796017</td>\n",
       "      <td>-0.098654</td>\n",
       "      <td>-0.518099</td>\n",
       "      <td>0.495387</td>\n",
       "      <td>2.122635</td>\n",
       "      <td>-0.081226</td>\n",
       "      <td>-0.426648</td>\n",
       "      <td>-1.386504</td>\n",
       "      <td>NaN</td>\n",
       "      <td>test</td>\n",
       "    </tr>\n",
       "  </tbody>\n",
       "</table>\n",
       "<p>14799 rows × 13 columns</p>\n",
       "</div>"
      ],
      "text/plain": [
       "       availability  location      size   society  total_sqft      bath  \\\n",
       "0         -1.959852 -0.696718 -0.656027 -1.670517   -0.105648 -0.518099   \n",
       "1          0.510243 -0.974577  0.997617  0.612839    0.009227  1.718585   \n",
       "2          0.510243  1.391193  0.170795  0.902510   -0.077078 -0.518099   \n",
       "3          0.510243  0.224186  0.170795  0.320973   -0.071052  0.227462   \n",
       "4          0.510243  0.113042 -0.656027  0.902510   -0.094934 -0.518099   \n",
       "...             ...       ...       ...       ...         ...       ...   \n",
       "14794      0.510243  1.563200 -0.656027 -0.366996   -0.091512 -0.518099   \n",
       "14795      0.510243 -0.572343  0.170795  0.902510   -0.060710  0.227462   \n",
       "14796      0.510243 -1.003686 -0.656027  0.676479   -0.093744 -0.518099   \n",
       "14797     -1.959852  1.362084 -0.656027  0.067511   -0.110112 -0.518099   \n",
       "14798      0.510243 -1.633499 -0.656027 -0.796017   -0.098654 -0.518099   \n",
       "\n",
       "        balcony  area_type_Built-up  Area  area_type_Carpet  Area  \\\n",
       "0     -0.746985                 -0.471113               -0.081226   \n",
       "1      1.737760                 -0.471113               -0.081226   \n",
       "2      1.737760                  2.122635               -0.081226   \n",
       "3     -0.746985                 -0.471113               -0.081226   \n",
       "4     -0.746985                 -0.471113               -0.081226   \n",
       "...         ...                       ...                     ...   \n",
       "14794 -0.746985                 -0.471113               -0.081226   \n",
       "14795  0.495387                 -0.471113               -0.081226   \n",
       "14796  0.495387                 -0.471113               -0.081226   \n",
       "14797 -0.746985                  2.122635               -0.081226   \n",
       "14798  0.495387                  2.122635               -0.081226   \n",
       "\n",
       "       area_type_Plot  Area  area_type_Super built-up  Area   price source  \n",
       "0                 -0.426648                        0.721238   39.07  train  \n",
       "1                  2.343851                       -1.386504  120.00  train  \n",
       "2                 -0.426648                       -1.386504   62.00  train  \n",
       "3                 -0.426648                        0.721238   95.00  train  \n",
       "4                 -0.426648                        0.721238   51.00  train  \n",
       "...                     ...                             ...     ...    ...  \n",
       "14794             -0.426648                        0.721238     NaN   test  \n",
       "14795             -0.426648                        0.721238     NaN   test  \n",
       "14796             -0.426648                        0.721238     NaN   test  \n",
       "14797             -0.426648                       -1.386504     NaN   test  \n",
       "14798             -0.426648                       -1.386504     NaN   test  \n",
       "\n",
       "[14799 rows x 13 columns]"
      ]
     },
     "execution_count": 78,
     "metadata": {},
     "output_type": "execute_result"
    }
   ],
   "source": [
    "preprocessed_data"
   ]
  },
  {
   "cell_type": "code",
   "execution_count": 79,
   "id": "ec932a54",
   "metadata": {
    "scrolled": true
   },
   "outputs": [
    {
     "data": {
      "text/html": [
       "<div>\n",
       "<style scoped>\n",
       "    .dataframe tbody tr th:only-of-type {\n",
       "        vertical-align: middle;\n",
       "    }\n",
       "\n",
       "    .dataframe tbody tr th {\n",
       "        vertical-align: top;\n",
       "    }\n",
       "\n",
       "    .dataframe thead th {\n",
       "        text-align: right;\n",
       "    }\n",
       "</style>\n",
       "<table border=\"1\" class=\"dataframe\">\n",
       "  <thead>\n",
       "    <tr style=\"text-align: right;\">\n",
       "      <th></th>\n",
       "      <th>availability</th>\n",
       "      <th>location</th>\n",
       "      <th>size</th>\n",
       "      <th>society</th>\n",
       "      <th>total_sqft</th>\n",
       "      <th>bath</th>\n",
       "      <th>balcony</th>\n",
       "      <th>area_type_Built-up  Area</th>\n",
       "      <th>area_type_Carpet  Area</th>\n",
       "      <th>area_type_Plot  Area</th>\n",
       "      <th>area_type_Super built-up  Area</th>\n",
       "      <th>price</th>\n",
       "      <th>source</th>\n",
       "    </tr>\n",
       "  </thead>\n",
       "  <tbody>\n",
       "    <tr>\n",
       "      <th>0</th>\n",
       "      <td>-1.959852</td>\n",
       "      <td>-0.696718</td>\n",
       "      <td>-0.656027</td>\n",
       "      <td>-1.670517</td>\n",
       "      <td>-0.105648</td>\n",
       "      <td>-0.518099</td>\n",
       "      <td>-0.746985</td>\n",
       "      <td>-0.471113</td>\n",
       "      <td>-0.081226</td>\n",
       "      <td>-0.426648</td>\n",
       "      <td>0.721238</td>\n",
       "      <td>39.07</td>\n",
       "      <td>train</td>\n",
       "    </tr>\n",
       "    <tr>\n",
       "      <th>1</th>\n",
       "      <td>0.510243</td>\n",
       "      <td>-0.974577</td>\n",
       "      <td>0.997617</td>\n",
       "      <td>0.612839</td>\n",
       "      <td>0.009227</td>\n",
       "      <td>1.718585</td>\n",
       "      <td>1.737760</td>\n",
       "      <td>-0.471113</td>\n",
       "      <td>-0.081226</td>\n",
       "      <td>2.343851</td>\n",
       "      <td>-1.386504</td>\n",
       "      <td>120.00</td>\n",
       "      <td>train</td>\n",
       "    </tr>\n",
       "    <tr>\n",
       "      <th>2</th>\n",
       "      <td>0.510243</td>\n",
       "      <td>1.391193</td>\n",
       "      <td>0.170795</td>\n",
       "      <td>0.902510</td>\n",
       "      <td>-0.077078</td>\n",
       "      <td>-0.518099</td>\n",
       "      <td>1.737760</td>\n",
       "      <td>2.122635</td>\n",
       "      <td>-0.081226</td>\n",
       "      <td>-0.426648</td>\n",
       "      <td>-1.386504</td>\n",
       "      <td>62.00</td>\n",
       "      <td>train</td>\n",
       "    </tr>\n",
       "    <tr>\n",
       "      <th>3</th>\n",
       "      <td>0.510243</td>\n",
       "      <td>0.224186</td>\n",
       "      <td>0.170795</td>\n",
       "      <td>0.320973</td>\n",
       "      <td>-0.071052</td>\n",
       "      <td>0.227462</td>\n",
       "      <td>-0.746985</td>\n",
       "      <td>-0.471113</td>\n",
       "      <td>-0.081226</td>\n",
       "      <td>-0.426648</td>\n",
       "      <td>0.721238</td>\n",
       "      <td>95.00</td>\n",
       "      <td>train</td>\n",
       "    </tr>\n",
       "    <tr>\n",
       "      <th>4</th>\n",
       "      <td>0.510243</td>\n",
       "      <td>0.113042</td>\n",
       "      <td>-0.656027</td>\n",
       "      <td>0.902510</td>\n",
       "      <td>-0.094934</td>\n",
       "      <td>-0.518099</td>\n",
       "      <td>-0.746985</td>\n",
       "      <td>-0.471113</td>\n",
       "      <td>-0.081226</td>\n",
       "      <td>-0.426648</td>\n",
       "      <td>0.721238</td>\n",
       "      <td>51.00</td>\n",
       "      <td>train</td>\n",
       "    </tr>\n",
       "    <tr>\n",
       "      <th>...</th>\n",
       "      <td>...</td>\n",
       "      <td>...</td>\n",
       "      <td>...</td>\n",
       "      <td>...</td>\n",
       "      <td>...</td>\n",
       "      <td>...</td>\n",
       "      <td>...</td>\n",
       "      <td>...</td>\n",
       "      <td>...</td>\n",
       "      <td>...</td>\n",
       "      <td>...</td>\n",
       "      <td>...</td>\n",
       "      <td>...</td>\n",
       "    </tr>\n",
       "    <tr>\n",
       "      <th>14794</th>\n",
       "      <td>0.510243</td>\n",
       "      <td>1.563200</td>\n",
       "      <td>-0.656027</td>\n",
       "      <td>-0.366996</td>\n",
       "      <td>-0.091512</td>\n",
       "      <td>-0.518099</td>\n",
       "      <td>-0.746985</td>\n",
       "      <td>-0.471113</td>\n",
       "      <td>-0.081226</td>\n",
       "      <td>-0.426648</td>\n",
       "      <td>0.721238</td>\n",
       "      <td>NaN</td>\n",
       "      <td>test</td>\n",
       "    </tr>\n",
       "    <tr>\n",
       "      <th>14795</th>\n",
       "      <td>0.510243</td>\n",
       "      <td>-0.572343</td>\n",
       "      <td>0.170795</td>\n",
       "      <td>0.902510</td>\n",
       "      <td>-0.060710</td>\n",
       "      <td>0.227462</td>\n",
       "      <td>0.495387</td>\n",
       "      <td>-0.471113</td>\n",
       "      <td>-0.081226</td>\n",
       "      <td>-0.426648</td>\n",
       "      <td>0.721238</td>\n",
       "      <td>NaN</td>\n",
       "      <td>test</td>\n",
       "    </tr>\n",
       "    <tr>\n",
       "      <th>14796</th>\n",
       "      <td>0.510243</td>\n",
       "      <td>-1.003686</td>\n",
       "      <td>-0.656027</td>\n",
       "      <td>0.676479</td>\n",
       "      <td>-0.093744</td>\n",
       "      <td>-0.518099</td>\n",
       "      <td>0.495387</td>\n",
       "      <td>-0.471113</td>\n",
       "      <td>-0.081226</td>\n",
       "      <td>-0.426648</td>\n",
       "      <td>0.721238</td>\n",
       "      <td>NaN</td>\n",
       "      <td>test</td>\n",
       "    </tr>\n",
       "    <tr>\n",
       "      <th>14797</th>\n",
       "      <td>-1.959852</td>\n",
       "      <td>1.362084</td>\n",
       "      <td>-0.656027</td>\n",
       "      <td>0.067511</td>\n",
       "      <td>-0.110112</td>\n",
       "      <td>-0.518099</td>\n",
       "      <td>-0.746985</td>\n",
       "      <td>2.122635</td>\n",
       "      <td>-0.081226</td>\n",
       "      <td>-0.426648</td>\n",
       "      <td>-1.386504</td>\n",
       "      <td>NaN</td>\n",
       "      <td>test</td>\n",
       "    </tr>\n",
       "    <tr>\n",
       "      <th>14798</th>\n",
       "      <td>0.510243</td>\n",
       "      <td>-1.633499</td>\n",
       "      <td>-0.656027</td>\n",
       "      <td>-0.796017</td>\n",
       "      <td>-0.098654</td>\n",
       "      <td>-0.518099</td>\n",
       "      <td>0.495387</td>\n",
       "      <td>2.122635</td>\n",
       "      <td>-0.081226</td>\n",
       "      <td>-0.426648</td>\n",
       "      <td>-1.386504</td>\n",
       "      <td>NaN</td>\n",
       "      <td>test</td>\n",
       "    </tr>\n",
       "  </tbody>\n",
       "</table>\n",
       "<p>14799 rows × 13 columns</p>\n",
       "</div>"
      ],
      "text/plain": [
       "       availability  location      size   society  total_sqft      bath  \\\n",
       "0         -1.959852 -0.696718 -0.656027 -1.670517   -0.105648 -0.518099   \n",
       "1          0.510243 -0.974577  0.997617  0.612839    0.009227  1.718585   \n",
       "2          0.510243  1.391193  0.170795  0.902510   -0.077078 -0.518099   \n",
       "3          0.510243  0.224186  0.170795  0.320973   -0.071052  0.227462   \n",
       "4          0.510243  0.113042 -0.656027  0.902510   -0.094934 -0.518099   \n",
       "...             ...       ...       ...       ...         ...       ...   \n",
       "14794      0.510243  1.563200 -0.656027 -0.366996   -0.091512 -0.518099   \n",
       "14795      0.510243 -0.572343  0.170795  0.902510   -0.060710  0.227462   \n",
       "14796      0.510243 -1.003686 -0.656027  0.676479   -0.093744 -0.518099   \n",
       "14797     -1.959852  1.362084 -0.656027  0.067511   -0.110112 -0.518099   \n",
       "14798      0.510243 -1.633499 -0.656027 -0.796017   -0.098654 -0.518099   \n",
       "\n",
       "        balcony  area_type_Built-up  Area  area_type_Carpet  Area  \\\n",
       "0     -0.746985                 -0.471113               -0.081226   \n",
       "1      1.737760                 -0.471113               -0.081226   \n",
       "2      1.737760                  2.122635               -0.081226   \n",
       "3     -0.746985                 -0.471113               -0.081226   \n",
       "4     -0.746985                 -0.471113               -0.081226   \n",
       "...         ...                       ...                     ...   \n",
       "14794 -0.746985                 -0.471113               -0.081226   \n",
       "14795  0.495387                 -0.471113               -0.081226   \n",
       "14796  0.495387                 -0.471113               -0.081226   \n",
       "14797 -0.746985                  2.122635               -0.081226   \n",
       "14798  0.495387                  2.122635               -0.081226   \n",
       "\n",
       "       area_type_Plot  Area  area_type_Super built-up  Area   price source  \n",
       "0                 -0.426648                        0.721238   39.07  train  \n",
       "1                  2.343851                       -1.386504  120.00  train  \n",
       "2                 -0.426648                       -1.386504   62.00  train  \n",
       "3                 -0.426648                        0.721238   95.00  train  \n",
       "4                 -0.426648                        0.721238   51.00  train  \n",
       "...                     ...                             ...     ...    ...  \n",
       "14794             -0.426648                        0.721238     NaN   test  \n",
       "14795             -0.426648                        0.721238     NaN   test  \n",
       "14796             -0.426648                        0.721238     NaN   test  \n",
       "14797             -0.426648                       -1.386504     NaN   test  \n",
       "14798             -0.426648                       -1.386504     NaN   test  \n",
       "\n",
       "[14799 rows x 13 columns]"
      ]
     },
     "execution_count": 79,
     "metadata": {},
     "output_type": "execute_result"
    }
   ],
   "source": [
    "preprocessed_data.reset_index(drop=True)"
   ]
  },
  {
   "cell_type": "code",
   "execution_count": 80,
   "id": "5583d8c0",
   "metadata": {},
   "outputs": [
    {
     "data": {
      "text/plain": [
       "availability                         0\n",
       "location                             0\n",
       "size                                 0\n",
       "society                              0\n",
       "total_sqft                           0\n",
       "bath                                 0\n",
       "balcony                              0\n",
       "area_type_Built-up  Area             0\n",
       "area_type_Carpet  Area               0\n",
       "area_type_Plot  Area                 0\n",
       "area_type_Super built-up  Area       0\n",
       "price                             1480\n",
       "source                               0\n",
       "dtype: int64"
      ]
     },
     "execution_count": 80,
     "metadata": {},
     "output_type": "execute_result"
    }
   ],
   "source": [
    "preprocessed_data.isna().sum()"
   ]
  },
  {
   "cell_type": "code",
   "execution_count": 81,
   "id": "54dae74c",
   "metadata": {},
   "outputs": [],
   "source": [
    "train_preprocessed = preprocessed_data[preprocessed_data['source']=='train'].drop(columns='source')"
   ]
  },
  {
   "cell_type": "code",
   "execution_count": 82,
   "id": "725a63e5",
   "metadata": {},
   "outputs": [],
   "source": [
    "test_preprocessed = preprocessed_data[preprocessed_data['source']=='test'].drop(columns=['source','price'])"
   ]
  },
  {
   "cell_type": "code",
   "execution_count": 83,
   "id": "2b828834",
   "metadata": {},
   "outputs": [
    {
     "data": {
      "text/plain": [
       "((13319, 12), (1480, 11))"
      ]
     },
     "execution_count": 83,
     "metadata": {},
     "output_type": "execute_result"
    }
   ],
   "source": [
    "train_preprocessed.shape,test_preprocessed.shape"
   ]
  },
  {
   "cell_type": "code",
   "execution_count": null,
   "id": "da59bab2",
   "metadata": {},
   "outputs": [],
   "source": []
  },
  {
   "cell_type": "code",
   "execution_count": 84,
   "id": "a44088bd",
   "metadata": {},
   "outputs": [
    {
     "data": {
      "text/html": [
       "<div>\n",
       "<style scoped>\n",
       "    .dataframe tbody tr th:only-of-type {\n",
       "        vertical-align: middle;\n",
       "    }\n",
       "\n",
       "    .dataframe tbody tr th {\n",
       "        vertical-align: top;\n",
       "    }\n",
       "\n",
       "    .dataframe thead th {\n",
       "        text-align: right;\n",
       "    }\n",
       "</style>\n",
       "<table border=\"1\" class=\"dataframe\">\n",
       "  <thead>\n",
       "    <tr style=\"text-align: right;\">\n",
       "      <th></th>\n",
       "      <th>availability</th>\n",
       "      <th>location</th>\n",
       "      <th>size</th>\n",
       "      <th>society</th>\n",
       "      <th>total_sqft</th>\n",
       "      <th>bath</th>\n",
       "      <th>balcony</th>\n",
       "      <th>area_type_Built-up  Area</th>\n",
       "      <th>area_type_Carpet  Area</th>\n",
       "      <th>area_type_Plot  Area</th>\n",
       "      <th>area_type_Super built-up  Area</th>\n",
       "      <th>price</th>\n",
       "    </tr>\n",
       "  </thead>\n",
       "  <tbody>\n",
       "    <tr>\n",
       "      <th>0</th>\n",
       "      <td>-1.959852</td>\n",
       "      <td>-0.696718</td>\n",
       "      <td>-0.656027</td>\n",
       "      <td>-1.670517</td>\n",
       "      <td>-0.105648</td>\n",
       "      <td>-0.518099</td>\n",
       "      <td>-0.746985</td>\n",
       "      <td>-0.471113</td>\n",
       "      <td>-0.081226</td>\n",
       "      <td>-0.426648</td>\n",
       "      <td>0.721238</td>\n",
       "      <td>39.07</td>\n",
       "    </tr>\n",
       "    <tr>\n",
       "      <th>1</th>\n",
       "      <td>0.510243</td>\n",
       "      <td>-0.974577</td>\n",
       "      <td>0.997617</td>\n",
       "      <td>0.612839</td>\n",
       "      <td>0.009227</td>\n",
       "      <td>1.718585</td>\n",
       "      <td>1.737760</td>\n",
       "      <td>-0.471113</td>\n",
       "      <td>-0.081226</td>\n",
       "      <td>2.343851</td>\n",
       "      <td>-1.386504</td>\n",
       "      <td>120.00</td>\n",
       "    </tr>\n",
       "    <tr>\n",
       "      <th>2</th>\n",
       "      <td>0.510243</td>\n",
       "      <td>1.391193</td>\n",
       "      <td>0.170795</td>\n",
       "      <td>0.902510</td>\n",
       "      <td>-0.077078</td>\n",
       "      <td>-0.518099</td>\n",
       "      <td>1.737760</td>\n",
       "      <td>2.122635</td>\n",
       "      <td>-0.081226</td>\n",
       "      <td>-0.426648</td>\n",
       "      <td>-1.386504</td>\n",
       "      <td>62.00</td>\n",
       "    </tr>\n",
       "    <tr>\n",
       "      <th>3</th>\n",
       "      <td>0.510243</td>\n",
       "      <td>0.224186</td>\n",
       "      <td>0.170795</td>\n",
       "      <td>0.320973</td>\n",
       "      <td>-0.071052</td>\n",
       "      <td>0.227462</td>\n",
       "      <td>-0.746985</td>\n",
       "      <td>-0.471113</td>\n",
       "      <td>-0.081226</td>\n",
       "      <td>-0.426648</td>\n",
       "      <td>0.721238</td>\n",
       "      <td>95.00</td>\n",
       "    </tr>\n",
       "    <tr>\n",
       "      <th>4</th>\n",
       "      <td>0.510243</td>\n",
       "      <td>0.113042</td>\n",
       "      <td>-0.656027</td>\n",
       "      <td>0.902510</td>\n",
       "      <td>-0.094934</td>\n",
       "      <td>-0.518099</td>\n",
       "      <td>-0.746985</td>\n",
       "      <td>-0.471113</td>\n",
       "      <td>-0.081226</td>\n",
       "      <td>-0.426648</td>\n",
       "      <td>0.721238</td>\n",
       "      <td>51.00</td>\n",
       "    </tr>\n",
       "  </tbody>\n",
       "</table>\n",
       "</div>"
      ],
      "text/plain": [
       "   availability  location      size   society  total_sqft      bath   balcony  \\\n",
       "0     -1.959852 -0.696718 -0.656027 -1.670517   -0.105648 -0.518099 -0.746985   \n",
       "1      0.510243 -0.974577  0.997617  0.612839    0.009227  1.718585  1.737760   \n",
       "2      0.510243  1.391193  0.170795  0.902510   -0.077078 -0.518099  1.737760   \n",
       "3      0.510243  0.224186  0.170795  0.320973   -0.071052  0.227462 -0.746985   \n",
       "4      0.510243  0.113042 -0.656027  0.902510   -0.094934 -0.518099 -0.746985   \n",
       "\n",
       "   area_type_Built-up  Area  area_type_Carpet  Area  area_type_Plot  Area  \\\n",
       "0                 -0.471113               -0.081226             -0.426648   \n",
       "1                 -0.471113               -0.081226              2.343851   \n",
       "2                  2.122635               -0.081226             -0.426648   \n",
       "3                 -0.471113               -0.081226             -0.426648   \n",
       "4                 -0.471113               -0.081226             -0.426648   \n",
       "\n",
       "   area_type_Super built-up  Area   price  \n",
       "0                        0.721238   39.07  \n",
       "1                       -1.386504  120.00  \n",
       "2                       -1.386504   62.00  \n",
       "3                        0.721238   95.00  \n",
       "4                        0.721238   51.00  "
      ]
     },
     "execution_count": 84,
     "metadata": {},
     "output_type": "execute_result"
    }
   ],
   "source": [
    "train_preprocessed.head()"
   ]
  },
  {
   "cell_type": "code",
   "execution_count": 85,
   "id": "decff73e",
   "metadata": {},
   "outputs": [
    {
     "data": {
      "text/plain": [
       "availability                      0\n",
       "location                          0\n",
       "size                              0\n",
       "society                           0\n",
       "total_sqft                        0\n",
       "bath                              0\n",
       "balcony                           0\n",
       "area_type_Built-up  Area          0\n",
       "area_type_Carpet  Area            0\n",
       "area_type_Plot  Area              0\n",
       "area_type_Super built-up  Area    0\n",
       "price                             0\n",
       "dtype: int64"
      ]
     },
     "execution_count": 85,
     "metadata": {},
     "output_type": "execute_result"
    }
   ],
   "source": [
    "train_preprocessed.isna().sum()"
   ]
  },
  {
   "cell_type": "code",
   "execution_count": 86,
   "id": "49aad6f4",
   "metadata": {},
   "outputs": [
    {
     "data": {
      "text/plain": [
       "availability                      0\n",
       "location                          0\n",
       "size                              0\n",
       "society                           0\n",
       "total_sqft                        0\n",
       "bath                              0\n",
       "balcony                           0\n",
       "area_type_Built-up  Area          0\n",
       "area_type_Carpet  Area            0\n",
       "area_type_Plot  Area              0\n",
       "area_type_Super built-up  Area    0\n",
       "price                             0\n",
       "dtype: int64"
      ]
     },
     "execution_count": 86,
     "metadata": {},
     "output_type": "execute_result"
    }
   ],
   "source": [
    "train_preprocessed.isna().sum()"
   ]
  },
  {
   "cell_type": "code",
   "execution_count": 87,
   "id": "5b8969a9",
   "metadata": {},
   "outputs": [
    {
     "data": {
      "text/plain": [
       "availability                      0\n",
       "location                          0\n",
       "size                              0\n",
       "society                           0\n",
       "total_sqft                        0\n",
       "bath                              0\n",
       "balcony                           0\n",
       "area_type_Built-up  Area          0\n",
       "area_type_Carpet  Area            0\n",
       "area_type_Plot  Area              0\n",
       "area_type_Super built-up  Area    0\n",
       "dtype: int64"
      ]
     },
     "execution_count": 87,
     "metadata": {},
     "output_type": "execute_result"
    }
   ],
   "source": [
    "test_preprocessed.isna().sum()"
   ]
  },
  {
   "cell_type": "code",
   "execution_count": 88,
   "id": "613a8784",
   "metadata": {
    "scrolled": true
   },
   "outputs": [
    {
     "data": {
      "text/html": [
       "<div>\n",
       "<style scoped>\n",
       "    .dataframe tbody tr th:only-of-type {\n",
       "        vertical-align: middle;\n",
       "    }\n",
       "\n",
       "    .dataframe tbody tr th {\n",
       "        vertical-align: top;\n",
       "    }\n",
       "\n",
       "    .dataframe thead th {\n",
       "        text-align: right;\n",
       "    }\n",
       "</style>\n",
       "<table border=\"1\" class=\"dataframe\">\n",
       "  <thead>\n",
       "    <tr style=\"text-align: right;\">\n",
       "      <th></th>\n",
       "      <th>availability</th>\n",
       "      <th>location</th>\n",
       "      <th>size</th>\n",
       "      <th>society</th>\n",
       "      <th>total_sqft</th>\n",
       "      <th>bath</th>\n",
       "      <th>balcony</th>\n",
       "      <th>area_type_Built-up  Area</th>\n",
       "      <th>area_type_Carpet  Area</th>\n",
       "      <th>area_type_Plot  Area</th>\n",
       "      <th>area_type_Super built-up  Area</th>\n",
       "    </tr>\n",
       "  </thead>\n",
       "  <tbody>\n",
       "    <tr>\n",
       "      <th>0</th>\n",
       "      <td>0.510243</td>\n",
       "      <td>-1.083074</td>\n",
       "      <td>-0.656027</td>\n",
       "      <td>-0.147548</td>\n",
       "      <td>-0.093074</td>\n",
       "      <td>-0.518099</td>\n",
       "      <td>0.495387</td>\n",
       "      <td>-0.471113</td>\n",
       "      <td>-0.081226</td>\n",
       "      <td>-0.426648</td>\n",
       "      <td>0.721238</td>\n",
       "    </tr>\n",
       "    <tr>\n",
       "      <th>1</th>\n",
       "      <td>0.510243</td>\n",
       "      <td>-1.562050</td>\n",
       "      <td>5.131728</td>\n",
       "      <td>0.902510</td>\n",
       "      <td>-0.005653</td>\n",
       "      <td>4.700830</td>\n",
       "      <td>0.495387</td>\n",
       "      <td>-0.471113</td>\n",
       "      <td>-0.081226</td>\n",
       "      <td>2.343851</td>\n",
       "      <td>-1.386504</td>\n",
       "    </tr>\n",
       "    <tr>\n",
       "      <th>2</th>\n",
       "      <td>-1.959852</td>\n",
       "      <td>-0.421505</td>\n",
       "      <td>0.997617</td>\n",
       "      <td>0.021427</td>\n",
       "      <td>-0.061454</td>\n",
       "      <td>1.718585</td>\n",
       "      <td>0.495387</td>\n",
       "      <td>-0.471113</td>\n",
       "      <td>-0.081226</td>\n",
       "      <td>2.343851</td>\n",
       "      <td>-1.386504</td>\n",
       "    </tr>\n",
       "    <tr>\n",
       "      <th>3</th>\n",
       "      <td>0.510243</td>\n",
       "      <td>0.073348</td>\n",
       "      <td>0.170795</td>\n",
       "      <td>0.884954</td>\n",
       "      <td>-0.085857</td>\n",
       "      <td>0.227462</td>\n",
       "      <td>-0.746985</td>\n",
       "      <td>-0.471113</td>\n",
       "      <td>-0.081226</td>\n",
       "      <td>-0.426648</td>\n",
       "      <td>0.721238</td>\n",
       "    </tr>\n",
       "    <tr>\n",
       "      <th>4</th>\n",
       "      <td>0.510243</td>\n",
       "      <td>0.089226</td>\n",
       "      <td>-0.656027</td>\n",
       "      <td>-2.056746</td>\n",
       "      <td>-0.097836</td>\n",
       "      <td>-0.518099</td>\n",
       "      <td>-0.746985</td>\n",
       "      <td>-0.471113</td>\n",
       "      <td>-0.081226</td>\n",
       "      <td>-0.426648</td>\n",
       "      <td>0.721238</td>\n",
       "    </tr>\n",
       "    <tr>\n",
       "      <th>...</th>\n",
       "      <td>...</td>\n",
       "      <td>...</td>\n",
       "      <td>...</td>\n",
       "      <td>...</td>\n",
       "      <td>...</td>\n",
       "      <td>...</td>\n",
       "      <td>...</td>\n",
       "      <td>...</td>\n",
       "      <td>...</td>\n",
       "      <td>...</td>\n",
       "      <td>...</td>\n",
       "    </tr>\n",
       "    <tr>\n",
       "      <th>1475</th>\n",
       "      <td>0.510243</td>\n",
       "      <td>1.563200</td>\n",
       "      <td>-0.656027</td>\n",
       "      <td>-0.366996</td>\n",
       "      <td>-0.091512</td>\n",
       "      <td>-0.518099</td>\n",
       "      <td>-0.746985</td>\n",
       "      <td>-0.471113</td>\n",
       "      <td>-0.081226</td>\n",
       "      <td>-0.426648</td>\n",
       "      <td>0.721238</td>\n",
       "    </tr>\n",
       "    <tr>\n",
       "      <th>1476</th>\n",
       "      <td>0.510243</td>\n",
       "      <td>-0.572343</td>\n",
       "      <td>0.170795</td>\n",
       "      <td>0.902510</td>\n",
       "      <td>-0.060710</td>\n",
       "      <td>0.227462</td>\n",
       "      <td>0.495387</td>\n",
       "      <td>-0.471113</td>\n",
       "      <td>-0.081226</td>\n",
       "      <td>-0.426648</td>\n",
       "      <td>0.721238</td>\n",
       "    </tr>\n",
       "    <tr>\n",
       "      <th>1477</th>\n",
       "      <td>0.510243</td>\n",
       "      <td>-1.003686</td>\n",
       "      <td>-0.656027</td>\n",
       "      <td>0.676479</td>\n",
       "      <td>-0.093744</td>\n",
       "      <td>-0.518099</td>\n",
       "      <td>0.495387</td>\n",
       "      <td>-0.471113</td>\n",
       "      <td>-0.081226</td>\n",
       "      <td>-0.426648</td>\n",
       "      <td>0.721238</td>\n",
       "    </tr>\n",
       "    <tr>\n",
       "      <th>1478</th>\n",
       "      <td>-1.959852</td>\n",
       "      <td>1.362084</td>\n",
       "      <td>-0.656027</td>\n",
       "      <td>0.067511</td>\n",
       "      <td>-0.110112</td>\n",
       "      <td>-0.518099</td>\n",
       "      <td>-0.746985</td>\n",
       "      <td>2.122635</td>\n",
       "      <td>-0.081226</td>\n",
       "      <td>-0.426648</td>\n",
       "      <td>-1.386504</td>\n",
       "    </tr>\n",
       "    <tr>\n",
       "      <th>1479</th>\n",
       "      <td>0.510243</td>\n",
       "      <td>-1.633499</td>\n",
       "      <td>-0.656027</td>\n",
       "      <td>-0.796017</td>\n",
       "      <td>-0.098654</td>\n",
       "      <td>-0.518099</td>\n",
       "      <td>0.495387</td>\n",
       "      <td>2.122635</td>\n",
       "      <td>-0.081226</td>\n",
       "      <td>-0.426648</td>\n",
       "      <td>-1.386504</td>\n",
       "    </tr>\n",
       "  </tbody>\n",
       "</table>\n",
       "<p>1480 rows × 11 columns</p>\n",
       "</div>"
      ],
      "text/plain": [
       "      availability  location      size   society  total_sqft      bath  \\\n",
       "0         0.510243 -1.083074 -0.656027 -0.147548   -0.093074 -0.518099   \n",
       "1         0.510243 -1.562050  5.131728  0.902510   -0.005653  4.700830   \n",
       "2        -1.959852 -0.421505  0.997617  0.021427   -0.061454  1.718585   \n",
       "3         0.510243  0.073348  0.170795  0.884954   -0.085857  0.227462   \n",
       "4         0.510243  0.089226 -0.656027 -2.056746   -0.097836 -0.518099   \n",
       "...            ...       ...       ...       ...         ...       ...   \n",
       "1475      0.510243  1.563200 -0.656027 -0.366996   -0.091512 -0.518099   \n",
       "1476      0.510243 -0.572343  0.170795  0.902510   -0.060710  0.227462   \n",
       "1477      0.510243 -1.003686 -0.656027  0.676479   -0.093744 -0.518099   \n",
       "1478     -1.959852  1.362084 -0.656027  0.067511   -0.110112 -0.518099   \n",
       "1479      0.510243 -1.633499 -0.656027 -0.796017   -0.098654 -0.518099   \n",
       "\n",
       "       balcony  area_type_Built-up  Area  area_type_Carpet  Area  \\\n",
       "0     0.495387                 -0.471113               -0.081226   \n",
       "1     0.495387                 -0.471113               -0.081226   \n",
       "2     0.495387                 -0.471113               -0.081226   \n",
       "3    -0.746985                 -0.471113               -0.081226   \n",
       "4    -0.746985                 -0.471113               -0.081226   \n",
       "...        ...                       ...                     ...   \n",
       "1475 -0.746985                 -0.471113               -0.081226   \n",
       "1476  0.495387                 -0.471113               -0.081226   \n",
       "1477  0.495387                 -0.471113               -0.081226   \n",
       "1478 -0.746985                  2.122635               -0.081226   \n",
       "1479  0.495387                  2.122635               -0.081226   \n",
       "\n",
       "      area_type_Plot  Area  area_type_Super built-up  Area  \n",
       "0                -0.426648                        0.721238  \n",
       "1                 2.343851                       -1.386504  \n",
       "2                 2.343851                       -1.386504  \n",
       "3                -0.426648                        0.721238  \n",
       "4                -0.426648                        0.721238  \n",
       "...                    ...                             ...  \n",
       "1475             -0.426648                        0.721238  \n",
       "1476             -0.426648                        0.721238  \n",
       "1477             -0.426648                        0.721238  \n",
       "1478             -0.426648                       -1.386504  \n",
       "1479             -0.426648                       -1.386504  \n",
       "\n",
       "[1480 rows x 11 columns]"
      ]
     },
     "execution_count": 88,
     "metadata": {},
     "output_type": "execute_result"
    }
   ],
   "source": [
    "test_preprocessed =test_preprocessed.reset_index(drop=True)\n",
    "test_preprocessed"
   ]
  },
  {
   "cell_type": "code",
   "execution_count": 89,
   "id": "b71ac1f2",
   "metadata": {},
   "outputs": [],
   "source": [
    "train_preprocessed.to_csv('train_preprocessed.csv', index=False)\n",
    "test_preprocessed.to_csv('test_preprocessed.csv', index=False)"
   ]
  },
  {
   "cell_type": "code",
   "execution_count": null,
   "id": "16c619f6",
   "metadata": {},
   "outputs": [],
   "source": []
  },
  {
   "cell_type": "code",
   "execution_count": null,
   "id": "4f7551a7",
   "metadata": {},
   "outputs": [],
   "source": []
  }
 ],
 "metadata": {
  "kernelspec": {
   "display_name": "Python 3 (ipykernel)",
   "language": "python",
   "name": "python3"
  },
  "language_info": {
   "codemirror_mode": {
    "name": "ipython",
    "version": 3
   },
   "file_extension": ".py",
   "mimetype": "text/x-python",
   "name": "python",
   "nbconvert_exporter": "python",
   "pygments_lexer": "ipython3",
   "version": "3.9.7"
  }
 },
 "nbformat": 4,
 "nbformat_minor": 5
}
