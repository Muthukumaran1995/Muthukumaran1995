{
 "cells": [
  {
   "cell_type": "code",
   "execution_count": 21,
   "id": "3ca71e04",
   "metadata": {},
   "outputs": [],
   "source": [
    "import pandas as pd\n",
    "import numpy as np\n",
    "from sklearn.model_selection import train_test_split\n",
    "from sklearn.neighbors import KNeighborsClassifier\n",
    "from sklearn.metrics import accuracy_score\n",
    "from sklearn.preprocessing import StandardScaler"
   ]
  },
  {
   "cell_type": "code",
   "execution_count": 22,
   "id": "ae4d69d1",
   "metadata": {},
   "outputs": [],
   "source": [
    "election= pd.read_csv(r'E:\\INCEPTEZ\\Training\\Basics_python\\Elections.csv')"
   ]
  },
  {
   "cell_type": "code",
   "execution_count": 23,
   "id": "966e6e2f",
   "metadata": {},
   "outputs": [
    {
     "data": {
      "text/html": [
       "<div>\n",
       "<style scoped>\n",
       "    .dataframe tbody tr th:only-of-type {\n",
       "        vertical-align: middle;\n",
       "    }\n",
       "\n",
       "    .dataframe tbody tr th {\n",
       "        vertical-align: top;\n",
       "    }\n",
       "\n",
       "    .dataframe thead th {\n",
       "        text-align: right;\n",
       "    }\n",
       "</style>\n",
       "<table border=\"1\" class=\"dataframe\">\n",
       "  <thead>\n",
       "    <tr style=\"text-align: right;\">\n",
       "      <th></th>\n",
       "      <th>Store</th>\n",
       "      <th>Location</th>\n",
       "      <th>State</th>\n",
       "      <th>RTWState</th>\n",
       "      <th>VoteCountDate</th>\n",
       "      <th>VotesYes</th>\n",
       "      <th>VotesNo</th>\n",
       "      <th>VoteTotal</th>\n",
       "      <th>Margin</th>\n",
       "      <th>Result</th>\n",
       "    </tr>\n",
       "  </thead>\n",
       "  <tbody>\n",
       "    <tr>\n",
       "      <th>0</th>\n",
       "      <td>Camp Road Hamburg</td>\n",
       "      <td>Buffalo, NY</td>\n",
       "      <td>NY</td>\n",
       "      <td>No</td>\n",
       "      <td>12/9/2021</td>\n",
       "      <td>8</td>\n",
       "      <td>12</td>\n",
       "      <td>20</td>\n",
       "      <td>-0.20</td>\n",
       "      <td>No</td>\n",
       "    </tr>\n",
       "    <tr>\n",
       "      <th>1</th>\n",
       "      <td>Genessee St</td>\n",
       "      <td>Buffalo, NY</td>\n",
       "      <td>NY</td>\n",
       "      <td>No</td>\n",
       "      <td>12/9/2021</td>\n",
       "      <td>15</td>\n",
       "      <td>9</td>\n",
       "      <td>24</td>\n",
       "      <td>0.25</td>\n",
       "      <td>Yes</td>\n",
       "    </tr>\n",
       "    <tr>\n",
       "      <th>2</th>\n",
       "      <td>Elmwood</td>\n",
       "      <td>Buffalo, NY</td>\n",
       "      <td>NY</td>\n",
       "      <td>No</td>\n",
       "      <td>12/9/2021</td>\n",
       "      <td>19</td>\n",
       "      <td>8</td>\n",
       "      <td>27</td>\n",
       "      <td>0.41</td>\n",
       "      <td>Yes</td>\n",
       "    </tr>\n",
       "    <tr>\n",
       "      <th>3</th>\n",
       "      <td>Power &amp; Baseline Road</td>\n",
       "      <td>Mesa, AZ</td>\n",
       "      <td>AZ</td>\n",
       "      <td>Yes</td>\n",
       "      <td>2/25/2022</td>\n",
       "      <td>25</td>\n",
       "      <td>3</td>\n",
       "      <td>28</td>\n",
       "      <td>0.79</td>\n",
       "      <td>Yes</td>\n",
       "    </tr>\n",
       "    <tr>\n",
       "      <th>4</th>\n",
       "      <td>Sheridan &amp; Bailey</td>\n",
       "      <td>Buffalo, NY</td>\n",
       "      <td>NY</td>\n",
       "      <td>No</td>\n",
       "      <td>3/9/2022</td>\n",
       "      <td>15</td>\n",
       "      <td>12</td>\n",
       "      <td>27</td>\n",
       "      <td>0.11</td>\n",
       "      <td>Yes</td>\n",
       "    </tr>\n",
       "  </tbody>\n",
       "</table>\n",
       "</div>"
      ],
      "text/plain": [
       "                   Store     Location State RTWState VoteCountDate  VotesYes  \\\n",
       "0      Camp Road Hamburg  Buffalo, NY    NY       No     12/9/2021         8   \n",
       "1            Genessee St  Buffalo, NY    NY       No     12/9/2021        15   \n",
       "2                Elmwood  Buffalo, NY    NY       No     12/9/2021        19   \n",
       "3  Power & Baseline Road     Mesa, AZ    AZ      Yes     2/25/2022        25   \n",
       "4      Sheridan & Bailey  Buffalo, NY    NY       No      3/9/2022        15   \n",
       "\n",
       "   VotesNo  VoteTotal  Margin Result  \n",
       "0       12         20   -0.20     No  \n",
       "1        9         24    0.25    Yes  \n",
       "2        8         27    0.41    Yes  \n",
       "3        3         28    0.79    Yes  \n",
       "4       12         27    0.11    Yes  "
      ]
     },
     "execution_count": 23,
     "metadata": {},
     "output_type": "execute_result"
    }
   ],
   "source": [
    "election[:5]"
   ]
  },
  {
   "cell_type": "code",
   "execution_count": 24,
   "id": "1812643f",
   "metadata": {},
   "outputs": [
    {
     "data": {
      "text/plain": [
       "(76, 10)"
      ]
     },
     "execution_count": 24,
     "metadata": {},
     "output_type": "execute_result"
    }
   ],
   "source": [
    "election.shape"
   ]
  },
  {
   "cell_type": "code",
   "execution_count": 25,
   "id": "9a8d3ba6",
   "metadata": {},
   "outputs": [
    {
     "data": {
      "text/plain": [
       "Index(['Store', 'Location', 'State', 'RTWState', 'VoteCountDate', 'VotesYes',\n",
       "       'VotesNo', 'VoteTotal', 'Margin', 'Result'],\n",
       "      dtype='object')"
      ]
     },
     "execution_count": 25,
     "metadata": {},
     "output_type": "execute_result"
    }
   ],
   "source": [
    "election.columns"
   ]
  },
  {
   "cell_type": "code",
   "execution_count": 26,
   "id": "04baecf5",
   "metadata": {},
   "outputs": [
    {
     "data": {
      "text/html": [
       "<div>\n",
       "<style scoped>\n",
       "    .dataframe tbody tr th:only-of-type {\n",
       "        vertical-align: middle;\n",
       "    }\n",
       "\n",
       "    .dataframe tbody tr th {\n",
       "        vertical-align: top;\n",
       "    }\n",
       "\n",
       "    .dataframe thead th {\n",
       "        text-align: right;\n",
       "    }\n",
       "</style>\n",
       "<table border=\"1\" class=\"dataframe\">\n",
       "  <thead>\n",
       "    <tr style=\"text-align: right;\">\n",
       "      <th></th>\n",
       "      <th>VotesYes</th>\n",
       "      <th>VotesNo</th>\n",
       "      <th>VoteTotal</th>\n",
       "      <th>Margin</th>\n",
       "    </tr>\n",
       "  </thead>\n",
       "  <tbody>\n",
       "    <tr>\n",
       "      <th>count</th>\n",
       "      <td>76.000000</td>\n",
       "      <td>76.000000</td>\n",
       "      <td>76.000000</td>\n",
       "      <td>76.000000</td>\n",
       "    </tr>\n",
       "    <tr>\n",
       "      <th>mean</th>\n",
       "      <td>13.986842</td>\n",
       "      <td>4.644737</td>\n",
       "      <td>18.631579</td>\n",
       "      <td>0.561316</td>\n",
       "    </tr>\n",
       "    <tr>\n",
       "      <th>std</th>\n",
       "      <td>7.399988</td>\n",
       "      <td>6.202589</td>\n",
       "      <td>11.282839</td>\n",
       "      <td>0.393695</td>\n",
       "    </tr>\n",
       "    <tr>\n",
       "      <th>min</th>\n",
       "      <td>4.000000</td>\n",
       "      <td>0.000000</td>\n",
       "      <td>5.000000</td>\n",
       "      <td>-0.310000</td>\n",
       "    </tr>\n",
       "    <tr>\n",
       "      <th>25%</th>\n",
       "      <td>9.750000</td>\n",
       "      <td>1.000000</td>\n",
       "      <td>13.000000</td>\n",
       "      <td>0.225000</td>\n",
       "    </tr>\n",
       "    <tr>\n",
       "      <th>50%</th>\n",
       "      <td>12.500000</td>\n",
       "      <td>2.500000</td>\n",
       "      <td>15.500000</td>\n",
       "      <td>0.685000</td>\n",
       "    </tr>\n",
       "    <tr>\n",
       "      <th>75%</th>\n",
       "      <td>17.000000</td>\n",
       "      <td>7.000000</td>\n",
       "      <td>21.000000</td>\n",
       "      <td>0.882500</td>\n",
       "    </tr>\n",
       "    <tr>\n",
       "      <th>max</th>\n",
       "      <td>46.000000</td>\n",
       "      <td>36.000000</td>\n",
       "      <td>82.000000</td>\n",
       "      <td>1.000000</td>\n",
       "    </tr>\n",
       "  </tbody>\n",
       "</table>\n",
       "</div>"
      ],
      "text/plain": [
       "        VotesYes    VotesNo  VoteTotal     Margin\n",
       "count  76.000000  76.000000  76.000000  76.000000\n",
       "mean   13.986842   4.644737  18.631579   0.561316\n",
       "std     7.399988   6.202589  11.282839   0.393695\n",
       "min     4.000000   0.000000   5.000000  -0.310000\n",
       "25%     9.750000   1.000000  13.000000   0.225000\n",
       "50%    12.500000   2.500000  15.500000   0.685000\n",
       "75%    17.000000   7.000000  21.000000   0.882500\n",
       "max    46.000000  36.000000  82.000000   1.000000"
      ]
     },
     "execution_count": 26,
     "metadata": {},
     "output_type": "execute_result"
    }
   ],
   "source": [
    "election.describe()"
   ]
  },
  {
   "cell_type": "code",
   "execution_count": 27,
   "id": "f6a8176e",
   "metadata": {},
   "outputs": [
    {
     "data": {
      "text/plain": [
       "Store            0\n",
       "Location         0\n",
       "State            0\n",
       "RTWState         0\n",
       "VoteCountDate    0\n",
       "VotesYes         0\n",
       "VotesNo          0\n",
       "VoteTotal        0\n",
       "Margin           0\n",
       "Result           0\n",
       "dtype: int64"
      ]
     },
     "execution_count": 27,
     "metadata": {},
     "output_type": "execute_result"
    }
   ],
   "source": [
    "election.isna().sum()       ### to find any missing values columnwise"
   ]
  },
  {
   "cell_type": "markdown",
   "id": "bb981bdb",
   "metadata": {},
   "source": [
    "### using Label_encoder"
   ]
  },
  {
   "cell_type": "code",
   "execution_count": 28,
   "id": "83464da0",
   "metadata": {},
   "outputs": [],
   "source": [
    "from sklearn.preprocessing import LabelEncoder       ##  encoding the  categorical columns"
   ]
  },
  {
   "cell_type": "code",
   "execution_count": 29,
   "id": "42554648",
   "metadata": {},
   "outputs": [],
   "source": [
    "encoder_store = LabelEncoder()\n",
    "encoder_store.fit(election['Store'])\n",
    "election['Store'] = encoder_store.transform(election['Store'])"
   ]
  },
  {
   "cell_type": "code",
   "execution_count": 30,
   "id": "1e6a38c3",
   "metadata": {},
   "outputs": [],
   "source": [
    "encoder_location = LabelEncoder()\n",
    "encoder_location.fit(election['Location'])\n",
    "election['Location'] = encoder_location.transform(election['Location'])"
   ]
  },
  {
   "cell_type": "code",
   "execution_count": 31,
   "id": "ed75df9d",
   "metadata": {},
   "outputs": [],
   "source": [
    "encoder_state = LabelEncoder()\n",
    "encoder_state.fit(election['State'])\n",
    "election['State'] = encoder_state.transform(election['State'])"
   ]
  },
  {
   "cell_type": "code",
   "execution_count": 32,
   "id": "00a5136e",
   "metadata": {},
   "outputs": [],
   "source": [
    "encoder_rtwstate = LabelEncoder()\n",
    "encoder_rtwstate.fit(election['RTWState'])\n",
    "election['RTWState'] = encoder_rtwstate.transform(election['RTWState'])"
   ]
  },
  {
   "cell_type": "code",
   "execution_count": 33,
   "id": "3a47d70d",
   "metadata": {},
   "outputs": [],
   "source": [
    "encoder_VoteCountDate = LabelEncoder()\n",
    "encoder_VoteCountDate.fit(election['VoteCountDate'])\n",
    "election['VoteCountDate'] = encoder_VoteCountDate.transform(election['VoteCountDate'])"
   ]
  },
  {
   "cell_type": "code",
   "execution_count": 34,
   "id": "3ab09e57",
   "metadata": {},
   "outputs": [
    {
     "data": {
      "text/html": [
       "<div>\n",
       "<style scoped>\n",
       "    .dataframe tbody tr th:only-of-type {\n",
       "        vertical-align: middle;\n",
       "    }\n",
       "\n",
       "    .dataframe tbody tr th {\n",
       "        vertical-align: top;\n",
       "    }\n",
       "\n",
       "    .dataframe thead th {\n",
       "        text-align: right;\n",
       "    }\n",
       "</style>\n",
       "<table border=\"1\" class=\"dataframe\">\n",
       "  <thead>\n",
       "    <tr style=\"text-align: right;\">\n",
       "      <th></th>\n",
       "      <th>Store</th>\n",
       "      <th>Location</th>\n",
       "      <th>State</th>\n",
       "      <th>RTWState</th>\n",
       "      <th>VoteCountDate</th>\n",
       "      <th>VotesYes</th>\n",
       "      <th>VotesNo</th>\n",
       "      <th>VoteTotal</th>\n",
       "      <th>Margin</th>\n",
       "      <th>Result</th>\n",
       "    </tr>\n",
       "  </thead>\n",
       "  <tbody>\n",
       "    <tr>\n",
       "      <th>0</th>\n",
       "      <td>21</td>\n",
       "      <td>6</td>\n",
       "      <td>11</td>\n",
       "      <td>0</td>\n",
       "      <td>0</td>\n",
       "      <td>8</td>\n",
       "      <td>12</td>\n",
       "      <td>20</td>\n",
       "      <td>-0.20</td>\n",
       "      <td>No</td>\n",
       "    </tr>\n",
       "    <tr>\n",
       "      <th>1</th>\n",
       "      <td>37</td>\n",
       "      <td>6</td>\n",
       "      <td>11</td>\n",
       "      <td>0</td>\n",
       "      <td>0</td>\n",
       "      <td>15</td>\n",
       "      <td>9</td>\n",
       "      <td>24</td>\n",
       "      <td>0.25</td>\n",
       "      <td>Yes</td>\n",
       "    </tr>\n",
       "    <tr>\n",
       "      <th>2</th>\n",
       "      <td>33</td>\n",
       "      <td>6</td>\n",
       "      <td>11</td>\n",
       "      <td>0</td>\n",
       "      <td>0</td>\n",
       "      <td>19</td>\n",
       "      <td>8</td>\n",
       "      <td>27</td>\n",
       "      <td>0.41</td>\n",
       "      <td>Yes</td>\n",
       "    </tr>\n",
       "    <tr>\n",
       "      <th>3</th>\n",
       "      <td>59</td>\n",
       "      <td>23</td>\n",
       "      <td>0</td>\n",
       "      <td>1</td>\n",
       "      <td>1</td>\n",
       "      <td>25</td>\n",
       "      <td>3</td>\n",
       "      <td>28</td>\n",
       "      <td>0.79</td>\n",
       "      <td>Yes</td>\n",
       "    </tr>\n",
       "    <tr>\n",
       "      <th>4</th>\n",
       "      <td>63</td>\n",
       "      <td>6</td>\n",
       "      <td>11</td>\n",
       "      <td>0</td>\n",
       "      <td>5</td>\n",
       "      <td>15</td>\n",
       "      <td>12</td>\n",
       "      <td>27</td>\n",
       "      <td>0.11</td>\n",
       "      <td>Yes</td>\n",
       "    </tr>\n",
       "    <tr>\n",
       "      <th>5</th>\n",
       "      <td>67</td>\n",
       "      <td>6</td>\n",
       "      <td>11</td>\n",
       "      <td>0</td>\n",
       "      <td>5</td>\n",
       "      <td>15</td>\n",
       "      <td>12</td>\n",
       "      <td>27</td>\n",
       "      <td>0.11</td>\n",
       "      <td>Yes</td>\n",
       "    </tr>\n",
       "    <tr>\n",
       "      <th>6</th>\n",
       "      <td>20</td>\n",
       "      <td>40</td>\n",
       "      <td>16</td>\n",
       "      <td>0</td>\n",
       "      <td>2</td>\n",
       "      <td>9</td>\n",
       "      <td>0</td>\n",
       "      <td>9</td>\n",
       "      <td>1.00</td>\n",
       "      <td>Yes</td>\n",
       "    </tr>\n",
       "    <tr>\n",
       "      <th>7</th>\n",
       "      <td>28</td>\n",
       "      <td>23</td>\n",
       "      <td>0</td>\n",
       "      <td>1</td>\n",
       "      <td>3</td>\n",
       "      <td>11</td>\n",
       "      <td>3</td>\n",
       "      <td>14</td>\n",
       "      <td>0.57</td>\n",
       "      <td>Yes</td>\n",
       "    </tr>\n",
       "    <tr>\n",
       "      <th>8</th>\n",
       "      <td>44</td>\n",
       "      <td>18</td>\n",
       "      <td>14</td>\n",
       "      <td>1</td>\n",
       "      <td>4</td>\n",
       "      <td>8</td>\n",
       "      <td>7</td>\n",
       "      <td>15</td>\n",
       "      <td>0.07</td>\n",
       "      <td>Yes</td>\n",
       "    </tr>\n",
       "    <tr>\n",
       "      <th>9</th>\n",
       "      <td>54</td>\n",
       "      <td>28</td>\n",
       "      <td>11</td>\n",
       "      <td>0</td>\n",
       "      <td>6</td>\n",
       "      <td>46</td>\n",
       "      <td>36</td>\n",
       "      <td>82</td>\n",
       "      <td>0.12</td>\n",
       "      <td>Yes</td>\n",
       "    </tr>\n",
       "  </tbody>\n",
       "</table>\n",
       "</div>"
      ],
      "text/plain": [
       "   Store  Location  State  RTWState  VoteCountDate  VotesYes  VotesNo  \\\n",
       "0     21         6     11         0              0         8       12   \n",
       "1     37         6     11         0              0        15        9   \n",
       "2     33         6     11         0              0        19        8   \n",
       "3     59        23      0         1              1        25        3   \n",
       "4     63         6     11         0              5        15       12   \n",
       "5     67         6     11         0              5        15       12   \n",
       "6     20        40     16         0              2         9        0   \n",
       "7     28        23      0         1              3        11        3   \n",
       "8     44        18     14         1              4         8        7   \n",
       "9     54        28     11         0              6        46       36   \n",
       "\n",
       "   VoteTotal  Margin Result  \n",
       "0         20   -0.20     No  \n",
       "1         24    0.25    Yes  \n",
       "2         27    0.41    Yes  \n",
       "3         28    0.79    Yes  \n",
       "4         27    0.11    Yes  \n",
       "5         27    0.11    Yes  \n",
       "6          9    1.00    Yes  \n",
       "7         14    0.57    Yes  \n",
       "8         15    0.07    Yes  \n",
       "9         82    0.12    Yes  "
      ]
     },
     "execution_count": 34,
     "metadata": {},
     "output_type": "execute_result"
    }
   ],
   "source": [
    "election[:10]"
   ]
  },
  {
   "cell_type": "code",
   "execution_count": 35,
   "id": "a4f01101",
   "metadata": {},
   "outputs": [
    {
     "data": {
      "text/plain": [
       "0     No\n",
       "1    Yes\n",
       "2    Yes\n",
       "3    Yes\n",
       "4    Yes\n",
       "Name: Result, dtype: object"
      ]
     },
     "execution_count": 35,
     "metadata": {},
     "output_type": "execute_result"
    }
   ],
   "source": [
    "y =election['Result']\n",
    "y[:5]"
   ]
  },
  {
   "cell_type": "code",
   "execution_count": 36,
   "id": "e14c96de",
   "metadata": {},
   "outputs": [
    {
     "name": "stderr",
     "output_type": "stream",
     "text": [
      "C:\\Users\\MUTHUK~1\\AppData\\Local\\Temp/ipykernel_7772/3737227823.py:1: FutureWarning: In a future version of pandas all arguments of DataFrame.drop except for the argument 'labels' will be keyword-only\n",
      "  x= election.drop('Result', 1)\n"
     ]
    },
    {
     "data": {
      "text/html": [
       "<div>\n",
       "<style scoped>\n",
       "    .dataframe tbody tr th:only-of-type {\n",
       "        vertical-align: middle;\n",
       "    }\n",
       "\n",
       "    .dataframe tbody tr th {\n",
       "        vertical-align: top;\n",
       "    }\n",
       "\n",
       "    .dataframe thead th {\n",
       "        text-align: right;\n",
       "    }\n",
       "</style>\n",
       "<table border=\"1\" class=\"dataframe\">\n",
       "  <thead>\n",
       "    <tr style=\"text-align: right;\">\n",
       "      <th></th>\n",
       "      <th>Store</th>\n",
       "      <th>Location</th>\n",
       "      <th>State</th>\n",
       "      <th>RTWState</th>\n",
       "      <th>VoteCountDate</th>\n",
       "      <th>VotesYes</th>\n",
       "      <th>VotesNo</th>\n",
       "      <th>VoteTotal</th>\n",
       "      <th>Margin</th>\n",
       "    </tr>\n",
       "  </thead>\n",
       "  <tbody>\n",
       "    <tr>\n",
       "      <th>0</th>\n",
       "      <td>21</td>\n",
       "      <td>6</td>\n",
       "      <td>11</td>\n",
       "      <td>0</td>\n",
       "      <td>0</td>\n",
       "      <td>8</td>\n",
       "      <td>12</td>\n",
       "      <td>20</td>\n",
       "      <td>-0.20</td>\n",
       "    </tr>\n",
       "    <tr>\n",
       "      <th>1</th>\n",
       "      <td>37</td>\n",
       "      <td>6</td>\n",
       "      <td>11</td>\n",
       "      <td>0</td>\n",
       "      <td>0</td>\n",
       "      <td>15</td>\n",
       "      <td>9</td>\n",
       "      <td>24</td>\n",
       "      <td>0.25</td>\n",
       "    </tr>\n",
       "    <tr>\n",
       "      <th>2</th>\n",
       "      <td>33</td>\n",
       "      <td>6</td>\n",
       "      <td>11</td>\n",
       "      <td>0</td>\n",
       "      <td>0</td>\n",
       "      <td>19</td>\n",
       "      <td>8</td>\n",
       "      <td>27</td>\n",
       "      <td>0.41</td>\n",
       "    </tr>\n",
       "    <tr>\n",
       "      <th>3</th>\n",
       "      <td>59</td>\n",
       "      <td>23</td>\n",
       "      <td>0</td>\n",
       "      <td>1</td>\n",
       "      <td>1</td>\n",
       "      <td>25</td>\n",
       "      <td>3</td>\n",
       "      <td>28</td>\n",
       "      <td>0.79</td>\n",
       "    </tr>\n",
       "    <tr>\n",
       "      <th>4</th>\n",
       "      <td>63</td>\n",
       "      <td>6</td>\n",
       "      <td>11</td>\n",
       "      <td>0</td>\n",
       "      <td>5</td>\n",
       "      <td>15</td>\n",
       "      <td>12</td>\n",
       "      <td>27</td>\n",
       "      <td>0.11</td>\n",
       "    </tr>\n",
       "    <tr>\n",
       "      <th>...</th>\n",
       "      <td>...</td>\n",
       "      <td>...</td>\n",
       "      <td>...</td>\n",
       "      <td>...</td>\n",
       "      <td>...</td>\n",
       "      <td>...</td>\n",
       "      <td>...</td>\n",
       "      <td>...</td>\n",
       "      <td>...</td>\n",
       "    </tr>\n",
       "    <tr>\n",
       "      <th>71</th>\n",
       "      <td>7</td>\n",
       "      <td>24</td>\n",
       "      <td>2</td>\n",
       "      <td>1</td>\n",
       "      <td>23</td>\n",
       "      <td>10</td>\n",
       "      <td>3</td>\n",
       "      <td>13</td>\n",
       "      <td>0.54</td>\n",
       "    </tr>\n",
       "    <tr>\n",
       "      <th>72</th>\n",
       "      <td>2</td>\n",
       "      <td>17</td>\n",
       "      <td>2</td>\n",
       "      <td>1</td>\n",
       "      <td>23</td>\n",
       "      <td>8</td>\n",
       "      <td>1</td>\n",
       "      <td>9</td>\n",
       "      <td>0.78</td>\n",
       "    </tr>\n",
       "    <tr>\n",
       "      <th>73</th>\n",
       "      <td>1</td>\n",
       "      <td>21</td>\n",
       "      <td>7</td>\n",
       "      <td>0</td>\n",
       "      <td>23</td>\n",
       "      <td>15</td>\n",
       "      <td>2</td>\n",
       "      <td>17</td>\n",
       "      <td>0.76</td>\n",
       "    </tr>\n",
       "    <tr>\n",
       "      <th>74</th>\n",
       "      <td>62</td>\n",
       "      <td>17</td>\n",
       "      <td>2</td>\n",
       "      <td>1</td>\n",
       "      <td>23</td>\n",
       "      <td>10</td>\n",
       "      <td>7</td>\n",
       "      <td>17</td>\n",
       "      <td>0.18</td>\n",
       "    </tr>\n",
       "    <tr>\n",
       "      <th>75</th>\n",
       "      <td>32</td>\n",
       "      <td>8</td>\n",
       "      <td>1</td>\n",
       "      <td>0</td>\n",
       "      <td>23</td>\n",
       "      <td>13</td>\n",
       "      <td>0</td>\n",
       "      <td>13</td>\n",
       "      <td>1.00</td>\n",
       "    </tr>\n",
       "  </tbody>\n",
       "</table>\n",
       "<p>76 rows × 9 columns</p>\n",
       "</div>"
      ],
      "text/plain": [
       "    Store  Location  State  RTWState  VoteCountDate  VotesYes  VotesNo  \\\n",
       "0      21         6     11         0              0         8       12   \n",
       "1      37         6     11         0              0        15        9   \n",
       "2      33         6     11         0              0        19        8   \n",
       "3      59        23      0         1              1        25        3   \n",
       "4      63         6     11         0              5        15       12   \n",
       "..    ...       ...    ...       ...            ...       ...      ...   \n",
       "71      7        24      2         1             23        10        3   \n",
       "72      2        17      2         1             23         8        1   \n",
       "73      1        21      7         0             23        15        2   \n",
       "74     62        17      2         1             23        10        7   \n",
       "75     32         8      1         0             23        13        0   \n",
       "\n",
       "    VoteTotal  Margin  \n",
       "0          20   -0.20  \n",
       "1          24    0.25  \n",
       "2          27    0.41  \n",
       "3          28    0.79  \n",
       "4          27    0.11  \n",
       "..        ...     ...  \n",
       "71         13    0.54  \n",
       "72          9    0.78  \n",
       "73         17    0.76  \n",
       "74         17    0.18  \n",
       "75         13    1.00  \n",
       "\n",
       "[76 rows x 9 columns]"
      ]
     },
     "execution_count": 36,
     "metadata": {},
     "output_type": "execute_result"
    }
   ],
   "source": [
    "x= election.drop('Result', 1)\n",
    "x"
   ]
  },
  {
   "cell_type": "markdown",
   "id": "f4cfaba8",
   "metadata": {},
   "source": [
    "### train_test_split"
   ]
  },
  {
   "cell_type": "code",
   "execution_count": 37,
   "id": "f7060325",
   "metadata": {},
   "outputs": [],
   "source": [
    "x_train,x_test,y_train,y_test = train_test_split(x,y,test_size=0.3,random_state=1)"
   ]
  },
  {
   "cell_type": "markdown",
   "id": "7990246f",
   "metadata": {},
   "source": [
    "### KNNClassifier"
   ]
  },
  {
   "cell_type": "code",
   "execution_count": 38,
   "id": "cc583227",
   "metadata": {},
   "outputs": [],
   "source": [
    "knn =KNeighborsClassifier()"
   ]
  },
  {
   "cell_type": "code",
   "execution_count": 39,
   "id": "7d8cb917",
   "metadata": {},
   "outputs": [
    {
     "data": {
      "text/plain": [
       "KNeighborsClassifier()"
      ]
     },
     "execution_count": 39,
     "metadata": {},
     "output_type": "execute_result"
    }
   ],
   "source": [
    "knn.fit(x_train,y_train)"
   ]
  },
  {
   "cell_type": "code",
   "execution_count": 40,
   "id": "a0083737",
   "metadata": {},
   "outputs": [],
   "source": [
    "y_pred =knn.predict(x_test)"
   ]
  },
  {
   "cell_type": "code",
   "execution_count": 41,
   "id": "fbd448b5",
   "metadata": {},
   "outputs": [
    {
     "data": {
      "text/plain": [
       "0.8695652173913043"
      ]
     },
     "execution_count": 41,
     "metadata": {},
     "output_type": "execute_result"
    }
   ],
   "source": [
    "acc = accuracy_score(y_test,y_pred)\n",
    "acc"
   ]
  },
  {
   "cell_type": "markdown",
   "id": "df3a7250",
   "metadata": {},
   "source": [
    "###  Model has acheived 86 percent accuracy. Let's try to scale the values"
   ]
  },
  {
   "cell_type": "markdown",
   "id": "542a669f",
   "metadata": {},
   "source": [
    "### Standardization"
   ]
  },
  {
   "cell_type": "code",
   "execution_count": 42,
   "id": "7c7ce7f6",
   "metadata": {},
   "outputs": [],
   "source": [
    "scaler= StandardScaler()"
   ]
  },
  {
   "cell_type": "code",
   "execution_count": 43,
   "id": "0fa486ee",
   "metadata": {
    "scrolled": true
   },
   "outputs": [
    {
     "data": {
      "text/plain": [
       "array([[21.  ,  6.  , 11.  ,  0.  ,  0.  ,  8.  , 12.  , 20.  , -0.2 ],\n",
       "       [37.  ,  6.  , 11.  ,  0.  ,  0.  , 15.  ,  9.  , 24.  ,  0.25],\n",
       "       [33.  ,  6.  , 11.  ,  0.  ,  0.  , 19.  ,  8.  , 27.  ,  0.41]])"
      ]
     },
     "execution_count": 43,
     "metadata": {},
     "output_type": "execute_result"
    }
   ],
   "source": [
    "x.values[:3]"
   ]
  },
  {
   "cell_type": "code",
   "execution_count": 44,
   "id": "3816dade",
   "metadata": {},
   "outputs": [],
   "source": [
    "x_train_scaled =scaler.fit_transform(x_train)"
   ]
  },
  {
   "cell_type": "code",
   "execution_count": 45,
   "id": "fe12d17a",
   "metadata": {},
   "outputs": [],
   "source": [
    "x_test_scaled=scaler.fit_transform(x_test)"
   ]
  },
  {
   "cell_type": "markdown",
   "id": "61ea3fd8",
   "metadata": {},
   "source": [
    "###  After scaling the x data, check our accuracy score"
   ]
  },
  {
   "cell_type": "code",
   "execution_count": 46,
   "id": "f5b8e6f7",
   "metadata": {},
   "outputs": [],
   "source": [
    "knn =KNeighborsClassifier()"
   ]
  },
  {
   "cell_type": "code",
   "execution_count": 47,
   "id": "1b916058",
   "metadata": {},
   "outputs": [
    {
     "data": {
      "text/plain": [
       "KNeighborsClassifier()"
      ]
     },
     "execution_count": 47,
     "metadata": {},
     "output_type": "execute_result"
    }
   ],
   "source": [
    "knn.fit(x_train_scaled,y_train)"
   ]
  },
  {
   "cell_type": "code",
   "execution_count": 48,
   "id": "62d2d21c",
   "metadata": {},
   "outputs": [],
   "source": [
    "y_pred =knn.predict(x_test_scaled)"
   ]
  },
  {
   "cell_type": "code",
   "execution_count": 49,
   "id": "ed91c0f3",
   "metadata": {},
   "outputs": [
    {
     "data": {
      "text/plain": [
       "0.9130434782608695"
      ]
     },
     "execution_count": 49,
     "metadata": {},
     "output_type": "execute_result"
    }
   ],
   "source": [
    "acc = accuracy_score(y_test,y_pred)\n",
    "acc"
   ]
  },
  {
   "cell_type": "markdown",
   "id": "d2d19a0f",
   "metadata": {},
   "source": [
    "###  As you can see above, accuracy has improved to some extent  by standardizing the column values."
   ]
  },
  {
   "cell_type": "code",
   "execution_count": null,
   "id": "4dd125e5",
   "metadata": {},
   "outputs": [],
   "source": []
  },
  {
   "cell_type": "code",
   "execution_count": null,
   "id": "4f08a077",
   "metadata": {},
   "outputs": [],
   "source": []
  },
  {
   "cell_type": "code",
   "execution_count": null,
   "id": "2abd1340",
   "metadata": {},
   "outputs": [],
   "source": []
  },
  {
   "cell_type": "code",
   "execution_count": null,
   "id": "123f6156",
   "metadata": {},
   "outputs": [],
   "source": []
  },
  {
   "cell_type": "code",
   "execution_count": null,
   "id": "3db8e48c",
   "metadata": {},
   "outputs": [],
   "source": []
  }
 ],
 "metadata": {
  "kernelspec": {
   "display_name": "Python 3 (ipykernel)",
   "language": "python",
   "name": "python3"
  },
  "language_info": {
   "codemirror_mode": {
    "name": "ipython",
    "version": 3
   },
   "file_extension": ".py",
   "mimetype": "text/x-python",
   "name": "python",
   "nbconvert_exporter": "python",
   "pygments_lexer": "ipython3",
   "version": "3.9.7"
  }
 },
 "nbformat": 4,
 "nbformat_minor": 5
}
