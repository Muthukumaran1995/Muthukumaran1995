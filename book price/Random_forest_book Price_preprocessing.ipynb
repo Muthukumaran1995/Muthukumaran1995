{
 "cells": [
  {
   "cell_type": "code",
   "execution_count": 190,
   "id": "8cf144a5",
   "metadata": {},
   "outputs": [
    {
     "name": "stderr",
     "output_type": "stream",
     "text": [
      "[nltk_data] Downloading package stopwords to\n",
      "[nltk_data]     C:\\Users\\Muthukumaran\\AppData\\Roaming\\nltk_data...\n",
      "[nltk_data]   Package stopwords is already up-to-date!\n"
     ]
    }
   ],
   "source": [
    "import numpy as np\n",
    "import pandas as pd\n",
    "from sklearn.ensemble import RandomForestRegressor\n",
    "import nltk\n",
    "nltk.download('stopwords')\n",
    "from nltk.corpus import stopwords "
   ]
  },
  {
   "cell_type": "code",
   "execution_count": 127,
   "id": "3495f849",
   "metadata": {},
   "outputs": [],
   "source": [
    "train = pd.read_excel(r'E:\\INCEPTEZ\\Training\\Basics_python\\Books_random_forest\\Participants_Data\\Data_Train.xlsx')"
   ]
  },
  {
   "cell_type": "code",
   "execution_count": 128,
   "id": "d858d0ae",
   "metadata": {},
   "outputs": [],
   "source": [
    "test = pd.read_excel(r'E:\\INCEPTEZ\\Training\\Basics_python\\Books_random_forest\\Participants_Data\\Data_Test.xlsx')"
   ]
  },
  {
   "cell_type": "code",
   "execution_count": 129,
   "id": "d288d7c5",
   "metadata": {},
   "outputs": [],
   "source": [
    "submission = pd.read_excel(r'E:\\INCEPTEZ\\Training\\Basics_python\\Books_random_forest\\Participants_Data\\Sample_Submission.xlsx')"
   ]
  },
  {
   "cell_type": "code",
   "execution_count": 130,
   "id": "bc88c518",
   "metadata": {},
   "outputs": [
    {
     "data": {
      "text/html": [
       "<div>\n",
       "<style scoped>\n",
       "    .dataframe tbody tr th:only-of-type {\n",
       "        vertical-align: middle;\n",
       "    }\n",
       "\n",
       "    .dataframe tbody tr th {\n",
       "        vertical-align: top;\n",
       "    }\n",
       "\n",
       "    .dataframe thead th {\n",
       "        text-align: right;\n",
       "    }\n",
       "</style>\n",
       "<table border=\"1\" class=\"dataframe\">\n",
       "  <thead>\n",
       "    <tr style=\"text-align: right;\">\n",
       "      <th></th>\n",
       "      <th>Title</th>\n",
       "      <th>Author</th>\n",
       "      <th>Edition</th>\n",
       "      <th>Reviews</th>\n",
       "      <th>Ratings</th>\n",
       "      <th>Synopsis</th>\n",
       "      <th>Genre</th>\n",
       "      <th>BookCategory</th>\n",
       "      <th>Price</th>\n",
       "    </tr>\n",
       "  </thead>\n",
       "  <tbody>\n",
       "    <tr>\n",
       "      <th>0</th>\n",
       "      <td>The Prisoner's Gold (The Hunters 3)</td>\n",
       "      <td>Chris Kuzneski</td>\n",
       "      <td>Paperback,– 10 Mar 2016</td>\n",
       "      <td>4.0 out of 5 stars</td>\n",
       "      <td>8 customer reviews</td>\n",
       "      <td>THE HUNTERS return in their third brilliant no...</td>\n",
       "      <td>Action &amp; Adventure (Books)</td>\n",
       "      <td>Action &amp; Adventure</td>\n",
       "      <td>220.00</td>\n",
       "    </tr>\n",
       "    <tr>\n",
       "      <th>1</th>\n",
       "      <td>Guru Dutt: A Tragedy in Three Acts</td>\n",
       "      <td>Arun Khopkar</td>\n",
       "      <td>Paperback,– 7 Nov 2012</td>\n",
       "      <td>3.9 out of 5 stars</td>\n",
       "      <td>14 customer reviews</td>\n",
       "      <td>A layered portrait of a troubled genius for wh...</td>\n",
       "      <td>Cinema &amp; Broadcast (Books)</td>\n",
       "      <td>Biographies, Diaries &amp; True Accounts</td>\n",
       "      <td>202.93</td>\n",
       "    </tr>\n",
       "    <tr>\n",
       "      <th>2</th>\n",
       "      <td>Leviathan (Penguin Classics)</td>\n",
       "      <td>Thomas Hobbes</td>\n",
       "      <td>Paperback,– 25 Feb 1982</td>\n",
       "      <td>4.8 out of 5 stars</td>\n",
       "      <td>6 customer reviews</td>\n",
       "      <td>\"During the time men live without a common Pow...</td>\n",
       "      <td>International Relations</td>\n",
       "      <td>Humour</td>\n",
       "      <td>299.00</td>\n",
       "    </tr>\n",
       "    <tr>\n",
       "      <th>3</th>\n",
       "      <td>A Pocket Full of Rye (Miss Marple)</td>\n",
       "      <td>Agatha Christie</td>\n",
       "      <td>Paperback,– 5 Oct 2017</td>\n",
       "      <td>4.1 out of 5 stars</td>\n",
       "      <td>13 customer reviews</td>\n",
       "      <td>A handful of grain is found in the pocket of a...</td>\n",
       "      <td>Contemporary Fiction (Books)</td>\n",
       "      <td>Crime, Thriller &amp; Mystery</td>\n",
       "      <td>180.00</td>\n",
       "    </tr>\n",
       "    <tr>\n",
       "      <th>4</th>\n",
       "      <td>LIFE 70 Years of Extraordinary Photography</td>\n",
       "      <td>Editors of Life</td>\n",
       "      <td>Hardcover,– 10 Oct 2006</td>\n",
       "      <td>5.0 out of 5 stars</td>\n",
       "      <td>1 customer review</td>\n",
       "      <td>For seven decades, \"Life\" has been thrilling t...</td>\n",
       "      <td>Photography Textbooks</td>\n",
       "      <td>Arts, Film &amp; Photography</td>\n",
       "      <td>965.62</td>\n",
       "    </tr>\n",
       "  </tbody>\n",
       "</table>\n",
       "</div>"
      ],
      "text/plain": [
       "                                        Title           Author  \\\n",
       "0         The Prisoner's Gold (The Hunters 3)   Chris Kuzneski   \n",
       "1          Guru Dutt: A Tragedy in Three Acts     Arun Khopkar   \n",
       "2                Leviathan (Penguin Classics)    Thomas Hobbes   \n",
       "3          A Pocket Full of Rye (Miss Marple)  Agatha Christie   \n",
       "4  LIFE 70 Years of Extraordinary Photography  Editors of Life   \n",
       "\n",
       "                   Edition             Reviews              Ratings  \\\n",
       "0  Paperback,– 10 Mar 2016  4.0 out of 5 stars   8 customer reviews   \n",
       "1   Paperback,– 7 Nov 2012  3.9 out of 5 stars  14 customer reviews   \n",
       "2  Paperback,– 25 Feb 1982  4.8 out of 5 stars   6 customer reviews   \n",
       "3   Paperback,– 5 Oct 2017  4.1 out of 5 stars  13 customer reviews   \n",
       "4  Hardcover,– 10 Oct 2006  5.0 out of 5 stars    1 customer review   \n",
       "\n",
       "                                            Synopsis  \\\n",
       "0  THE HUNTERS return in their third brilliant no...   \n",
       "1  A layered portrait of a troubled genius for wh...   \n",
       "2  \"During the time men live without a common Pow...   \n",
       "3  A handful of grain is found in the pocket of a...   \n",
       "4  For seven decades, \"Life\" has been thrilling t...   \n",
       "\n",
       "                          Genre                          BookCategory   Price  \n",
       "0    Action & Adventure (Books)                    Action & Adventure  220.00  \n",
       "1    Cinema & Broadcast (Books)  Biographies, Diaries & True Accounts  202.93  \n",
       "2       International Relations                                Humour  299.00  \n",
       "3  Contemporary Fiction (Books)             Crime, Thriller & Mystery  180.00  \n",
       "4         Photography Textbooks              Arts, Film & Photography  965.62  "
      ]
     },
     "execution_count": 130,
     "metadata": {},
     "output_type": "execute_result"
    }
   ],
   "source": [
    "train.head()"
   ]
  },
  {
   "cell_type": "code",
   "execution_count": 131,
   "id": "5d14a3ff",
   "metadata": {},
   "outputs": [
    {
     "data": {
      "text/html": [
       "<div>\n",
       "<style scoped>\n",
       "    .dataframe tbody tr th:only-of-type {\n",
       "        vertical-align: middle;\n",
       "    }\n",
       "\n",
       "    .dataframe tbody tr th {\n",
       "        vertical-align: top;\n",
       "    }\n",
       "\n",
       "    .dataframe thead th {\n",
       "        text-align: right;\n",
       "    }\n",
       "</style>\n",
       "<table border=\"1\" class=\"dataframe\">\n",
       "  <thead>\n",
       "    <tr style=\"text-align: right;\">\n",
       "      <th></th>\n",
       "      <th>Title</th>\n",
       "      <th>Author</th>\n",
       "      <th>Edition</th>\n",
       "      <th>Reviews</th>\n",
       "      <th>Ratings</th>\n",
       "      <th>Synopsis</th>\n",
       "      <th>Genre</th>\n",
       "      <th>BookCategory</th>\n",
       "    </tr>\n",
       "  </thead>\n",
       "  <tbody>\n",
       "    <tr>\n",
       "      <th>0</th>\n",
       "      <td>The Complete Sherlock Holmes: 2 Boxes sets</td>\n",
       "      <td>Sir Arthur Conan Doyle</td>\n",
       "      <td>Mass Market Paperback,– 1 Oct 1986</td>\n",
       "      <td>4.4 out of 5 stars</td>\n",
       "      <td>960 customer reviews</td>\n",
       "      <td>A collection of entire body of work of the She...</td>\n",
       "      <td>Short Stories (Books)</td>\n",
       "      <td>Crime, Thriller &amp; Mystery</td>\n",
       "    </tr>\n",
       "    <tr>\n",
       "      <th>1</th>\n",
       "      <td>Learn Docker - Fundamentals of Docker 18.x: Ev...</td>\n",
       "      <td>Gabriel N. Schenker</td>\n",
       "      <td>Paperback,– Import, 26 Apr 2018</td>\n",
       "      <td>5.0 out of 5 stars</td>\n",
       "      <td>1 customer review</td>\n",
       "      <td>Enhance your software deployment workflow usin...</td>\n",
       "      <td>Operating Systems Textbooks</td>\n",
       "      <td>Computing, Internet &amp; Digital Media</td>\n",
       "    </tr>\n",
       "    <tr>\n",
       "      <th>2</th>\n",
       "      <td>Big Girl</td>\n",
       "      <td>Danielle Steel</td>\n",
       "      <td>Paperback,– 17 Mar 2011</td>\n",
       "      <td>5.0 out of 5 stars</td>\n",
       "      <td>4 customer reviews</td>\n",
       "      <td>'Watch out, world. Here I come!'\\nFor Victoria...</td>\n",
       "      <td>Romance (Books)</td>\n",
       "      <td>Romance</td>\n",
       "    </tr>\n",
       "    <tr>\n",
       "      <th>3</th>\n",
       "      <td>Think Python: How to Think Like a Computer Sci...</td>\n",
       "      <td>Allen B. Downey</td>\n",
       "      <td>Paperback,– 2016</td>\n",
       "      <td>4.1 out of 5 stars</td>\n",
       "      <td>11 customer reviews</td>\n",
       "      <td>If you want to learn how to program, working w...</td>\n",
       "      <td>Programming &amp; Software Development (Books)</td>\n",
       "      <td>Computing, Internet &amp; Digital Media</td>\n",
       "    </tr>\n",
       "    <tr>\n",
       "      <th>4</th>\n",
       "      <td>Oxford Word Skills: Advanced - Idioms &amp; Phrasa...</td>\n",
       "      <td>Redman Gairns</td>\n",
       "      <td>Paperback,– 26 Dec 2011</td>\n",
       "      <td>4.4 out of 5 stars</td>\n",
       "      <td>9 customer reviews</td>\n",
       "      <td>Learn and practise the verbs, prepositions and...</td>\n",
       "      <td>Linguistics (Books)</td>\n",
       "      <td>Language, Linguistics &amp; Writing</td>\n",
       "    </tr>\n",
       "  </tbody>\n",
       "</table>\n",
       "</div>"
      ],
      "text/plain": [
       "                                               Title                  Author  \\\n",
       "0         The Complete Sherlock Holmes: 2 Boxes sets  Sir Arthur Conan Doyle   \n",
       "1  Learn Docker - Fundamentals of Docker 18.x: Ev...     Gabriel N. Schenker   \n",
       "2                                           Big Girl          Danielle Steel   \n",
       "3  Think Python: How to Think Like a Computer Sci...         Allen B. Downey   \n",
       "4  Oxford Word Skills: Advanced - Idioms & Phrasa...           Redman Gairns   \n",
       "\n",
       "                              Edition             Reviews  \\\n",
       "0  Mass Market Paperback,– 1 Oct 1986  4.4 out of 5 stars   \n",
       "1     Paperback,– Import, 26 Apr 2018  5.0 out of 5 stars   \n",
       "2             Paperback,– 17 Mar 2011  5.0 out of 5 stars   \n",
       "3                    Paperback,– 2016  4.1 out of 5 stars   \n",
       "4             Paperback,– 26 Dec 2011  4.4 out of 5 stars   \n",
       "\n",
       "                Ratings                                           Synopsis  \\\n",
       "0  960 customer reviews  A collection of entire body of work of the She...   \n",
       "1     1 customer review  Enhance your software deployment workflow usin...   \n",
       "2    4 customer reviews  'Watch out, world. Here I come!'\\nFor Victoria...   \n",
       "3   11 customer reviews  If you want to learn how to program, working w...   \n",
       "4    9 customer reviews  Learn and practise the verbs, prepositions and...   \n",
       "\n",
       "                                        Genre  \\\n",
       "0                       Short Stories (Books)   \n",
       "1                 Operating Systems Textbooks   \n",
       "2                             Romance (Books)   \n",
       "3  Programming & Software Development (Books)   \n",
       "4                         Linguistics (Books)   \n",
       "\n",
       "                          BookCategory  \n",
       "0            Crime, Thriller & Mystery  \n",
       "1  Computing, Internet & Digital Media  \n",
       "2                              Romance  \n",
       "3  Computing, Internet & Digital Media  \n",
       "4      Language, Linguistics & Writing  "
      ]
     },
     "execution_count": 131,
     "metadata": {},
     "output_type": "execute_result"
    }
   ],
   "source": [
    "test.head()"
   ]
  },
  {
   "cell_type": "code",
   "execution_count": 132,
   "id": "0e475485",
   "metadata": {},
   "outputs": [
    {
     "data": {
      "text/html": [
       "<div>\n",
       "<style scoped>\n",
       "    .dataframe tbody tr th:only-of-type {\n",
       "        vertical-align: middle;\n",
       "    }\n",
       "\n",
       "    .dataframe tbody tr th {\n",
       "        vertical-align: top;\n",
       "    }\n",
       "\n",
       "    .dataframe thead th {\n",
       "        text-align: right;\n",
       "    }\n",
       "</style>\n",
       "<table border=\"1\" class=\"dataframe\">\n",
       "  <thead>\n",
       "    <tr style=\"text-align: right;\">\n",
       "      <th></th>\n",
       "      <th>Price</th>\n",
       "    </tr>\n",
       "  </thead>\n",
       "  <tbody>\n",
       "    <tr>\n",
       "      <th>0</th>\n",
       "      <td>119</td>\n",
       "    </tr>\n",
       "    <tr>\n",
       "      <th>1</th>\n",
       "      <td>123</td>\n",
       "    </tr>\n",
       "    <tr>\n",
       "      <th>2</th>\n",
       "      <td>108</td>\n",
       "    </tr>\n",
       "    <tr>\n",
       "      <th>3</th>\n",
       "      <td>118</td>\n",
       "    </tr>\n",
       "    <tr>\n",
       "      <th>4</th>\n",
       "      <td>132</td>\n",
       "    </tr>\n",
       "  </tbody>\n",
       "</table>\n",
       "</div>"
      ],
      "text/plain": [
       "   Price\n",
       "0    119\n",
       "1    123\n",
       "2    108\n",
       "3    118\n",
       "4    132"
      ]
     },
     "execution_count": 132,
     "metadata": {},
     "output_type": "execute_result"
    }
   ],
   "source": [
    "submission.head()"
   ]
  },
  {
   "cell_type": "code",
   "execution_count": 133,
   "id": "ec2ade46",
   "metadata": {},
   "outputs": [
    {
     "data": {
      "text/plain": [
       "((6237, 9), (1560, 8))"
      ]
     },
     "execution_count": 133,
     "metadata": {},
     "output_type": "execute_result"
    }
   ],
   "source": [
    "train.shape , test.shape"
   ]
  },
  {
   "cell_type": "code",
   "execution_count": 134,
   "id": "77c72695",
   "metadata": {},
   "outputs": [
    {
     "name": "stdout",
     "output_type": "stream",
     "text": [
      "<class 'pandas.core.frame.DataFrame'>\n",
      "RangeIndex: 6237 entries, 0 to 6236\n",
      "Data columns (total 9 columns):\n",
      " #   Column        Non-Null Count  Dtype  \n",
      "---  ------        --------------  -----  \n",
      " 0   Title         6237 non-null   object \n",
      " 1   Author        6237 non-null   object \n",
      " 2   Edition       6237 non-null   object \n",
      " 3   Reviews       6237 non-null   object \n",
      " 4   Ratings       6237 non-null   object \n",
      " 5   Synopsis      6237 non-null   object \n",
      " 6   Genre         6237 non-null   object \n",
      " 7   BookCategory  6237 non-null   object \n",
      " 8   Price         6237 non-null   float64\n",
      "dtypes: float64(1), object(8)\n",
      "memory usage: 438.7+ KB\n"
     ]
    }
   ],
   "source": [
    "train.info()"
   ]
  },
  {
   "cell_type": "code",
   "execution_count": 135,
   "id": "cf1407d2",
   "metadata": {},
   "outputs": [
    {
     "data": {
      "text/plain": [
       "(Title           5568\n",
       " Author          3679\n",
       " Edition         3370\n",
       " Reviews           36\n",
       " Ratings          342\n",
       " Synopsis        5549\n",
       " Genre            345\n",
       " BookCategory      11\n",
       " Price           1614\n",
       " dtype: int64,\n",
       " Title           1521\n",
       " Author          1224\n",
       " Edition         1259\n",
       " Reviews           30\n",
       " Ratings          163\n",
       " Synopsis        1519\n",
       " Genre            225\n",
       " BookCategory      11\n",
       " dtype: int64)"
      ]
     },
     "execution_count": 135,
     "metadata": {},
     "output_type": "execute_result"
    }
   ],
   "source": [
    "train.nunique() , test.nunique()"
   ]
  },
  {
   "cell_type": "code",
   "execution_count": 136,
   "id": "ba4558fd",
   "metadata": {},
   "outputs": [
    {
     "data": {
      "text/plain": [
       "0"
      ]
     },
     "execution_count": 136,
     "metadata": {},
     "output_type": "execute_result"
    }
   ],
   "source": [
    "train.duplicated().sum()"
   ]
  },
  {
   "cell_type": "code",
   "execution_count": 137,
   "id": "8ace10a7",
   "metadata": {},
   "outputs": [
    {
     "data": {
      "text/plain": [
       "8"
      ]
     },
     "execution_count": 137,
     "metadata": {},
     "output_type": "execute_result"
    }
   ],
   "source": [
    "test.duplicated().sum()"
   ]
  },
  {
   "cell_type": "markdown",
   "id": "c2e81ead",
   "metadata": {},
   "source": [
    "### In test data, we have duplicates, we are chcing , we cant do anything about uit"
   ]
  },
  {
   "cell_type": "code",
   "execution_count": 138,
   "id": "9495b98c",
   "metadata": {},
   "outputs": [
    {
     "data": {
      "text/html": [
       "<div>\n",
       "<style scoped>\n",
       "    .dataframe tbody tr th:only-of-type {\n",
       "        vertical-align: middle;\n",
       "    }\n",
       "\n",
       "    .dataframe tbody tr th {\n",
       "        vertical-align: top;\n",
       "    }\n",
       "\n",
       "    .dataframe thead th {\n",
       "        text-align: right;\n",
       "    }\n",
       "</style>\n",
       "<table border=\"1\" class=\"dataframe\">\n",
       "  <thead>\n",
       "    <tr style=\"text-align: right;\">\n",
       "      <th></th>\n",
       "      <th>Title</th>\n",
       "      <th>Author</th>\n",
       "      <th>Edition</th>\n",
       "      <th>Reviews</th>\n",
       "      <th>Ratings</th>\n",
       "      <th>Synopsis</th>\n",
       "      <th>Genre</th>\n",
       "      <th>BookCategory</th>\n",
       "    </tr>\n",
       "  </thead>\n",
       "  <tbody>\n",
       "    <tr>\n",
       "      <th>1090</th>\n",
       "      <td>The Rustlers of the West Fork (Hopalong Cassidy)</td>\n",
       "      <td>Louis L'Amour</td>\n",
       "      <td>Mass Market Paperback,– 1 Apr 1992</td>\n",
       "      <td>5.0 out of 5 stars</td>\n",
       "      <td>2 customer reviews</td>\n",
       "      <td>In this first of four classic frontier novels,...</td>\n",
       "      <td>Action &amp; Adventure (Books)</td>\n",
       "      <td>Action &amp; Adventure</td>\n",
       "    </tr>\n",
       "    <tr>\n",
       "      <th>1095</th>\n",
       "      <td>The Princess Bride: S. Morgenstern's Classic T...</td>\n",
       "      <td>William Goldman</td>\n",
       "      <td>Mass Market Paperback,– 26 Mar 2010</td>\n",
       "      <td>3.8 out of 5 stars</td>\n",
       "      <td>6 customer reviews</td>\n",
       "      <td>William Goldman's modern fantasy classic is a ...</td>\n",
       "      <td>Action &amp; Adventure (Books)</td>\n",
       "      <td>Action &amp; Adventure</td>\n",
       "    </tr>\n",
       "    <tr>\n",
       "      <th>1103</th>\n",
       "      <td>Everybody Lies: The New York Times Bestseller</td>\n",
       "      <td>Seth Stephens-Davidowitz</td>\n",
       "      <td>Paperback,– 18 Apr 2018</td>\n",
       "      <td>4.3 out of 5 stars</td>\n",
       "      <td>27 customer reviews</td>\n",
       "      <td>THE NEW YORK TIMES BESTSELLER\\nAN ECONOMIST BO...</td>\n",
       "      <td>Political Structure &amp; Processes (Books)</td>\n",
       "      <td>Action &amp; Adventure</td>\n",
       "    </tr>\n",
       "    <tr>\n",
       "      <th>1253</th>\n",
       "      <td>Flint</td>\n",
       "      <td>Louis L'Amour</td>\n",
       "      <td>Mass Market Paperback,– 3 Nov 1997</td>\n",
       "      <td>4.3 out of 5 stars</td>\n",
       "      <td>4 customer reviews</td>\n",
       "      <td>He left the West at the age of seventeen, leav...</td>\n",
       "      <td>Action &amp; Adventure (Books)</td>\n",
       "      <td>Action &amp; Adventure</td>\n",
       "    </tr>\n",
       "    <tr>\n",
       "      <th>1316</th>\n",
       "      <td>The Five Greatest Warriors (Jack West Series)</td>\n",
       "      <td>Matthew Reilly</td>\n",
       "      <td>Paperback,– 25 Nov 2010</td>\n",
       "      <td>4.4 out of 5 stars</td>\n",
       "      <td>12 customer reviews</td>\n",
       "      <td>The end is approaching ... Can Jack West unrav...</td>\n",
       "      <td>Action &amp; Adventure (Books)</td>\n",
       "      <td>Action &amp; Adventure</td>\n",
       "    </tr>\n",
       "    <tr>\n",
       "      <th>1340</th>\n",
       "      <td>Alita: Battle Angel – The Official Movie Novel...</td>\n",
       "      <td>Pat Cadigan</td>\n",
       "      <td>Paperback,– 14 Feb 2019</td>\n",
       "      <td>3.9 out of 5 stars</td>\n",
       "      <td>7 customer reviews</td>\n",
       "      <td>The ofﬁcial novelization to the highly anticip...</td>\n",
       "      <td>Action &amp; Adventure (Books)</td>\n",
       "      <td>Action &amp; Adventure</td>\n",
       "    </tr>\n",
       "    <tr>\n",
       "      <th>1407</th>\n",
       "      <td>The Curious Incident of the Dog in the Night-t...</td>\n",
       "      <td>Mark Haddon</td>\n",
       "      <td>Paperback,– 2 Aug 2012</td>\n",
       "      <td>4.0 out of 5 stars</td>\n",
       "      <td>96 customer reviews</td>\n",
       "      <td>A Children’s Bookshelf Selection: Each month o...</td>\n",
       "      <td>Action &amp; Adventure (Books)</td>\n",
       "      <td>Action &amp; Adventure</td>\n",
       "    </tr>\n",
       "    <tr>\n",
       "      <th>1453</th>\n",
       "      <td>Storm and Silence: Volume 1 (Storm and Silence...</td>\n",
       "      <td>Robert Thier</td>\n",
       "      <td>Paperback,– 19 Mar 2016</td>\n",
       "      <td>5.0 out of 5 stars</td>\n",
       "      <td>59 customer reviews</td>\n",
       "      <td>Freedom - that is what Lilly Linton wants most...</td>\n",
       "      <td>Action &amp; Adventure (Books)</td>\n",
       "      <td>Action &amp; Adventure</td>\n",
       "    </tr>\n",
       "  </tbody>\n",
       "</table>\n",
       "</div>"
      ],
      "text/plain": [
       "                                                  Title  \\\n",
       "1090   The Rustlers of the West Fork (Hopalong Cassidy)   \n",
       "1095  The Princess Bride: S. Morgenstern's Classic T...   \n",
       "1103      Everybody Lies: The New York Times Bestseller   \n",
       "1253                                              Flint   \n",
       "1316      The Five Greatest Warriors (Jack West Series)   \n",
       "1340  Alita: Battle Angel – The Official Movie Novel...   \n",
       "1407  The Curious Incident of the Dog in the Night-t...   \n",
       "1453  Storm and Silence: Volume 1 (Storm and Silence...   \n",
       "\n",
       "                        Author                              Edition  \\\n",
       "1090             Louis L'Amour   Mass Market Paperback,– 1 Apr 1992   \n",
       "1095           William Goldman  Mass Market Paperback,– 26 Mar 2010   \n",
       "1103  Seth Stephens-Davidowitz              Paperback,– 18 Apr 2018   \n",
       "1253             Louis L'Amour   Mass Market Paperback,– 3 Nov 1997   \n",
       "1316            Matthew Reilly              Paperback,– 25 Nov 2010   \n",
       "1340               Pat Cadigan              Paperback,– 14 Feb 2019   \n",
       "1407               Mark Haddon               Paperback,– 2 Aug 2012   \n",
       "1453              Robert Thier              Paperback,– 19 Mar 2016   \n",
       "\n",
       "                 Reviews              Ratings  \\\n",
       "1090  5.0 out of 5 stars   2 customer reviews   \n",
       "1095  3.8 out of 5 stars   6 customer reviews   \n",
       "1103  4.3 out of 5 stars  27 customer reviews   \n",
       "1253  4.3 out of 5 stars   4 customer reviews   \n",
       "1316  4.4 out of 5 stars  12 customer reviews   \n",
       "1340  3.9 out of 5 stars   7 customer reviews   \n",
       "1407  4.0 out of 5 stars  96 customer reviews   \n",
       "1453  5.0 out of 5 stars  59 customer reviews   \n",
       "\n",
       "                                               Synopsis  \\\n",
       "1090  In this first of four classic frontier novels,...   \n",
       "1095  William Goldman's modern fantasy classic is a ...   \n",
       "1103  THE NEW YORK TIMES BESTSELLER\\nAN ECONOMIST BO...   \n",
       "1253  He left the West at the age of seventeen, leav...   \n",
       "1316  The end is approaching ... Can Jack West unrav...   \n",
       "1340  The ofﬁcial novelization to the highly anticip...   \n",
       "1407  A Children’s Bookshelf Selection: Each month o...   \n",
       "1453  Freedom - that is what Lilly Linton wants most...   \n",
       "\n",
       "                                        Genre        BookCategory  \n",
       "1090               Action & Adventure (Books)  Action & Adventure  \n",
       "1095               Action & Adventure (Books)  Action & Adventure  \n",
       "1103  Political Structure & Processes (Books)  Action & Adventure  \n",
       "1253               Action & Adventure (Books)  Action & Adventure  \n",
       "1316               Action & Adventure (Books)  Action & Adventure  \n",
       "1340               Action & Adventure (Books)  Action & Adventure  \n",
       "1407               Action & Adventure (Books)  Action & Adventure  \n",
       "1453               Action & Adventure (Books)  Action & Adventure  "
      ]
     },
     "execution_count": 138,
     "metadata": {},
     "output_type": "execute_result"
    }
   ],
   "source": [
    "test[test.duplicated()]"
   ]
  },
  {
   "cell_type": "code",
   "execution_count": 139,
   "id": "4ccc8532",
   "metadata": {},
   "outputs": [
    {
     "data": {
      "text/html": [
       "<div>\n",
       "<style scoped>\n",
       "    .dataframe tbody tr th:only-of-type {\n",
       "        vertical-align: middle;\n",
       "    }\n",
       "\n",
       "    .dataframe tbody tr th {\n",
       "        vertical-align: top;\n",
       "    }\n",
       "\n",
       "    .dataframe thead th {\n",
       "        text-align: right;\n",
       "    }\n",
       "</style>\n",
       "<table border=\"1\" class=\"dataframe\">\n",
       "  <thead>\n",
       "    <tr style=\"text-align: right;\">\n",
       "      <th></th>\n",
       "      <th>Title</th>\n",
       "      <th>Author</th>\n",
       "      <th>Edition</th>\n",
       "      <th>Reviews</th>\n",
       "      <th>Ratings</th>\n",
       "      <th>Synopsis</th>\n",
       "      <th>Genre</th>\n",
       "      <th>BookCategory</th>\n",
       "    </tr>\n",
       "  </thead>\n",
       "  <tbody>\n",
       "    <tr>\n",
       "      <th>590</th>\n",
       "      <td>The Rustlers of the West Fork (Hopalong Cassidy)</td>\n",
       "      <td>Louis L'Amour</td>\n",
       "      <td>Mass Market Paperback,– 1 Apr 1992</td>\n",
       "      <td>5.0 out of 5 stars</td>\n",
       "      <td>2 customer reviews</td>\n",
       "      <td>In this first of four classic frontier novels,...</td>\n",
       "      <td>Action &amp; Adventure (Books)</td>\n",
       "      <td>Action &amp; Adventure</td>\n",
       "    </tr>\n",
       "    <tr>\n",
       "      <th>1090</th>\n",
       "      <td>The Rustlers of the West Fork (Hopalong Cassidy)</td>\n",
       "      <td>Louis L'Amour</td>\n",
       "      <td>Mass Market Paperback,– 1 Apr 1992</td>\n",
       "      <td>5.0 out of 5 stars</td>\n",
       "      <td>2 customer reviews</td>\n",
       "      <td>In this first of four classic frontier novels,...</td>\n",
       "      <td>Action &amp; Adventure (Books)</td>\n",
       "      <td>Action &amp; Adventure</td>\n",
       "    </tr>\n",
       "  </tbody>\n",
       "</table>\n",
       "</div>"
      ],
      "text/plain": [
       "                                                 Title         Author  \\\n",
       "590   The Rustlers of the West Fork (Hopalong Cassidy)  Louis L'Amour   \n",
       "1090  The Rustlers of the West Fork (Hopalong Cassidy)  Louis L'Amour   \n",
       "\n",
       "                                 Edition             Reviews  \\\n",
       "590   Mass Market Paperback,– 1 Apr 1992  5.0 out of 5 stars   \n",
       "1090  Mass Market Paperback,– 1 Apr 1992  5.0 out of 5 stars   \n",
       "\n",
       "                 Ratings                                           Synopsis  \\\n",
       "590   2 customer reviews  In this first of four classic frontier novels,...   \n",
       "1090  2 customer reviews  In this first of four classic frontier novels,...   \n",
       "\n",
       "                           Genre        BookCategory  \n",
       "590   Action & Adventure (Books)  Action & Adventure  \n",
       "1090  Action & Adventure (Books)  Action & Adventure  "
      ]
     },
     "execution_count": 139,
     "metadata": {},
     "output_type": "execute_result"
    }
   ],
   "source": [
    "test[test['Title']=='The Rustlers of the West Fork (Hopalong Cassidy)']"
   ]
  },
  {
   "cell_type": "code",
   "execution_count": 140,
   "id": "2f3e9456",
   "metadata": {},
   "outputs": [
    {
     "data": {
      "text/html": [
       "<div>\n",
       "<style scoped>\n",
       "    .dataframe tbody tr th:only-of-type {\n",
       "        vertical-align: middle;\n",
       "    }\n",
       "\n",
       "    .dataframe tbody tr th {\n",
       "        vertical-align: top;\n",
       "    }\n",
       "\n",
       "    .dataframe thead th {\n",
       "        text-align: right;\n",
       "    }\n",
       "</style>\n",
       "<table border=\"1\" class=\"dataframe\">\n",
       "  <thead>\n",
       "    <tr style=\"text-align: right;\">\n",
       "      <th></th>\n",
       "      <th>Title</th>\n",
       "      <th>Author</th>\n",
       "      <th>Edition</th>\n",
       "      <th>Reviews</th>\n",
       "      <th>Ratings</th>\n",
       "      <th>Synopsis</th>\n",
       "      <th>Genre</th>\n",
       "      <th>BookCategory</th>\n",
       "    </tr>\n",
       "  </thead>\n",
       "  <tbody>\n",
       "    <tr>\n",
       "      <th>1171</th>\n",
       "      <td>Flint</td>\n",
       "      <td>Louis L'Amour</td>\n",
       "      <td>Mass Market Paperback,– 3 Nov 1997</td>\n",
       "      <td>4.3 out of 5 stars</td>\n",
       "      <td>4 customer reviews</td>\n",
       "      <td>He left the West at the age of seventeen, leav...</td>\n",
       "      <td>Action &amp; Adventure (Books)</td>\n",
       "      <td>Action &amp; Adventure</td>\n",
       "    </tr>\n",
       "    <tr>\n",
       "      <th>1253</th>\n",
       "      <td>Flint</td>\n",
       "      <td>Louis L'Amour</td>\n",
       "      <td>Mass Market Paperback,– 3 Nov 1997</td>\n",
       "      <td>4.3 out of 5 stars</td>\n",
       "      <td>4 customer reviews</td>\n",
       "      <td>He left the West at the age of seventeen, leav...</td>\n",
       "      <td>Action &amp; Adventure (Books)</td>\n",
       "      <td>Action &amp; Adventure</td>\n",
       "    </tr>\n",
       "  </tbody>\n",
       "</table>\n",
       "</div>"
      ],
      "text/plain": [
       "      Title         Author                             Edition  \\\n",
       "1171  Flint  Louis L'Amour  Mass Market Paperback,– 3 Nov 1997   \n",
       "1253  Flint  Louis L'Amour  Mass Market Paperback,– 3 Nov 1997   \n",
       "\n",
       "                 Reviews             Ratings  \\\n",
       "1171  4.3 out of 5 stars  4 customer reviews   \n",
       "1253  4.3 out of 5 stars  4 customer reviews   \n",
       "\n",
       "                                               Synopsis  \\\n",
       "1171  He left the West at the age of seventeen, leav...   \n",
       "1253  He left the West at the age of seventeen, leav...   \n",
       "\n",
       "                           Genre        BookCategory  \n",
       "1171  Action & Adventure (Books)  Action & Adventure  \n",
       "1253  Action & Adventure (Books)  Action & Adventure  "
      ]
     },
     "execution_count": 140,
     "metadata": {},
     "output_type": "execute_result"
    }
   ],
   "source": [
    "test[test['Title']=='Flint']"
   ]
  },
  {
   "cell_type": "code",
   "execution_count": 141,
   "id": "8a31627d",
   "metadata": {},
   "outputs": [],
   "source": [
    "train['source']='train'\n",
    "test['source']='test'"
   ]
  },
  {
   "cell_type": "code",
   "execution_count": 142,
   "id": "c3bc5b71",
   "metadata": {},
   "outputs": [],
   "source": [
    "data = pd.concat([train,test])"
   ]
  },
  {
   "cell_type": "code",
   "execution_count": 143,
   "id": "d7586651",
   "metadata": {},
   "outputs": [
    {
     "data": {
      "text/plain": [
       "Title              0\n",
       "Author             0\n",
       "Edition            0\n",
       "Reviews            0\n",
       "Ratings            0\n",
       "Synopsis           0\n",
       "Genre              0\n",
       "BookCategory       0\n",
       "Price           1560\n",
       "source             0\n",
       "dtype: int64"
      ]
     },
     "execution_count": 143,
     "metadata": {},
     "output_type": "execute_result"
    }
   ],
   "source": [
    "data.isna().sum()"
   ]
  },
  {
   "cell_type": "code",
   "execution_count": 144,
   "id": "7663a0fa",
   "metadata": {},
   "outputs": [],
   "source": [
    "data =data.reset_index(drop=True)"
   ]
  },
  {
   "cell_type": "code",
   "execution_count": 145,
   "id": "8e4594f6",
   "metadata": {},
   "outputs": [
    {
     "data": {
      "text/html": [
       "<div>\n",
       "<style scoped>\n",
       "    .dataframe tbody tr th:only-of-type {\n",
       "        vertical-align: middle;\n",
       "    }\n",
       "\n",
       "    .dataframe tbody tr th {\n",
       "        vertical-align: top;\n",
       "    }\n",
       "\n",
       "    .dataframe thead th {\n",
       "        text-align: right;\n",
       "    }\n",
       "</style>\n",
       "<table border=\"1\" class=\"dataframe\">\n",
       "  <thead>\n",
       "    <tr style=\"text-align: right;\">\n",
       "      <th></th>\n",
       "      <th>Title</th>\n",
       "      <th>Author</th>\n",
       "      <th>Edition</th>\n",
       "      <th>Reviews</th>\n",
       "      <th>Ratings</th>\n",
       "      <th>Synopsis</th>\n",
       "      <th>Genre</th>\n",
       "      <th>BookCategory</th>\n",
       "      <th>Price</th>\n",
       "      <th>source</th>\n",
       "    </tr>\n",
       "  </thead>\n",
       "  <tbody>\n",
       "    <tr>\n",
       "      <th>7792</th>\n",
       "      <td>100 Things Every Designer Needs to Know About ...</td>\n",
       "      <td>Susan Weinschenk</td>\n",
       "      <td>Paperback,– 14 Apr 2011</td>\n",
       "      <td>5.0 out of 5 stars</td>\n",
       "      <td>4 customer reviews</td>\n",
       "      <td>We design to elicit responses from people. We ...</td>\n",
       "      <td>Design</td>\n",
       "      <td>Computing, Internet &amp; Digital Media</td>\n",
       "      <td>NaN</td>\n",
       "      <td>test</td>\n",
       "    </tr>\n",
       "    <tr>\n",
       "      <th>7793</th>\n",
       "      <td>Modern Letter Writing Course: Personal, Busine...</td>\n",
       "      <td>ARUN SAGAR</td>\n",
       "      <td>Paperback,– 8 May 2013</td>\n",
       "      <td>3.6 out of 5 stars</td>\n",
       "      <td>13 customer reviews</td>\n",
       "      <td>A 30-day course to write simple, sharp and att...</td>\n",
       "      <td>Children's Reference (Books)</td>\n",
       "      <td>Biographies, Diaries &amp; True Accounts</td>\n",
       "      <td>NaN</td>\n",
       "      <td>test</td>\n",
       "    </tr>\n",
       "    <tr>\n",
       "      <th>7794</th>\n",
       "      <td>The Kite Runner Graphic Novel</td>\n",
       "      <td>Khaled Hosseini</td>\n",
       "      <td>Paperback,– 6 Sep 2011</td>\n",
       "      <td>4.0 out of 5 stars</td>\n",
       "      <td>5 customer reviews</td>\n",
       "      <td>The perennial bestseller-now available as a se...</td>\n",
       "      <td>Humour (Books)</td>\n",
       "      <td>Humour</td>\n",
       "      <td>NaN</td>\n",
       "      <td>test</td>\n",
       "    </tr>\n",
       "    <tr>\n",
       "      <th>7795</th>\n",
       "      <td>Panzer Leader (Penguin World War II Collection)</td>\n",
       "      <td>Heinz Guderian</td>\n",
       "      <td>Paperback,– 22 Sep 2009</td>\n",
       "      <td>3.5 out of 5 stars</td>\n",
       "      <td>3 customer reviews</td>\n",
       "      <td>Heinz Guderian - master of the Blitzkrieg and ...</td>\n",
       "      <td>United States History</td>\n",
       "      <td>Biographies, Diaries &amp; True Accounts</td>\n",
       "      <td>NaN</td>\n",
       "      <td>test</td>\n",
       "    </tr>\n",
       "    <tr>\n",
       "      <th>7796</th>\n",
       "      <td>Complete Spanish Step-by-Step</td>\n",
       "      <td>Barbara Bregstein</td>\n",
       "      <td>Paperback,– 16 Sep 2016</td>\n",
       "      <td>4.5 out of 5 stars</td>\n",
       "      <td>2 customer reviews</td>\n",
       "      <td>Learn Spanish with the most convenient and eff...</td>\n",
       "      <td>Dictionaries</td>\n",
       "      <td>Language, Linguistics &amp; Writing</td>\n",
       "      <td>NaN</td>\n",
       "      <td>test</td>\n",
       "    </tr>\n",
       "  </tbody>\n",
       "</table>\n",
       "</div>"
      ],
      "text/plain": [
       "                                                  Title             Author  \\\n",
       "7792  100 Things Every Designer Needs to Know About ...   Susan Weinschenk   \n",
       "7793  Modern Letter Writing Course: Personal, Busine...         ARUN SAGAR   \n",
       "7794                      The Kite Runner Graphic Novel    Khaled Hosseini   \n",
       "7795    Panzer Leader (Penguin World War II Collection)     Heinz Guderian   \n",
       "7796                      Complete Spanish Step-by-Step  Barbara Bregstein   \n",
       "\n",
       "                      Edition             Reviews              Ratings  \\\n",
       "7792  Paperback,– 14 Apr 2011  5.0 out of 5 stars   4 customer reviews   \n",
       "7793   Paperback,– 8 May 2013  3.6 out of 5 stars  13 customer reviews   \n",
       "7794   Paperback,– 6 Sep 2011  4.0 out of 5 stars   5 customer reviews   \n",
       "7795  Paperback,– 22 Sep 2009  3.5 out of 5 stars   3 customer reviews   \n",
       "7796  Paperback,– 16 Sep 2016  4.5 out of 5 stars   2 customer reviews   \n",
       "\n",
       "                                               Synopsis  \\\n",
       "7792  We design to elicit responses from people. We ...   \n",
       "7793  A 30-day course to write simple, sharp and att...   \n",
       "7794  The perennial bestseller-now available as a se...   \n",
       "7795  Heinz Guderian - master of the Blitzkrieg and ...   \n",
       "7796  Learn Spanish with the most convenient and eff...   \n",
       "\n",
       "                             Genre                          BookCategory  \\\n",
       "7792                        Design   Computing, Internet & Digital Media   \n",
       "7793  Children's Reference (Books)  Biographies, Diaries & True Accounts   \n",
       "7794                Humour (Books)                                Humour   \n",
       "7795         United States History  Biographies, Diaries & True Accounts   \n",
       "7796                  Dictionaries       Language, Linguistics & Writing   \n",
       "\n",
       "      Price source  \n",
       "7792    NaN   test  \n",
       "7793    NaN   test  \n",
       "7794    NaN   test  \n",
       "7795    NaN   test  \n",
       "7796    NaN   test  "
      ]
     },
     "execution_count": 145,
     "metadata": {},
     "output_type": "execute_result"
    }
   ],
   "source": [
    "data.tail()"
   ]
  },
  {
   "cell_type": "markdown",
   "id": "7a8e3f54",
   "metadata": {},
   "source": [
    "### Datacleaning"
   ]
  },
  {
   "cell_type": "code",
   "execution_count": 146,
   "id": "581912f1",
   "metadata": {},
   "outputs": [],
   "source": [
    "data['Reviews'] = data['Reviews'].apply(lambda x: float(x.split(' ')[0]))"
   ]
  },
  {
   "cell_type": "code",
   "execution_count": 147,
   "id": "b51408a2",
   "metadata": {},
   "outputs": [
    {
     "data": {
      "text/plain": [
       "0    4.0\n",
       "1    3.9\n",
       "2    4.8\n",
       "3    4.1\n",
       "4    5.0\n",
       "Name: Reviews, dtype: float64"
      ]
     },
     "execution_count": 147,
     "metadata": {},
     "output_type": "execute_result"
    }
   ],
   "source": [
    "data['Reviews'].head()"
   ]
  },
  {
   "cell_type": "code",
   "execution_count": 148,
   "id": "de571a53",
   "metadata": {},
   "outputs": [],
   "source": [
    "data['Ratings'] =data['Ratings'].apply(lambda x:(x.split(' ')[0]))"
   ]
  },
  {
   "cell_type": "code",
   "execution_count": 149,
   "id": "6c71c45f",
   "metadata": {
    "scrolled": false
   },
   "outputs": [],
   "source": [
    "data['Ratings'] =data['Ratings'].apply(lambda x: x.replace(',',''))"
   ]
  },
  {
   "cell_type": "code",
   "execution_count": 150,
   "id": "deca1e99",
   "metadata": {},
   "outputs": [],
   "source": [
    "data['Ratings'] =data['Ratings'].astype(int)"
   ]
  },
  {
   "cell_type": "code",
   "execution_count": 151,
   "id": "8f183369",
   "metadata": {},
   "outputs": [
    {
     "data": {
      "text/html": [
       "<div>\n",
       "<style scoped>\n",
       "    .dataframe tbody tr th:only-of-type {\n",
       "        vertical-align: middle;\n",
       "    }\n",
       "\n",
       "    .dataframe tbody tr th {\n",
       "        vertical-align: top;\n",
       "    }\n",
       "\n",
       "    .dataframe thead th {\n",
       "        text-align: right;\n",
       "    }\n",
       "</style>\n",
       "<table border=\"1\" class=\"dataframe\">\n",
       "  <thead>\n",
       "    <tr style=\"text-align: right;\">\n",
       "      <th></th>\n",
       "      <th>Title</th>\n",
       "      <th>Author</th>\n",
       "      <th>Edition</th>\n",
       "      <th>Reviews</th>\n",
       "      <th>Ratings</th>\n",
       "      <th>Synopsis</th>\n",
       "      <th>Genre</th>\n",
       "      <th>BookCategory</th>\n",
       "      <th>Price</th>\n",
       "      <th>source</th>\n",
       "    </tr>\n",
       "  </thead>\n",
       "  <tbody>\n",
       "    <tr>\n",
       "      <th>0</th>\n",
       "      <td>The Prisoner's Gold (The Hunters 3)</td>\n",
       "      <td>Chris Kuzneski</td>\n",
       "      <td>Paperback,– 10 Mar 2016</td>\n",
       "      <td>4.0</td>\n",
       "      <td>8</td>\n",
       "      <td>THE HUNTERS return in their third brilliant no...</td>\n",
       "      <td>Action &amp; Adventure (Books)</td>\n",
       "      <td>Action &amp; Adventure</td>\n",
       "      <td>220.00</td>\n",
       "      <td>train</td>\n",
       "    </tr>\n",
       "    <tr>\n",
       "      <th>1</th>\n",
       "      <td>Guru Dutt: A Tragedy in Three Acts</td>\n",
       "      <td>Arun Khopkar</td>\n",
       "      <td>Paperback,– 7 Nov 2012</td>\n",
       "      <td>3.9</td>\n",
       "      <td>14</td>\n",
       "      <td>A layered portrait of a troubled genius for wh...</td>\n",
       "      <td>Cinema &amp; Broadcast (Books)</td>\n",
       "      <td>Biographies, Diaries &amp; True Accounts</td>\n",
       "      <td>202.93</td>\n",
       "      <td>train</td>\n",
       "    </tr>\n",
       "    <tr>\n",
       "      <th>2</th>\n",
       "      <td>Leviathan (Penguin Classics)</td>\n",
       "      <td>Thomas Hobbes</td>\n",
       "      <td>Paperback,– 25 Feb 1982</td>\n",
       "      <td>4.8</td>\n",
       "      <td>6</td>\n",
       "      <td>\"During the time men live without a common Pow...</td>\n",
       "      <td>International Relations</td>\n",
       "      <td>Humour</td>\n",
       "      <td>299.00</td>\n",
       "      <td>train</td>\n",
       "    </tr>\n",
       "    <tr>\n",
       "      <th>3</th>\n",
       "      <td>A Pocket Full of Rye (Miss Marple)</td>\n",
       "      <td>Agatha Christie</td>\n",
       "      <td>Paperback,– 5 Oct 2017</td>\n",
       "      <td>4.1</td>\n",
       "      <td>13</td>\n",
       "      <td>A handful of grain is found in the pocket of a...</td>\n",
       "      <td>Contemporary Fiction (Books)</td>\n",
       "      <td>Crime, Thriller &amp; Mystery</td>\n",
       "      <td>180.00</td>\n",
       "      <td>train</td>\n",
       "    </tr>\n",
       "    <tr>\n",
       "      <th>4</th>\n",
       "      <td>LIFE 70 Years of Extraordinary Photography</td>\n",
       "      <td>Editors of Life</td>\n",
       "      <td>Hardcover,– 10 Oct 2006</td>\n",
       "      <td>5.0</td>\n",
       "      <td>1</td>\n",
       "      <td>For seven decades, \"Life\" has been thrilling t...</td>\n",
       "      <td>Photography Textbooks</td>\n",
       "      <td>Arts, Film &amp; Photography</td>\n",
       "      <td>965.62</td>\n",
       "      <td>train</td>\n",
       "    </tr>\n",
       "  </tbody>\n",
       "</table>\n",
       "</div>"
      ],
      "text/plain": [
       "                                        Title           Author  \\\n",
       "0         The Prisoner's Gold (The Hunters 3)   Chris Kuzneski   \n",
       "1          Guru Dutt: A Tragedy in Three Acts     Arun Khopkar   \n",
       "2                Leviathan (Penguin Classics)    Thomas Hobbes   \n",
       "3          A Pocket Full of Rye (Miss Marple)  Agatha Christie   \n",
       "4  LIFE 70 Years of Extraordinary Photography  Editors of Life   \n",
       "\n",
       "                   Edition  Reviews  Ratings  \\\n",
       "0  Paperback,– 10 Mar 2016      4.0        8   \n",
       "1   Paperback,– 7 Nov 2012      3.9       14   \n",
       "2  Paperback,– 25 Feb 1982      4.8        6   \n",
       "3   Paperback,– 5 Oct 2017      4.1       13   \n",
       "4  Hardcover,– 10 Oct 2006      5.0        1   \n",
       "\n",
       "                                            Synopsis  \\\n",
       "0  THE HUNTERS return in their third brilliant no...   \n",
       "1  A layered portrait of a troubled genius for wh...   \n",
       "2  \"During the time men live without a common Pow...   \n",
       "3  A handful of grain is found in the pocket of a...   \n",
       "4  For seven decades, \"Life\" has been thrilling t...   \n",
       "\n",
       "                          Genre                          BookCategory   Price  \\\n",
       "0    Action & Adventure (Books)                    Action & Adventure  220.00   \n",
       "1    Cinema & Broadcast (Books)  Biographies, Diaries & True Accounts  202.93   \n",
       "2       International Relations                                Humour  299.00   \n",
       "3  Contemporary Fiction (Books)             Crime, Thriller & Mystery  180.00   \n",
       "4         Photography Textbooks              Arts, Film & Photography  965.62   \n",
       "\n",
       "  source  \n",
       "0  train  \n",
       "1  train  \n",
       "2  train  \n",
       "3  train  \n",
       "4  train  "
      ]
     },
     "execution_count": 151,
     "metadata": {},
     "output_type": "execute_result"
    }
   ],
   "source": [
    "data.head()"
   ]
  },
  {
   "cell_type": "code",
   "execution_count": 152,
   "id": "c8c6defb",
   "metadata": {},
   "outputs": [],
   "source": [
    "data['Publication']=data['Edition'].apply(lambda x: x.split(',')[0])"
   ]
  },
  {
   "cell_type": "code",
   "execution_count": 153,
   "id": "b793e881",
   "metadata": {},
   "outputs": [],
   "source": [
    "data['Publication_date']=data['Edition'].apply(lambda x: x.split(',')[1])"
   ]
  },
  {
   "cell_type": "code",
   "execution_count": 154,
   "id": "7b8159b2",
   "metadata": {},
   "outputs": [
    {
     "data": {
      "text/plain": [
       "array(['Paperback', 'Hardcover', 'Mass Market Paperback', 'Sheet music',\n",
       "       'Flexibound', 'Plastic Comb', 'Loose Leaf', 'Tankobon Softcover',\n",
       "       'Perfect Paperback', 'Board book', 'Cards', 'Spiral-bound',\n",
       "       '(Kannada)', 'Product Bundle', 'Library Binding', '(German)',\n",
       "       'Leather Bound', '(French)', '(Spanish)', '(Chinese)'],\n",
       "      dtype=object)"
      ]
     },
     "execution_count": 154,
     "metadata": {},
     "output_type": "execute_result"
    }
   ],
   "source": [
    "data['Publication'].unique()"
   ]
  },
  {
   "cell_type": "code",
   "execution_count": 155,
   "id": "ecebf20d",
   "metadata": {},
   "outputs": [
    {
     "data": {
      "text/plain": [
       "Paperback                6458\n",
       "Hardcover                1056\n",
       "Mass Market Paperback     200\n",
       "Sheet music                32\n",
       "Flexibound                 19\n",
       "Cards                       9\n",
       "Spiral-bound                6\n",
       "Loose Leaf                  3\n",
       "Tankobon Softcover          3\n",
       "Perfect Paperback           1\n",
       "Board book                  1\n",
       "Plastic Comb                1\n",
       "(Kannada)                   1\n",
       "Product Bundle              1\n",
       "Library Binding             1\n",
       "(German)                    1\n",
       "Leather Bound               1\n",
       "(French)                    1\n",
       "(Spanish)                   1\n",
       "(Chinese)                   1\n",
       "Name: Publication, dtype: int64"
      ]
     },
     "execution_count": 155,
     "metadata": {},
     "output_type": "execute_result"
    }
   ],
   "source": [
    "data['Publication'].value_counts(dropna=False)"
   ]
  },
  {
   "cell_type": "code",
   "execution_count": 156,
   "id": "11ddba7d",
   "metadata": {},
   "outputs": [
    {
     "data": {
      "text/plain": [
       "0"
      ]
     },
     "execution_count": 156,
     "metadata": {},
     "output_type": "execute_result"
    }
   ],
   "source": [
    "data['Publication'].isna().sum()"
   ]
  },
  {
   "cell_type": "code",
   "execution_count": 157,
   "id": "22e31378",
   "metadata": {},
   "outputs": [],
   "source": [
    "major_publication = ['Paperback', 'Hardcover']       "
   ]
  },
  {
   "cell_type": "code",
   "execution_count": 158,
   "id": "b1bf6fe7",
   "metadata": {},
   "outputs": [],
   "source": [
    "data['Publication'] = data['Publication'].apply(lambda x: x if x in major_publication else 'other')"
   ]
  },
  {
   "cell_type": "code",
   "execution_count": 159,
   "id": "be6979d3",
   "metadata": {},
   "outputs": [],
   "source": [
    "data['Publication_year'] = data['Edition'].str[-4:]"
   ]
  },
  {
   "cell_type": "code",
   "execution_count": 160,
   "id": "78681eb1",
   "metadata": {},
   "outputs": [
    {
     "data": {
      "text/plain": [
       "array(['2016', '2012', '1982', '2017', '2006', '2009', '2018', '2015',\n",
       "       '2013', '1999', '2002', '2011', '1991', '2014', '1989', '2000',\n",
       "       '2005', '2019', '2008', '2004', '2010', '2007', '2001', '1969',\n",
       "       '1993', '1992', '2003', '1996', 'port', '1997', '1995', 'NTSC',\n",
       "       '1987', '1986', '1990', '1988', '1981', '1976', '1994', '1998',\n",
       "       '1977', '1974', '1983', '1971', '1985', '1978', 'mile', ' set',\n",
       "       'tion', '1964', '1984', '1980', 'dged', '1979', 'rint', '1960',\n",
       "       '1970', '1975', '1905', '1900', 'book', '1961', '1925', '1973',\n",
       "       'ated', '1942', '1972'], dtype=object)"
      ]
     },
     "execution_count": 160,
     "metadata": {},
     "output_type": "execute_result"
    }
   ],
   "source": [
    "data['Publication_year'].unique()"
   ]
  },
  {
   "cell_type": "code",
   "execution_count": 161,
   "id": "0db5e037",
   "metadata": {},
   "outputs": [],
   "source": [
    "import re  ## regular expression"
   ]
  },
  {
   "cell_type": "code",
   "execution_count": 162,
   "id": "63968c67",
   "metadata": {
    "scrolled": true
   },
   "outputs": [],
   "source": [
    "data['Publication_year'] =data['Publication_year'].apply(lambda x: re.sub('[^0-9]+', 'NA', x))"
   ]
  },
  {
   "cell_type": "code",
   "execution_count": 163,
   "id": "4ddb05e1",
   "metadata": {},
   "outputs": [],
   "source": [
    "data['Publication_year'] = data['Publication_year'].replace('NA', 0)"
   ]
  },
  {
   "cell_type": "code",
   "execution_count": 164,
   "id": "e23d2ced",
   "metadata": {},
   "outputs": [],
   "source": [
    "data['Publication_year'] = data['Publication_year'].astype(int)"
   ]
  },
  {
   "cell_type": "code",
   "execution_count": 165,
   "id": "b348b386",
   "metadata": {},
   "outputs": [],
   "source": [
    "data['Age_of_book'] = 2022-data['Publication_year']"
   ]
  },
  {
   "cell_type": "code",
   "execution_count": 166,
   "id": "3c65bef7",
   "metadata": {},
   "outputs": [
    {
     "data": {
      "text/plain": [
       "array([   6,   10,   40,    5,   16,   13,    4,    7,    9,   23,   20,\n",
       "         11,   31,    8,   33,   22,   17,    3,   14,   18,   12,   15,\n",
       "         21,   53,   29,   30,   19,   26, 2022,   25,   27,   35,   36,\n",
       "         32,   34,   41,   46,   28,   24,   45,   48,   39,   51,   37,\n",
       "         44,   58,   38,   42,   43,   62,   52,   47,  117,  122,   61,\n",
       "         97,   49,   80,   50])"
      ]
     },
     "execution_count": 166,
     "metadata": {},
     "output_type": "execute_result"
    }
   ],
   "source": [
    "data['Age_of_book'].unique()"
   ]
  },
  {
   "cell_type": "code",
   "execution_count": 167,
   "id": "5a679750",
   "metadata": {},
   "outputs": [],
   "source": [
    "data['Age_of_book'] =data['Age_of_book'].replace(2022,0)"
   ]
  },
  {
   "cell_type": "code",
   "execution_count": 168,
   "id": "14f6adfd",
   "metadata": {},
   "outputs": [
    {
     "data": {
      "text/plain": [
       "array([  6,  10,  40,   5,  16,  13,   4,   7,   9,  23,  20,  11,  31,\n",
       "         8,  33,  22,  17,   3,  14,  18,  12,  15,  21,  53,  29,  30,\n",
       "        19,  26,   0,  25,  27,  35,  36,  32,  34,  41,  46,  28,  24,\n",
       "        45,  48,  39,  51,  37,  44,  58,  38,  42,  43,  62,  52,  47,\n",
       "       117, 122,  61,  97,  49,  80,  50])"
      ]
     },
     "execution_count": 168,
     "metadata": {},
     "output_type": "execute_result"
    }
   ],
   "source": [
    "data['Age_of_book'].unique()"
   ]
  },
  {
   "cell_type": "code",
   "execution_count": 122,
   "id": "3e131820",
   "metadata": {},
   "outputs": [
    {
     "data": {
      "text/html": [
       "<div>\n",
       "<style scoped>\n",
       "    .dataframe tbody tr th:only-of-type {\n",
       "        vertical-align: middle;\n",
       "    }\n",
       "\n",
       "    .dataframe tbody tr th {\n",
       "        vertical-align: top;\n",
       "    }\n",
       "\n",
       "    .dataframe thead th {\n",
       "        text-align: right;\n",
       "    }\n",
       "</style>\n",
       "<table border=\"1\" class=\"dataframe\">\n",
       "  <thead>\n",
       "    <tr style=\"text-align: right;\">\n",
       "      <th></th>\n",
       "      <th>Title</th>\n",
       "      <th>Author</th>\n",
       "      <th>Edition</th>\n",
       "      <th>Reviews</th>\n",
       "      <th>Ratings</th>\n",
       "      <th>Synopsis</th>\n",
       "      <th>Genre</th>\n",
       "      <th>BookCategory</th>\n",
       "      <th>Price</th>\n",
       "      <th>source</th>\n",
       "      <th>Publication</th>\n",
       "      <th>Publication_date</th>\n",
       "      <th>Publication_year</th>\n",
       "      <th>Age_of_book</th>\n",
       "    </tr>\n",
       "  </thead>\n",
       "  <tbody>\n",
       "    <tr>\n",
       "      <th>0</th>\n",
       "      <td>The Prisoner's Gold (The Hunters 3)</td>\n",
       "      <td>Chris Kuzneski</td>\n",
       "      <td>Paperback,– 10 Mar 2016</td>\n",
       "      <td>4.0</td>\n",
       "      <td>8</td>\n",
       "      <td>THE HUNTERS return in their third brilliant no...</td>\n",
       "      <td>Action &amp; Adventure (Books)</td>\n",
       "      <td>Action &amp; Adventure</td>\n",
       "      <td>220.00</td>\n",
       "      <td>train</td>\n",
       "      <td>Paperback</td>\n",
       "      <td>– 10 Mar 2016</td>\n",
       "      <td>2016</td>\n",
       "      <td>6</td>\n",
       "    </tr>\n",
       "    <tr>\n",
       "      <th>1</th>\n",
       "      <td>Guru Dutt: A Tragedy in Three Acts</td>\n",
       "      <td>Arun Khopkar</td>\n",
       "      <td>Paperback,– 7 Nov 2012</td>\n",
       "      <td>3.9</td>\n",
       "      <td>14</td>\n",
       "      <td>A layered portrait of a troubled genius for wh...</td>\n",
       "      <td>Cinema &amp; Broadcast (Books)</td>\n",
       "      <td>Biographies, Diaries &amp; True Accounts</td>\n",
       "      <td>202.93</td>\n",
       "      <td>train</td>\n",
       "      <td>Paperback</td>\n",
       "      <td>– 7 Nov 2012</td>\n",
       "      <td>2012</td>\n",
       "      <td>10</td>\n",
       "    </tr>\n",
       "    <tr>\n",
       "      <th>2</th>\n",
       "      <td>Leviathan (Penguin Classics)</td>\n",
       "      <td>Thomas Hobbes</td>\n",
       "      <td>Paperback,– 25 Feb 1982</td>\n",
       "      <td>4.8</td>\n",
       "      <td>6</td>\n",
       "      <td>\"During the time men live without a common Pow...</td>\n",
       "      <td>International Relations</td>\n",
       "      <td>Humour</td>\n",
       "      <td>299.00</td>\n",
       "      <td>train</td>\n",
       "      <td>Paperback</td>\n",
       "      <td>– 25 Feb 1982</td>\n",
       "      <td>1982</td>\n",
       "      <td>40</td>\n",
       "    </tr>\n",
       "    <tr>\n",
       "      <th>3</th>\n",
       "      <td>A Pocket Full of Rye (Miss Marple)</td>\n",
       "      <td>Agatha Christie</td>\n",
       "      <td>Paperback,– 5 Oct 2017</td>\n",
       "      <td>4.1</td>\n",
       "      <td>13</td>\n",
       "      <td>A handful of grain is found in the pocket of a...</td>\n",
       "      <td>Contemporary Fiction (Books)</td>\n",
       "      <td>Crime, Thriller &amp; Mystery</td>\n",
       "      <td>180.00</td>\n",
       "      <td>train</td>\n",
       "      <td>Paperback</td>\n",
       "      <td>– 5 Oct 2017</td>\n",
       "      <td>2017</td>\n",
       "      <td>5</td>\n",
       "    </tr>\n",
       "    <tr>\n",
       "      <th>4</th>\n",
       "      <td>LIFE 70 Years of Extraordinary Photography</td>\n",
       "      <td>Editors of Life</td>\n",
       "      <td>Hardcover,– 10 Oct 2006</td>\n",
       "      <td>5.0</td>\n",
       "      <td>1</td>\n",
       "      <td>For seven decades, \"Life\" has been thrilling t...</td>\n",
       "      <td>Photography Textbooks</td>\n",
       "      <td>Arts, Film &amp; Photography</td>\n",
       "      <td>965.62</td>\n",
       "      <td>train</td>\n",
       "      <td>Hardcover</td>\n",
       "      <td>– 10 Oct 2006</td>\n",
       "      <td>2006</td>\n",
       "      <td>16</td>\n",
       "    </tr>\n",
       "  </tbody>\n",
       "</table>\n",
       "</div>"
      ],
      "text/plain": [
       "                                        Title           Author  \\\n",
       "0         The Prisoner's Gold (The Hunters 3)   Chris Kuzneski   \n",
       "1          Guru Dutt: A Tragedy in Three Acts     Arun Khopkar   \n",
       "2                Leviathan (Penguin Classics)    Thomas Hobbes   \n",
       "3          A Pocket Full of Rye (Miss Marple)  Agatha Christie   \n",
       "4  LIFE 70 Years of Extraordinary Photography  Editors of Life   \n",
       "\n",
       "                   Edition  Reviews  Ratings  \\\n",
       "0  Paperback,– 10 Mar 2016      4.0        8   \n",
       "1   Paperback,– 7 Nov 2012      3.9       14   \n",
       "2  Paperback,– 25 Feb 1982      4.8        6   \n",
       "3   Paperback,– 5 Oct 2017      4.1       13   \n",
       "4  Hardcover,– 10 Oct 2006      5.0        1   \n",
       "\n",
       "                                            Synopsis  \\\n",
       "0  THE HUNTERS return in their third brilliant no...   \n",
       "1  A layered portrait of a troubled genius for wh...   \n",
       "2  \"During the time men live without a common Pow...   \n",
       "3  A handful of grain is found in the pocket of a...   \n",
       "4  For seven decades, \"Life\" has been thrilling t...   \n",
       "\n",
       "                          Genre                          BookCategory   Price  \\\n",
       "0    Action & Adventure (Books)                    Action & Adventure  220.00   \n",
       "1    Cinema & Broadcast (Books)  Biographies, Diaries & True Accounts  202.93   \n",
       "2       International Relations                                Humour  299.00   \n",
       "3  Contemporary Fiction (Books)             Crime, Thriller & Mystery  180.00   \n",
       "4         Photography Textbooks              Arts, Film & Photography  965.62   \n",
       "\n",
       "  source Publication Publication_date  Publication_year  Age_of_book  \n",
       "0  train   Paperback    – 10 Mar 2016              2016            6  \n",
       "1  train   Paperback     – 7 Nov 2012              2012           10  \n",
       "2  train   Paperback    – 25 Feb 1982              1982           40  \n",
       "3  train   Paperback     – 5 Oct 2017              2017            5  \n",
       "4  train   Hardcover    – 10 Oct 2006              2006           16  "
      ]
     },
     "execution_count": 122,
     "metadata": {},
     "output_type": "execute_result"
    }
   ],
   "source": [
    "data.head()"
   ]
  },
  {
   "cell_type": "code",
   "execution_count": 169,
   "id": "9e5db489",
   "metadata": {},
   "outputs": [],
   "source": [
    "data['Age_of_book'] =data['Age_of_book'].replace(0,10)        ##replacing with mean for book's age"
   ]
  },
  {
   "cell_type": "code",
   "execution_count": 170,
   "id": "2d178101",
   "metadata": {},
   "outputs": [
    {
     "data": {
      "text/plain": [
       "array([  6,  10,  40,   5,  16,  13,   4,   7,   9,  23,  20,  11,  31,\n",
       "         8,  33,  22,  17,   3,  14,  18,  12,  15,  21,  53,  29,  30,\n",
       "        19,  26,  25,  27,  35,  36,  32,  34,  41,  46,  28,  24,  45,\n",
       "        48,  39,  51,  37,  44,  58,  38,  42,  43,  62,  52,  47, 117,\n",
       "       122,  61,  97,  49,  80,  50])"
      ]
     },
     "execution_count": 170,
     "metadata": {},
     "output_type": "execute_result"
    }
   ],
   "source": [
    "data['Age_of_book'].unique()"
   ]
  },
  {
   "cell_type": "markdown",
   "id": "e09ca488",
   "metadata": {},
   "source": [
    "### remove stopwords"
   ]
  },
  {
   "cell_type": "code",
   "execution_count": 193,
   "id": "4688828b",
   "metadata": {},
   "outputs": [],
   "source": [
    "stop_words = set(stopwords.words('english'))"
   ]
  },
  {
   "cell_type": "markdown",
   "id": "fa9b37a8",
   "metadata": {},
   "source": [
    "### functionto implement nlp process for stop words"
   ]
  },
  {
   "cell_type": "code",
   "execution_count": 204,
   "id": "8622958c",
   "metadata": {},
   "outputs": [],
   "source": [
    "def pre_process_nlp(x):\n",
    "    string = ''\n",
    "    x =re.sub('[^A-Za-z]',' ',x)\n",
    "    for word in x.lower().split():\n",
    "        if not word in stop_words:\n",
    "            string += word + ' '\n",
    "    return string"
   ]
  },
  {
   "cell_type": "code",
   "execution_count": 209,
   "id": "e4918d1f",
   "metadata": {},
   "outputs": [
    {
     "data": {
      "text/plain": [
       "0                                  prisoner gold hunters \n",
       "1                           guru dutt tragedy three acts \n",
       "2                             leviathan penguin classics \n",
       "3                            pocket full rye miss marple \n",
       "4                   life years extraordinary photography \n",
       "                              ...                        \n",
       "7792    things every designer needs know people voices...\n",
       "7793    modern letter writing course personal business...\n",
       "7794                           kite runner graphic novel \n",
       "7795       panzer leader penguin world war ii collection \n",
       "7796                          complete spanish step step \n",
       "Name: Title, Length: 7797, dtype: object"
      ]
     },
     "execution_count": 209,
     "metadata": {},
     "output_type": "execute_result"
    }
   ],
   "source": [
    "data['Title'].apply(pre_process_nlp)"
   ]
  },
  {
   "cell_type": "code",
   "execution_count": 208,
   "id": "05edc3c1",
   "metadata": {},
   "outputs": [
    {
     "data": {
      "text/plain": [
       "'prisoner gold hunters '"
      ]
     },
     "execution_count": 208,
     "metadata": {},
     "output_type": "execute_result"
    }
   ],
   "source": [
    "pre_process_nlp(\"The Prisoner's Gold (The Hunters 3)\")"
   ]
  },
  {
   "cell_type": "code",
   "execution_count": 212,
   "id": "76b480b8",
   "metadata": {},
   "outputs": [],
   "source": [
    "process_column = ['Title','Author','Edition','Synopsis','Genre','BookCategory']"
   ]
  },
  {
   "cell_type": "code",
   "execution_count": 213,
   "id": "39945671",
   "metadata": {},
   "outputs": [],
   "source": [
    "for i in process_column:\n",
    "    data[i]= data[i].apply(pre_process_nlp)"
   ]
  },
  {
   "cell_type": "code",
   "execution_count": 214,
   "id": "0b6e4600",
   "metadata": {},
   "outputs": [
    {
     "data": {
      "text/html": [
       "<div>\n",
       "<style scoped>\n",
       "    .dataframe tbody tr th:only-of-type {\n",
       "        vertical-align: middle;\n",
       "    }\n",
       "\n",
       "    .dataframe tbody tr th {\n",
       "        vertical-align: top;\n",
       "    }\n",
       "\n",
       "    .dataframe thead th {\n",
       "        text-align: right;\n",
       "    }\n",
       "</style>\n",
       "<table border=\"1\" class=\"dataframe\">\n",
       "  <thead>\n",
       "    <tr style=\"text-align: right;\">\n",
       "      <th></th>\n",
       "      <th>Title</th>\n",
       "      <th>Author</th>\n",
       "      <th>Edition</th>\n",
       "      <th>Reviews</th>\n",
       "      <th>Ratings</th>\n",
       "      <th>Synopsis</th>\n",
       "      <th>Genre</th>\n",
       "      <th>BookCategory</th>\n",
       "      <th>Price</th>\n",
       "      <th>source</th>\n",
       "      <th>Publication</th>\n",
       "      <th>Publication_date</th>\n",
       "      <th>Publication_year</th>\n",
       "      <th>Age_of_book</th>\n",
       "    </tr>\n",
       "  </thead>\n",
       "  <tbody>\n",
       "    <tr>\n",
       "      <th>0</th>\n",
       "      <td>prisoner gold hunters</td>\n",
       "      <td>chris kuzneski</td>\n",
       "      <td>paperback mar</td>\n",
       "      <td>4.0</td>\n",
       "      <td>8</td>\n",
       "      <td>hunters return third brilliant novel sunday ti...</td>\n",
       "      <td>action adventure books</td>\n",
       "      <td>action adventure</td>\n",
       "      <td>220.00</td>\n",
       "      <td>train</td>\n",
       "      <td>Paperback</td>\n",
       "      <td>– 10 Mar 2016</td>\n",
       "      <td>2016</td>\n",
       "      <td>6</td>\n",
       "    </tr>\n",
       "    <tr>\n",
       "      <th>1</th>\n",
       "      <td>guru dutt tragedy three acts</td>\n",
       "      <td>arun khopkar</td>\n",
       "      <td>paperback nov</td>\n",
       "      <td>3.9</td>\n",
       "      <td>14</td>\n",
       "      <td>layered portrait troubled genius art merely th...</td>\n",
       "      <td>cinema broadcast books</td>\n",
       "      <td>biographies diaries true accounts</td>\n",
       "      <td>202.93</td>\n",
       "      <td>train</td>\n",
       "      <td>Paperback</td>\n",
       "      <td>– 7 Nov 2012</td>\n",
       "      <td>2012</td>\n",
       "      <td>10</td>\n",
       "    </tr>\n",
       "    <tr>\n",
       "      <th>2</th>\n",
       "      <td>leviathan penguin classics</td>\n",
       "      <td>thomas hobbes</td>\n",
       "      <td>paperback feb</td>\n",
       "      <td>4.8</td>\n",
       "      <td>6</td>\n",
       "      <td>time men live without common power keep awe co...</td>\n",
       "      <td>international relations</td>\n",
       "      <td>humour</td>\n",
       "      <td>299.00</td>\n",
       "      <td>train</td>\n",
       "      <td>Paperback</td>\n",
       "      <td>– 25 Feb 1982</td>\n",
       "      <td>1982</td>\n",
       "      <td>40</td>\n",
       "    </tr>\n",
       "    <tr>\n",
       "      <th>3</th>\n",
       "      <td>pocket full rye miss marple</td>\n",
       "      <td>agatha christie</td>\n",
       "      <td>paperback oct</td>\n",
       "      <td>4.1</td>\n",
       "      <td>13</td>\n",
       "      <td>handful grain found pocket murdered businessma...</td>\n",
       "      <td>contemporary fiction books</td>\n",
       "      <td>crime thriller mystery</td>\n",
       "      <td>180.00</td>\n",
       "      <td>train</td>\n",
       "      <td>Paperback</td>\n",
       "      <td>– 5 Oct 2017</td>\n",
       "      <td>2017</td>\n",
       "      <td>5</td>\n",
       "    </tr>\n",
       "    <tr>\n",
       "      <th>4</th>\n",
       "      <td>life years extraordinary photography</td>\n",
       "      <td>editors life</td>\n",
       "      <td>hardcover oct</td>\n",
       "      <td>5.0</td>\n",
       "      <td>1</td>\n",
       "      <td>seven decades life thrilling world unrivalled ...</td>\n",
       "      <td>photography textbooks</td>\n",
       "      <td>arts film photography</td>\n",
       "      <td>965.62</td>\n",
       "      <td>train</td>\n",
       "      <td>Hardcover</td>\n",
       "      <td>– 10 Oct 2006</td>\n",
       "      <td>2006</td>\n",
       "      <td>16</td>\n",
       "    </tr>\n",
       "  </tbody>\n",
       "</table>\n",
       "</div>"
      ],
      "text/plain": [
       "                                   Title            Author         Edition  \\\n",
       "0                 prisoner gold hunters    chris kuzneski   paperback mar    \n",
       "1          guru dutt tragedy three acts      arun khopkar   paperback nov    \n",
       "2            leviathan penguin classics     thomas hobbes   paperback feb    \n",
       "3           pocket full rye miss marple   agatha christie   paperback oct    \n",
       "4  life years extraordinary photography      editors life   hardcover oct    \n",
       "\n",
       "   Reviews  Ratings                                           Synopsis  \\\n",
       "0      4.0        8  hunters return third brilliant novel sunday ti...   \n",
       "1      3.9       14  layered portrait troubled genius art merely th...   \n",
       "2      4.8        6  time men live without common power keep awe co...   \n",
       "3      4.1       13  handful grain found pocket murdered businessma...   \n",
       "4      5.0        1  seven decades life thrilling world unrivalled ...   \n",
       "\n",
       "                         Genre                        BookCategory   Price  \\\n",
       "0      action adventure books                    action adventure   220.00   \n",
       "1      cinema broadcast books   biographies diaries true accounts   202.93   \n",
       "2     international relations                              humour   299.00   \n",
       "3  contemporary fiction books              crime thriller mystery   180.00   \n",
       "4       photography textbooks               arts film photography   965.62   \n",
       "\n",
       "  source Publication Publication_date  Publication_year  Age_of_book  \n",
       "0  train   Paperback    – 10 Mar 2016              2016            6  \n",
       "1  train   Paperback     – 7 Nov 2012              2012           10  \n",
       "2  train   Paperback    – 25 Feb 1982              1982           40  \n",
       "3  train   Paperback     – 5 Oct 2017              2017            5  \n",
       "4  train   Hardcover    – 10 Oct 2006              2006           16  "
      ]
     },
     "execution_count": 214,
     "metadata": {},
     "output_type": "execute_result"
    }
   ],
   "source": [
    "data.head()"
   ]
  },
  {
   "cell_type": "code",
   "execution_count": 215,
   "id": "63ce7883",
   "metadata": {},
   "outputs": [
    {
     "data": {
      "text/plain": [
       "action adventure books                1183\n",
       "romance books                          517\n",
       "biographies autobiographies books      463\n",
       "crime thriller mystery books           335\n",
       "contemporary fiction books             325\n",
       "                                      ... \n",
       "bodybuilding weightlifting books         1\n",
       "immunology                               1\n",
       "target shooting books                    1\n",
       "ecotourism                               1\n",
       "military history books                   1\n",
       "Name: Genre, Length: 363, dtype: int64"
      ]
     },
     "execution_count": 215,
     "metadata": {},
     "output_type": "execute_result"
    }
   ],
   "source": [
    "data['Genre'].value_counts()"
   ]
  },
  {
   "cell_type": "markdown",
   "id": "5ddabb30",
   "metadata": {},
   "source": [
    "# simple hack  -- important one"
   ]
  },
  {
   "cell_type": "code",
   "execution_count": 216,
   "id": "a5dfa97a",
   "metadata": {},
   "outputs": [
    {
     "data": {
      "text/plain": [
       "0       1183\n",
       "1         92\n",
       "2         25\n",
       "3        325\n",
       "4         47\n",
       "        ... \n",
       "7792     120\n",
       "7793      19\n",
       "7794     119\n",
       "7795       5\n",
       "7796      98\n",
       "Name: Genre, Length: 7797, dtype: int64"
      ]
     },
     "execution_count": 216,
     "metadata": {},
     "output_type": "execute_result"
    }
   ],
   "source": [
    "data['Genre'].map(data['Genre'].value_counts())"
   ]
  },
  {
   "cell_type": "code",
   "execution_count": 237,
   "id": "08a3e808",
   "metadata": {},
   "outputs": [
    {
     "data": {
      "text/plain": [
       "0       1036\n",
       "1        732\n",
       "2        670\n",
       "3        878\n",
       "4        638\n",
       "        ... \n",
       "7792     648\n",
       "7793     732\n",
       "7794     670\n",
       "7795     732\n",
       "7796     733\n",
       "Name: BookCategory, Length: 7797, dtype: int64"
      ]
     },
     "execution_count": 237,
     "metadata": {},
     "output_type": "execute_result"
    }
   ],
   "source": [
    "data['BookCategory'].map(data['BookCategory'].value_counts())"
   ]
  },
  {
   "cell_type": "code",
   "execution_count": 217,
   "id": "5c1693ca",
   "metadata": {},
   "outputs": [],
   "source": [
    "process_column = ['Title','Author','Edition','Synopsis','Genre','BookCategory']\n",
    "\n",
    "for i in process_column:\n",
    "    data[i]= data[i].map(data[i].value_counts())"
   ]
  },
  {
   "cell_type": "code",
   "execution_count": 219,
   "id": "c491eca0",
   "metadata": {},
   "outputs": [
    {
     "data": {
      "text/html": [
       "<div>\n",
       "<style scoped>\n",
       "    .dataframe tbody tr th:only-of-type {\n",
       "        vertical-align: middle;\n",
       "    }\n",
       "\n",
       "    .dataframe tbody tr th {\n",
       "        vertical-align: top;\n",
       "    }\n",
       "\n",
       "    .dataframe thead th {\n",
       "        text-align: right;\n",
       "    }\n",
       "</style>\n",
       "<table border=\"1\" class=\"dataframe\">\n",
       "  <thead>\n",
       "    <tr style=\"text-align: right;\">\n",
       "      <th></th>\n",
       "      <th>Title</th>\n",
       "      <th>Author</th>\n",
       "      <th>Edition</th>\n",
       "      <th>Reviews</th>\n",
       "      <th>Ratings</th>\n",
       "      <th>Synopsis</th>\n",
       "      <th>Genre</th>\n",
       "      <th>BookCategory</th>\n",
       "      <th>Price</th>\n",
       "      <th>source</th>\n",
       "      <th>Publication</th>\n",
       "      <th>Publication_date</th>\n",
       "      <th>Publication_year</th>\n",
       "      <th>Age_of_book</th>\n",
       "    </tr>\n",
       "  </thead>\n",
       "  <tbody>\n",
       "    <tr>\n",
       "      <th>0</th>\n",
       "      <td>1</td>\n",
       "      <td>4</td>\n",
       "      <td>431</td>\n",
       "      <td>4.0</td>\n",
       "      <td>8</td>\n",
       "      <td>1</td>\n",
       "      <td>1183</td>\n",
       "      <td>1036</td>\n",
       "      <td>220.00</td>\n",
       "      <td>train</td>\n",
       "      <td>Paperback</td>\n",
       "      <td>– 10 Mar 2016</td>\n",
       "      <td>2016</td>\n",
       "      <td>6</td>\n",
       "    </tr>\n",
       "    <tr>\n",
       "      <th>1</th>\n",
       "      <td>2</td>\n",
       "      <td>2</td>\n",
       "      <td>446</td>\n",
       "      <td>3.9</td>\n",
       "      <td>14</td>\n",
       "      <td>2</td>\n",
       "      <td>92</td>\n",
       "      <td>732</td>\n",
       "      <td>202.93</td>\n",
       "      <td>train</td>\n",
       "      <td>Paperback</td>\n",
       "      <td>– 7 Nov 2012</td>\n",
       "      <td>2012</td>\n",
       "      <td>10</td>\n",
       "    </tr>\n",
       "    <tr>\n",
       "      <th>2</th>\n",
       "      <td>3</td>\n",
       "      <td>3</td>\n",
       "      <td>366</td>\n",
       "      <td>4.8</td>\n",
       "      <td>6</td>\n",
       "      <td>3</td>\n",
       "      <td>25</td>\n",
       "      <td>670</td>\n",
       "      <td>299.00</td>\n",
       "      <td>train</td>\n",
       "      <td>Paperback</td>\n",
       "      <td>– 25 Feb 1982</td>\n",
       "      <td>1982</td>\n",
       "      <td>40</td>\n",
       "    </tr>\n",
       "    <tr>\n",
       "      <th>3</th>\n",
       "      <td>1</td>\n",
       "      <td>87</td>\n",
       "      <td>559</td>\n",
       "      <td>4.1</td>\n",
       "      <td>13</td>\n",
       "      <td>1</td>\n",
       "      <td>325</td>\n",
       "      <td>878</td>\n",
       "      <td>180.00</td>\n",
       "      <td>train</td>\n",
       "      <td>Paperback</td>\n",
       "      <td>– 5 Oct 2017</td>\n",
       "      <td>2017</td>\n",
       "      <td>5</td>\n",
       "    </tr>\n",
       "    <tr>\n",
       "      <th>4</th>\n",
       "      <td>1</td>\n",
       "      <td>1</td>\n",
       "      <td>117</td>\n",
       "      <td>5.0</td>\n",
       "      <td>1</td>\n",
       "      <td>1</td>\n",
       "      <td>47</td>\n",
       "      <td>638</td>\n",
       "      <td>965.62</td>\n",
       "      <td>train</td>\n",
       "      <td>Hardcover</td>\n",
       "      <td>– 10 Oct 2006</td>\n",
       "      <td>2006</td>\n",
       "      <td>16</td>\n",
       "    </tr>\n",
       "    <tr>\n",
       "      <th>...</th>\n",
       "      <td>...</td>\n",
       "      <td>...</td>\n",
       "      <td>...</td>\n",
       "      <td>...</td>\n",
       "      <td>...</td>\n",
       "      <td>...</td>\n",
       "      <td>...</td>\n",
       "      <td>...</td>\n",
       "      <td>...</td>\n",
       "      <td>...</td>\n",
       "      <td>...</td>\n",
       "      <td>...</td>\n",
       "      <td>...</td>\n",
       "      <td>...</td>\n",
       "    </tr>\n",
       "    <tr>\n",
       "      <th>7792</th>\n",
       "      <td>2</td>\n",
       "      <td>2</td>\n",
       "      <td>442</td>\n",
       "      <td>5.0</td>\n",
       "      <td>4</td>\n",
       "      <td>2</td>\n",
       "      <td>120</td>\n",
       "      <td>648</td>\n",
       "      <td>NaN</td>\n",
       "      <td>test</td>\n",
       "      <td>Paperback</td>\n",
       "      <td>– 14 Apr 2011</td>\n",
       "      <td>2011</td>\n",
       "      <td>11</td>\n",
       "    </tr>\n",
       "    <tr>\n",
       "      <th>7793</th>\n",
       "      <td>2</td>\n",
       "      <td>2</td>\n",
       "      <td>486</td>\n",
       "      <td>3.6</td>\n",
       "      <td>13</td>\n",
       "      <td>2</td>\n",
       "      <td>19</td>\n",
       "      <td>732</td>\n",
       "      <td>NaN</td>\n",
       "      <td>test</td>\n",
       "      <td>Paperback</td>\n",
       "      <td>– 8 May 2013</td>\n",
       "      <td>2013</td>\n",
       "      <td>9</td>\n",
       "    </tr>\n",
       "    <tr>\n",
       "      <th>7794</th>\n",
       "      <td>1</td>\n",
       "      <td>2</td>\n",
       "      <td>493</td>\n",
       "      <td>4.0</td>\n",
       "      <td>5</td>\n",
       "      <td>1</td>\n",
       "      <td>119</td>\n",
       "      <td>670</td>\n",
       "      <td>NaN</td>\n",
       "      <td>test</td>\n",
       "      <td>Paperback</td>\n",
       "      <td>– 6 Sep 2011</td>\n",
       "      <td>2011</td>\n",
       "      <td>11</td>\n",
       "    </tr>\n",
       "    <tr>\n",
       "      <th>7795</th>\n",
       "      <td>1</td>\n",
       "      <td>1</td>\n",
       "      <td>493</td>\n",
       "      <td>3.5</td>\n",
       "      <td>3</td>\n",
       "      <td>1</td>\n",
       "      <td>5</td>\n",
       "      <td>732</td>\n",
       "      <td>NaN</td>\n",
       "      <td>test</td>\n",
       "      <td>Paperback</td>\n",
       "      <td>– 22 Sep 2009</td>\n",
       "      <td>2009</td>\n",
       "      <td>13</td>\n",
       "    </tr>\n",
       "    <tr>\n",
       "      <th>7796</th>\n",
       "      <td>1</td>\n",
       "      <td>2</td>\n",
       "      <td>493</td>\n",
       "      <td>4.5</td>\n",
       "      <td>2</td>\n",
       "      <td>1</td>\n",
       "      <td>98</td>\n",
       "      <td>733</td>\n",
       "      <td>NaN</td>\n",
       "      <td>test</td>\n",
       "      <td>Paperback</td>\n",
       "      <td>– 16 Sep 2016</td>\n",
       "      <td>2016</td>\n",
       "      <td>6</td>\n",
       "    </tr>\n",
       "  </tbody>\n",
       "</table>\n",
       "<p>7797 rows × 14 columns</p>\n",
       "</div>"
      ],
      "text/plain": [
       "      Title  Author  Edition  Reviews  Ratings  Synopsis  Genre  BookCategory  \\\n",
       "0         1       4      431      4.0        8         1   1183          1036   \n",
       "1         2       2      446      3.9       14         2     92           732   \n",
       "2         3       3      366      4.8        6         3     25           670   \n",
       "3         1      87      559      4.1       13         1    325           878   \n",
       "4         1       1      117      5.0        1         1     47           638   \n",
       "...     ...     ...      ...      ...      ...       ...    ...           ...   \n",
       "7792      2       2      442      5.0        4         2    120           648   \n",
       "7793      2       2      486      3.6       13         2     19           732   \n",
       "7794      1       2      493      4.0        5         1    119           670   \n",
       "7795      1       1      493      3.5        3         1      5           732   \n",
       "7796      1       2      493      4.5        2         1     98           733   \n",
       "\n",
       "       Price source Publication Publication_date  Publication_year  \\\n",
       "0     220.00  train   Paperback    – 10 Mar 2016              2016   \n",
       "1     202.93  train   Paperback     – 7 Nov 2012              2012   \n",
       "2     299.00  train   Paperback    – 25 Feb 1982              1982   \n",
       "3     180.00  train   Paperback     – 5 Oct 2017              2017   \n",
       "4     965.62  train   Hardcover    – 10 Oct 2006              2006   \n",
       "...      ...    ...         ...              ...               ...   \n",
       "7792     NaN   test   Paperback    – 14 Apr 2011              2011   \n",
       "7793     NaN   test   Paperback     – 8 May 2013              2013   \n",
       "7794     NaN   test   Paperback     – 6 Sep 2011              2011   \n",
       "7795     NaN   test   Paperback    – 22 Sep 2009              2009   \n",
       "7796     NaN   test   Paperback    – 16 Sep 2016              2016   \n",
       "\n",
       "      Age_of_book  \n",
       "0               6  \n",
       "1              10  \n",
       "2              40  \n",
       "3               5  \n",
       "4              16  \n",
       "...           ...  \n",
       "7792           11  \n",
       "7793            9  \n",
       "7794           11  \n",
       "7795           13  \n",
       "7796            6  \n",
       "\n",
       "[7797 rows x 14 columns]"
      ]
     },
     "execution_count": 219,
     "metadata": {},
     "output_type": "execute_result"
    }
   ],
   "source": [
    "data"
   ]
  },
  {
   "cell_type": "code",
   "execution_count": 220,
   "id": "52f03c5c",
   "metadata": {},
   "outputs": [
    {
     "data": {
      "text/plain": [
       "Index(['Title', 'Author', 'Edition', 'Reviews', 'Ratings', 'Synopsis', 'Genre',\n",
       "       'BookCategory', 'Price', 'source', 'Publication', 'Publication_date',\n",
       "       'Publication_year', 'Age_of_book'],\n",
       "      dtype='object')"
      ]
     },
     "execution_count": 220,
     "metadata": {},
     "output_type": "execute_result"
    }
   ],
   "source": [
    "data.columns"
   ]
  },
  {
   "cell_type": "code",
   "execution_count": 222,
   "id": "9a31a0bf",
   "metadata": {},
   "outputs": [
    {
     "data": {
      "text/plain": [
       "array([ 1,  2,  3, 17,  5,  4, 11, 14,  8,  7, 10,  9], dtype=int64)"
      ]
     },
     "execution_count": 222,
     "metadata": {},
     "output_type": "execute_result"
    }
   ],
   "source": [
    "data['Title'].unique()"
   ]
  },
  {
   "cell_type": "code",
   "execution_count": 223,
   "id": "bd9efed8",
   "metadata": {},
   "outputs": [],
   "source": [
    "dat_filter = data[['Title', 'Author', 'Edition', 'Reviews', 'Ratings', 'Synopsis', 'Genre',\n",
    "       'BookCategory', 'Price', 'source', 'Publication', \n",
    "        'Age_of_book']]"
   ]
  },
  {
   "cell_type": "code",
   "execution_count": 224,
   "id": "25f1ba31",
   "metadata": {},
   "outputs": [
    {
     "data": {
      "text/html": [
       "<div>\n",
       "<style scoped>\n",
       "    .dataframe tbody tr th:only-of-type {\n",
       "        vertical-align: middle;\n",
       "    }\n",
       "\n",
       "    .dataframe tbody tr th {\n",
       "        vertical-align: top;\n",
       "    }\n",
       "\n",
       "    .dataframe thead th {\n",
       "        text-align: right;\n",
       "    }\n",
       "</style>\n",
       "<table border=\"1\" class=\"dataframe\">\n",
       "  <thead>\n",
       "    <tr style=\"text-align: right;\">\n",
       "      <th></th>\n",
       "      <th>Title</th>\n",
       "      <th>Author</th>\n",
       "      <th>Edition</th>\n",
       "      <th>Reviews</th>\n",
       "      <th>Ratings</th>\n",
       "      <th>Synopsis</th>\n",
       "      <th>Genre</th>\n",
       "      <th>BookCategory</th>\n",
       "      <th>Price</th>\n",
       "      <th>source</th>\n",
       "      <th>Publication</th>\n",
       "      <th>Age_of_book</th>\n",
       "    </tr>\n",
       "  </thead>\n",
       "  <tbody>\n",
       "    <tr>\n",
       "      <th>0</th>\n",
       "      <td>1</td>\n",
       "      <td>4</td>\n",
       "      <td>431</td>\n",
       "      <td>4.0</td>\n",
       "      <td>8</td>\n",
       "      <td>1</td>\n",
       "      <td>1183</td>\n",
       "      <td>1036</td>\n",
       "      <td>220.00</td>\n",
       "      <td>train</td>\n",
       "      <td>Paperback</td>\n",
       "      <td>6</td>\n",
       "    </tr>\n",
       "    <tr>\n",
       "      <th>1</th>\n",
       "      <td>2</td>\n",
       "      <td>2</td>\n",
       "      <td>446</td>\n",
       "      <td>3.9</td>\n",
       "      <td>14</td>\n",
       "      <td>2</td>\n",
       "      <td>92</td>\n",
       "      <td>732</td>\n",
       "      <td>202.93</td>\n",
       "      <td>train</td>\n",
       "      <td>Paperback</td>\n",
       "      <td>10</td>\n",
       "    </tr>\n",
       "    <tr>\n",
       "      <th>2</th>\n",
       "      <td>3</td>\n",
       "      <td>3</td>\n",
       "      <td>366</td>\n",
       "      <td>4.8</td>\n",
       "      <td>6</td>\n",
       "      <td>3</td>\n",
       "      <td>25</td>\n",
       "      <td>670</td>\n",
       "      <td>299.00</td>\n",
       "      <td>train</td>\n",
       "      <td>Paperback</td>\n",
       "      <td>40</td>\n",
       "    </tr>\n",
       "    <tr>\n",
       "      <th>3</th>\n",
       "      <td>1</td>\n",
       "      <td>87</td>\n",
       "      <td>559</td>\n",
       "      <td>4.1</td>\n",
       "      <td>13</td>\n",
       "      <td>1</td>\n",
       "      <td>325</td>\n",
       "      <td>878</td>\n",
       "      <td>180.00</td>\n",
       "      <td>train</td>\n",
       "      <td>Paperback</td>\n",
       "      <td>5</td>\n",
       "    </tr>\n",
       "    <tr>\n",
       "      <th>4</th>\n",
       "      <td>1</td>\n",
       "      <td>1</td>\n",
       "      <td>117</td>\n",
       "      <td>5.0</td>\n",
       "      <td>1</td>\n",
       "      <td>1</td>\n",
       "      <td>47</td>\n",
       "      <td>638</td>\n",
       "      <td>965.62</td>\n",
       "      <td>train</td>\n",
       "      <td>Hardcover</td>\n",
       "      <td>16</td>\n",
       "    </tr>\n",
       "    <tr>\n",
       "      <th>...</th>\n",
       "      <td>...</td>\n",
       "      <td>...</td>\n",
       "      <td>...</td>\n",
       "      <td>...</td>\n",
       "      <td>...</td>\n",
       "      <td>...</td>\n",
       "      <td>...</td>\n",
       "      <td>...</td>\n",
       "      <td>...</td>\n",
       "      <td>...</td>\n",
       "      <td>...</td>\n",
       "      <td>...</td>\n",
       "    </tr>\n",
       "    <tr>\n",
       "      <th>7792</th>\n",
       "      <td>2</td>\n",
       "      <td>2</td>\n",
       "      <td>442</td>\n",
       "      <td>5.0</td>\n",
       "      <td>4</td>\n",
       "      <td>2</td>\n",
       "      <td>120</td>\n",
       "      <td>648</td>\n",
       "      <td>NaN</td>\n",
       "      <td>test</td>\n",
       "      <td>Paperback</td>\n",
       "      <td>11</td>\n",
       "    </tr>\n",
       "    <tr>\n",
       "      <th>7793</th>\n",
       "      <td>2</td>\n",
       "      <td>2</td>\n",
       "      <td>486</td>\n",
       "      <td>3.6</td>\n",
       "      <td>13</td>\n",
       "      <td>2</td>\n",
       "      <td>19</td>\n",
       "      <td>732</td>\n",
       "      <td>NaN</td>\n",
       "      <td>test</td>\n",
       "      <td>Paperback</td>\n",
       "      <td>9</td>\n",
       "    </tr>\n",
       "    <tr>\n",
       "      <th>7794</th>\n",
       "      <td>1</td>\n",
       "      <td>2</td>\n",
       "      <td>493</td>\n",
       "      <td>4.0</td>\n",
       "      <td>5</td>\n",
       "      <td>1</td>\n",
       "      <td>119</td>\n",
       "      <td>670</td>\n",
       "      <td>NaN</td>\n",
       "      <td>test</td>\n",
       "      <td>Paperback</td>\n",
       "      <td>11</td>\n",
       "    </tr>\n",
       "    <tr>\n",
       "      <th>7795</th>\n",
       "      <td>1</td>\n",
       "      <td>1</td>\n",
       "      <td>493</td>\n",
       "      <td>3.5</td>\n",
       "      <td>3</td>\n",
       "      <td>1</td>\n",
       "      <td>5</td>\n",
       "      <td>732</td>\n",
       "      <td>NaN</td>\n",
       "      <td>test</td>\n",
       "      <td>Paperback</td>\n",
       "      <td>13</td>\n",
       "    </tr>\n",
       "    <tr>\n",
       "      <th>7796</th>\n",
       "      <td>1</td>\n",
       "      <td>2</td>\n",
       "      <td>493</td>\n",
       "      <td>4.5</td>\n",
       "      <td>2</td>\n",
       "      <td>1</td>\n",
       "      <td>98</td>\n",
       "      <td>733</td>\n",
       "      <td>NaN</td>\n",
       "      <td>test</td>\n",
       "      <td>Paperback</td>\n",
       "      <td>6</td>\n",
       "    </tr>\n",
       "  </tbody>\n",
       "</table>\n",
       "<p>7797 rows × 12 columns</p>\n",
       "</div>"
      ],
      "text/plain": [
       "      Title  Author  Edition  Reviews  Ratings  Synopsis  Genre  BookCategory  \\\n",
       "0         1       4      431      4.0        8         1   1183          1036   \n",
       "1         2       2      446      3.9       14         2     92           732   \n",
       "2         3       3      366      4.8        6         3     25           670   \n",
       "3         1      87      559      4.1       13         1    325           878   \n",
       "4         1       1      117      5.0        1         1     47           638   \n",
       "...     ...     ...      ...      ...      ...       ...    ...           ...   \n",
       "7792      2       2      442      5.0        4         2    120           648   \n",
       "7793      2       2      486      3.6       13         2     19           732   \n",
       "7794      1       2      493      4.0        5         1    119           670   \n",
       "7795      1       1      493      3.5        3         1      5           732   \n",
       "7796      1       2      493      4.5        2         1     98           733   \n",
       "\n",
       "       Price source Publication  Age_of_book  \n",
       "0     220.00  train   Paperback            6  \n",
       "1     202.93  train   Paperback           10  \n",
       "2     299.00  train   Paperback           40  \n",
       "3     180.00  train   Paperback            5  \n",
       "4     965.62  train   Hardcover           16  \n",
       "...      ...    ...         ...          ...  \n",
       "7792     NaN   test   Paperback           11  \n",
       "7793     NaN   test   Paperback            9  \n",
       "7794     NaN   test   Paperback           11  \n",
       "7795     NaN   test   Paperback           13  \n",
       "7796     NaN   test   Paperback            6  \n",
       "\n",
       "[7797 rows x 12 columns]"
      ]
     },
     "execution_count": 224,
     "metadata": {},
     "output_type": "execute_result"
    }
   ],
   "source": [
    "dat_filter"
   ]
  },
  {
   "cell_type": "code",
   "execution_count": 225,
   "id": "164fefce",
   "metadata": {},
   "outputs": [],
   "source": [
    "dat_filter_category = pd.get_dummies(data[['Publication']])"
   ]
  },
  {
   "cell_type": "code",
   "execution_count": 226,
   "id": "8d32e28e",
   "metadata": {},
   "outputs": [],
   "source": [
    "data_preprocessed = pd.concat([dat_filter_category,dat_filter.drop(columns=['Publication'])], axis=1)"
   ]
  },
  {
   "cell_type": "code",
   "execution_count": 227,
   "id": "4d80a84d",
   "metadata": {},
   "outputs": [],
   "source": [
    "train_preprocessed = data_preprocessed[data_preprocessed['source']=='train']"
   ]
  },
  {
   "cell_type": "code",
   "execution_count": 228,
   "id": "76bf7cc0",
   "metadata": {},
   "outputs": [],
   "source": [
    "test_preprocessed = data_preprocessed[data_preprocessed['source']=='test']"
   ]
  },
  {
   "cell_type": "code",
   "execution_count": 229,
   "id": "7667d66c",
   "metadata": {},
   "outputs": [
    {
     "name": "stderr",
     "output_type": "stream",
     "text": [
      "C:\\Users\\Muthukumaran\\anaconda3\\lib\\site-packages\\pandas\\core\\frame.py:4906: SettingWithCopyWarning: \n",
      "A value is trying to be set on a copy of a slice from a DataFrame\n",
      "\n",
      "See the caveats in the documentation: https://pandas.pydata.org/pandas-docs/stable/user_guide/indexing.html#returning-a-view-versus-a-copy\n",
      "  return super().drop(\n"
     ]
    }
   ],
   "source": [
    "train_preprocessed.drop(columns=['source'], inplace=True)"
   ]
  },
  {
   "cell_type": "code",
   "execution_count": 230,
   "id": "c2176e81",
   "metadata": {},
   "outputs": [],
   "source": [
    "test_preprocessed.drop(columns=['source','Price'], inplace=True)"
   ]
  },
  {
   "cell_type": "code",
   "execution_count": 231,
   "id": "12da49e7",
   "metadata": {},
   "outputs": [],
   "source": [
    "test_preprocessed.reset_index(drop=True, inplace =True)"
   ]
  },
  {
   "cell_type": "code",
   "execution_count": 232,
   "id": "44c215c6",
   "metadata": {},
   "outputs": [
    {
     "data": {
      "text/html": [
       "<div>\n",
       "<style scoped>\n",
       "    .dataframe tbody tr th:only-of-type {\n",
       "        vertical-align: middle;\n",
       "    }\n",
       "\n",
       "    .dataframe tbody tr th {\n",
       "        vertical-align: top;\n",
       "    }\n",
       "\n",
       "    .dataframe thead th {\n",
       "        text-align: right;\n",
       "    }\n",
       "</style>\n",
       "<table border=\"1\" class=\"dataframe\">\n",
       "  <thead>\n",
       "    <tr style=\"text-align: right;\">\n",
       "      <th></th>\n",
       "      <th>Publication_Hardcover</th>\n",
       "      <th>Publication_Paperback</th>\n",
       "      <th>Publication_other</th>\n",
       "      <th>Title</th>\n",
       "      <th>Author</th>\n",
       "      <th>Edition</th>\n",
       "      <th>Reviews</th>\n",
       "      <th>Ratings</th>\n",
       "      <th>Synopsis</th>\n",
       "      <th>Genre</th>\n",
       "      <th>BookCategory</th>\n",
       "      <th>Age_of_book</th>\n",
       "    </tr>\n",
       "  </thead>\n",
       "  <tbody>\n",
       "    <tr>\n",
       "      <th>0</th>\n",
       "      <td>0</td>\n",
       "      <td>0</td>\n",
       "      <td>1</td>\n",
       "      <td>2</td>\n",
       "      <td>10</td>\n",
       "      <td>19</td>\n",
       "      <td>4.4</td>\n",
       "      <td>960</td>\n",
       "      <td>2</td>\n",
       "      <td>40</td>\n",
       "      <td>878</td>\n",
       "      <td>36</td>\n",
       "    </tr>\n",
       "    <tr>\n",
       "      <th>1</th>\n",
       "      <td>0</td>\n",
       "      <td>1</td>\n",
       "      <td>0</td>\n",
       "      <td>1</td>\n",
       "      <td>1</td>\n",
       "      <td>52</td>\n",
       "      <td>5.0</td>\n",
       "      <td>1</td>\n",
       "      <td>1</td>\n",
       "      <td>7</td>\n",
       "      <td>648</td>\n",
       "      <td>4</td>\n",
       "    </tr>\n",
       "    <tr>\n",
       "      <th>2</th>\n",
       "      <td>0</td>\n",
       "      <td>1</td>\n",
       "      <td>0</td>\n",
       "      <td>1</td>\n",
       "      <td>25</td>\n",
       "      <td>431</td>\n",
       "      <td>5.0</td>\n",
       "      <td>4</td>\n",
       "      <td>1</td>\n",
       "      <td>517</td>\n",
       "      <td>702</td>\n",
       "      <td>11</td>\n",
       "    </tr>\n",
       "    <tr>\n",
       "      <th>3</th>\n",
       "      <td>0</td>\n",
       "      <td>1</td>\n",
       "      <td>0</td>\n",
       "      <td>1</td>\n",
       "      <td>1</td>\n",
       "      <td>385</td>\n",
       "      <td>4.1</td>\n",
       "      <td>11</td>\n",
       "      <td>1</td>\n",
       "      <td>43</td>\n",
       "      <td>648</td>\n",
       "      <td>6</td>\n",
       "    </tr>\n",
       "    <tr>\n",
       "      <th>4</th>\n",
       "      <td>0</td>\n",
       "      <td>1</td>\n",
       "      <td>0</td>\n",
       "      <td>1</td>\n",
       "      <td>4</td>\n",
       "      <td>334</td>\n",
       "      <td>4.4</td>\n",
       "      <td>9</td>\n",
       "      <td>2</td>\n",
       "      <td>80</td>\n",
       "      <td>733</td>\n",
       "      <td>11</td>\n",
       "    </tr>\n",
       "    <tr>\n",
       "      <th>...</th>\n",
       "      <td>...</td>\n",
       "      <td>...</td>\n",
       "      <td>...</td>\n",
       "      <td>...</td>\n",
       "      <td>...</td>\n",
       "      <td>...</td>\n",
       "      <td>...</td>\n",
       "      <td>...</td>\n",
       "      <td>...</td>\n",
       "      <td>...</td>\n",
       "      <td>...</td>\n",
       "      <td>...</td>\n",
       "    </tr>\n",
       "    <tr>\n",
       "      <th>1555</th>\n",
       "      <td>0</td>\n",
       "      <td>1</td>\n",
       "      <td>0</td>\n",
       "      <td>2</td>\n",
       "      <td>2</td>\n",
       "      <td>442</td>\n",
       "      <td>5.0</td>\n",
       "      <td>4</td>\n",
       "      <td>2</td>\n",
       "      <td>120</td>\n",
       "      <td>648</td>\n",
       "      <td>11</td>\n",
       "    </tr>\n",
       "    <tr>\n",
       "      <th>1556</th>\n",
       "      <td>0</td>\n",
       "      <td>1</td>\n",
       "      <td>0</td>\n",
       "      <td>2</td>\n",
       "      <td>2</td>\n",
       "      <td>486</td>\n",
       "      <td>3.6</td>\n",
       "      <td>13</td>\n",
       "      <td>2</td>\n",
       "      <td>19</td>\n",
       "      <td>732</td>\n",
       "      <td>9</td>\n",
       "    </tr>\n",
       "    <tr>\n",
       "      <th>1557</th>\n",
       "      <td>0</td>\n",
       "      <td>1</td>\n",
       "      <td>0</td>\n",
       "      <td>1</td>\n",
       "      <td>2</td>\n",
       "      <td>493</td>\n",
       "      <td>4.0</td>\n",
       "      <td>5</td>\n",
       "      <td>1</td>\n",
       "      <td>119</td>\n",
       "      <td>670</td>\n",
       "      <td>11</td>\n",
       "    </tr>\n",
       "    <tr>\n",
       "      <th>1558</th>\n",
       "      <td>0</td>\n",
       "      <td>1</td>\n",
       "      <td>0</td>\n",
       "      <td>1</td>\n",
       "      <td>1</td>\n",
       "      <td>493</td>\n",
       "      <td>3.5</td>\n",
       "      <td>3</td>\n",
       "      <td>1</td>\n",
       "      <td>5</td>\n",
       "      <td>732</td>\n",
       "      <td>13</td>\n",
       "    </tr>\n",
       "    <tr>\n",
       "      <th>1559</th>\n",
       "      <td>0</td>\n",
       "      <td>1</td>\n",
       "      <td>0</td>\n",
       "      <td>1</td>\n",
       "      <td>2</td>\n",
       "      <td>493</td>\n",
       "      <td>4.5</td>\n",
       "      <td>2</td>\n",
       "      <td>1</td>\n",
       "      <td>98</td>\n",
       "      <td>733</td>\n",
       "      <td>6</td>\n",
       "    </tr>\n",
       "  </tbody>\n",
       "</table>\n",
       "<p>1560 rows × 12 columns</p>\n",
       "</div>"
      ],
      "text/plain": [
       "      Publication_Hardcover  Publication_Paperback  Publication_other  Title  \\\n",
       "0                         0                      0                  1      2   \n",
       "1                         0                      1                  0      1   \n",
       "2                         0                      1                  0      1   \n",
       "3                         0                      1                  0      1   \n",
       "4                         0                      1                  0      1   \n",
       "...                     ...                    ...                ...    ...   \n",
       "1555                      0                      1                  0      2   \n",
       "1556                      0                      1                  0      2   \n",
       "1557                      0                      1                  0      1   \n",
       "1558                      0                      1                  0      1   \n",
       "1559                      0                      1                  0      1   \n",
       "\n",
       "      Author  Edition  Reviews  Ratings  Synopsis  Genre  BookCategory  \\\n",
       "0         10       19      4.4      960         2     40           878   \n",
       "1          1       52      5.0        1         1      7           648   \n",
       "2         25      431      5.0        4         1    517           702   \n",
       "3          1      385      4.1       11         1     43           648   \n",
       "4          4      334      4.4        9         2     80           733   \n",
       "...      ...      ...      ...      ...       ...    ...           ...   \n",
       "1555       2      442      5.0        4         2    120           648   \n",
       "1556       2      486      3.6       13         2     19           732   \n",
       "1557       2      493      4.0        5         1    119           670   \n",
       "1558       1      493      3.5        3         1      5           732   \n",
       "1559       2      493      4.5        2         1     98           733   \n",
       "\n",
       "      Age_of_book  \n",
       "0              36  \n",
       "1               4  \n",
       "2              11  \n",
       "3               6  \n",
       "4              11  \n",
       "...           ...  \n",
       "1555           11  \n",
       "1556            9  \n",
       "1557           11  \n",
       "1558           13  \n",
       "1559            6  \n",
       "\n",
       "[1560 rows x 12 columns]"
      ]
     },
     "execution_count": 232,
     "metadata": {},
     "output_type": "execute_result"
    }
   ],
   "source": [
    "test_preprocessed"
   ]
  },
  {
   "cell_type": "code",
   "execution_count": 233,
   "id": "83a2eeb9",
   "metadata": {},
   "outputs": [
    {
     "data": {
      "text/plain": [
       "((6237, 13), (1560, 12))"
      ]
     },
     "execution_count": 233,
     "metadata": {},
     "output_type": "execute_result"
    }
   ],
   "source": [
    "train_preprocessed.shape , test_preprocessed.shape"
   ]
  },
  {
   "cell_type": "code",
   "execution_count": 236,
   "id": "ef485248",
   "metadata": {},
   "outputs": [],
   "source": [
    "train_preprocessed.to_csv('train_preprocessed_2.csv', index= False)\n",
    "test_preprocessed.to_csv('test_preprocessed_2.csv', index= False)"
   ]
  },
  {
   "cell_type": "code",
   "execution_count": null,
   "id": "d7f8dd8b",
   "metadata": {},
   "outputs": [],
   "source": []
  },
  {
   "cell_type": "code",
   "execution_count": null,
   "id": "7221abe6",
   "metadata": {},
   "outputs": [],
   "source": []
  },
  {
   "cell_type": "code",
   "execution_count": null,
   "id": "6371635e",
   "metadata": {},
   "outputs": [],
   "source": []
  },
  {
   "cell_type": "code",
   "execution_count": null,
   "id": "0a91c993",
   "metadata": {},
   "outputs": [],
   "source": []
  },
  {
   "cell_type": "code",
   "execution_count": null,
   "id": "ef426e9f",
   "metadata": {},
   "outputs": [],
   "source": []
  },
  {
   "cell_type": "code",
   "execution_count": null,
   "id": "574a7850",
   "metadata": {},
   "outputs": [],
   "source": []
  },
  {
   "cell_type": "code",
   "execution_count": null,
   "id": "e50eee91",
   "metadata": {},
   "outputs": [],
   "source": []
  },
  {
   "cell_type": "code",
   "execution_count": null,
   "id": "441f9eb3",
   "metadata": {},
   "outputs": [],
   "source": []
  },
  {
   "cell_type": "code",
   "execution_count": null,
   "id": "c3e367e9",
   "metadata": {},
   "outputs": [],
   "source": []
  },
  {
   "cell_type": "code",
   "execution_count": null,
   "id": "5b47d6c8",
   "metadata": {},
   "outputs": [],
   "source": []
  },
  {
   "cell_type": "code",
   "execution_count": null,
   "id": "bc80f0f9",
   "metadata": {},
   "outputs": [],
   "source": []
  },
  {
   "cell_type": "code",
   "execution_count": null,
   "id": "72573725",
   "metadata": {},
   "outputs": [],
   "source": []
  },
  {
   "cell_type": "code",
   "execution_count": null,
   "id": "add12f54",
   "metadata": {},
   "outputs": [],
   "source": []
  },
  {
   "cell_type": "code",
   "execution_count": null,
   "id": "1403b825",
   "metadata": {},
   "outputs": [],
   "source": []
  },
  {
   "cell_type": "code",
   "execution_count": null,
   "id": "7b4ed6a2",
   "metadata": {},
   "outputs": [],
   "source": []
  },
  {
   "cell_type": "code",
   "execution_count": null,
   "id": "eabb0688",
   "metadata": {},
   "outputs": [],
   "source": []
  },
  {
   "cell_type": "code",
   "execution_count": null,
   "id": "aff04b16",
   "metadata": {},
   "outputs": [],
   "source": []
  },
  {
   "cell_type": "code",
   "execution_count": null,
   "id": "09b82891",
   "metadata": {},
   "outputs": [],
   "source": []
  },
  {
   "cell_type": "code",
   "execution_count": null,
   "id": "8a9e477a",
   "metadata": {},
   "outputs": [],
   "source": []
  },
  {
   "cell_type": "code",
   "execution_count": null,
   "id": "85c71f0a",
   "metadata": {},
   "outputs": [],
   "source": []
  },
  {
   "cell_type": "code",
   "execution_count": null,
   "id": "be76f846",
   "metadata": {},
   "outputs": [],
   "source": []
  },
  {
   "cell_type": "code",
   "execution_count": null,
   "id": "7da6e7f7",
   "metadata": {},
   "outputs": [],
   "source": []
  },
  {
   "cell_type": "code",
   "execution_count": null,
   "id": "2c733536",
   "metadata": {},
   "outputs": [],
   "source": []
  },
  {
   "cell_type": "code",
   "execution_count": null,
   "id": "e1a3b4e4",
   "metadata": {},
   "outputs": [],
   "source": []
  },
  {
   "cell_type": "code",
   "execution_count": null,
   "id": "f244f28a",
   "metadata": {},
   "outputs": [],
   "source": []
  },
  {
   "cell_type": "code",
   "execution_count": null,
   "id": "8063e8f6",
   "metadata": {},
   "outputs": [],
   "source": []
  },
  {
   "cell_type": "code",
   "execution_count": null,
   "id": "8efee396",
   "metadata": {},
   "outputs": [],
   "source": []
  },
  {
   "cell_type": "code",
   "execution_count": null,
   "id": "2d172f20",
   "metadata": {},
   "outputs": [],
   "source": []
  },
  {
   "cell_type": "code",
   "execution_count": null,
   "id": "9471d9d3",
   "metadata": {},
   "outputs": [],
   "source": []
  },
  {
   "cell_type": "code",
   "execution_count": null,
   "id": "98e723d7",
   "metadata": {},
   "outputs": [],
   "source": []
  },
  {
   "cell_type": "code",
   "execution_count": null,
   "id": "c3efa09c",
   "metadata": {},
   "outputs": [],
   "source": []
  },
  {
   "cell_type": "code",
   "execution_count": null,
   "id": "5fea24fa",
   "metadata": {},
   "outputs": [],
   "source": []
  },
  {
   "cell_type": "code",
   "execution_count": null,
   "id": "754ceefb",
   "metadata": {},
   "outputs": [],
   "source": []
  },
  {
   "cell_type": "code",
   "execution_count": null,
   "id": "b6a42df6",
   "metadata": {},
   "outputs": [],
   "source": []
  },
  {
   "cell_type": "code",
   "execution_count": null,
   "id": "11f7a635",
   "metadata": {},
   "outputs": [],
   "source": []
  },
  {
   "cell_type": "code",
   "execution_count": null,
   "id": "3dcaa122",
   "metadata": {},
   "outputs": [],
   "source": []
  },
  {
   "cell_type": "code",
   "execution_count": null,
   "id": "13ff4334",
   "metadata": {},
   "outputs": [],
   "source": []
  },
  {
   "cell_type": "code",
   "execution_count": null,
   "id": "04c9ab2b",
   "metadata": {},
   "outputs": [],
   "source": []
  },
  {
   "cell_type": "code",
   "execution_count": null,
   "id": "f49ce045",
   "metadata": {},
   "outputs": [],
   "source": []
  },
  {
   "cell_type": "code",
   "execution_count": null,
   "id": "83373b1d",
   "metadata": {},
   "outputs": [],
   "source": []
  },
  {
   "cell_type": "code",
   "execution_count": null,
   "id": "beda073c",
   "metadata": {},
   "outputs": [],
   "source": []
  },
  {
   "cell_type": "code",
   "execution_count": null,
   "id": "43dd9c3c",
   "metadata": {},
   "outputs": [],
   "source": []
  },
  {
   "cell_type": "code",
   "execution_count": null,
   "id": "7a9b7e99",
   "metadata": {},
   "outputs": [],
   "source": []
  },
  {
   "cell_type": "code",
   "execution_count": null,
   "id": "7f53b736",
   "metadata": {},
   "outputs": [],
   "source": []
  },
  {
   "cell_type": "code",
   "execution_count": null,
   "id": "58e7162f",
   "metadata": {},
   "outputs": [],
   "source": []
  },
  {
   "cell_type": "code",
   "execution_count": null,
   "id": "e8bf3930",
   "metadata": {},
   "outputs": [],
   "source": []
  },
  {
   "cell_type": "code",
   "execution_count": null,
   "id": "cdacb1c7",
   "metadata": {},
   "outputs": [],
   "source": []
  },
  {
   "cell_type": "code",
   "execution_count": null,
   "id": "0f58ad6a",
   "metadata": {},
   "outputs": [],
   "source": []
  },
  {
   "cell_type": "code",
   "execution_count": null,
   "id": "433f04a1",
   "metadata": {},
   "outputs": [],
   "source": []
  },
  {
   "cell_type": "code",
   "execution_count": null,
   "id": "47e0f24e",
   "metadata": {},
   "outputs": [],
   "source": []
  },
  {
   "cell_type": "code",
   "execution_count": null,
   "id": "0fe8d2ea",
   "metadata": {},
   "outputs": [],
   "source": []
  },
  {
   "cell_type": "code",
   "execution_count": null,
   "id": "f5677892",
   "metadata": {},
   "outputs": [],
   "source": []
  },
  {
   "cell_type": "code",
   "execution_count": null,
   "id": "0ffc3c52",
   "metadata": {},
   "outputs": [],
   "source": []
  },
  {
   "cell_type": "code",
   "execution_count": null,
   "id": "6c96fed4",
   "metadata": {},
   "outputs": [],
   "source": []
  },
  {
   "cell_type": "code",
   "execution_count": null,
   "id": "98e642af",
   "metadata": {},
   "outputs": [],
   "source": []
  },
  {
   "cell_type": "code",
   "execution_count": null,
   "id": "775d7e16",
   "metadata": {},
   "outputs": [],
   "source": []
  },
  {
   "cell_type": "code",
   "execution_count": null,
   "id": "eeef250c",
   "metadata": {},
   "outputs": [],
   "source": []
  },
  {
   "cell_type": "code",
   "execution_count": null,
   "id": "23c14143",
   "metadata": {},
   "outputs": [],
   "source": []
  },
  {
   "cell_type": "code",
   "execution_count": null,
   "id": "92c5b72f",
   "metadata": {},
   "outputs": [],
   "source": []
  },
  {
   "cell_type": "code",
   "execution_count": null,
   "id": "fca15481",
   "metadata": {},
   "outputs": [],
   "source": []
  },
  {
   "cell_type": "code",
   "execution_count": null,
   "id": "96ff91a2",
   "metadata": {},
   "outputs": [],
   "source": []
  },
  {
   "cell_type": "code",
   "execution_count": null,
   "id": "0c856937",
   "metadata": {},
   "outputs": [],
   "source": []
  },
  {
   "cell_type": "code",
   "execution_count": null,
   "id": "9a44951b",
   "metadata": {},
   "outputs": [],
   "source": []
  },
  {
   "cell_type": "code",
   "execution_count": null,
   "id": "855f96c4",
   "metadata": {},
   "outputs": [],
   "source": []
  },
  {
   "cell_type": "code",
   "execution_count": null,
   "id": "f7e0521d",
   "metadata": {},
   "outputs": [],
   "source": []
  },
  {
   "cell_type": "code",
   "execution_count": null,
   "id": "f445ee5e",
   "metadata": {},
   "outputs": [],
   "source": []
  }
 ],
 "metadata": {
  "kernelspec": {
   "display_name": "Python 3 (ipykernel)",
   "language": "python",
   "name": "python3"
  },
  "language_info": {
   "codemirror_mode": {
    "name": "ipython",
    "version": 3
   },
   "file_extension": ".py",
   "mimetype": "text/x-python",
   "name": "python",
   "nbconvert_exporter": "python",
   "pygments_lexer": "ipython3",
   "version": "3.9.7"
  }
 },
 "nbformat": 4,
 "nbformat_minor": 5
}
