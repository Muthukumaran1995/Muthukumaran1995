{
 "cells": [
  {
   "cell_type": "code",
   "execution_count": 27,
   "id": "9b8ac09d",
   "metadata": {},
   "outputs": [],
   "source": [
    "import pandas as pd\n",
    "import numpy as np\n",
    "from sklearn.linear_model import LinearRegression, Lasso, ElasticNet, Ridge\n",
    "from sklearn.tree import DecisionTreeRegressor\n",
    "from sklearn.ensemble import RandomForestRegressor\n",
    "from sklearn.neighbors import KNeighborsRegressor\n",
    "from sklearn.model_selection import train_test_split"
   ]
  },
  {
   "cell_type": "code",
   "execution_count": 28,
   "id": "edc03ef5",
   "metadata": {},
   "outputs": [],
   "source": [
    "def rmsle(y_true, y_pred):\n",
    "    return 1 - np.sqrt(np.square(np.log10(y_pred +1) - np.log10(y_true +1)).mean())"
   ]
  },
  {
   "cell_type": "code",
   "execution_count": 29,
   "id": "a9dda54c",
   "metadata": {},
   "outputs": [],
   "source": [
    "train = pd.read_csv('train_preprocessed_2.csv')\n",
    "test = pd.read_csv('test_preprocessed_2.csv')"
   ]
  },
  {
   "cell_type": "code",
   "execution_count": 30,
   "id": "d71c276f",
   "metadata": {},
   "outputs": [
    {
     "data": {
      "text/html": [
       "<div>\n",
       "<style scoped>\n",
       "    .dataframe tbody tr th:only-of-type {\n",
       "        vertical-align: middle;\n",
       "    }\n",
       "\n",
       "    .dataframe tbody tr th {\n",
       "        vertical-align: top;\n",
       "    }\n",
       "\n",
       "    .dataframe thead th {\n",
       "        text-align: right;\n",
       "    }\n",
       "</style>\n",
       "<table border=\"1\" class=\"dataframe\">\n",
       "  <thead>\n",
       "    <tr style=\"text-align: right;\">\n",
       "      <th></th>\n",
       "      <th>Publication_Hardcover</th>\n",
       "      <th>Publication_Paperback</th>\n",
       "      <th>Publication_other</th>\n",
       "      <th>Title</th>\n",
       "      <th>Author</th>\n",
       "      <th>Edition</th>\n",
       "      <th>Reviews</th>\n",
       "      <th>Ratings</th>\n",
       "      <th>Synopsis</th>\n",
       "      <th>Genre</th>\n",
       "      <th>BookCategory</th>\n",
       "      <th>Price</th>\n",
       "      <th>Age_of_book</th>\n",
       "    </tr>\n",
       "  </thead>\n",
       "  <tbody>\n",
       "    <tr>\n",
       "      <th>0</th>\n",
       "      <td>0</td>\n",
       "      <td>1</td>\n",
       "      <td>0</td>\n",
       "      <td>1</td>\n",
       "      <td>4</td>\n",
       "      <td>431</td>\n",
       "      <td>4.0</td>\n",
       "      <td>8</td>\n",
       "      <td>1</td>\n",
       "      <td>1183</td>\n",
       "      <td>1036</td>\n",
       "      <td>220.00</td>\n",
       "      <td>6</td>\n",
       "    </tr>\n",
       "    <tr>\n",
       "      <th>1</th>\n",
       "      <td>0</td>\n",
       "      <td>1</td>\n",
       "      <td>0</td>\n",
       "      <td>2</td>\n",
       "      <td>2</td>\n",
       "      <td>446</td>\n",
       "      <td>3.9</td>\n",
       "      <td>14</td>\n",
       "      <td>2</td>\n",
       "      <td>92</td>\n",
       "      <td>732</td>\n",
       "      <td>202.93</td>\n",
       "      <td>10</td>\n",
       "    </tr>\n",
       "    <tr>\n",
       "      <th>2</th>\n",
       "      <td>0</td>\n",
       "      <td>1</td>\n",
       "      <td>0</td>\n",
       "      <td>3</td>\n",
       "      <td>3</td>\n",
       "      <td>366</td>\n",
       "      <td>4.8</td>\n",
       "      <td>6</td>\n",
       "      <td>3</td>\n",
       "      <td>25</td>\n",
       "      <td>670</td>\n",
       "      <td>299.00</td>\n",
       "      <td>40</td>\n",
       "    </tr>\n",
       "    <tr>\n",
       "      <th>3</th>\n",
       "      <td>0</td>\n",
       "      <td>1</td>\n",
       "      <td>0</td>\n",
       "      <td>1</td>\n",
       "      <td>87</td>\n",
       "      <td>559</td>\n",
       "      <td>4.1</td>\n",
       "      <td>13</td>\n",
       "      <td>1</td>\n",
       "      <td>325</td>\n",
       "      <td>878</td>\n",
       "      <td>180.00</td>\n",
       "      <td>5</td>\n",
       "    </tr>\n",
       "    <tr>\n",
       "      <th>4</th>\n",
       "      <td>1</td>\n",
       "      <td>0</td>\n",
       "      <td>0</td>\n",
       "      <td>1</td>\n",
       "      <td>1</td>\n",
       "      <td>117</td>\n",
       "      <td>5.0</td>\n",
       "      <td>1</td>\n",
       "      <td>1</td>\n",
       "      <td>47</td>\n",
       "      <td>638</td>\n",
       "      <td>965.62</td>\n",
       "      <td>16</td>\n",
       "    </tr>\n",
       "    <tr>\n",
       "      <th>...</th>\n",
       "      <td>...</td>\n",
       "      <td>...</td>\n",
       "      <td>...</td>\n",
       "      <td>...</td>\n",
       "      <td>...</td>\n",
       "      <td>...</td>\n",
       "      <td>...</td>\n",
       "      <td>...</td>\n",
       "      <td>...</td>\n",
       "      <td>...</td>\n",
       "      <td>...</td>\n",
       "      <td>...</td>\n",
       "      <td>...</td>\n",
       "    </tr>\n",
       "    <tr>\n",
       "      <th>6232</th>\n",
       "      <td>0</td>\n",
       "      <td>1</td>\n",
       "      <td>0</td>\n",
       "      <td>1</td>\n",
       "      <td>1</td>\n",
       "      <td>380</td>\n",
       "      <td>5.0</td>\n",
       "      <td>2</td>\n",
       "      <td>1</td>\n",
       "      <td>22</td>\n",
       "      <td>670</td>\n",
       "      <td>322.00</td>\n",
       "      <td>4</td>\n",
       "    </tr>\n",
       "    <tr>\n",
       "      <th>6233</th>\n",
       "      <td>0</td>\n",
       "      <td>1</td>\n",
       "      <td>0</td>\n",
       "      <td>1</td>\n",
       "      <td>4</td>\n",
       "      <td>446</td>\n",
       "      <td>3.3</td>\n",
       "      <td>9</td>\n",
       "      <td>1</td>\n",
       "      <td>325</td>\n",
       "      <td>878</td>\n",
       "      <td>421.00</td>\n",
       "      <td>6</td>\n",
       "    </tr>\n",
       "    <tr>\n",
       "      <th>6234</th>\n",
       "      <td>0</td>\n",
       "      <td>1</td>\n",
       "      <td>0</td>\n",
       "      <td>1</td>\n",
       "      <td>3</td>\n",
       "      <td>435</td>\n",
       "      <td>3.8</td>\n",
       "      <td>3</td>\n",
       "      <td>1</td>\n",
       "      <td>517</td>\n",
       "      <td>702</td>\n",
       "      <td>399.00</td>\n",
       "      <td>16</td>\n",
       "    </tr>\n",
       "    <tr>\n",
       "      <th>6235</th>\n",
       "      <td>0</td>\n",
       "      <td>1</td>\n",
       "      <td>0</td>\n",
       "      <td>1</td>\n",
       "      <td>2</td>\n",
       "      <td>478</td>\n",
       "      <td>3.5</td>\n",
       "      <td>4</td>\n",
       "      <td>1</td>\n",
       "      <td>1183</td>\n",
       "      <td>1036</td>\n",
       "      <td>319.00</td>\n",
       "      <td>7</td>\n",
       "    </tr>\n",
       "    <tr>\n",
       "      <th>6236</th>\n",
       "      <td>0</td>\n",
       "      <td>1</td>\n",
       "      <td>0</td>\n",
       "      <td>1</td>\n",
       "      <td>2</td>\n",
       "      <td>334</td>\n",
       "      <td>3.9</td>\n",
       "      <td>2</td>\n",
       "      <td>1</td>\n",
       "      <td>1183</td>\n",
       "      <td>1036</td>\n",
       "      <td>452.00</td>\n",
       "      <td>6</td>\n",
       "    </tr>\n",
       "  </tbody>\n",
       "</table>\n",
       "<p>6237 rows × 13 columns</p>\n",
       "</div>"
      ],
      "text/plain": [
       "      Publication_Hardcover  Publication_Paperback  Publication_other  Title  \\\n",
       "0                         0                      1                  0      1   \n",
       "1                         0                      1                  0      2   \n",
       "2                         0                      1                  0      3   \n",
       "3                         0                      1                  0      1   \n",
       "4                         1                      0                  0      1   \n",
       "...                     ...                    ...                ...    ...   \n",
       "6232                      0                      1                  0      1   \n",
       "6233                      0                      1                  0      1   \n",
       "6234                      0                      1                  0      1   \n",
       "6235                      0                      1                  0      1   \n",
       "6236                      0                      1                  0      1   \n",
       "\n",
       "      Author  Edition  Reviews  Ratings  Synopsis  Genre  BookCategory  \\\n",
       "0          4      431      4.0        8         1   1183          1036   \n",
       "1          2      446      3.9       14         2     92           732   \n",
       "2          3      366      4.8        6         3     25           670   \n",
       "3         87      559      4.1       13         1    325           878   \n",
       "4          1      117      5.0        1         1     47           638   \n",
       "...      ...      ...      ...      ...       ...    ...           ...   \n",
       "6232       1      380      5.0        2         1     22           670   \n",
       "6233       4      446      3.3        9         1    325           878   \n",
       "6234       3      435      3.8        3         1    517           702   \n",
       "6235       2      478      3.5        4         1   1183          1036   \n",
       "6236       2      334      3.9        2         1   1183          1036   \n",
       "\n",
       "       Price  Age_of_book  \n",
       "0     220.00            6  \n",
       "1     202.93           10  \n",
       "2     299.00           40  \n",
       "3     180.00            5  \n",
       "4     965.62           16  \n",
       "...      ...          ...  \n",
       "6232  322.00            4  \n",
       "6233  421.00            6  \n",
       "6234  399.00           16  \n",
       "6235  319.00            7  \n",
       "6236  452.00            6  \n",
       "\n",
       "[6237 rows x 13 columns]"
      ]
     },
     "execution_count": 30,
     "metadata": {},
     "output_type": "execute_result"
    }
   ],
   "source": [
    "train"
   ]
  },
  {
   "cell_type": "code",
   "execution_count": 31,
   "id": "95e85d1f",
   "metadata": {},
   "outputs": [],
   "source": [
    "X =train.drop(columns=['Price'], axis=1)"
   ]
  },
  {
   "cell_type": "code",
   "execution_count": 32,
   "id": "7222d42c",
   "metadata": {},
   "outputs": [],
   "source": [
    "y = train['Price']"
   ]
  },
  {
   "cell_type": "code",
   "execution_count": 33,
   "id": "a7a1f402",
   "metadata": {},
   "outputs": [],
   "source": [
    "train_X, test_X, train_y , test_y = train_test_split(X,y,test_size=0.2, random_state=24)"
   ]
  },
  {
   "cell_type": "code",
   "execution_count": 34,
   "id": "77d64783",
   "metadata": {},
   "outputs": [],
   "source": [
    "def run_model_evaluate(model,train_X, train_y,test_X, test_y, X,y,test,filename):\n",
    "    model.fit(train_X, train_y)\n",
    "    train_pred = model.predict(train_X)\n",
    "    test_pred = model.predict(test_X)\n",
    "    print('train_rmsle:' , rmsle(train_pred,train_y))\n",
    "    print('test_rmsle:' ,rmsle(test_pred,test_y))\n",
    "    model.fit(X,y)\n",
    "    pred = model.predict(test)\n",
    "    res = pd.DataFrame(pred, columns=['Price'])\n",
    "    res.to_csv(filename, index  = False)"
   ]
  },
  {
   "cell_type": "code",
   "execution_count": 35,
   "id": "1bb6de24",
   "metadata": {},
   "outputs": [
    {
     "name": "stdout",
     "output_type": "stream",
     "text": [
      "train_rmsle: 0.6542252213292667\n",
      "test_rmsle: 0.6560856327535389\n"
     ]
    },
    {
     "name": "stderr",
     "output_type": "stream",
     "text": [
      "C:\\Users\\MUTHUK~1\\AppData\\Local\\Temp/ipykernel_8804/986885743.py:2: RuntimeWarning: invalid value encountered in log10\n",
      "  return 1 - np.sqrt(np.square(np.log10(y_pred +1) - np.log10(y_true +1)).mean())\n"
     ]
    }
   ],
   "source": [
    "linear_reg =LinearRegression()\n",
    "run_model_evaluate(linear_reg,train_X, train_y,test_X, test_y, X,y,test,'Linear.csv')"
   ]
  },
  {
   "cell_type": "code",
   "execution_count": 36,
   "id": "aa48c890",
   "metadata": {},
   "outputs": [
    {
     "name": "stdout",
     "output_type": "stream",
     "text": [
      "train_rmsle: 0.9789054216866465\n",
      "test_rmsle: 0.6396694883725578\n"
     ]
    }
   ],
   "source": [
    "decision_tree = DecisionTreeRegressor()\n",
    "run_model_evaluate(decision_tree,train_X, train_y,test_X, test_y, X,y,test,'decision_tree.csv')"
   ]
  },
  {
   "cell_type": "code",
   "execution_count": 37,
   "id": "cdeece78",
   "metadata": {},
   "outputs": [
    {
     "name": "stdout",
     "output_type": "stream",
     "text": [
      "train_rmsle: 0.8524960924948741\n",
      "test_rmsle: 0.7114831745848451\n"
     ]
    }
   ],
   "source": [
    "random_forest = RandomForestRegressor()\n",
    "run_model_evaluate(random_forest,train_X, train_y,test_X, test_y, X,y,test,'random_forest.csv')"
   ]
  },
  {
   "cell_type": "code",
   "execution_count": 38,
   "id": "5c4de756",
   "metadata": {},
   "outputs": [
    {
     "name": "stdout",
     "output_type": "stream",
     "text": [
      "train_rmsle: 0.738435344710382\n",
      "test_rmsle: 0.6827272961737973\n"
     ]
    }
   ],
   "source": [
    "Knn = KNeighborsRegressor()\n",
    "run_model_evaluate(Knn,train_X, train_y,test_X, test_y, X,y,test,'Knn.csv')"
   ]
  },
  {
   "cell_type": "code",
   "execution_count": 41,
   "id": "59352e1b",
   "metadata": {},
   "outputs": [
    {
     "name": "stderr",
     "output_type": "stream",
     "text": [
      "  0%|                                                                                           | 0/49 [00:00<?, ?it/s]C:\\Users\\MUTHUK~1\\AppData\\Local\\Temp/ipykernel_8804/986885743.py:2: RuntimeWarning: invalid value encountered in log10\n",
      "  return 1 - np.sqrt(np.square(np.log10(y_pred +1) - np.log10(y_true +1)).mean())\n",
      "C:\\Users\\MUTHUK~1\\AppData\\Local\\Temp/ipykernel_8804/986885743.py:2: RuntimeWarning: invalid value encountered in log10\n",
      "  return 1 - np.sqrt(np.square(np.log10(y_pred +1) - np.log10(y_true +1)).mean())\n",
      "C:\\Users\\MUTHUK~1\\AppData\\Local\\Temp/ipykernel_8804/986885743.py:2: RuntimeWarning: invalid value encountered in log10\n",
      "  return 1 - np.sqrt(np.square(np.log10(y_pred +1) - np.log10(y_true +1)).mean())\n",
      "C:\\Users\\MUTHUK~1\\AppData\\Local\\Temp/ipykernel_8804/986885743.py:2: RuntimeWarning: invalid value encountered in log10\n",
      "  return 1 - np.sqrt(np.square(np.log10(y_pred +1) - np.log10(y_true +1)).mean())\n",
      "C:\\Users\\MUTHUK~1\\AppData\\Local\\Temp/ipykernel_8804/986885743.py:2: RuntimeWarning: invalid value encountered in log10\n",
      "  return 1 - np.sqrt(np.square(np.log10(y_pred +1) - np.log10(y_true +1)).mean())\n",
      "C:\\Users\\MUTHUK~1\\AppData\\Local\\Temp/ipykernel_8804/986885743.py:2: RuntimeWarning: invalid value encountered in log10\n",
      "  return 1 - np.sqrt(np.square(np.log10(y_pred +1) - np.log10(y_true +1)).mean())\n",
      "C:\\Users\\MUTHUK~1\\AppData\\Local\\Temp/ipykernel_8804/986885743.py:2: RuntimeWarning: invalid value encountered in log10\n",
      "  return 1 - np.sqrt(np.square(np.log10(y_pred +1) - np.log10(y_true +1)).mean())\n",
      "C:\\Users\\MUTHUK~1\\AppData\\Local\\Temp/ipykernel_8804/986885743.py:2: RuntimeWarning: invalid value encountered in log10\n",
      "  return 1 - np.sqrt(np.square(np.log10(y_pred +1) - np.log10(y_true +1)).mean())\n",
      "C:\\Users\\MUTHUK~1\\AppData\\Local\\Temp/ipykernel_8804/986885743.py:2: RuntimeWarning: invalid value encountered in log10\n",
      "  return 1 - np.sqrt(np.square(np.log10(y_pred +1) - np.log10(y_true +1)).mean())\n",
      "C:\\Users\\MUTHUK~1\\AppData\\Local\\Temp/ipykernel_8804/986885743.py:2: RuntimeWarning: invalid value encountered in log10\n",
      "  return 1 - np.sqrt(np.square(np.log10(y_pred +1) - np.log10(y_true +1)).mean())\n",
      " 20%|████████████████▋                                                                 | 10/49 [00:00<00:00, 99.74it/s]C:\\Users\\MUTHUK~1\\AppData\\Local\\Temp/ipykernel_8804/986885743.py:2: RuntimeWarning: invalid value encountered in log10\n",
      "  return 1 - np.sqrt(np.square(np.log10(y_pred +1) - np.log10(y_true +1)).mean())\n",
      "C:\\Users\\MUTHUK~1\\AppData\\Local\\Temp/ipykernel_8804/986885743.py:2: RuntimeWarning: invalid value encountered in log10\n",
      "  return 1 - np.sqrt(np.square(np.log10(y_pred +1) - np.log10(y_true +1)).mean())\n",
      "C:\\Users\\MUTHUK~1\\AppData\\Local\\Temp/ipykernel_8804/986885743.py:2: RuntimeWarning: invalid value encountered in log10\n",
      "  return 1 - np.sqrt(np.square(np.log10(y_pred +1) - np.log10(y_true +1)).mean())\n",
      "C:\\Users\\MUTHUK~1\\AppData\\Local\\Temp/ipykernel_8804/986885743.py:2: RuntimeWarning: invalid value encountered in log10\n",
      "  return 1 - np.sqrt(np.square(np.log10(y_pred +1) - np.log10(y_true +1)).mean())\n",
      "C:\\Users\\MUTHUK~1\\AppData\\Local\\Temp/ipykernel_8804/986885743.py:2: RuntimeWarning: invalid value encountered in log10\n",
      "  return 1 - np.sqrt(np.square(np.log10(y_pred +1) - np.log10(y_true +1)).mean())\n",
      "C:\\Users\\MUTHUK~1\\AppData\\Local\\Temp/ipykernel_8804/986885743.py:2: RuntimeWarning: invalid value encountered in log10\n",
      "  return 1 - np.sqrt(np.square(np.log10(y_pred +1) - np.log10(y_true +1)).mean())\n",
      "C:\\Users\\MUTHUK~1\\AppData\\Local\\Temp/ipykernel_8804/986885743.py:2: RuntimeWarning: invalid value encountered in log10\n",
      "  return 1 - np.sqrt(np.square(np.log10(y_pred +1) - np.log10(y_true +1)).mean())\n",
      "C:\\Users\\MUTHUK~1\\AppData\\Local\\Temp/ipykernel_8804/986885743.py:2: RuntimeWarning: invalid value encountered in log10\n",
      "  return 1 - np.sqrt(np.square(np.log10(y_pred +1) - np.log10(y_true +1)).mean())\n",
      "C:\\Users\\MUTHUK~1\\AppData\\Local\\Temp/ipykernel_8804/986885743.py:2: RuntimeWarning: invalid value encountered in log10\n",
      "  return 1 - np.sqrt(np.square(np.log10(y_pred +1) - np.log10(y_true +1)).mean())\n",
      "C:\\Users\\MUTHUK~1\\AppData\\Local\\Temp/ipykernel_8804/986885743.py:2: RuntimeWarning: invalid value encountered in log10\n",
      "  return 1 - np.sqrt(np.square(np.log10(y_pred +1) - np.log10(y_true +1)).mean())\n",
      "C:\\Users\\MUTHUK~1\\AppData\\Local\\Temp/ipykernel_8804/986885743.py:2: RuntimeWarning: invalid value encountered in log10\n",
      "  return 1 - np.sqrt(np.square(np.log10(y_pred +1) - np.log10(y_true +1)).mean())\n",
      "C:\\Users\\MUTHUK~1\\AppData\\Local\\Temp/ipykernel_8804/986885743.py:2: RuntimeWarning: invalid value encountered in log10\n",
      "  return 1 - np.sqrt(np.square(np.log10(y_pred +1) - np.log10(y_true +1)).mean())\n",
      "C:\\Users\\MUTHUK~1\\AppData\\Local\\Temp/ipykernel_8804/986885743.py:2: RuntimeWarning: invalid value encountered in log10\n",
      "  return 1 - np.sqrt(np.square(np.log10(y_pred +1) - np.log10(y_true +1)).mean())\n",
      "C:\\Users\\MUTHUK~1\\AppData\\Local\\Temp/ipykernel_8804/986885743.py:2: RuntimeWarning: invalid value encountered in log10\n",
      "  return 1 - np.sqrt(np.square(np.log10(y_pred +1) - np.log10(y_true +1)).mean())\n",
      " 49%|███████████████████████████████████████▋                                         | 24/49 [00:00<00:00, 119.95it/s]C:\\Users\\MUTHUK~1\\AppData\\Local\\Temp/ipykernel_8804/986885743.py:2: RuntimeWarning: invalid value encountered in log10\n",
      "  return 1 - np.sqrt(np.square(np.log10(y_pred +1) - np.log10(y_true +1)).mean())\n",
      "C:\\Users\\MUTHUK~1\\AppData\\Local\\Temp/ipykernel_8804/986885743.py:2: RuntimeWarning: invalid value encountered in log10\n",
      "  return 1 - np.sqrt(np.square(np.log10(y_pred +1) - np.log10(y_true +1)).mean())\n",
      "C:\\Users\\MUTHUK~1\\AppData\\Local\\Temp/ipykernel_8804/986885743.py:2: RuntimeWarning: invalid value encountered in log10\n",
      "  return 1 - np.sqrt(np.square(np.log10(y_pred +1) - np.log10(y_true +1)).mean())\n",
      "C:\\Users\\MUTHUK~1\\AppData\\Local\\Temp/ipykernel_8804/986885743.py:2: RuntimeWarning: invalid value encountered in log10\n",
      "  return 1 - np.sqrt(np.square(np.log10(y_pred +1) - np.log10(y_true +1)).mean())\n",
      "C:\\Users\\MUTHUK~1\\AppData\\Local\\Temp/ipykernel_8804/986885743.py:2: RuntimeWarning: invalid value encountered in log10\n",
      "  return 1 - np.sqrt(np.square(np.log10(y_pred +1) - np.log10(y_true +1)).mean())\n",
      "C:\\Users\\MUTHUK~1\\AppData\\Local\\Temp/ipykernel_8804/986885743.py:2: RuntimeWarning: invalid value encountered in log10\n",
      "  return 1 - np.sqrt(np.square(np.log10(y_pred +1) - np.log10(y_true +1)).mean())\n",
      "C:\\Users\\MUTHUK~1\\AppData\\Local\\Temp/ipykernel_8804/986885743.py:2: RuntimeWarning: invalid value encountered in log10\n",
      "  return 1 - np.sqrt(np.square(np.log10(y_pred +1) - np.log10(y_true +1)).mean())\n",
      "C:\\Users\\MUTHUK~1\\AppData\\Local\\Temp/ipykernel_8804/986885743.py:2: RuntimeWarning: invalid value encountered in log10\n",
      "  return 1 - np.sqrt(np.square(np.log10(y_pred +1) - np.log10(y_true +1)).mean())\n",
      "C:\\Users\\MUTHUK~1\\AppData\\Local\\Temp/ipykernel_8804/986885743.py:2: RuntimeWarning: invalid value encountered in log10\n",
      "  return 1 - np.sqrt(np.square(np.log10(y_pred +1) - np.log10(y_true +1)).mean())\n",
      "C:\\Users\\MUTHUK~1\\AppData\\Local\\Temp/ipykernel_8804/986885743.py:2: RuntimeWarning: invalid value encountered in log10\n",
      "  return 1 - np.sqrt(np.square(np.log10(y_pred +1) - np.log10(y_true +1)).mean())\n",
      "C:\\Users\\MUTHUK~1\\AppData\\Local\\Temp/ipykernel_8804/986885743.py:2: RuntimeWarning: invalid value encountered in log10\n",
      "  return 1 - np.sqrt(np.square(np.log10(y_pred +1) - np.log10(y_true +1)).mean())\n",
      "C:\\Users\\MUTHUK~1\\AppData\\Local\\Temp/ipykernel_8804/986885743.py:2: RuntimeWarning: invalid value encountered in log10\n",
      "  return 1 - np.sqrt(np.square(np.log10(y_pred +1) - np.log10(y_true +1)).mean())\n",
      " 73%|███████████████████████████████████████████████████████████▌                     | 36/49 [00:00<00:00, 111.95it/s]C:\\Users\\MUTHUK~1\\AppData\\Local\\Temp/ipykernel_8804/986885743.py:2: RuntimeWarning: invalid value encountered in log10\n",
      "  return 1 - np.sqrt(np.square(np.log10(y_pred +1) - np.log10(y_true +1)).mean())\n",
      "C:\\Users\\MUTHUK~1\\AppData\\Local\\Temp/ipykernel_8804/986885743.py:2: RuntimeWarning: invalid value encountered in log10\n",
      "  return 1 - np.sqrt(np.square(np.log10(y_pred +1) - np.log10(y_true +1)).mean())\n",
      "C:\\Users\\MUTHUK~1\\AppData\\Local\\Temp/ipykernel_8804/986885743.py:2: RuntimeWarning: invalid value encountered in log10\n",
      "  return 1 - np.sqrt(np.square(np.log10(y_pred +1) - np.log10(y_true +1)).mean())\n",
      "C:\\Users\\MUTHUK~1\\AppData\\Local\\Temp/ipykernel_8804/986885743.py:2: RuntimeWarning: invalid value encountered in log10\n",
      "  return 1 - np.sqrt(np.square(np.log10(y_pred +1) - np.log10(y_true +1)).mean())\n",
      "C:\\Users\\MUTHUK~1\\AppData\\Local\\Temp/ipykernel_8804/986885743.py:2: RuntimeWarning: invalid value encountered in log10\n",
      "  return 1 - np.sqrt(np.square(np.log10(y_pred +1) - np.log10(y_true +1)).mean())\n",
      "C:\\Users\\MUTHUK~1\\AppData\\Local\\Temp/ipykernel_8804/986885743.py:2: RuntimeWarning: invalid value encountered in log10\n",
      "  return 1 - np.sqrt(np.square(np.log10(y_pred +1) - np.log10(y_true +1)).mean())\n"
     ]
    },
    {
     "name": "stderr",
     "output_type": "stream",
     "text": [
      "C:\\Users\\MUTHUK~1\\AppData\\Local\\Temp/ipykernel_8804/986885743.py:2: RuntimeWarning: invalid value encountered in log10\n",
      "  return 1 - np.sqrt(np.square(np.log10(y_pred +1) - np.log10(y_true +1)).mean())\n",
      "C:\\Users\\MUTHUK~1\\AppData\\Local\\Temp/ipykernel_8804/986885743.py:2: RuntimeWarning: invalid value encountered in log10\n",
      "  return 1 - np.sqrt(np.square(np.log10(y_pred +1) - np.log10(y_true +1)).mean())\n",
      "C:\\Users\\MUTHUK~1\\AppData\\Local\\Temp/ipykernel_8804/986885743.py:2: RuntimeWarning: invalid value encountered in log10\n",
      "  return 1 - np.sqrt(np.square(np.log10(y_pred +1) - np.log10(y_true +1)).mean())\n",
      "C:\\Users\\MUTHUK~1\\AppData\\Local\\Temp/ipykernel_8804/986885743.py:2: RuntimeWarning: invalid value encountered in log10\n",
      "  return 1 - np.sqrt(np.square(np.log10(y_pred +1) - np.log10(y_true +1)).mean())\n",
      "C:\\Users\\MUTHUK~1\\AppData\\Local\\Temp/ipykernel_8804/986885743.py:2: RuntimeWarning: invalid value encountered in log10\n",
      "  return 1 - np.sqrt(np.square(np.log10(y_pred +1) - np.log10(y_true +1)).mean())\n",
      "C:\\Users\\MUTHUK~1\\AppData\\Local\\Temp/ipykernel_8804/986885743.py:2: RuntimeWarning: invalid value encountered in log10\n",
      "  return 1 - np.sqrt(np.square(np.log10(y_pred +1) - np.log10(y_true +1)).mean())\n",
      " 98%|███████████████████████████████████████████████████████████████████████████████▎ | 48/49 [00:00<00:00, 106.24it/s]C:\\Users\\MUTHUK~1\\AppData\\Local\\Temp/ipykernel_8804/986885743.py:2: RuntimeWarning: invalid value encountered in log10\n",
      "  return 1 - np.sqrt(np.square(np.log10(y_pred +1) - np.log10(y_true +1)).mean())\n",
      "100%|█████████████████████████████████████████████████████████████████████████████████| 49/49 [00:00<00:00, 107.22it/s]\n"
     ]
    }
   ],
   "source": [
    "from tqdm import tqdm\n",
    "res_rmsle= []\n",
    "for i in tqdm(range(1,50)):\n",
    "    Knn = KNeighborsRegressor(n_neighbors=i)\n",
    "    model.fit(train_X, train_y)\n",
    "    y_pred = model.predict(test_X)\n",
    "    x_test_rmsle = rmsle(y_pred ,test_y)\n",
    "    res_rmsle.append(x_test_rmsle)"
   ]
  },
  {
   "cell_type": "code",
   "execution_count": 45,
   "id": "a49f2683",
   "metadata": {},
   "outputs": [],
   "source": [
    "import matplotlib.pyplot as plt"
   ]
  },
  {
   "cell_type": "code",
   "execution_count": 47,
   "id": "77a487ca",
   "metadata": {
    "scrolled": true
   },
   "outputs": [
    {
     "data": {
      "text/plain": [
       "<matplotlib.collections.PathCollection at 0x273a76bcf70>"
      ]
     },
     "execution_count": 47,
     "metadata": {},
     "output_type": "execute_result"
    },
    {
     "data": {
      "image/png": "[encoded data removed]",
      "text/plain": [
       "<Figure size 432x288 with 1 Axes>"
      ]
     },
     "metadata": {
      "needs_background": "light"
     },
     "output_type": "display_data"
    }
   ],
   "source": [
    "plt.scatter(range(1,50),res_rmsle)"
   ]
  },
  {
   "cell_type": "code",
   "execution_count": null,
   "id": "17133fd7",
   "metadata": {},
   "outputs": [],
   "source": []
  }
 ],
 "metadata": {
  "kernelspec": {
   "display_name": "Python 3 (ipykernel)",
   "language": "python",
   "name": "python3"
  },
  "language_info": {
   "codemirror_mode": {
    "name": "ipython",
    "version": 3
   },
   "file_extension": ".py",
   "mimetype": "text/x-python",
   "name": "python",
   "nbconvert_exporter": "python",
   "pygments_lexer": "ipython3",
   "version": "3.9.7"
  }
 },
 "nbformat": 4,
 "nbformat_minor": 5
}
