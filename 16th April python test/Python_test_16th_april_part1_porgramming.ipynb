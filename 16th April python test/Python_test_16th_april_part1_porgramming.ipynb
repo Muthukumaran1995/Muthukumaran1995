{
 "cells": [
  {
   "cell_type": "markdown",
   "id": "534d3b74",
   "metadata": {},
   "source": [
    "## Part 1 – Programming:"
   ]
  },
  {
   "cell_type": "markdown",
   "id": "7401c988",
   "metadata": {},
   "source": [
    "### 1. Write a program (with function) which takes a sequence of numbers and check if all \n",
    "### numbers are unique.\n"
   ]
  },
  {
   "cell_type": "code",
   "execution_count": 21,
   "id": "21281aa3",
   "metadata": {},
   "outputs": [],
   "source": [
    "def unique_fn(data):\n",
    "    if len(data) == len(set(data)):\n",
    "        return True\n",
    "    else:\n",
    "        return False     "
   ]
  },
  {
   "cell_type": "code",
   "execution_count": 20,
   "id": "c9589673",
   "metadata": {},
   "outputs": [
    {
     "name": "stdout",
     "output_type": "stream",
     "text": [
      "True\n"
     ]
    }
   ],
   "source": [
    "print(unique_fn(range(20)))          ### using rsnge function for sequence"
   ]
  },
  {
   "cell_type": "code",
   "execution_count": 22,
   "id": "08359fb6",
   "metadata": {},
   "outputs": [
    {
     "name": "stdout",
     "output_type": "stream",
     "text": [
      "True\n",
      "False\n"
     ]
    }
   ],
   "source": [
    "print(unique_fn([1,2,3,4,5,6,7]))\n",
    "print(unique_fn([1,2,3,4,5,5,6,7]))      ### since 5 is not unique in this set"
   ]
  },
  {
   "cell_type": "markdown",
   "id": "c0a19a9f",
   "metadata": {},
   "source": [
    "### Python program to find out the average of a set of integers\n",
    "### a. Note: Don’t use the pre-defined functions like np.mean\n",
    "### b. For ex: If input is 5, the output should be average of 1+2+3+4+5"
   ]
  },
  {
   "cell_type": "code",
   "execution_count": 82,
   "id": "d22d9309",
   "metadata": {},
   "outputs": [],
   "source": [
    "def average():\n",
    "    num = int(input('Enter the number:'))\n",
    "    add = 0\n",
    "    for i in range(1,num+1):\n",
    "        add = add + i\n",
    "        avg =(add/num)\n",
    "    print('The average of the input number is:' , avg)"
   ]
  },
  {
   "cell_type": "code",
   "execution_count": 83,
   "id": "b86c0bfe",
   "metadata": {},
   "outputs": [
    {
     "name": "stdout",
     "output_type": "stream",
     "text": [
      "Enter the number:5\n",
      "The average of the input number is: 3.0\n"
     ]
    }
   ],
   "source": [
    "average()"
   ]
  },
  {
   "cell_type": "markdown",
   "id": "64e8b2fc",
   "metadata": {},
   "source": [
    "###  . Python program to check whether the given integer is a multiple of both 5 and 7"
   ]
  },
  {
   "cell_type": "code",
   "execution_count": 91,
   "id": "36b38d37",
   "metadata": {},
   "outputs": [
    {
     "name": "stdout",
     "output_type": "stream",
     "text": [
      "Enter the number:10\n",
      "False integer is not divisible by 5 and 7 \n"
     ]
    }
   ],
   "source": [
    "num = int(input('Enter the number:'))\n",
    "if num%5 == 0 and num%7 ==0:\n",
    "    print(True, 'integer is divisible by 5 and 7 ')\n",
    "else:\n",
    "    print(False, 'integer is not divisible by 5 and 7 ')"
   ]
  },
  {
   "cell_type": "code",
   "execution_count": 93,
   "id": "4af065d8",
   "metadata": {},
   "outputs": [
    {
     "name": "stdout",
     "output_type": "stream",
     "text": [
      "Enter the number:70\n",
      "True integer is divisible by 5 and 7 \n"
     ]
    }
   ],
   "source": [
    "num = int(input('Enter the number:'))\n",
    "if num%5 == 0 and num%7 ==0:                  ## 35 divisibile by 5 and 7 \n",
    "    print(True, 'integer is divisible by 5 and 7 ')\n",
    "else:\n",
    "    print(False, 'integer is not divisible by 5 and 7 ')"
   ]
  },
  {
   "cell_type": "markdown",
   "id": "05a7544b",
   "metadata": {},
   "source": [
    "### Python program to display the given integer in reverse manner\n",
    "### a. Ex: input 852, output should be 258"
   ]
  },
  {
   "cell_type": "code",
   "execution_count": 96,
   "id": "b1dc354f",
   "metadata": {},
   "outputs": [
    {
     "name": "stdout",
     "output_type": "stream",
     "text": [
      "Enter the number:852\n",
      "258\n"
     ]
    }
   ],
   "source": [
    "num = int(input('Enter the number:'))\n",
    "print(str(num)[::-1])    "
   ]
  },
  {
   "cell_type": "markdown",
   "id": "563dffe4",
   "metadata": {},
   "source": [
    "### 5. Create an inner function to calculate the addition in the following way\n",
    "### a. Create an outer function that will accept two parameters, a and b\n",
    "### b. Create an inner function inside an outer function that will calculate the addition of a \n",
    "### and b\n",
    "### c. At last, an outer function will add 5 into addition and return it"
   ]
  },
  {
   "cell_type": "code",
   "execution_count": 70,
   "id": "73c76fb3",
   "metadata": {},
   "outputs": [],
   "source": [
    "def outer(a,b):               #Create an outer function that will accept two parameters, a and b\n",
    "    def inner(a,b):\n",
    "        global c\n",
    "        c = a + b\n",
    "    inner(a,b)\n",
    "    d = c + 5                ## an outer function will add 5 into addition and return it\n",
    "    return d"
   ]
  },
  {
   "cell_type": "code",
   "execution_count": 71,
   "id": "a6a2e7c9",
   "metadata": {},
   "outputs": [
    {
     "data": {
      "text/plain": [
       "20"
      ]
     },
     "execution_count": 71,
     "metadata": {},
     "output_type": "execute_result"
    }
   ],
   "source": [
    "outer(5,10)       ##Create an outer function that will accept two parameters, a and b"
   ]
  },
  {
   "cell_type": "markdown",
   "id": "dbf5e061",
   "metadata": {},
   "source": [
    "### 6. Python Program to Check Leap Year\n",
    "### a. A leap year is exactly divisible by 4 except for century years (years ending with 00). \n",
    "### The century year is a leap year only if it is perfectly divisible by 400\n",
    "### b. For ex: 2017 is not a leap year, 1900 is a not leap year, 2012 is a leap year, 2000 is a \n",
    "### leap year"
   ]
  },
  {
   "cell_type": "code",
   "execution_count": 86,
   "id": "84148b35",
   "metadata": {},
   "outputs": [
    {
     "name": "stdout",
     "output_type": "stream",
     "text": [
      "Enter the year:2012\n",
      "True Leap year\n"
     ]
    }
   ],
   "source": [
    "num = int(input('Enter the year:'))\n",
    "if((year % 400 == 0) or\n",
    "     (year % 4 == 0)):              \n",
    "    print(True, 'Leap year')\n",
    "else:\n",
    "    print(False, 'Not a leap year ')"
   ]
  },
  {
   "cell_type": "code",
   "execution_count": 88,
   "id": "3ab3c4d8",
   "metadata": {},
   "outputs": [
    {
     "name": "stdout",
     "output_type": "stream",
     "text": [
      "Enter the year:1900\n",
      "False Not a leap year \n"
     ]
    }
   ],
   "source": [
    "year = int(input('Enter the year:'))\n",
    "if((year % 400 == 0) and (year % 100 == 0)): \n",
    "     print(True, 'Leap year')\n",
    "elif (year % 4 ==0) and (year % 100 != 0):\n",
    "    print(True, 'Leap year')\n",
    "else:\n",
    "    print(False, 'Not a leap year ')"
   ]
  },
  {
   "cell_type": "code",
   "execution_count": null,
   "id": "01ad0eed",
   "metadata": {},
   "outputs": [],
   "source": []
  },
  {
   "cell_type": "code",
   "execution_count": null,
   "id": "3bf5df54",
   "metadata": {},
   "outputs": [],
   "source": []
  },
  {
   "cell_type": "code",
   "execution_count": null,
   "id": "4aac407f",
   "metadata": {},
   "outputs": [],
   "source": []
  },
  {
   "cell_type": "code",
   "execution_count": null,
   "id": "88412597",
   "metadata": {},
   "outputs": [],
   "source": []
  },
  {
   "cell_type": "code",
   "execution_count": null,
   "id": "cf99a1c0",
   "metadata": {},
   "outputs": [],
   "source": []
  },
  {
   "cell_type": "code",
   "execution_count": null,
   "id": "77bb47a7",
   "metadata": {},
   "outputs": [],
   "source": []
  },
  {
   "cell_type": "code",
   "execution_count": null,
   "id": "f3c27191",
   "metadata": {},
   "outputs": [],
   "source": []
  },
  {
   "cell_type": "code",
   "execution_count": null,
   "id": "ba9a52f9",
   "metadata": {},
   "outputs": [],
   "source": []
  }
 ],
 "metadata": {
  "kernelspec": {
   "display_name": "Python 3 (ipykernel)",
   "language": "python",
   "name": "python3"
  },
  "language_info": {
   "codemirror_mode": {
    "name": "ipython",
    "version": 3
   },
   "file_extension": ".py",
   "mimetype": "text/x-python",
   "name": "python",
   "nbconvert_exporter": "python",
   "pygments_lexer": "ipython3",
   "version": "3.9.7"
  }
 },
 "nbformat": 4,
 "nbformat_minor": 5
}
