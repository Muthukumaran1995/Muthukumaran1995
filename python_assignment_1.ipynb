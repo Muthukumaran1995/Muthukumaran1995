{
 "cells": [
  {
   "cell_type": "markdown",
   "id": "5b55bdbc",
   "metadata": {},
   "source": [
    "## Import the necessary package to\n",
    "a.\tSet the current working directory\n",
    "b.\tChange the working directory\n"
   ]
  },
  {
   "cell_type": "code",
   "execution_count": 1,
   "id": "666829d8",
   "metadata": {},
   "outputs": [],
   "source": [
    "import os"
   ]
  },
  {
   "cell_type": "code",
   "execution_count": 2,
   "id": "bf3d3427",
   "metadata": {},
   "outputs": [
    {
     "data": {
      "text/plain": [
       "'E:\\\\INCEPTEZ\\\\Training\\\\Basics_python'"
      ]
     },
     "execution_count": 2,
     "metadata": {},
     "output_type": "execute_result"
    }
   ],
   "source": [
    "os.getcwd()"
   ]
  },
  {
   "cell_type": "code",
   "execution_count": 3,
   "id": "f6af0e89",
   "metadata": {},
   "outputs": [
    {
     "ename": "IndentationError",
     "evalue": "expected an indented block (Temp/ipykernel_9892/2942457265.py, line 1)",
     "output_type": "error",
     "traceback": [
      "\u001b[1;36m  File \u001b[1;32m\"C:\\Users\\MUTHUK~1\\AppData\\Local\\Temp/ipykernel_9892/2942457265.py\"\u001b[1;36m, line \u001b[1;32m1\u001b[0m\n\u001b[1;33m    def current_work_dir():\u001b[0m\n\u001b[1;37m                           ^\u001b[0m\n\u001b[1;31mIndentationError\u001b[0m\u001b[1;31m:\u001b[0m expected an indented block\n"
     ]
    }
   ],
   "source": [
    "def current_work_dir():"
   ]
  },
  {
   "cell_type": "code",
   "execution_count": 4,
   "id": "337e0e6a",
   "metadata": {},
   "outputs": [],
   "source": [
    "def current_work_dir():\n",
    "    print(os.getcwd())"
   ]
  },
  {
   "cell_type": "code",
   "execution_count": 5,
   "id": "a0c4a47e",
   "metadata": {},
   "outputs": [
    {
     "name": "stdout",
     "output_type": "stream",
     "text": [
      "E:\\INCEPTEZ\\Training\\Basics_python\n"
     ]
    }
   ],
   "source": [
    "current_work_dir()"
   ]
  },
  {
   "cell_type": "code",
   "execution_count": 6,
   "id": "826300d7",
   "metadata": {},
   "outputs": [],
   "source": [
    "os.chdir('E:\\INCEPTEZ\\Training')"
   ]
  },
  {
   "cell_type": "code",
   "execution_count": 7,
   "id": "2449d418",
   "metadata": {},
   "outputs": [
    {
     "name": "stdout",
     "output_type": "stream",
     "text": [
      "E:\\INCEPTEZ\\Training\n"
     ]
    }
   ],
   "source": [
    "print(os.getcwd())"
   ]
  },
  {
   "cell_type": "code",
   "execution_count": 8,
   "id": "907e82fb",
   "metadata": {},
   "outputs": [],
   "source": [
    "os.chdir('E:\\INCEPTEZ\\Training\\Basics_python')"
   ]
  },
  {
   "cell_type": "code",
   "execution_count": 9,
   "id": "8a64d1a4",
   "metadata": {},
   "outputs": [
    {
     "name": "stdout",
     "output_type": "stream",
     "text": [
      "E:\\INCEPTEZ\\Training\\Basics_python\n"
     ]
    }
   ],
   "source": [
    "print(os.getcwd())"
   ]
  },
  {
   "cell_type": "markdown",
   "id": "06a17efd",
   "metadata": {},
   "source": [
    "## 2.\tCreate the string, int and float variable and delete them all in the next cell"
   ]
  },
  {
   "cell_type": "code",
   "execution_count": 10,
   "id": "2d23e1ba",
   "metadata": {},
   "outputs": [],
   "source": [
    "a=1 ;b ='muthu'; c =6.578"
   ]
  },
  {
   "cell_type": "code",
   "execution_count": 11,
   "id": "88b72fb7",
   "metadata": {},
   "outputs": [],
   "source": [
    "del(a,b,c)"
   ]
  },
  {
   "cell_type": "code",
   "execution_count": 12,
   "id": "ea008beb",
   "metadata": {},
   "outputs": [
    {
     "ename": "NameError",
     "evalue": "name 'a' is not defined",
     "output_type": "error",
     "traceback": [
      "\u001b[1;31m---------------------------------------------------------------------------\u001b[0m",
      "\u001b[1;31mNameError\u001b[0m                                 Traceback (most recent call last)",
      "\u001b[1;32mC:\\Users\\MUTHUK~1\\AppData\\Local\\Temp/ipykernel_9892/992516455.py\u001b[0m in \u001b[0;36m<module>\u001b[1;34m\u001b[0m\n\u001b[1;32m----> 1\u001b[1;33m \u001b[0mprint\u001b[0m\u001b[1;33m(\u001b[0m\u001b[0ma\u001b[0m\u001b[1;33m,\u001b[0m\u001b[0mb\u001b[0m\u001b[1;33m,\u001b[0m\u001b[0mc\u001b[0m\u001b[1;33m)\u001b[0m\u001b[1;33m\u001b[0m\u001b[1;33m\u001b[0m\u001b[0m\n\u001b[0m",
      "\u001b[1;31mNameError\u001b[0m: name 'a' is not defined"
     ]
    }
   ],
   "source": [
    "print(a,b,c)"
   ]
  },
  {
   "cell_type": "code",
   "execution_count": 13,
   "id": "9ad30182",
   "metadata": {},
   "outputs": [
    {
     "ename": "NameError",
     "evalue": "name 'b' is not defined",
     "output_type": "error",
     "traceback": [
      "\u001b[1;31m---------------------------------------------------------------------------\u001b[0m",
      "\u001b[1;31mNameError\u001b[0m                                 Traceback (most recent call last)",
      "\u001b[1;32mC:\\Users\\MUTHUK~1\\AppData\\Local\\Temp/ipykernel_9892/1019727442.py\u001b[0m in \u001b[0;36m<module>\u001b[1;34m\u001b[0m\n\u001b[1;32m----> 1\u001b[1;33m \u001b[0mprint\u001b[0m\u001b[1;33m(\u001b[0m\u001b[0mb\u001b[0m\u001b[1;33m)\u001b[0m\u001b[1;33m\u001b[0m\u001b[1;33m\u001b[0m\u001b[0m\n\u001b[0m",
      "\u001b[1;31mNameError\u001b[0m: name 'b' is not defined"
     ]
    }
   ],
   "source": [
    "print(b)\n"
   ]
  },
  {
   "cell_type": "code",
   "execution_count": 14,
   "id": "b1bf754b",
   "metadata": {},
   "outputs": [
    {
     "ename": "NameError",
     "evalue": "name 'c' is not defined",
     "output_type": "error",
     "traceback": [
      "\u001b[1;31m---------------------------------------------------------------------------\u001b[0m",
      "\u001b[1;31mNameError\u001b[0m                                 Traceback (most recent call last)",
      "\u001b[1;32mC:\\Users\\MUTHUK~1\\AppData\\Local\\Temp/ipykernel_9892/2743823995.py\u001b[0m in \u001b[0;36m<module>\u001b[1;34m\u001b[0m\n\u001b[1;32m----> 1\u001b[1;33m \u001b[0mprint\u001b[0m\u001b[1;33m(\u001b[0m\u001b[0mc\u001b[0m\u001b[1;33m)\u001b[0m\u001b[1;33m\u001b[0m\u001b[1;33m\u001b[0m\u001b[0m\n\u001b[0m",
      "\u001b[1;31mNameError\u001b[0m: name 'c' is not defined"
     ]
    }
   ],
   "source": [
    "print(c)"
   ]
  },
  {
   "cell_type": "code",
   "execution_count": 15,
   "id": "3448ad02",
   "metadata": {},
   "outputs": [],
   "source": [
    "a=5"
   ]
  },
  {
   "cell_type": "code",
   "execution_count": 16,
   "id": "54f27cb9",
   "metadata": {},
   "outputs": [
    {
     "name": "stdout",
     "output_type": "stream",
     "text": [
      "5\n"
     ]
    }
   ],
   "source": [
    "print(a)"
   ]
  },
  {
   "cell_type": "code",
   "execution_count": 17,
   "id": "af572e6a",
   "metadata": {},
   "outputs": [
    {
     "ename": "NameError",
     "evalue": "name 'b' is not defined",
     "output_type": "error",
     "traceback": [
      "\u001b[1;31m---------------------------------------------------------------------------\u001b[0m",
      "\u001b[1;31mNameError\u001b[0m                                 Traceback (most recent call last)",
      "\u001b[1;32mC:\\Users\\MUTHUK~1\\AppData\\Local\\Temp/ipykernel_9892/992516455.py\u001b[0m in \u001b[0;36m<module>\u001b[1;34m\u001b[0m\n\u001b[1;32m----> 1\u001b[1;33m \u001b[0mprint\u001b[0m\u001b[1;33m(\u001b[0m\u001b[0ma\u001b[0m\u001b[1;33m,\u001b[0m\u001b[0mb\u001b[0m\u001b[1;33m,\u001b[0m\u001b[0mc\u001b[0m\u001b[1;33m)\u001b[0m\u001b[1;33m\u001b[0m\u001b[1;33m\u001b[0m\u001b[0m\n\u001b[0m",
      "\u001b[1;31mNameError\u001b[0m: name 'b' is not defined"
     ]
    }
   ],
   "source": [
    "print(a,b,c)"
   ]
  },
  {
   "cell_type": "code",
   "execution_count": 18,
   "id": "ab5809cb",
   "metadata": {},
   "outputs": [],
   "source": [
    "a=1 ;b ='muthu'; c =6.578"
   ]
  },
  {
   "cell_type": "code",
   "execution_count": 19,
   "id": "7ef22807",
   "metadata": {},
   "outputs": [],
   "source": [
    "del(a,b,c)"
   ]
  },
  {
   "cell_type": "code",
   "execution_count": 20,
   "id": "e9d9aac4",
   "metadata": {},
   "outputs": [
    {
     "ename": "NameError",
     "evalue": "name 'a' is not defined",
     "output_type": "error",
     "traceback": [
      "\u001b[1;31m---------------------------------------------------------------------------\u001b[0m",
      "\u001b[1;31mNameError\u001b[0m                                 Traceback (most recent call last)",
      "\u001b[1;32mC:\\Users\\MUTHUK~1\\AppData\\Local\\Temp/ipykernel_9892/992516455.py\u001b[0m in \u001b[0;36m<module>\u001b[1;34m\u001b[0m\n\u001b[1;32m----> 1\u001b[1;33m \u001b[0mprint\u001b[0m\u001b[1;33m(\u001b[0m\u001b[0ma\u001b[0m\u001b[1;33m,\u001b[0m\u001b[0mb\u001b[0m\u001b[1;33m,\u001b[0m\u001b[0mc\u001b[0m\u001b[1;33m)\u001b[0m\u001b[1;33m\u001b[0m\u001b[1;33m\u001b[0m\u001b[0m\n\u001b[0m",
      "\u001b[1;31mNameError\u001b[0m: name 'a' is not defined"
     ]
    }
   ],
   "source": [
    "print(a,b,c)"
   ]
  },
  {
   "cell_type": "markdown",
   "id": "29d2731d",
   "metadata": {},
   "source": [
    "## 3.\tWhat’s the result of assigning a value to a ‘keyword’?\n",
    "a.\tPlease highlight the error\n"
   ]
  },
  {
   "cell_type": "code",
   "execution_count": 21,
   "id": "95c2f506",
   "metadata": {
    "scrolled": true
   },
   "outputs": [
    {
     "ename": "SyntaxError",
     "evalue": "cannot assign to True (Temp/ipykernel_9892/1770609971.py, line 1)",
     "output_type": "error",
     "traceback": [
      "\u001b[1;36m  File \u001b[1;32m\"C:\\Users\\MUTHUK~1\\AppData\\Local\\Temp/ipykernel_9892/1770609971.py\"\u001b[1;36m, line \u001b[1;32m1\u001b[0m\n\u001b[1;33m    True = 1\u001b[0m\n\u001b[1;37m    ^\u001b[0m\n\u001b[1;31mSyntaxError\u001b[0m\u001b[1;31m:\u001b[0m cannot assign to True\n"
     ]
    }
   ],
   "source": [
    "True = 1"
   ]
  },
  {
   "cell_type": "code",
   "execution_count": 22,
   "id": "c2c356dc",
   "metadata": {},
   "outputs": [
    {
     "ename": "SyntaxError",
     "evalue": "invalid syntax (Temp/ipykernel_9892/4053597518.py, line 1)",
     "output_type": "error",
     "traceback": [
      "\u001b[1;36m  File \u001b[1;32m\"C:\\Users\\MUTHUK~1\\AppData\\Local\\Temp/ipykernel_9892/4053597518.py\"\u001b[1;36m, line \u001b[1;32m1\u001b[0m\n\u001b[1;33m    def ='muthu'\u001b[0m\n\u001b[1;37m        ^\u001b[0m\n\u001b[1;31mSyntaxError\u001b[0m\u001b[1;31m:\u001b[0m invalid syntax\n"
     ]
    }
   ],
   "source": [
    "def ='muthu'"
   ]
  },
  {
   "cell_type": "code",
   "execution_count": 23,
   "id": "0380e416",
   "metadata": {},
   "outputs": [
    {
     "ename": "IndentationError",
     "evalue": "expected an indented block (Temp/ipykernel_9892/106006400.py, line 1)",
     "output_type": "error",
     "traceback": [
      "\u001b[1;36m  File \u001b[1;32m\"C:\\Users\\MUTHUK~1\\AppData\\Local\\Temp/ipykernel_9892/106006400.py\"\u001b[1;36m, line \u001b[1;32m1\u001b[0m\n\u001b[1;33m    def function():\u001b[0m\n\u001b[1;37m                   ^\u001b[0m\n\u001b[1;31mIndentationError\u001b[0m\u001b[1;31m:\u001b[0m expected an indented block\n"
     ]
    }
   ],
   "source": [
    "def function():"
   ]
  },
  {
   "cell_type": "code",
   "execution_count": 24,
   "id": "744f830e",
   "metadata": {},
   "outputs": [
    {
     "ename": "IndentationError",
     "evalue": "expected an indented block (Temp/ipykernel_9892/282567450.py, line 1)",
     "output_type": "error",
     "traceback": [
      "\u001b[1;36m  File \u001b[1;32m\"C:\\Users\\MUTHUK~1\\AppData\\Local\\Temp/ipykernel_9892/282567450.py\"\u001b[1;36m, line \u001b[1;32m1\u001b[0m\n\u001b[1;33m    def function1():\u001b[0m\n\u001b[1;37m                    ^\u001b[0m\n\u001b[1;31mIndentationError\u001b[0m\u001b[1;31m:\u001b[0m expected an indented block\n"
     ]
    }
   ],
   "source": [
    "def function1():"
   ]
  },
  {
   "cell_type": "code",
   "execution_count": 25,
   "id": "ee057f9d",
   "metadata": {},
   "outputs": [],
   "source": [
    "def function():\n",
    "    print('hello')"
   ]
  },
  {
   "cell_type": "code",
   "execution_count": 26,
   "id": "a85c0550",
   "metadata": {},
   "outputs": [
    {
     "name": "stdout",
     "output_type": "stream",
     "text": [
      "hello\n"
     ]
    }
   ],
   "source": [
    "function()"
   ]
  },
  {
   "cell_type": "code",
   "execution_count": 27,
   "id": "53f34228",
   "metadata": {},
   "outputs": [
    {
     "ename": "SyntaxError",
     "evalue": "invalid syntax (Temp/ipykernel_9892/1113298086.py, line 1)",
     "output_type": "error",
     "traceback": [
      "\u001b[1;36m  File \u001b[1;32m\"C:\\Users\\MUTHUK~1\\AppData\\Local\\Temp/ipykernel_9892/1113298086.py\"\u001b[1;36m, line \u001b[1;32m1\u001b[0m\n\u001b[1;33m    class = 2\u001b[0m\n\u001b[1;37m          ^\u001b[0m\n\u001b[1;31mSyntaxError\u001b[0m\u001b[1;31m:\u001b[0m invalid syntax\n"
     ]
    }
   ],
   "source": [
    "class = 2"
   ]
  },
  {
   "cell_type": "code",
   "execution_count": 28,
   "id": "409bbff9",
   "metadata": {},
   "outputs": [
    {
     "ename": "SyntaxError",
     "evalue": "cannot assign to True (Temp/ipykernel_9892/1770609971.py, line 1)",
     "output_type": "error",
     "traceback": [
      "\u001b[1;36m  File \u001b[1;32m\"C:\\Users\\MUTHUK~1\\AppData\\Local\\Temp/ipykernel_9892/1770609971.py\"\u001b[1;36m, line \u001b[1;32m1\u001b[0m\n\u001b[1;33m    True = 1\u001b[0m\n\u001b[1;37m    ^\u001b[0m\n\u001b[1;31mSyntaxError\u001b[0m\u001b[1;31m:\u001b[0m cannot assign to True\n"
     ]
    }
   ],
   "source": [
    "True = 1"
   ]
  },
  {
   "cell_type": "code",
   "execution_count": 29,
   "id": "13ee7f8a",
   "metadata": {},
   "outputs": [
    {
     "ename": "SyntaxError",
     "evalue": "cannot assign to None (Temp/ipykernel_9892/3366989415.py, line 1)",
     "output_type": "error",
     "traceback": [
      "\u001b[1;36m  File \u001b[1;32m\"C:\\Users\\MUTHUK~1\\AppData\\Local\\Temp/ipykernel_9892/3366989415.py\"\u001b[1;36m, line \u001b[1;32m1\u001b[0m\n\u001b[1;33m    None = 10\u001b[0m\n\u001b[1;37m    ^\u001b[0m\n\u001b[1;31mSyntaxError\u001b[0m\u001b[1;31m:\u001b[0m cannot assign to None\n"
     ]
    }
   ],
   "source": [
    "None = 10"
   ]
  },
  {
   "cell_type": "markdown",
   "id": "eefe44c5",
   "metadata": {},
   "source": [
    "## SyntaxError: cannot assign to None\n"
   ]
  },
  {
   "cell_type": "markdown",
   "id": "6c979e35",
   "metadata": {},
   "source": [
    "## How to write a multi-line statement and assign it to a variable (Note: Without using a backslash “\\” at the end of each line)"
   ]
  },
  {
   "cell_type": "code",
   "execution_count": 30,
   "id": "e470c30b",
   "metadata": {},
   "outputs": [],
   "source": [
    "a =( 1+ 2 * 3 -\n",
    "   4 + 6+ 7 -8\n",
    "   + 5 * 2)"
   ]
  },
  {
   "cell_type": "code",
   "execution_count": 31,
   "id": "4c77e8ab",
   "metadata": {},
   "outputs": [
    {
     "name": "stdout",
     "output_type": "stream",
     "text": [
      "18\n"
     ]
    }
   ],
   "source": [
    "print(a)"
   ]
  },
  {
   "cell_type": "markdown",
   "id": "6a7e6cfc",
   "metadata": {},
   "source": [
    "## \tPrint the list of numbers from 100 to 999 with an interval (step size) of 8 between the numbers"
   ]
  },
  {
   "cell_type": "code",
   "execution_count": 32,
   "id": "1196f6f8",
   "metadata": {},
   "outputs": [],
   "source": [
    "a =range(100,999,8)"
   ]
  },
  {
   "cell_type": "code",
   "execution_count": 33,
   "id": "2677924c",
   "metadata": {},
   "outputs": [
    {
     "name": "stdout",
     "output_type": "stream",
     "text": [
      "range(100, 999, 8)\n"
     ]
    }
   ],
   "source": [
    "print(a)"
   ]
  },
  {
   "cell_type": "code",
   "execution_count": 34,
   "id": "9ad8982b",
   "metadata": {},
   "outputs": [
    {
     "data": {
      "text/plain": [
       "[100,\n",
       " 108,\n",
       " 116,\n",
       " 124,\n",
       " 132,\n",
       " 140,\n",
       " 148,\n",
       " 156,\n",
       " 164,\n",
       " 172,\n",
       " 180,\n",
       " 188,\n",
       " 196,\n",
       " 204,\n",
       " 212,\n",
       " 220,\n",
       " 228,\n",
       " 236,\n",
       " 244,\n",
       " 252,\n",
       " 260,\n",
       " 268,\n",
       " 276,\n",
       " 284,\n",
       " 292,\n",
       " 300,\n",
       " 308,\n",
       " 316,\n",
       " 324,\n",
       " 332,\n",
       " 340,\n",
       " 348,\n",
       " 356,\n",
       " 364,\n",
       " 372,\n",
       " 380,\n",
       " 388,\n",
       " 396,\n",
       " 404,\n",
       " 412,\n",
       " 420,\n",
       " 428,\n",
       " 436,\n",
       " 444,\n",
       " 452,\n",
       " 460,\n",
       " 468,\n",
       " 476,\n",
       " 484,\n",
       " 492,\n",
       " 500,\n",
       " 508,\n",
       " 516,\n",
       " 524,\n",
       " 532,\n",
       " 540,\n",
       " 548,\n",
       " 556,\n",
       " 564,\n",
       " 572,\n",
       " 580,\n",
       " 588,\n",
       " 596,\n",
       " 604,\n",
       " 612,\n",
       " 620,\n",
       " 628,\n",
       " 636,\n",
       " 644,\n",
       " 652,\n",
       " 660,\n",
       " 668,\n",
       " 676,\n",
       " 684,\n",
       " 692,\n",
       " 700,\n",
       " 708,\n",
       " 716,\n",
       " 724,\n",
       " 732,\n",
       " 740,\n",
       " 748,\n",
       " 756,\n",
       " 764,\n",
       " 772,\n",
       " 780,\n",
       " 788,\n",
       " 796,\n",
       " 804,\n",
       " 812,\n",
       " 820,\n",
       " 828,\n",
       " 836,\n",
       " 844,\n",
       " 852,\n",
       " 860,\n",
       " 868,\n",
       " 876,\n",
       " 884,\n",
       " 892,\n",
       " 900,\n",
       " 908,\n",
       " 916,\n",
       " 924,\n",
       " 932,\n",
       " 940,\n",
       " 948,\n",
       " 956,\n",
       " 964,\n",
       " 972,\n",
       " 980,\n",
       " 988,\n",
       " 996]"
      ]
     },
     "execution_count": 34,
     "metadata": {},
     "output_type": "execute_result"
    }
   ],
   "source": [
    "list(range(100,999,8))"
   ]
  },
  {
   "cell_type": "code",
   "execution_count": 35,
   "id": "8dcde568",
   "metadata": {},
   "outputs": [
    {
     "data": {
      "text/plain": [
       "range(100, 999, 8)"
      ]
     },
     "execution_count": 35,
     "metadata": {},
     "output_type": "execute_result"
    }
   ],
   "source": [
    "range(100,999,8)"
   ]
  },
  {
   "cell_type": "markdown",
   "id": "967c19f6",
   "metadata": {},
   "source": [
    "## Write a “for” loop to print out the ‘n’ values and break out of the statement if the value is ‘n/2’"
   ]
  },
  {
   "cell_type": "code",
   "execution_count": null,
   "id": "fd929184",
   "metadata": {},
   "outputs": [],
   "source": [
    "list =[10,20,30,40,50,60,70,87]\n",
    "for a in list:\n",
    "    print(a)"
   ]
  },
  {
   "cell_type": "code",
   "execution_count": 37,
   "id": "7d6fba72",
   "metadata": {},
   "outputs": [
    {
     "name": "stdout",
     "output_type": "stream",
     "text": [
      "10\n",
      "20\n",
      "30\n",
      "40\n",
      "50\n",
      "60\n",
      "70\n",
      "87\n"
     ]
    }
   ],
   "source": [
    "list =[10,20,30,40,50,60,70,87]\n",
    "for a in list:\n",
    "    print(a)\n",
    "    if(a % 2):\n",
    "        break\n",
    "    "
   ]
  },
  {
   "cell_type": "code",
   "execution_count": 38,
   "id": "40f608ad",
   "metadata": {},
   "outputs": [
    {
     "name": "stdout",
     "output_type": "stream",
     "text": [
      "10\n"
     ]
    }
   ],
   "source": [
    "list =[10,20,30,40,50,60,70,87]\n",
    "for a in list:\n",
    "    print(a)\n",
    "    if(a / 2):\n",
    "        break"
   ]
  },
  {
   "cell_type": "code",
   "execution_count": 39,
   "id": "d4a7cca9",
   "metadata": {},
   "outputs": [
    {
     "name": "stdout",
     "output_type": "stream",
     "text": [
      "11\n"
     ]
    }
   ],
   "source": [
    "list =[11,23,35,47,59,63,70,87]\n",
    "for a in list:\n",
    "    print(a)\n",
    "    if(a / 2):\n",
    "        break"
   ]
  },
  {
   "cell_type": "code",
   "execution_count": 40,
   "id": "be5071e4",
   "metadata": {},
   "outputs": [
    {
     "name": "stdout",
     "output_type": "stream",
     "text": [
      "11\n"
     ]
    }
   ],
   "source": [
    "list =[11,23,35,47,59,63,70,87]\n",
    "for a in list:\n",
    "    print(a)\n",
    "    if(a/2):\n",
    "        break"
   ]
  },
  {
   "cell_type": "code",
   "execution_count": 41,
   "id": "21c29cfd",
   "metadata": {},
   "outputs": [
    {
     "ename": "NameError",
     "evalue": "name 'i' is not defined",
     "output_type": "error",
     "traceback": [
      "\u001b[1;31m---------------------------------------------------------------------------\u001b[0m",
      "\u001b[1;31mNameError\u001b[0m                                 Traceback (most recent call last)",
      "\u001b[1;32mC:\\Users\\MUTHUK~1\\AppData\\Local\\Temp/ipykernel_9892/1935401654.py\u001b[0m in \u001b[0;36m<module>\u001b[1;34m\u001b[0m\n\u001b[0;32m      1\u001b[0m \u001b[1;32mfor\u001b[0m \u001b[0ma\u001b[0m \u001b[1;32min\u001b[0m \u001b[0mrange\u001b[0m\u001b[1;33m(\u001b[0m\u001b[1;36m1\u001b[0m\u001b[1;33m,\u001b[0m\u001b[1;36m10\u001b[0m\u001b[1;33m)\u001b[0m\u001b[1;33m:\u001b[0m\u001b[1;33m\u001b[0m\u001b[1;33m\u001b[0m\u001b[0m\n\u001b[1;32m----> 2\u001b[1;33m     \u001b[0mprint\u001b[0m\u001b[1;33m(\u001b[0m\u001b[0mi\u001b[0m\u001b[1;33m)\u001b[0m\u001b[1;33m\u001b[0m\u001b[1;33m\u001b[0m\u001b[0m\n\u001b[0m\u001b[0;32m      3\u001b[0m     \u001b[1;32mif\u001b[0m\u001b[1;33m(\u001b[0m\u001b[0mi\u001b[0m\u001b[1;33m/\u001b[0m\u001b[1;36m2\u001b[0m\u001b[1;33m)\u001b[0m\u001b[1;33m:\u001b[0m\u001b[1;33m\u001b[0m\u001b[1;33m\u001b[0m\u001b[0m\n\u001b[0;32m      4\u001b[0m         \u001b[1;32mbreak\u001b[0m\u001b[1;33m\u001b[0m\u001b[1;33m\u001b[0m\u001b[0m\n",
      "\u001b[1;31mNameError\u001b[0m: name 'i' is not defined"
     ]
    }
   ],
   "source": [
    "for a in range(1,10):\n",
    "    print(i)\n",
    "    if(i/2):\n",
    "        break"
   ]
  },
  {
   "cell_type": "code",
   "execution_count": 42,
   "id": "938cf339",
   "metadata": {},
   "outputs": [
    {
     "name": "stdout",
     "output_type": "stream",
     "text": [
      "1\n"
     ]
    }
   ],
   "source": [
    "for i in range(1,10):\n",
    "    print(i)\n",
    "    if(i/2):\n",
    "        break"
   ]
  },
  {
   "cell_type": "code",
   "execution_count": 43,
   "id": "4009c626",
   "metadata": {},
   "outputs": [
    {
     "name": "stdout",
     "output_type": "stream",
     "text": [
      "1\n"
     ]
    }
   ],
   "source": [
    "for i in range(1,10):\n",
    "    print(i)\n",
    "    if(i%2):\n",
    "        break\n"
   ]
  },
  {
   "cell_type": "code",
   "execution_count": 44,
   "id": "fd982da7",
   "metadata": {},
   "outputs": [
    {
     "name": "stdout",
     "output_type": "stream",
     "text": [
      "2\n",
      "3\n"
     ]
    }
   ],
   "source": [
    "for i in range(2,10):\n",
    "    print(i)\n",
    "    if(i%2):\n",
    "        break"
   ]
  },
  {
   "cell_type": "code",
   "execution_count": 45,
   "id": "98315d35",
   "metadata": {},
   "outputs": [
    {
     "name": "stdout",
     "output_type": "stream",
     "text": [
      "10\n",
      "20\n",
      "30\n",
      "40\n",
      "50\n",
      "60\n",
      "70\n",
      "87\n"
     ]
    }
   ],
   "source": [
    "list =[10,20,30,40,50,60,70,87]\n",
    "for a in list:\n",
    "    print(a)\n",
    "    if(a % 2):\n",
    "        break"
   ]
  },
  {
   "cell_type": "code",
   "execution_count": 46,
   "id": "07af2c7c",
   "metadata": {},
   "outputs": [
    {
     "name": "stdout",
     "output_type": "stream",
     "text": [
      "10\n",
      "20\n",
      "30\n",
      "45\n"
     ]
    }
   ],
   "source": [
    "list =[10,20,30,45,50,60,70,87]\n",
    "for a in list:\n",
    "    print(a)\n",
    "    if(a % 2):\n",
    "        break"
   ]
  },
  {
   "cell_type": "markdown",
   "id": "55e5e2dd",
   "metadata": {},
   "source": [
    "## 7.\tWrite a simple function and call the docstring from outside the function"
   ]
  },
  {
   "cell_type": "code",
   "execution_count": 47,
   "id": "f5e9c892",
   "metadata": {},
   "outputs": [],
   "source": [
    "def f1():\n",
    "    print(\"\"\"This is my first python assignment\"\"\")"
   ]
  },
  {
   "cell_type": "code",
   "execution_count": 48,
   "id": "b8a3d3d9",
   "metadata": {},
   "outputs": [
    {
     "name": "stdout",
     "output_type": "stream",
     "text": [
      "None\n"
     ]
    }
   ],
   "source": [
    "print(f1.__doc__)"
   ]
  },
  {
   "cell_type": "code",
   "execution_count": 49,
   "id": "15b08887",
   "metadata": {},
   "outputs": [
    {
     "name": "stdout",
     "output_type": "stream",
     "text": [
      "hello\n"
     ]
    }
   ],
   "source": [
    "def f1():\n",
    "  \"\"\"This is my first python assignment\"\"\"\n",
    "print('hello')"
   ]
  },
  {
   "cell_type": "code",
   "execution_count": 50,
   "id": "667c89b6",
   "metadata": {},
   "outputs": [],
   "source": [
    "def func():\n",
    "    \"\"\"This is my first python assignment\"\"\"\n",
    "    print('hello')\n",
    "    "
   ]
  },
  {
   "cell_type": "code",
   "execution_count": 51,
   "id": "58dd8752",
   "metadata": {},
   "outputs": [
    {
     "name": "stdout",
     "output_type": "stream",
     "text": [
      "hello\n"
     ]
    }
   ],
   "source": [
    "func()"
   ]
  },
  {
   "cell_type": "code",
   "execution_count": 52,
   "id": "e4d9b3cb",
   "metadata": {},
   "outputs": [
    {
     "name": "stdout",
     "output_type": "stream",
     "text": [
      "This is my first python assignment\n"
     ]
    }
   ],
   "source": [
    "print(func.__doc__)"
   ]
  },
  {
   "cell_type": "markdown",
   "id": "b2a5629e",
   "metadata": {},
   "source": [
    "## 8.\tCreate a user-defined package in ‘site-packages’ with below 3 variables a, b and c. Import these variables and write a function to calculate the area of triangle for below 3 sides (a, b, c). Calculate the semi-perimeter (s) first, to calculate the area of triangle (area) at last\n",
    "\n"
   ]
  },
  {
   "cell_type": "code",
   "execution_count": 53,
   "id": "e2e12607",
   "metadata": {},
   "outputs": [],
   "source": [
    "import my_package"
   ]
  },
  {
   "cell_type": "code",
   "execution_count": 54,
   "id": "9d2e046d",
   "metadata": {},
   "outputs": [],
   "source": [
    "def triangle_function(a,b,c):\n",
    "    return (a+b+c )/2"
   ]
  },
  {
   "cell_type": "code",
   "execution_count": 55,
   "id": "395f8cb8",
   "metadata": {},
   "outputs": [],
   "source": [
    "from my_package import test_package"
   ]
  },
  {
   "cell_type": "code",
   "execution_count": 56,
   "id": "375577f3",
   "metadata": {},
   "outputs": [],
   "source": [
    "my_package_a = test_package.a\n",
    "my_package_b = test_package.b\n",
    "my_package_c = test_package.c"
   ]
  },
  {
   "cell_type": "code",
   "execution_count": 57,
   "id": "3c66806e",
   "metadata": {},
   "outputs": [
    {
     "name": "stdout",
     "output_type": "stream",
     "text": [
      "my_package_a my_package_b my_package_c\n"
     ]
    }
   ],
   "source": [
    "print('my_package_a','my_package_b','my_package_c')"
   ]
  },
  {
   "cell_type": "code",
   "execution_count": 58,
   "id": "0cc4a701",
   "metadata": {},
   "outputs": [
    {
     "name": "stdout",
     "output_type": "stream",
     "text": [
      "15 51 17\n"
     ]
    }
   ],
   "source": [
    "print(my_package_a,my_package_b,my_package_c)"
   ]
  },
  {
   "cell_type": "code",
   "execution_count": 59,
   "id": "94855c8c",
   "metadata": {},
   "outputs": [],
   "source": [
    "a = test_package.a\n",
    "b = test_package.b\n",
    "c = test_package.c"
   ]
  },
  {
   "cell_type": "code",
   "execution_count": 60,
   "id": "1a4486e0",
   "metadata": {},
   "outputs": [
    {
     "name": "stdout",
     "output_type": "stream",
     "text": [
      "15 51 17\n"
     ]
    }
   ],
   "source": [
    "print(a,b,c)"
   ]
  },
  {
   "cell_type": "code",
   "execution_count": 61,
   "id": "825baadc",
   "metadata": {},
   "outputs": [
    {
     "ename": "TypeError",
     "evalue": "triangle_function() missing 3 required positional arguments: 'a', 'b', and 'c'",
     "output_type": "error",
     "traceback": [
      "\u001b[1;31m---------------------------------------------------------------------------\u001b[0m",
      "\u001b[1;31mTypeError\u001b[0m                                 Traceback (most recent call last)",
      "\u001b[1;32mC:\\Users\\MUTHUK~1\\AppData\\Local\\Temp/ipykernel_9892/3682933889.py\u001b[0m in \u001b[0;36m<module>\u001b[1;34m\u001b[0m\n\u001b[1;32m----> 1\u001b[1;33m \u001b[0mtriangle_function\u001b[0m\u001b[1;33m(\u001b[0m\u001b[1;33m)\u001b[0m\u001b[1;33m\u001b[0m\u001b[1;33m\u001b[0m\u001b[0m\n\u001b[0m",
      "\u001b[1;31mTypeError\u001b[0m: triangle_function() missing 3 required positional arguments: 'a', 'b', and 'c'"
     ]
    }
   ],
   "source": [
    "triangle_function()"
   ]
  },
  {
   "cell_type": "code",
   "execution_count": 62,
   "id": "8b8fd66c",
   "metadata": {},
   "outputs": [
    {
     "data": {
      "text/plain": [
       "41.5"
      ]
     },
     "execution_count": 62,
     "metadata": {},
     "output_type": "execute_result"
    }
   ],
   "source": [
    "triangle_function(a,b,c)"
   ]
  },
  {
   "cell_type": "code",
   "execution_count": 63,
   "id": "beb734a8",
   "metadata": {},
   "outputs": [],
   "source": [
    "s =triangle_function(a,b,c)"
   ]
  },
  {
   "cell_type": "code",
   "execution_count": 64,
   "id": "e868c3a1",
   "metadata": {},
   "outputs": [
    {
     "name": "stdout",
     "output_type": "stream",
     "text": [
      "41.5\n"
     ]
    }
   ],
   "source": [
    "print(s)"
   ]
  },
  {
   "cell_type": "code",
   "execution_count": 65,
   "id": "c978a114",
   "metadata": {},
   "outputs": [],
   "source": [
    "del s\n",
    "   \n"
   ]
  },
  {
   "cell_type": "code",
   "execution_count": 66,
   "id": "2899b683",
   "metadata": {},
   "outputs": [
    {
     "ename": "NameError",
     "evalue": "name 's' is not defined",
     "output_type": "error",
     "traceback": [
      "\u001b[1;31m---------------------------------------------------------------------------\u001b[0m",
      "\u001b[1;31mNameError\u001b[0m                                 Traceback (most recent call last)",
      "\u001b[1;32mC:\\Users\\MUTHUK~1\\AppData\\Local\\Temp/ipykernel_9892/926740265.py\u001b[0m in \u001b[0;36m<module>\u001b[1;34m\u001b[0m\n\u001b[1;32m----> 1\u001b[1;33m \u001b[0mprint\u001b[0m\u001b[1;33m(\u001b[0m\u001b[0ms\u001b[0m\u001b[1;33m)\u001b[0m\u001b[1;33m\u001b[0m\u001b[1;33m\u001b[0m\u001b[0m\n\u001b[0m",
      "\u001b[1;31mNameError\u001b[0m: name 's' is not defined"
     ]
    }
   ],
   "source": [
    "print(s)"
   ]
  },
  {
   "cell_type": "code",
   "execution_count": 67,
   "id": "77cf0697",
   "metadata": {},
   "outputs": [],
   "source": [
    "def triangle_function(a,b,c):\n",
    "    s= (a+b+c )/2\n",
    "    return (s*(s-a) * (s-b) * (s-c)) ** 0.5\n",
    "         "
   ]
  },
  {
   "cell_type": "code",
   "execution_count": 68,
   "id": "d4ac4bd8",
   "metadata": {},
   "outputs": [
    {
     "data": {
      "text/plain": [
       "(3.097937745838546e-14+505.93162828587816j)"
      ]
     },
     "execution_count": 68,
     "metadata": {},
     "output_type": "execute_result"
    }
   ],
   "source": [
    "triangle_function(a,b,c)"
   ]
  },
  {
   "cell_type": "code",
   "execution_count": 69,
   "id": "7f27ffb2",
   "metadata": {},
   "outputs": [
    {
     "name": "stdout",
     "output_type": "stream",
     "text": [
      "15 51 17\n"
     ]
    }
   ],
   "source": [
    "print(a,b,c)"
   ]
  },
  {
   "cell_type": "code",
   "execution_count": 70,
   "id": "b25ac81b",
   "metadata": {},
   "outputs": [
    {
     "ename": "NameError",
     "evalue": "name 's' is not defined",
     "output_type": "error",
     "traceback": [
      "\u001b[1;31m---------------------------------------------------------------------------\u001b[0m",
      "\u001b[1;31mNameError\u001b[0m                                 Traceback (most recent call last)",
      "\u001b[1;32mC:\\Users\\MUTHUK~1\\AppData\\Local\\Temp/ipykernel_9892/926740265.py\u001b[0m in \u001b[0;36m<module>\u001b[1;34m\u001b[0m\n\u001b[1;32m----> 1\u001b[1;33m \u001b[0mprint\u001b[0m\u001b[1;33m(\u001b[0m\u001b[0ms\u001b[0m\u001b[1;33m)\u001b[0m\u001b[1;33m\u001b[0m\u001b[1;33m\u001b[0m\u001b[0m\n\u001b[0m",
      "\u001b[1;31mNameError\u001b[0m: name 's' is not defined"
     ]
    }
   ],
   "source": [
    "print(s)"
   ]
  },
  {
   "cell_type": "code",
   "execution_count": 73,
   "id": "1a480a0a",
   "metadata": {},
   "outputs": [],
   "source": [
    "def triangle_function(a,b,c):\n",
    "    s= (a+b+c )/2\n",
    "    area=(s*(s-a)*(s-b)*(s-c))**0.5\n",
    "    print(s)\n",
    "    print(area)"
   ]
  },
  {
   "cell_type": "code",
   "execution_count": 76,
   "id": "68f965d2",
   "metadata": {},
   "outputs": [
    {
     "name": "stdout",
     "output_type": "stream",
     "text": [
      "41.5\n",
      "(3.097937745838546e-14+505.93162828587816j)\n"
     ]
    }
   ],
   "source": [
    "triangle_function(a,b,c)"
   ]
  },
  {
   "cell_type": "code",
   "execution_count": 77,
   "id": "fcde78f4",
   "metadata": {},
   "outputs": [
    {
     "name": "stdout",
     "output_type": "stream",
     "text": [
      "41.5\n",
      "(3.097937745838546e-14+505.93162828587816j)\n"
     ]
    }
   ],
   "source": [
    "triangle_function(a,b,c)"
   ]
  },
  {
   "cell_type": "code",
   "execution_count": 78,
   "id": "3a2ce3a3",
   "metadata": {},
   "outputs": [
    {
     "name": "stdout",
     "output_type": "stream",
     "text": [
      "15 51 17\n"
     ]
    }
   ],
   "source": [
    "print(a,b,c)"
   ]
  },
  {
   "cell_type": "code",
   "execution_count": 79,
   "id": "088012ab",
   "metadata": {},
   "outputs": [
    {
     "ename": "NameError",
     "evalue": "name 'area' is not defined",
     "output_type": "error",
     "traceback": [
      "\u001b[1;31m---------------------------------------------------------------------------\u001b[0m",
      "\u001b[1;31mNameError\u001b[0m                                 Traceback (most recent call last)",
      "\u001b[1;32mC:\\Users\\MUTHUK~1\\AppData\\Local\\Temp/ipykernel_9892/2055506496.py\u001b[0m in \u001b[0;36m<module>\u001b[1;34m\u001b[0m\n\u001b[1;32m----> 1\u001b[1;33m \u001b[0mprint\u001b[0m\u001b[1;33m(\u001b[0m\u001b[0marea\u001b[0m\u001b[1;33m)\u001b[0m\u001b[1;33m\u001b[0m\u001b[1;33m\u001b[0m\u001b[0m\n\u001b[0m",
      "\u001b[1;31mNameError\u001b[0m: name 'area' is not defined"
     ]
    }
   ],
   "source": [
    "print(area)"
   ]
  },
  {
   "cell_type": "markdown",
   "id": "6aa3a048",
   "metadata": {},
   "source": [
    "## Write a list comprehension to print the odd numbers from 0 to 100"
   ]
  },
  {
   "cell_type": "code",
   "execution_count": 80,
   "id": "a6ba7706",
   "metadata": {},
   "outputs": [],
   "source": [
    "list=range(0,100)"
   ]
  },
  {
   "cell_type": "code",
   "execution_count": 81,
   "id": "39f69bb9",
   "metadata": {},
   "outputs": [
    {
     "ename": "SyntaxError",
     "evalue": "invalid syntax (Temp/ipykernel_9892/3116772856.py, line 1)",
     "output_type": "error",
     "traceback": [
      "\u001b[1;36m  File \u001b[1;32m\"C:\\Users\\MUTHUK~1\\AppData\\Local\\Temp/ipykernel_9892/3116772856.py\"\u001b[1;36m, line \u001b[1;32m1\u001b[0m\n\u001b[1;33m    list1 = a for a in list if a % 2 <> 0\u001b[0m\n\u001b[1;37m              ^\u001b[0m\n\u001b[1;31mSyntaxError\u001b[0m\u001b[1;31m:\u001b[0m invalid syntax\n"
     ]
    }
   ],
   "source": [
    "list1 = a for a in list if a % 2 <> 0"
   ]
  },
  {
   "cell_type": "code",
   "execution_count": 82,
   "id": "fe32d084",
   "metadata": {},
   "outputs": [
    {
     "ename": "SyntaxError",
     "evalue": "invalid syntax (Temp/ipykernel_9892/1153867321.py, line 1)",
     "output_type": "error",
     "traceback": [
      "\u001b[1;36m  File \u001b[1;32m\"C:\\Users\\MUTHUK~1\\AppData\\Local\\Temp/ipykernel_9892/1153867321.py\"\u001b[1;36m, line \u001b[1;32m1\u001b[0m\n\u001b[1;33m    list1 = [a for a in list if a % 2 <> 0]\u001b[0m\n\u001b[1;37m                                      ^\u001b[0m\n\u001b[1;31mSyntaxError\u001b[0m\u001b[1;31m:\u001b[0m invalid syntax\n"
     ]
    }
   ],
   "source": [
    "list1 = [a for a in list if a % 2 <> 0]"
   ]
  },
  {
   "cell_type": "code",
   "execution_count": 83,
   "id": "6c3d3129",
   "metadata": {},
   "outputs": [
    {
     "name": "stdout",
     "output_type": "stream",
     "text": [
      "range(0, 100)\n"
     ]
    }
   ],
   "source": [
    "print(list)"
   ]
  },
  {
   "cell_type": "code",
   "execution_count": 84,
   "id": "e08f761e",
   "metadata": {},
   "outputs": [
    {
     "data": {
      "text/plain": [
       "range(0, 100)"
      ]
     },
     "execution_count": 84,
     "metadata": {},
     "output_type": "execute_result"
    }
   ],
   "source": [
    "range(0,100)"
   ]
  },
  {
   "cell_type": "code",
   "execution_count": 85,
   "id": "3f128040",
   "metadata": {},
   "outputs": [
    {
     "ename": "TypeError",
     "evalue": "'range' object is not callable",
     "output_type": "error",
     "traceback": [
      "\u001b[1;31m---------------------------------------------------------------------------\u001b[0m",
      "\u001b[1;31mTypeError\u001b[0m                                 Traceback (most recent call last)",
      "\u001b[1;32mC:\\Users\\MUTHUK~1\\AppData\\Local\\Temp/ipykernel_9892/836500391.py\u001b[0m in \u001b[0;36m<module>\u001b[1;34m\u001b[0m\n\u001b[1;32m----> 1\u001b[1;33m \u001b[0mlist\u001b[0m\u001b[1;33m(\u001b[0m\u001b[0mrange\u001b[0m\u001b[1;33m(\u001b[0m\u001b[1;36m0\u001b[0m\u001b[1;33m,\u001b[0m\u001b[1;36m100\u001b[0m\u001b[1;33m)\u001b[0m\u001b[1;33m)\u001b[0m\u001b[1;33m\u001b[0m\u001b[1;33m\u001b[0m\u001b[0m\n\u001b[0m",
      "\u001b[1;31mTypeError\u001b[0m: 'range' object is not callable"
     ]
    }
   ],
   "source": [
    "list(range(0,100))"
   ]
  },
  {
   "cell_type": "code",
   "execution_count": 86,
   "id": "9c9aecac",
   "metadata": {},
   "outputs": [
    {
     "ename": "SyntaxError",
     "evalue": "invalid syntax (Temp/ipykernel_9892/2152951049.py, line 1)",
     "output_type": "error",
     "traceback": [
      "\u001b[1;36m  File \u001b[1;32m\"C:\\Users\\MUTHUK~1\\AppData\\Local\\Temp/ipykernel_9892/2152951049.py\"\u001b[1;36m, line \u001b[1;32m1\u001b[0m\n\u001b[1;33m    list1 = [for a in range(0,100) if a % 2 <> 0]\u001b[0m\n\u001b[1;37m             ^\u001b[0m\n\u001b[1;31mSyntaxError\u001b[0m\u001b[1;31m:\u001b[0m invalid syntax\n"
     ]
    }
   ],
   "source": [
    "list1 = [for a in range(0,100) if a % 2 <> 0]"
   ]
  },
  {
   "cell_type": "code",
   "execution_count": 87,
   "id": "3a779720",
   "metadata": {},
   "outputs": [
    {
     "ename": "SyntaxError",
     "evalue": "invalid syntax (Temp/ipykernel_9892/4003685008.py, line 1)",
     "output_type": "error",
     "traceback": [
      "\u001b[1;36m  File \u001b[1;32m\"C:\\Users\\MUTHUK~1\\AppData\\Local\\Temp/ipykernel_9892/4003685008.py\"\u001b[1;36m, line \u001b[1;32m1\u001b[0m\n\u001b[1;33m    list1 = [for a in range(100) if a % 2 <> 0]\u001b[0m\n\u001b[1;37m             ^\u001b[0m\n\u001b[1;31mSyntaxError\u001b[0m\u001b[1;31m:\u001b[0m invalid syntax\n"
     ]
    }
   ],
   "source": [
    "list1 = [for a in range(100) if a % 2 <> 0]"
   ]
  },
  {
   "cell_type": "code",
   "execution_count": 88,
   "id": "bd2b24b1",
   "metadata": {},
   "outputs": [
    {
     "ename": "SyntaxError",
     "evalue": "invalid syntax (Temp/ipykernel_9892/3721901092.py, line 1)",
     "output_type": "error",
     "traceback": [
      "\u001b[1;36m  File \u001b[1;32m\"C:\\Users\\MUTHUK~1\\AppData\\Local\\Temp/ipykernel_9892/3721901092.py\"\u001b[1;36m, line \u001b[1;32m1\u001b[0m\n\u001b[1;33m    list1 = [for a in range(100) if a%2 <> 0]\u001b[0m\n\u001b[1;37m             ^\u001b[0m\n\u001b[1;31mSyntaxError\u001b[0m\u001b[1;31m:\u001b[0m invalid syntax\n"
     ]
    }
   ],
   "source": [
    "list1 = [for a in range(100) if a%2 <> 0]"
   ]
  },
  {
   "cell_type": "code",
   "execution_count": 89,
   "id": "35491170",
   "metadata": {},
   "outputs": [
    {
     "ename": "SyntaxError",
     "evalue": "invalid syntax (Temp/ipykernel_9892/1109092611.py, line 1)",
     "output_type": "error",
     "traceback": [
      "\u001b[1;36m  File \u001b[1;32m\"C:\\Users\\MUTHUK~1\\AppData\\Local\\Temp/ipykernel_9892/1109092611.py\"\u001b[1;36m, line \u001b[1;32m1\u001b[0m\n\u001b[1;33m    list1 = [for a in range(100) if a%2!=0]\u001b[0m\n\u001b[1;37m             ^\u001b[0m\n\u001b[1;31mSyntaxError\u001b[0m\u001b[1;31m:\u001b[0m invalid syntax\n"
     ]
    }
   ],
   "source": [
    "list1 = [for a in range(100) if a%2!=0]"
   ]
  },
  {
   "cell_type": "code",
   "execution_count": 90,
   "id": "44aee304",
   "metadata": {},
   "outputs": [],
   "source": [
    "power2 = [a**2 for a in range(10) if a%2 == 0]"
   ]
  },
  {
   "cell_type": "code",
   "execution_count": 91,
   "id": "2e902180",
   "metadata": {},
   "outputs": [
    {
     "data": {
      "text/plain": [
       "[0, 4, 16, 36, 64]"
      ]
     },
     "execution_count": 91,
     "metadata": {},
     "output_type": "execute_result"
    }
   ],
   "source": [
    "power2"
   ]
  },
  {
   "cell_type": "code",
   "execution_count": 92,
   "id": "b0336f6f",
   "metadata": {},
   "outputs": [],
   "source": [
    "power2 = [a for a in range(100) if a%2 == 0]"
   ]
  },
  {
   "cell_type": "code",
   "execution_count": 93,
   "id": "94e54760",
   "metadata": {},
   "outputs": [
    {
     "data": {
      "text/plain": [
       "[0,\n",
       " 2,\n",
       " 4,\n",
       " 6,\n",
       " 8,\n",
       " 10,\n",
       " 12,\n",
       " 14,\n",
       " 16,\n",
       " 18,\n",
       " 20,\n",
       " 22,\n",
       " 24,\n",
       " 26,\n",
       " 28,\n",
       " 30,\n",
       " 32,\n",
       " 34,\n",
       " 36,\n",
       " 38,\n",
       " 40,\n",
       " 42,\n",
       " 44,\n",
       " 46,\n",
       " 48,\n",
       " 50,\n",
       " 52,\n",
       " 54,\n",
       " 56,\n",
       " 58,\n",
       " 60,\n",
       " 62,\n",
       " 64,\n",
       " 66,\n",
       " 68,\n",
       " 70,\n",
       " 72,\n",
       " 74,\n",
       " 76,\n",
       " 78,\n",
       " 80,\n",
       " 82,\n",
       " 84,\n",
       " 86,\n",
       " 88,\n",
       " 90,\n",
       " 92,\n",
       " 94,\n",
       " 96,\n",
       " 98]"
      ]
     },
     "execution_count": 93,
     "metadata": {},
     "output_type": "execute_result"
    }
   ],
   "source": [
    "power2"
   ]
  },
  {
   "cell_type": "code",
   "execution_count": 94,
   "id": "41637188",
   "metadata": {},
   "outputs": [],
   "source": [
    "power2 = [a for a in range(100) if a%2 != 0]"
   ]
  },
  {
   "cell_type": "code",
   "execution_count": 95,
   "id": "548084bf",
   "metadata": {},
   "outputs": [
    {
     "data": {
      "text/plain": [
       "[1,\n",
       " 3,\n",
       " 5,\n",
       " 7,\n",
       " 9,\n",
       " 11,\n",
       " 13,\n",
       " 15,\n",
       " 17,\n",
       " 19,\n",
       " 21,\n",
       " 23,\n",
       " 25,\n",
       " 27,\n",
       " 29,\n",
       " 31,\n",
       " 33,\n",
       " 35,\n",
       " 37,\n",
       " 39,\n",
       " 41,\n",
       " 43,\n",
       " 45,\n",
       " 47,\n",
       " 49,\n",
       " 51,\n",
       " 53,\n",
       " 55,\n",
       " 57,\n",
       " 59,\n",
       " 61,\n",
       " 63,\n",
       " 65,\n",
       " 67,\n",
       " 69,\n",
       " 71,\n",
       " 73,\n",
       " 75,\n",
       " 77,\n",
       " 79,\n",
       " 81,\n",
       " 83,\n",
       " 85,\n",
       " 87,\n",
       " 89,\n",
       " 91,\n",
       " 93,\n",
       " 95,\n",
       " 97,\n",
       " 99]"
      ]
     },
     "execution_count": 95,
     "metadata": {},
     "output_type": "execute_result"
    }
   ],
   "source": [
    "power2"
   ]
  },
  {
   "cell_type": "markdown",
   "id": "8565f0fd",
   "metadata": {},
   "source": [
    "## 10.\t Create a variable (ex: name) and store your full name in it. Then write a list comprehension to print your name excluding vowels (a, e, i, o, u)"
   ]
  },
  {
   "cell_type": "code",
   "execution_count": 96,
   "id": "e37495b5",
   "metadata": {},
   "outputs": [],
   "source": [
    "x='Muthukumaran'"
   ]
  },
  {
   "cell_type": "code",
   "execution_count": 97,
   "id": "18fc5b5c",
   "metadata": {},
   "outputs": [
    {
     "ename": "SyntaxError",
     "evalue": "invalid syntax (Temp/ipykernel_9892/3703916722.py, line 1)",
     "output_type": "error",
     "traceback": [
      "\u001b[1;36m  File \u001b[1;32m\"C:\\Users\\MUTHUK~1\\AppData\\Local\\Temp/ipykernel_9892/3703916722.py\"\u001b[1;36m, line \u001b[1;32m1\u001b[0m\n\u001b[1;33m    power2 = [a for a in x if a != 'a','e','i','o','u']\u001b[0m\n\u001b[1;37m                                      ^\u001b[0m\n\u001b[1;31mSyntaxError\u001b[0m\u001b[1;31m:\u001b[0m invalid syntax\n"
     ]
    }
   ],
   "source": [
    "power2 = [a for a in x if a != 'a','e','i','o','u']"
   ]
  },
  {
   "cell_type": "code",
   "execution_count": 98,
   "id": "65aeaa40",
   "metadata": {},
   "outputs": [
    {
     "ename": "SyntaxError",
     "evalue": "invalid syntax (Temp/ipykernel_9892/1283794526.py, line 1)",
     "output_type": "error",
     "traceback": [
      "\u001b[1;36m  File \u001b[1;32m\"C:\\Users\\MUTHUK~1\\AppData\\Local\\Temp/ipykernel_9892/1283794526.py\"\u001b[1;36m, line \u001b[1;32m1\u001b[0m\n\u001b[1;33m    power2 = [a for a in x if a != a,e,i,o,u]\u001b[0m\n\u001b[1;37m                                    ^\u001b[0m\n\u001b[1;31mSyntaxError\u001b[0m\u001b[1;31m:\u001b[0m invalid syntax\n"
     ]
    }
   ],
   "source": [
    "power2 = [a for a in x if a != a,e,i,o,u]"
   ]
  },
  {
   "cell_type": "code",
   "execution_count": 99,
   "id": "25119529",
   "metadata": {},
   "outputs": [
    {
     "name": "stdout",
     "output_type": "stream",
     "text": [
      "Muthukumaran\n"
     ]
    }
   ],
   "source": [
    "print(x)"
   ]
  },
  {
   "cell_type": "code",
   "execution_count": 100,
   "id": "78e46b58",
   "metadata": {},
   "outputs": [],
   "source": [
    "power2 = [a for a in x if (a not in 'aeiou')]"
   ]
  },
  {
   "cell_type": "code",
   "execution_count": 101,
   "id": "a29120e7",
   "metadata": {},
   "outputs": [
    {
     "data": {
      "text/plain": [
       "['M', 't', 'h', 'k', 'm', 'r', 'n']"
      ]
     },
     "execution_count": 101,
     "metadata": {},
     "output_type": "execute_result"
    }
   ],
   "source": [
    "power2"
   ]
  },
  {
   "cell_type": "code",
   "execution_count": null,
   "id": "7ace88a7",
   "metadata": {},
   "outputs": [],
   "source": []
  }
 ],
 "metadata": {
  "kernelspec": {
   "display_name": "Python 3 (ipykernel)",
   "language": "python",
   "name": "python3"
  },
  "language_info": {
   "codemirror_mode": {
    "name": "ipython",
    "version": 3
   },
   "file_extension": ".py",
   "mimetype": "text/x-python",
   "name": "python",
   "nbconvert_exporter": "python",
   "pygments_lexer": "ipython3",
   "version": "3.9.7"
  }
 },
 "nbformat": 4,
 "nbformat_minor": 5
}
